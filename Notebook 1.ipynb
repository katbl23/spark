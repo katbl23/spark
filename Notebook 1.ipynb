{
  "cells": [
    {
      "cell_type": "code",
      "source": [
        "%%pyspark\r\n",
        "df = spark.read.load('abfss://files@datalakewemrpqz.dfs.core.windows.net/sales/orders/2020.csv', format='csv'\r\n",
        "## If header exists uncomment line below\r\n",
        "##, header=True\r\n",
        ")\r\n",
        "df.write.mode(\"overwrite\").saveAsTable(\"default.YourTableName\")\r\n",
        "\r\n",
        "display(df.limit(1))"
      ],
      "outputs": [
        {
          "output_type": "display_data",
          "data": {
            "application/vnd.livy.statement-meta+json": {
              "spark_pool": "sparkwemrpqz",
              "session_id": "0",
              "statement_id": 6,
              "state": "finished",
              "livy_statement_state": "available",
              "queued_time": "2024-01-05T22:32:31.6227535Z",
              "session_start_time": null,
              "execution_start_time": "2024-01-05T22:32:31.7847787Z",
              "execution_finish_time": "2024-01-05T22:32:50.8675518Z",
              "spark_jobs": null,
              "parent_msg_id": "a5afe7aa-3f45-438e-bc03-44fc28ce6ad8"
            },
            "text/plain": "StatementMeta(sparkwemrpqz, 0, 6, Finished, Available)"
          },
          "metadata": {}
        },
        {
          "output_type": "display_data",
          "data": {
            "application/vnd.synapse.widget-view+json": {
              "widget_id": "64162252-ed1e-4f66-adff-d6428d03c7a0",
              "widget_type": "Synapse.DataFrame"
            },
            "text/plain": "SynapseWidget(Synapse.DataFrame, 64162252-ed1e-4f66-adff-d6428d03c7a0)"
          },
          "metadata": {}
        }
      ],
      "execution_count": 5,
      "metadata": {
        "microsoft": {
          "language": "python"
        },
        "collapsed": false
      }
    },
    {
      "cell_type": "code",
      "source": [
        "%%pyspark\r\n",
        "from pyspark.sql.types import *\r\n",
        "from pyspark.sql.functions import *\r\n",
        "orderSchema=StructType([\r\n",
        "    StructField(\"SalesOrderNumber\", StringType()),\r\n",
        "    StructField(\"SalesOrderLineNumber\",IntegerType()),\r\n",
        "    StructField(\"OrderDate\",DateType()),\r\n",
        "    StructField(\"CustomerName\",StringType())\r\n",
        "    ])"
      ],
      "outputs": [
        {
          "output_type": "display_data",
          "data": {
            "application/vnd.livy.statement-meta+json": {
              "spark_pool": "sparkwemrpqz",
              "session_id": "0",
              "statement_id": 12,
              "state": "finished",
              "livy_statement_state": "available",
              "queued_time": "2024-01-05T22:47:26.4171001Z",
              "session_start_time": null,
              "execution_start_time": "2024-01-05T22:47:26.5643555Z",
              "execution_finish_time": "2024-01-05T22:47:26.7378261Z",
              "spark_jobs": null,
              "parent_msg_id": "ec6145a7-753d-43c2-b0a5-5b7222f3486e"
            },
            "text/plain": "StatementMeta(sparkwemrpqz, 0, 12, Finished, Available)"
          },
          "metadata": {}
        }
      ],
      "execution_count": 11,
      "metadata": {
        "jupyter": {
          "source_hidden": false,
          "outputs_hidden": false
        },
        "nteract": {
          "transient": {
            "deleting": false
          }
        },
        "microsoft": {
          "language": "python"
        }
      }
    },
    {
      "cell_type": "code",
      "source": [
        " df = spark.read.load('abfss://files@datalakewemrpqz.dfs.core.windows.net/sales/orders/2020.csv', format='csv', schema=orderSchema)\r\n",
        "display(df.limit(2))"
      ],
      "outputs": [
        {
          "output_type": "display_data",
          "data": {
            "application/vnd.livy.statement-meta+json": {
              "spark_pool": "sparkwemrpqz",
              "session_id": "0",
              "statement_id": 14,
              "state": "finished",
              "livy_statement_state": "available",
              "queued_time": "2024-01-05T22:48:25.9542957Z",
              "session_start_time": null,
              "execution_start_time": "2024-01-05T22:48:26.0945089Z",
              "execution_finish_time": "2024-01-05T22:48:27.2402628Z",
              "spark_jobs": null,
              "parent_msg_id": "9a53936b-70de-4f01-9c87-102ae73a6a23"
            },
            "text/plain": "StatementMeta(sparkwemrpqz, 0, 14, Finished, Available)"
          },
          "metadata": {}
        },
        {
          "output_type": "display_data",
          "data": {
            "application/vnd.synapse.widget-view+json": {
              "widget_id": "0ea08975-cf8f-481f-af56-8a24c51ee948",
              "widget_type": "Synapse.DataFrame"
            },
            "text/plain": "SynapseWidget(Synapse.DataFrame, 0ea08975-cf8f-481f-af56-8a24c51ee948)"
          },
          "metadata": {}
        }
      ],
      "execution_count": 13,
      "metadata": {
        "jupyter": {
          "source_hidden": false,
          "outputs_hidden": false
        },
        "nteract": {
          "transient": {
            "deleting": false
          }
        },
        "collapsed": false
      }
    },
    {
      "cell_type": "code",
      "source": [
        "customers=df.select(\"CustomerName\").where(df[\"OrderDate\"]==\"2020\")"
      ],
      "outputs": [
        {
          "output_type": "display_data",
          "data": {
            "application/vnd.livy.statement-meta+json": {
              "spark_pool": "sparkwemrpqz",
              "session_id": "0",
              "statement_id": 15,
              "state": "finished",
              "livy_statement_state": "available",
              "queued_time": "2024-01-05T22:50:32.5909026Z",
              "session_start_time": null,
              "execution_start_time": "2024-01-05T22:50:32.7696558Z",
              "execution_finish_time": "2024-01-05T22:50:32.9534094Z",
              "spark_jobs": null,
              "parent_msg_id": "9c4cde69-8068-400c-84c0-1e5234488add"
            },
            "text/plain": "StatementMeta(sparkwemrpqz, 0, 15, Finished, Available)"
          },
          "metadata": {}
        }
      ],
      "execution_count": 14,
      "metadata": {
        "jupyter": {
          "source_hidden": false,
          "outputs_hidden": false
        },
        "nteract": {
          "transient": {
            "deleting": false
          }
        }
      }
    },
    {
      "cell_type": "code",
      "source": [
        "print(customers.count())"
      ],
      "outputs": [
        {
          "output_type": "display_data",
          "data": {
            "application/vnd.livy.statement-meta+json": {
              "spark_pool": "sparkwemrpqz",
              "session_id": "0",
              "statement_id": 16,
              "state": "finished",
              "livy_statement_state": "available",
              "queued_time": "2024-01-05T22:50:49.9215875Z",
              "session_start_time": null,
              "execution_start_time": "2024-01-05T22:50:50.0707966Z",
              "execution_finish_time": "2024-01-05T22:50:51.967356Z",
              "spark_jobs": null,
              "parent_msg_id": "34c4efb6-cb8d-4be8-8d4d-37ca54544522"
            },
            "text/plain": "StatementMeta(sparkwemrpqz, 0, 16, Finished, Available)"
          },
          "metadata": {}
        },
        {
          "output_type": "stream",
          "name": "stdout",
          "text": [
            "6\n"
          ]
        }
      ],
      "execution_count": 15,
      "metadata": {
        "jupyter": {
          "source_hidden": false,
          "outputs_hidden": false
        },
        "nteract": {
          "transient": {
            "deleting": false
          }
        }
      }
    },
    {
      "cell_type": "code",
      "source": [
        "customers=df.select(\"CustomerName\").where(df[\"CustomerName\"]==\"Clarence Raji\")"
      ],
      "outputs": [
        {
          "output_type": "display_data",
          "data": {
            "application/vnd.livy.statement-meta+json": {
              "spark_pool": "sparkwemrpqz",
              "session_id": "0",
              "statement_id": 17,
              "state": "finished",
              "livy_statement_state": "available",
              "queued_time": "2024-01-05T22:52:12.4362266Z",
              "session_start_time": null,
              "execution_start_time": "2024-01-05T22:52:12.5891003Z",
              "execution_finish_time": "2024-01-05T22:52:12.7860878Z",
              "spark_jobs": null,
              "parent_msg_id": "4ad1766b-5fd0-4cf6-963d-f2afe4ceb418"
            },
            "text/plain": "StatementMeta(sparkwemrpqz, 0, 17, Finished, Available)"
          },
          "metadata": {}
        }
      ],
      "execution_count": 16,
      "metadata": {
        "jupyter": {
          "source_hidden": false,
          "outputs_hidden": false
        },
        "nteract": {
          "transient": {
            "deleting": false
          }
        }
      }
    },
    {
      "cell_type": "code",
      "source": [
        "customers.count()"
      ],
      "outputs": [
        {
          "output_type": "display_data",
          "data": {
            "application/vnd.livy.statement-meta+json": {
              "spark_pool": "sparkwemrpqz",
              "session_id": "0",
              "statement_id": 19,
              "state": "finished",
              "livy_statement_state": "available",
              "queued_time": "2024-01-05T22:52:30.4588507Z",
              "session_start_time": null,
              "execution_start_time": "2024-01-05T22:52:30.6029747Z",
              "execution_finish_time": "2024-01-05T22:52:31.1848234Z",
              "spark_jobs": null,
              "parent_msg_id": "1b8a0a44-ec68-43f2-bc9b-b90aebafa41f"
            },
            "text/plain": "StatementMeta(sparkwemrpqz, 0, 19, Finished, Available)"
          },
          "metadata": {}
        },
        {
          "output_type": "execute_result",
          "execution_count": 39,
          "data": {
            "text/plain": "1"
          },
          "metadata": {}
        }
      ],
      "execution_count": 18,
      "metadata": {
        "jupyter": {
          "source_hidden": false,
          "outputs_hidden": false
        },
        "nteract": {
          "transient": {
            "deleting": false
          }
        }
      }
    },
    {
      "cell_type": "code",
      "source": [
        "yearlysales=df.select(year(\"OrderDate\").alias(\"Year\")).groupBy(\"Year\").count().orderBy(\"Year\")"
      ],
      "outputs": [
        {
          "output_type": "display_data",
          "data": {
            "application/vnd.livy.statement-meta+json": {
              "spark_pool": "sparkwemrpqz",
              "session_id": "0",
              "statement_id": 55,
              "state": "finished",
              "livy_statement_state": "available",
              "queued_time": "2024-01-05T23:31:46.6510724Z",
              "session_start_time": null,
              "execution_start_time": "2024-01-05T23:31:46.7848584Z",
              "execution_finish_time": "2024-01-05T23:31:46.9607341Z",
              "spark_jobs": null,
              "parent_msg_id": "4c3321ff-cac6-4b22-b7a6-b08603ccf651"
            },
            "text/plain": "StatementMeta(sparkwemrpqz, 0, 55, Finished, Available)"
          },
          "metadata": {}
        }
      ],
      "execution_count": 54,
      "metadata": {
        "jupyter": {
          "source_hidden": false,
          "outputs_hidden": false
        },
        "nteract": {
          "transient": {
            "deleting": false
          }
        }
      }
    },
    {
      "cell_type": "code",
      "source": [
        "display(yearlysales)"
      ],
      "outputs": [
        {
          "output_type": "display_data",
          "data": {
            "application/vnd.livy.statement-meta+json": {
              "spark_pool": "sparkwemrpqz",
              "session_id": "0",
              "statement_id": 56,
              "state": "finished",
              "livy_statement_state": "available",
              "queued_time": "2024-01-05T23:31:48.5628149Z",
              "session_start_time": null,
              "execution_start_time": "2024-01-05T23:31:48.7258312Z",
              "execution_finish_time": "2024-01-05T23:31:51.5842796Z",
              "spark_jobs": null,
              "parent_msg_id": "18ac28fe-9151-4195-a32f-a9c3a3a2ace5"
            },
            "text/plain": "StatementMeta(sparkwemrpqz, 0, 56, Finished, Available)"
          },
          "metadata": {}
        },
        {
          "output_type": "display_data",
          "data": {
            "application/vnd.synapse.widget-view+json": {
              "widget_id": "e402d135-6589-4889-870d-20f205dbfebb",
              "widget_type": "Synapse.DataFrame"
            },
            "text/plain": "SynapseWidget(Synapse.DataFrame, e402d135-6589-4889-870d-20f205dbfebb)"
          },
          "metadata": {}
        }
      ],
      "execution_count": 55,
      "metadata": {
        "jupyter": {
          "source_hidden": false,
          "outputs_hidden": false
        },
        "nteract": {
          "transient": {
            "deleting": false
          }
        },
        "collapsed": false
      }
    },
    {
      "cell_type": "code",
      "source": [
        "customers=df.select(\"CustomerName\",\"SalesOrderNumber\")\r\n",
        "display(customers)"
      ],
      "outputs": [
        {
          "output_type": "display_data",
          "data": {
            "application/vnd.livy.statement-meta+json": {
              "spark_pool": "sparkwemrpqz",
              "session_id": "0",
              "statement_id": 57,
              "state": "finished",
              "livy_statement_state": "available",
              "queued_time": "2024-01-05T23:31:50.4850376Z",
              "session_start_time": null,
              "execution_start_time": "2024-01-05T23:31:51.7355746Z",
              "execution_finish_time": "2024-01-05T23:31:52.3386051Z",
              "spark_jobs": null,
              "parent_msg_id": "d738baac-65c9-4037-a235-24614255dc89"
            },
            "text/plain": "StatementMeta(sparkwemrpqz, 0, 57, Finished, Available)"
          },
          "metadata": {}
        },
        {
          "output_type": "display_data",
          "data": {
            "application/vnd.synapse.widget-view+json": {
              "widget_id": "dbfa82b6-f4b2-40fe-9c3c-8ff01ab713a6",
              "widget_type": "Synapse.DataFrame"
            },
            "text/plain": "SynapseWidget(Synapse.DataFrame, dbfa82b6-f4b2-40fe-9c3c-8ff01ab713a6)"
          },
          "metadata": {}
        }
      ],
      "execution_count": 56,
      "metadata": {
        "jupyter": {
          "source_hidden": false,
          "outputs_hidden": false
        },
        "nteract": {
          "transient": {
            "deleting": false
          }
        },
        "collapsed": false
      }
    },
    {
      "cell_type": "code",
      "source": [
        "df.createOrReplaceTempView(\"salesorders\")\r\n",
        "sparkdf = spark.sql(\"SELECT * FROM salesorders\")\r\n",
        "display(sparkdf)"
      ],
      "outputs": [
        {
          "output_type": "display_data",
          "data": {
            "application/vnd.livy.statement-meta+json": {
              "spark_pool": "sparkwemrpqz",
              "session_id": "0",
              "statement_id": 44,
              "state": "finished",
              "livy_statement_state": "available",
              "queued_time": "2024-01-05T23:24:56.2214753Z",
              "session_start_time": null,
              "execution_start_time": "2024-01-05T23:24:56.3683548Z",
              "execution_finish_time": "2024-01-05T23:24:57.5508116Z",
              "spark_jobs": null,
              "parent_msg_id": "0950290b-519e-4cab-942e-fbe6b784904e"
            },
            "text/plain": "StatementMeta(sparkwemrpqz, 0, 44, Finished, Available)"
          },
          "metadata": {}
        },
        {
          "output_type": "display_data",
          "data": {
            "application/vnd.synapse.widget-view+json": {
              "widget_id": "eb0bdfbc-fdcd-49e8-99bc-ff6ba841c2e8",
              "widget_type": "Synapse.DataFrame"
            },
            "text/plain": "SynapseWidget(Synapse.DataFrame, eb0bdfbc-fdcd-49e8-99bc-ff6ba841c2e8)"
          },
          "metadata": {}
        }
      ],
      "execution_count": 43,
      "metadata": {
        "jupyter": {
          "source_hidden": false,
          "outputs_hidden": false
        },
        "nteract": {
          "transient": {
            "deleting": false
          }
        },
        "collapsed": false
      }
    },
    {
      "cell_type": "code",
      "source": [
        " %%sql\r\n",
        " SELECT *\r\n",
        " FROM salesorders;"
      ],
      "outputs": [
        {
          "output_type": "display_data",
          "data": {
            "application/vnd.livy.statement-meta+json": {
              "spark_pool": "sparkwemrpqz",
              "session_id": "0",
              "statement_id": 48,
              "state": "finished",
              "livy_statement_state": "available",
              "queued_time": "2024-01-05T23:28:02.1345071Z",
              "session_start_time": null,
              "execution_start_time": "2024-01-05T23:28:02.29Z",
              "execution_finish_time": "2024-01-05T23:28:03.4530802Z",
              "spark_jobs": null,
              "parent_msg_id": "851f6cdf-2170-40a4-a9cf-28b1f6d6ab8e"
            },
            "text/plain": "StatementMeta(sparkwemrpqz, 0, 48, Finished, Available)"
          },
          "metadata": {}
        },
        {
          "output_type": "execute_result",
          "execution_count": 47,
          "data": {
            "application/vnd.synapse.sparksql-result+json": {
              "schema": {
                "type": "struct",
                "fields": [
                  {
                    "name": "SalesOrderNumber",
                    "type": "string",
                    "nullable": true,
                    "metadata": {}
                  },
                  {
                    "name": "SalesOrderLineNumber",
                    "type": "integer",
                    "nullable": true,
                    "metadata": {}
                  },
                  {
                    "name": "OrderDate",
                    "type": "date",
                    "nullable": true,
                    "metadata": {}
                  },
                  {
                    "name": "CustomerName",
                    "type": "string",
                    "nullable": true,
                    "metadata": {}
                  }
                ]
              },
              "data": [
                [
                  "SO45347",
                  1,
                  "2020-01-01",
                  "Clarence Raji"
                ],
                [
                  "SO45345",
                  1,
                  "2020-01-01",
                  "Bonnie Yuan"
                ],
                [
                  "SO45348",
                  1,
                  "2020-01-01",
                  "Leah Guo"
                ],
                [
                  "SO45349",
                  1,
                  "2020-01-01",
                  "Candice Sun"
                ],
                [
                  "SO45350",
                  1,
                  "2020-01-01",
                  "Ruben Garcia"
                ],
                [
                  "SO45346",
                  1,
                  "2020-01-01",
                  "Dylan Harris"
                ],
                [
                  "SO45353",
                  1,
                  "2020-01-02",
                  "Jack Zimmerman"
                ],
                [
                  "SO45355",
                  1,
                  "2020-01-02",
                  "Maurice Sharma"
                ],
                [
                  "SO45354",
                  1,
                  "2020-01-02",
                  "Armando Dominguez"
                ],
                [
                  "SO45356",
                  1,
                  "2020-01-02",
                  "Douglas Suri"
                ],
                [
                  "SO45352",
                  1,
                  "2020-01-02",
                  "Daisy Munoz"
                ],
                [
                  "SO45351",
                  1,
                  "2020-01-02",
                  "Seth Jackson"
                ],
                [
                  "SO45359",
                  1,
                  "2020-01-03",
                  "Marshall Chavez"
                ],
                [
                  "SO45363",
                  1,
                  "2020-01-03",
                  "Patricia Saunders"
                ],
                [
                  "SO45362",
                  1,
                  "2020-01-03",
                  "Kristopher Fernandez"
                ],
                [
                  "SO45361",
                  1,
                  "2020-01-03",
                  "Caitlin Richardson"
                ],
                [
                  "SO45358",
                  1,
                  "2020-01-03",
                  "Alexandra Thomas"
                ],
                [
                  "SO45360",
                  1,
                  "2020-01-03",
                  "Jonathan Gonzales"
                ],
                [
                  "SO45357",
                  1,
                  "2020-01-03",
                  "Alfredo Dominguez"
                ],
                [
                  "SO45367",
                  1,
                  "2020-01-04",
                  "Willie Liu"
                ],
                [
                  "SO45369",
                  1,
                  "2020-01-04",
                  "Kathleen Navarro"
                ],
                [
                  "SO45370",
                  1,
                  "2020-01-04",
                  "Shawn Shen"
                ],
                [
                  "SO45366",
                  1,
                  "2020-01-04",
                  "Frank Gomez"
                ],
                [
                  "SO45365",
                  1,
                  "2020-01-04",
                  "Jacob Wilson"
                ],
                [
                  "SO45368",
                  1,
                  "2020-01-04",
                  "Trinity Cook"
                ],
                [
                  "SO45364",
                  1,
                  "2020-01-04",
                  "Claudia Li"
                ],
                [
                  "SO45371",
                  1,
                  "2020-01-05",
                  "Jaime Alonso"
                ],
                [
                  "SO45376",
                  1,
                  "2020-01-05",
                  "Edgar Mehta"
                ],
                [
                  "SO45375",
                  1,
                  "2020-01-05",
                  "Allen Fernandez"
                ],
                [
                  "SO45374",
                  1,
                  "2020-01-05",
                  "Jordan Henderson"
                ],
                [
                  "SO45372",
                  1,
                  "2020-01-05",
                  "Jarred Gill"
                ],
                [
                  "SO45373",
                  1,
                  "2020-01-05",
                  "Richard Garcia"
                ],
                [
                  "SO45379",
                  1,
                  "2020-01-06",
                  "Savannah Travers"
                ],
                [
                  "SO45378",
                  1,
                  "2020-01-06",
                  "Katherine James"
                ],
                [
                  "SO45384",
                  1,
                  "2020-01-06",
                  "Chase Morris"
                ],
                [
                  "SO45386",
                  1,
                  "2020-01-06",
                  "Troy Subram"
                ],
                [
                  "SO45381",
                  1,
                  "2020-01-06",
                  "Jordan Long"
                ],
                [
                  "SO45380",
                  1,
                  "2020-01-06",
                  "Clarence Jai"
                ],
                [
                  "SO45382",
                  1,
                  "2020-01-06",
                  "Julia Wright"
                ],
                [
                  "SO45377",
                  1,
                  "2020-01-06",
                  "Dominique Lopez"
                ],
                [
                  "SO45383",
                  1,
                  "2020-01-06",
                  "Kevin Edwards"
                ],
                [
                  "SO45385",
                  1,
                  "2020-01-06",
                  "Maria Rogers"
                ],
                [
                  "SO45389",
                  1,
                  "2020-01-07",
                  "Trevor Bryant"
                ],
                [
                  "SO45387",
                  1,
                  "2020-01-07",
                  "Tiffany Li"
                ],
                [
                  "SO45392",
                  1,
                  "2020-01-07",
                  "Randall Gomez"
                ],
                [
                  "SO45391",
                  1,
                  "2020-01-07",
                  "Raymond Raman"
                ],
                [
                  "SO45390",
                  1,
                  "2020-01-07",
                  "Randall Martin"
                ],
                [
                  "SO45388",
                  1,
                  "2020-01-07",
                  "Isabel Bryant"
                ],
                [
                  "SO45395",
                  1,
                  "2020-01-08",
                  "Lydia Gonzalez"
                ],
                [
                  "SO45396",
                  1,
                  "2020-01-08",
                  "Suzanne Liu"
                ],
                [
                  "SO45394",
                  1,
                  "2020-01-08",
                  "Jaclyn Andersen"
                ],
                [
                  "SO45393",
                  1,
                  "2020-01-08",
                  "Michele Lal"
                ],
                [
                  "SO45398",
                  1,
                  "2020-01-09",
                  "Lisa Zhu"
                ],
                [
                  "SO45397",
                  1,
                  "2020-01-09",
                  "Harold McDonald"
                ],
                [
                  "SO45399",
                  1,
                  "2020-01-09",
                  "Kaitlyn Powell"
                ],
                [
                  "SO45409",
                  1,
                  "2020-01-10",
                  "Marvin Sanz"
                ],
                [
                  "SO45405",
                  1,
                  "2020-01-10",
                  "Lucas Lewis"
                ],
                [
                  "SO45403",
                  1,
                  "2020-01-10",
                  "Caroline Washington"
                ],
                [
                  "SO45401",
                  1,
                  "2020-01-10",
                  "Julio Suarez"
                ],
                [
                  "SO45400",
                  1,
                  "2020-01-10",
                  "Brett Garcia"
                ],
                [
                  "SO45402",
                  1,
                  "2020-01-10",
                  "Megan Stewart"
                ],
                [
                  "SO45404",
                  1,
                  "2020-01-10",
                  "Natalie Adams"
                ],
                [
                  "SO45407",
                  1,
                  "2020-01-10",
                  "Thomas Adams"
                ],
                [
                  "SO45408",
                  1,
                  "2020-01-10",
                  "Victoria Diaz"
                ],
                [
                  "SO45406",
                  1,
                  "2020-01-10",
                  "Hunter Kumar"
                ],
                [
                  "SO45417",
                  1,
                  "2020-01-11",
                  "Cole Richardson"
                ],
                [
                  "SO45415",
                  1,
                  "2020-01-11",
                  "Morgan Hall"
                ],
                [
                  "SO45411",
                  1,
                  "2020-01-11",
                  "Kayla Rodriguez"
                ],
                [
                  "SO45416",
                  1,
                  "2020-01-11",
                  "Jessica Perry"
                ],
                [
                  "SO45413",
                  1,
                  "2020-01-11",
                  "Kristi Perez"
                ],
                [
                  "SO45410",
                  1,
                  "2020-01-11",
                  "Donald Srini"
                ],
                [
                  "SO45412",
                  1,
                  "2020-01-11",
                  "Chloe Sanders"
                ],
                [
                  "SO45420",
                  1,
                  "2020-01-11",
                  "Orlando Serrano"
                ],
                [
                  "SO45419",
                  1,
                  "2020-01-11",
                  "Alejandro Liu"
                ],
                [
                  "SO45421",
                  1,
                  "2020-01-11",
                  "Mackenzie Hill"
                ],
                [
                  "SO45418",
                  1,
                  "2020-01-11",
                  "Kristopher Gonzalez"
                ],
                [
                  "SO45414",
                  1,
                  "2020-01-11",
                  "Kelli Kumar"
                ],
                [
                  "SO45423",
                  1,
                  "2020-01-12",
                  "Beth Gill"
                ],
                [
                  "SO45424",
                  1,
                  "2020-01-12",
                  "Alexa Rivera"
                ],
                [
                  "SO45422",
                  1,
                  "2020-01-12",
                  "Jared Moyer"
                ],
                [
                  "SO45431",
                  1,
                  "2020-01-13",
                  "James Miller"
                ],
                [
                  "SO45430",
                  1,
                  "2020-01-13",
                  "Natalie Roberts"
                ],
                [
                  "SO45429",
                  1,
                  "2020-01-13",
                  "Justin Griffin"
                ],
                [
                  "SO45427",
                  1,
                  "2020-01-13",
                  "Ivan Suri"
                ],
                [
                  "SO45426",
                  1,
                  "2020-01-13",
                  "Kari Smith"
                ],
                [
                  "SO45425",
                  1,
                  "2020-01-13",
                  "Jaime Suarez"
                ],
                [
                  "SO45428",
                  1,
                  "2020-01-13",
                  "Ian Richardson"
                ],
                [
                  "SO45434",
                  1,
                  "2020-01-14",
                  "Nicholas Thompson"
                ],
                [
                  "SO45433",
                  1,
                  "2020-01-14",
                  "Bradley Nara"
                ],
                [
                  "SO45432",
                  1,
                  "2020-01-14",
                  "Pamela Subram"
                ],
                [
                  "SO45439",
                  1,
                  "2020-01-14",
                  "Jaime Xie"
                ],
                [
                  "SO45435",
                  1,
                  "2020-01-14",
                  "Jim Rodman"
                ],
                [
                  "SO45438",
                  1,
                  "2020-01-14",
                  "Paige Howard"
                ],
                [
                  "SO45436",
                  1,
                  "2020-01-14",
                  "Joshua Taylor"
                ],
                [
                  "SO45437",
                  1,
                  "2020-01-14",
                  "Lucas Blue"
                ],
                [
                  "SO45442",
                  1,
                  "2020-01-15",
                  "Justin Bryant"
                ],
                [
                  "SO45443",
                  1,
                  "2020-01-15",
                  "Julia Thompson"
                ],
                [
                  "SO45444",
                  1,
                  "2020-01-15",
                  "Claudia Ye"
                ],
                [
                  "SO45445",
                  1,
                  "2020-01-15",
                  "Stacy Dominguez"
                ],
                [
                  "SO45440",
                  1,
                  "2020-01-15",
                  "Daisy Romero"
                ],
                [
                  "SO45441",
                  1,
                  "2020-01-15",
                  "Jasmine Torres"
                ],
                [
                  "SO45447",
                  1,
                  "2020-01-16",
                  "Gloria Ortega"
                ],
                [
                  "SO45448",
                  1,
                  "2020-01-16",
                  "Terrance Martinez"
                ],
                [
                  "SO45446",
                  1,
                  "2020-01-16",
                  "Jenna Parker"
                ],
                [
                  "SO45451",
                  1,
                  "2020-01-17",
                  "Hailey Turner"
                ],
                [
                  "SO45450",
                  1,
                  "2020-01-17",
                  "Carson Jenkins"
                ],
                [
                  "SO45452",
                  1,
                  "2020-01-17",
                  "Cedric Cai"
                ],
                [
                  "SO45449",
                  1,
                  "2020-01-17",
                  "Krista Martin"
                ],
                [
                  "SO45453",
                  1,
                  "2020-01-18",
                  "Donna Xie"
                ],
                [
                  "SO45454",
                  1,
                  "2020-01-18",
                  "Megan Flores"
                ],
                [
                  "SO45456",
                  1,
                  "2020-01-19",
                  "Elijah Powell"
                ],
                [
                  "SO45460",
                  1,
                  "2020-01-19",
                  "Julio Navarro"
                ],
                [
                  "SO45459",
                  1,
                  "2020-01-19",
                  "Brad Shan"
                ],
                [
                  "SO45458",
                  1,
                  "2020-01-19",
                  "Alvin Jai"
                ],
                [
                  "SO45455",
                  1,
                  "2020-01-19",
                  "Ebony Garcia"
                ],
                [
                  "SO45457",
                  1,
                  "2020-01-19",
                  "Christian Butler"
                ],
                [
                  "SO45461",
                  1,
                  "2020-01-20",
                  "Alexis Moore"
                ],
                [
                  "SO45462",
                  1,
                  "2020-01-20",
                  "Hannah Foster"
                ],
                [
                  "SO45463",
                  1,
                  "2020-01-20",
                  "Jonathan Hill"
                ],
                [
                  "SO45464",
                  1,
                  "2020-01-20",
                  "Alvin Sharma"
                ],
                [
                  "SO45465",
                  1,
                  "2020-01-20",
                  "Carlos Morgan"
                ],
                [
                  "SO45466",
                  1,
                  "2020-01-21",
                  "Meagan Prasad"
                ],
                [
                  "SO45476",
                  1,
                  "2020-01-22",
                  "Wyatt Williams"
                ],
                [
                  "SO45475",
                  1,
                  "2020-01-22",
                  "Alfredo Suarez"
                ],
                [
                  "SO45474",
                  1,
                  "2020-01-22",
                  "Carl Raji"
                ],
                [
                  "SO45469",
                  1,
                  "2020-01-22",
                  "Ethan Thompson"
                ],
                [
                  "SO45473",
                  1,
                  "2020-01-22",
                  "Tara Xu"
                ],
                [
                  "SO45472",
                  1,
                  "2020-01-22",
                  "Meredith Martinez"
                ],
                [
                  "SO45468",
                  1,
                  "2020-01-22",
                  "Kyle Bryant"
                ],
                [
                  "SO45467",
                  1,
                  "2020-01-22",
                  "Dustin Deng"
                ],
                [
                  "SO45471",
                  1,
                  "2020-01-22",
                  "Erin Cook"
                ],
                [
                  "SO45470",
                  1,
                  "2020-01-22",
                  "Cameron Henderson"
                ],
                [
                  "SO45478",
                  1,
                  "2020-01-23",
                  "Isaiah Edwards"
                ],
                [
                  "SO45477",
                  1,
                  "2020-01-23",
                  "Brittney Hu"
                ],
                [
                  "SO45479",
                  1,
                  "2020-01-23",
                  "Sheena Deng"
                ],
                [
                  "SO45481",
                  1,
                  "2020-01-23",
                  "Robin Moreno"
                ],
                [
                  "SO45480",
                  1,
                  "2020-01-23",
                  "Lawrence Gutierrez"
                ],
                [
                  "SO45488",
                  1,
                  "2020-01-24",
                  "Martin Perez"
                ],
                [
                  "SO45487",
                  1,
                  "2020-01-24",
                  "Shawna Andersen"
                ],
                [
                  "SO45489",
                  1,
                  "2020-01-24",
                  "Stanley Madan"
                ],
                [
                  "SO45484",
                  1,
                  "2020-01-24",
                  "Juan James"
                ],
                [
                  "SO45490",
                  1,
                  "2020-01-24",
                  "Eric Foster"
                ],
                [
                  "SO45483",
                  1,
                  "2020-01-24",
                  "Adriana Chandra"
                ],
                [
                  "SO45486",
                  1,
                  "2020-01-24",
                  "Dominic Srini"
                ],
                [
                  "SO45485",
                  1,
                  "2020-01-24",
                  "Jacqueline Powell"
                ],
                [
                  "SO45482",
                  1,
                  "2020-01-24",
                  "Brandy Sanchez"
                ],
                [
                  "SO45493",
                  1,
                  "2020-01-25",
                  "Seth Brown"
                ],
                [
                  "SO45495",
                  1,
                  "2020-01-25",
                  "Krystal Gao"
                ],
                [
                  "SO45494",
                  1,
                  "2020-01-25",
                  "Kari Martinez"
                ],
                [
                  "SO45492",
                  1,
                  "2020-01-25",
                  "Jared Kelly"
                ],
                [
                  "SO45491",
                  1,
                  "2020-01-25",
                  "Justin Brown"
                ],
                [
                  "SO45502",
                  1,
                  "2020-01-26",
                  "Timothy Young"
                ],
                [
                  "SO45497",
                  1,
                  "2020-01-26",
                  "Ian Wilson"
                ],
                [
                  "SO45498",
                  1,
                  "2020-01-26",
                  "Kayla Flores"
                ],
                [
                  "SO45496",
                  1,
                  "2020-01-26",
                  "Rachel Cox"
                ],
                [
                  "SO45499",
                  1,
                  "2020-01-26",
                  "Bailey Hernandez"
                ],
                [
                  "SO45501",
                  1,
                  "2020-01-26",
                  "Heidi Chandra"
                ],
                [
                  "SO45505",
                  1,
                  "2020-01-26",
                  "Carla Rana"
                ],
                [
                  "SO45506",
                  1,
                  "2020-01-26",
                  "Franklin Sun"
                ],
                [
                  "SO45507",
                  1,
                  "2020-01-26",
                  "Stefanie Rana"
                ],
                [
                  "SO45503",
                  1,
                  "2020-01-26",
                  "Isabella Bryant"
                ],
                [
                  "SO45504",
                  1,
                  "2020-01-26",
                  "Jerry Ferrier"
                ],
                [
                  "SO45500",
                  1,
                  "2020-01-26",
                  "Lawrence Blanco"
                ],
                [
                  "SO45508",
                  1,
                  "2020-01-27",
                  "Roberto Sanz"
                ],
                [
                  "SO45509",
                  1,
                  "2020-01-27",
                  "Shaun Sharma"
                ],
                [
                  "SO45510",
                  1,
                  "2020-01-27",
                  "Lauren Washington"
                ],
                [
                  "SO45515",
                  1,
                  "2020-01-28",
                  "Bridget She"
                ],
                [
                  "SO45511",
                  1,
                  "2020-01-28",
                  "Steve Wagner"
                ],
                [
                  "SO45512",
                  1,
                  "2020-01-28",
                  "Luis Wang"
                ],
                [
                  "SO45513",
                  1,
                  "2020-01-28",
                  "Faith Murphy"
                ],
                [
                  "SO45514",
                  1,
                  "2020-01-28",
                  "Thomas Young"
                ],
                [
                  "SO45582",
                  1,
                  "2020-01-29",
                  "Lucas Murphy"
                ],
                [
                  "SO45581",
                  1,
                  "2020-01-29",
                  "Trinity Richardson"
                ],
                [
                  "SO45583",
                  1,
                  "2020-01-29",
                  "Kyle Foster"
                ],
                [
                  "SO45585",
                  1,
                  "2020-01-29",
                  "Isaiah Ramirez"
                ],
                [
                  "SO45580",
                  1,
                  "2020-01-29",
                  "Cassie Andersen"
                ],
                [
                  "SO45584",
                  1,
                  "2020-01-29",
                  "Ronald Madan"
                ],
                [
                  "SO45591",
                  1,
                  "2020-01-30",
                  "Sebastian Torres"
                ],
                [
                  "SO45590",
                  1,
                  "2020-01-30",
                  "Roger Lu"
                ],
                [
                  "SO45589",
                  1,
                  "2020-01-30",
                  "Christy Liu"
                ],
                [
                  "SO45592",
                  1,
                  "2020-01-30",
                  "Orlando Ashe"
                ],
                [
                  "SO45588",
                  1,
                  "2020-01-30",
                  "Jenny Rai"
                ],
                [
                  "SO45587",
                  1,
                  "2020-01-30",
                  "Nina Yuan"
                ],
                [
                  "SO45586",
                  1,
                  "2020-01-30",
                  "Joel Prasad"
                ],
                [
                  "SO45595",
                  1,
                  "2020-01-31",
                  "Shannon Huang"
                ],
                [
                  "SO45594",
                  1,
                  "2020-01-31",
                  "Christian Thomas"
                ],
                [
                  "SO45601",
                  1,
                  "2020-01-31",
                  "Orlando Carlson"
                ],
                [
                  "SO45593",
                  1,
                  "2020-01-31",
                  "Nelson Ortega"
                ],
                [
                  "SO45597",
                  1,
                  "2020-01-31",
                  "Jenna Scott"
                ],
                [
                  "SO45598",
                  1,
                  "2020-01-31",
                  "Elijah Yang"
                ],
                [
                  "SO45600",
                  1,
                  "2020-01-31",
                  "Holly Martinez"
                ],
                [
                  "SO45599",
                  1,
                  "2020-01-31",
                  "Danny Ortega"
                ],
                [
                  "SO45596",
                  1,
                  "2020-01-31",
                  "Jessie Gao"
                ],
                [
                  "SO45607",
                  1,
                  "2020-02-01",
                  "Louis Nath"
                ],
                [
                  "SO45606",
                  1,
                  "2020-02-01",
                  "Devon Deng"
                ],
                [
                  "SO45609",
                  1,
                  "2020-02-01",
                  "Max Ferrier"
                ],
                [
                  "SO45608",
                  1,
                  "2020-02-01",
                  "Frank Carlson"
                ],
                [
                  "SO45603",
                  1,
                  "2020-02-01",
                  "Haley Richardson"
                ],
                [
                  "SO45604",
                  1,
                  "2020-02-01",
                  "Victoria Russell"
                ],
                [
                  "SO45605",
                  1,
                  "2020-02-01",
                  "Destiny Rogers"
                ],
                [
                  "SO45602",
                  1,
                  "2020-02-01",
                  "Tamara Zhu"
                ],
                [
                  "SO45611",
                  1,
                  "2020-02-02",
                  "Devin Nelson"
                ],
                [
                  "SO45610",
                  1,
                  "2020-02-02",
                  "Julia Coleman"
                ],
                [
                  "SO45612",
                  1,
                  "2020-02-02",
                  "Crystal Gao"
                ],
                [
                  "SO45616",
                  1,
                  "2020-02-03",
                  "Abby Arthur"
                ],
                [
                  "SO45613",
                  1,
                  "2020-02-03",
                  "Christian Hughes"
                ],
                [
                  "SO45621",
                  1,
                  "2020-02-03",
                  "Clayton Nara"
                ],
                [
                  "SO45618",
                  1,
                  "2020-02-03",
                  "Dawn Lal"
                ],
                [
                  "SO45620",
                  1,
                  "2020-02-03",
                  "Roy Moreno"
                ],
                [
                  "SO45619",
                  1,
                  "2020-02-03",
                  "Alex Hill"
                ],
                [
                  "SO45615",
                  1,
                  "2020-02-03",
                  "Gabriel Kumar"
                ],
                [
                  "SO45617",
                  1,
                  "2020-02-03",
                  "Corey Kumar"
                ],
                [
                  "SO45614",
                  1,
                  "2020-02-03",
                  "Isaac Brooks"
                ],
                [
                  "SO45627",
                  1,
                  "2020-02-04",
                  "Logan Clark"
                ],
                [
                  "SO45628",
                  1,
                  "2020-02-04",
                  "Casey Navarro"
                ],
                [
                  "SO45630",
                  1,
                  "2020-02-04",
                  "Brenda Perez"
                ],
                [
                  "SO45629",
                  1,
                  "2020-02-04",
                  "Julio Ortega"
                ],
                [
                  "SO45625",
                  1,
                  "2020-02-04",
                  "Hunter Rodriguez"
                ],
                [
                  "SO45624",
                  1,
                  "2020-02-04",
                  "Jenna Wright"
                ],
                [
                  "SO45626",
                  1,
                  "2020-02-04",
                  "Victoria Stewart"
                ],
                [
                  "SO45623",
                  1,
                  "2020-02-04",
                  "Jessica Powell"
                ],
                [
                  "SO45622",
                  1,
                  "2020-02-04",
                  "Tamara Tang"
                ],
                [
                  "SO45633",
                  1,
                  "2020-02-05",
                  "Daisuke Yanagishima"
                ],
                [
                  "SO45632",
                  1,
                  "2020-02-05",
                  "Bonnie Xie"
                ],
                [
                  "SO45631",
                  1,
                  "2020-02-05",
                  "Clarence Anand"
                ],
                [
                  "SO45634",
                  1,
                  "2020-02-05",
                  "Edwin Lin"
                ],
                [
                  "SO45639",
                  1,
                  "2020-02-06",
                  "Derek Shan"
                ],
                [
                  "SO45640",
                  1,
                  "2020-02-06",
                  "Gloria Alonso"
                ],
                [
                  "SO45635",
                  1,
                  "2020-02-06",
                  "Lucas Sanchez"
                ],
                [
                  "SO45636",
                  1,
                  "2020-02-06",
                  "Spencer Russell"
                ],
                [
                  "SO45637",
                  1,
                  "2020-02-06",
                  "Ariana Cook"
                ],
                [
                  "SO45638",
                  1,
                  "2020-02-06",
                  "Courtney Nelson"
                ],
                [
                  "SO45642",
                  1,
                  "2020-02-07",
                  "Angela Perry"
                ],
                [
                  "SO45641",
                  1,
                  "2020-02-07",
                  "Byron Ortega"
                ],
                [
                  "SO45648",
                  1,
                  "2020-02-08",
                  "Warren Zhou"
                ],
                [
                  "SO45645",
                  1,
                  "2020-02-08",
                  "Adrienne Torres"
                ],
                [
                  "SO45646",
                  1,
                  "2020-02-08",
                  "Maria Carter"
                ],
                [
                  "SO45643",
                  1,
                  "2020-02-08",
                  "Douglas Kapoor"
                ],
                [
                  "SO45647",
                  1,
                  "2020-02-08",
                  "Katherine Wright"
                ],
                [
                  "SO45644",
                  1,
                  "2020-02-08",
                  "Casey She"
                ],
                [
                  "SO45650",
                  1,
                  "2020-02-09",
                  "Mariah Murphy"
                ],
                [
                  "SO45649",
                  1,
                  "2020-02-09",
                  "Jade Bailey"
                ],
                [
                  "SO45653",
                  1,
                  "2020-02-09",
                  "Jessie Ramos"
                ],
                [
                  "SO45651",
                  1,
                  "2020-02-09",
                  "Tasha Jai"
                ],
                [
                  "SO45652",
                  1,
                  "2020-02-09",
                  "Nathaniel Watson"
                ],
                [
                  "SO45661",
                  1,
                  "2020-02-10",
                  "Karla Nara"
                ],
                [
                  "SO45660",
                  1,
                  "2020-02-10",
                  "Clarence Liu"
                ],
                [
                  "SO45656",
                  1,
                  "2020-02-10",
                  "Sean Brooks"
                ],
                [
                  "SO45655",
                  1,
                  "2020-02-10",
                  "Jose Patterson"
                ],
                [
                  "SO45657",
                  1,
                  "2020-02-10",
                  "Taylor Howard"
                ],
                [
                  "SO45658",
                  1,
                  "2020-02-10",
                  "Robert Lee"
                ],
                [
                  "SO45663",
                  1,
                  "2020-02-10",
                  "Stacy Alvarez"
                ],
                [
                  "SO45662",
                  1,
                  "2020-02-10",
                  "Gabriella Sanders"
                ],
                [
                  "SO45654",
                  1,
                  "2020-02-10",
                  "Riley Long"
                ],
                [
                  "SO45659",
                  1,
                  "2020-02-10",
                  "Denise Subram"
                ],
                [
                  "SO45665",
                  1,
                  "2020-02-11",
                  "Arthur Washington"
                ],
                [
                  "SO45664",
                  1,
                  "2020-02-11",
                  "Jon Ye"
                ],
                [
                  "SO45666",
                  1,
                  "2020-02-11",
                  "Ethan Garcia"
                ],
                [
                  "SO45667",
                  1,
                  "2020-02-11",
                  "Arthur Mehta"
                ],
                [
                  "SO45673",
                  1,
                  "2020-02-12",
                  "Amy Wu"
                ],
                [
                  "SO45674",
                  1,
                  "2020-02-12",
                  "Lacey Hu"
                ],
                [
                  "SO45672",
                  1,
                  "2020-02-12",
                  "Shannon Hu"
                ],
                [
                  "SO45675",
                  1,
                  "2020-02-12",
                  "Toni Patel"
                ],
                [
                  "SO45677",
                  1,
                  "2020-02-12",
                  "Dustin Chander"
                ],
                [
                  "SO45668",
                  1,
                  "2020-02-12",
                  "Jon Luo"
                ],
                [
                  "SO45671",
                  1,
                  "2020-02-12",
                  "Mariah Wood"
                ],
                [
                  "SO45676",
                  1,
                  "2020-02-12",
                  "Marc Torres"
                ],
                [
                  "SO45669",
                  1,
                  "2020-02-12",
                  "Joan Washington"
                ],
                [
                  "SO45670",
                  1,
                  "2020-02-12",
                  "Aidan Ross"
                ],
                [
                  "SO45679",
                  1,
                  "2020-02-13",
                  "Alberto Navarro"
                ],
                [
                  "SO45678",
                  1,
                  "2020-02-13",
                  "Megan Barnes"
                ],
                [
                  "SO45680",
                  1,
                  "2020-02-13",
                  "Haley Torres"
                ],
                [
                  "SO45681",
                  1,
                  "2020-02-13",
                  "Gloria Munoz"
                ],
                [
                  "SO45682",
                  1,
                  "2020-02-13",
                  "Ronnie Lu"
                ],
                [
                  "SO45690",
                  1,
                  "2020-02-14",
                  "Erika Romero"
                ],
                [
                  "SO45689",
                  1,
                  "2020-02-14",
                  "Ricky Gutierrez"
                ],
                [
                  "SO45685",
                  1,
                  "2020-02-14",
                  "Adrienne Blanco"
                ],
                [
                  "SO45684",
                  1,
                  "2020-02-14",
                  "Donald Chandra"
                ],
                [
                  "SO45691",
                  1,
                  "2020-02-14",
                  "Angela Henderson"
                ],
                [
                  "SO45683",
                  1,
                  "2020-02-14",
                  "Ian Martin"
                ],
                [
                  "SO45688",
                  1,
                  "2020-02-14",
                  "Emma Cooper"
                ],
                [
                  "SO45687",
                  1,
                  "2020-02-14",
                  "Elizabeth Clark"
                ],
                [
                  "SO45686",
                  1,
                  "2020-02-14",
                  "Richard Rivera"
                ],
                [
                  "SO45698",
                  1,
                  "2020-02-15",
                  "Aidan Wood"
                ],
                [
                  "SO45699",
                  1,
                  "2020-02-15",
                  "Mary Green"
                ],
                [
                  "SO45693",
                  1,
                  "2020-02-15",
                  "Teresa Gutierrez"
                ],
                [
                  "SO45694",
                  1,
                  "2020-02-15",
                  "Morgan Bennett"
                ],
                [
                  "SO45692",
                  1,
                  "2020-02-15",
                  "Victor Carlson"
                ],
                [
                  "SO45696",
                  1,
                  "2020-02-15",
                  "Rafael Xie"
                ],
                [
                  "SO45695",
                  1,
                  "2020-02-15",
                  "Seth Phillips"
                ],
                [
                  "SO45697",
                  1,
                  "2020-02-15",
                  "Mya Gonzales"
                ],
                [
                  "SO45701",
                  1,
                  "2020-02-16",
                  "Nicole Taylor"
                ],
                [
                  "SO45700",
                  1,
                  "2020-02-16",
                  "Jonathan Phillips"
                ],
                [
                  "SO45702",
                  1,
                  "2020-02-16",
                  "Ann Malhotra"
                ],
                [
                  "SO45703",
                  1,
                  "2020-02-16",
                  "Darryl Liu"
                ],
                [
                  "SO45709",
                  1,
                  "2020-02-17",
                  "Tina Smith"
                ],
                [
                  "SO45710",
                  1,
                  "2020-02-17",
                  "Geoffrey Fernandez"
                ],
                [
                  "SO45708",
                  1,
                  "2020-02-17",
                  "Ruben Patel"
                ],
                [
                  "SO45711",
                  1,
                  "2020-02-17",
                  "Mariah Barnes"
                ],
                [
                  "SO45705",
                  1,
                  "2020-02-17",
                  "Jackson Phillips"
                ],
                [
                  "SO45706",
                  1,
                  "2020-02-17",
                  "David Diaz"
                ],
                [
                  "SO45712",
                  1,
                  "2020-02-17",
                  "Meagan Madan"
                ],
                [
                  "SO45707",
                  1,
                  "2020-02-17",
                  "Kaylee Cook"
                ],
                [
                  "SO45704",
                  1,
                  "2020-02-17",
                  "Stacy Torres"
                ],
                [
                  "SO45713",
                  1,
                  "2020-02-18",
                  "Colleen Cai"
                ],
                [
                  "SO45714",
                  1,
                  "2020-02-18",
                  "Cameron Lewis"
                ],
                [
                  "SO45715",
                  1,
                  "2020-02-18",
                  "Rosa Liang"
                ],
                [
                  "SO45716",
                  1,
                  "2020-02-18",
                  "Tony Kumar"
                ],
                [
                  "SO45720",
                  1,
                  "2020-02-19",
                  "Tina Gonzalez"
                ],
                [
                  "SO45719",
                  1,
                  "2020-02-19",
                  "Elijah Diaz"
                ],
                [
                  "SO45721",
                  1,
                  "2020-02-19",
                  "Candace Raman"
                ],
                [
                  "SO45718",
                  1,
                  "2020-02-19",
                  "Lauren Martinez"
                ],
                [
                  "SO45717",
                  1,
                  "2020-02-19",
                  "Elijah Ross"
                ],
                [
                  "SO45722",
                  1,
                  "2020-02-19",
                  "Rafael Tang"
                ],
                [
                  "SO45727",
                  1,
                  "2020-02-20",
                  "Nichole She"
                ],
                [
                  "SO45723",
                  1,
                  "2020-02-20",
                  "Katelyn Sanchez"
                ],
                [
                  "SO45724",
                  1,
                  "2020-02-20",
                  "Maurice Lal"
                ],
                [
                  "SO45726",
                  1,
                  "2020-02-20",
                  "Lance Gill"
                ],
                [
                  "SO45725",
                  1,
                  "2020-02-20",
                  "Rosa Zhang"
                ],
                [
                  "SO45728",
                  1,
                  "2020-02-21",
                  "Madison Hughes"
                ],
                [
                  "SO45731",
                  1,
                  "2020-02-21",
                  "Hunter Griffin"
                ],
                [
                  "SO45734",
                  1,
                  "2020-02-21",
                  "Haley Powell"
                ],
                [
                  "SO45733",
                  1,
                  "2020-02-21",
                  "Ryan Smith"
                ],
                [
                  "SO45732",
                  1,
                  "2020-02-21",
                  "Dakota Ross"
                ],
                [
                  "SO45739",
                  1,
                  "2020-02-21",
                  "Kate Raji"
                ],
                [
                  "SO45738",
                  1,
                  "2020-02-21",
                  "Byron Carlson"
                ],
                [
                  "SO45736",
                  1,
                  "2020-02-21",
                  "Phil Spencer"
                ],
                [
                  "SO45737",
                  1,
                  "2020-02-21",
                  "Jay Lopez"
                ],
                [
                  "SO45735",
                  1,
                  "2020-02-21",
                  "Cristina Nara"
                ],
                [
                  "SO45729",
                  1,
                  "2020-02-21",
                  "Robin Sanz"
                ],
                [
                  "SO45730",
                  1,
                  "2020-02-21",
                  "Phillip Sullivan"
                ],
                [
                  "SO45740",
                  1,
                  "2020-02-22",
                  "Robin Carlson"
                ],
                [
                  "SO45741",
                  1,
                  "2020-02-22",
                  "Kristen Hu"
                ],
                [
                  "SO45743",
                  1,
                  "2020-02-22",
                  "Timothy Scott"
                ],
                [
                  "SO45742",
                  1,
                  "2020-02-22",
                  "Andy Vazquez"
                ],
                [
                  "SO45744",
                  1,
                  "2020-02-22",
                  "Ann Gonzalez"
                ],
                [
                  "SO45747",
                  1,
                  "2020-02-23",
                  "Justin Washington"
                ],
                [
                  "SO45751",
                  1,
                  "2020-02-23",
                  "Charles Gonzalez"
                ],
                [
                  "SO45749",
                  1,
                  "2020-02-23",
                  "Steve Gao"
                ],
                [
                  "SO45745",
                  1,
                  "2020-02-23",
                  "Martin Prasad"
                ],
                [
                  "SO45752",
                  1,
                  "2020-02-23",
                  "Hector Vazquez"
                ],
                [
                  "SO45753",
                  1,
                  "2020-02-23",
                  "Abby Sanchez"
                ],
                [
                  "SO45748",
                  1,
                  "2020-02-23",
                  "Terry Jai"
                ],
                [
                  "SO45746",
                  1,
                  "2020-02-23",
                  "Zachary Flores"
                ],
                [
                  "SO45750",
                  1,
                  "2020-02-23",
                  "Nicholas Lee"
                ],
                [
                  "SO45755",
                  1,
                  "2020-02-24",
                  "Logan Chow"
                ],
                [
                  "SO45754",
                  1,
                  "2020-02-24",
                  "Austin Bryant"
                ],
                [
                  "SO45756",
                  1,
                  "2020-02-24",
                  "Zachary Moore"
                ],
                [
                  "SO45761",
                  1,
                  "2020-02-25",
                  "Isaiah Wright"
                ],
                [
                  "SO45759",
                  1,
                  "2020-02-25",
                  "Taylor Lewis"
                ],
                [
                  "SO45760",
                  1,
                  "2020-02-25",
                  "Andy Alvarez"
                ],
                [
                  "SO45762",
                  1,
                  "2020-02-25",
                  "Barry Martinez"
                ],
                [
                  "SO45757",
                  1,
                  "2020-02-25",
                  "Trisha Lin"
                ],
                [
                  "SO45758",
                  1,
                  "2020-02-25",
                  "Shannon Navarro"
                ],
                [
                  "SO45763",
                  1,
                  "2020-02-25",
                  "Tabitha Moreno"
                ],
                [
                  "SO45764",
                  1,
                  "2020-02-25",
                  "Douglas Rodriguez"
                ],
                [
                  "SO45770",
                  1,
                  "2020-02-26",
                  "Susan She"
                ],
                [
                  "SO45769",
                  1,
                  "2020-02-26",
                  "Jaime Moreno"
                ],
                [
                  "SO45767",
                  1,
                  "2020-02-26",
                  "Orlando Vazquez"
                ],
                [
                  "SO45768",
                  1,
                  "2020-02-26",
                  "Zachary Anderson"
                ],
                [
                  "SO45766",
                  1,
                  "2020-02-26",
                  "Noah Coleman"
                ],
                [
                  "SO45765",
                  1,
                  "2020-02-26",
                  "Ricky Vazquez"
                ],
                [
                  "SO45774",
                  1,
                  "2020-02-27",
                  "Stephanie Collins"
                ],
                [
                  "SO45771",
                  1,
                  "2020-02-27",
                  "Danielle Reed"
                ],
                [
                  "SO45773",
                  1,
                  "2020-02-27",
                  "Ni�ia Anand"
                ],
                [
                  "SO45772",
                  1,
                  "2020-02-27",
                  "Olivia Ramirez"
                ],
                [
                  "SO45776",
                  1,
                  "2020-02-28",
                  "Megan Harris"
                ],
                [
                  "SO45777",
                  1,
                  "2020-02-28",
                  "Sarah Garcia"
                ],
                [
                  "SO45775",
                  1,
                  "2020-02-28",
                  "Jos� Saraiva"
                ],
                [
                  "SO45778",
                  1,
                  "2020-02-28",
                  "Samuel Walker"
                ],
                [
                  "SO45817",
                  1,
                  "2020-03-01",
                  "Riley Simmons"
                ],
                [
                  "SO45818",
                  1,
                  "2020-03-01",
                  "Ariana Morgan"
                ],
                [
                  "SO45816",
                  1,
                  "2020-03-01",
                  "Taylor Garcia"
                ],
                [
                  "SO45820",
                  1,
                  "2020-03-01",
                  "Shawn Tang"
                ],
                [
                  "SO45819",
                  1,
                  "2020-03-01",
                  "George Garcia"
                ],
                [
                  "SO45822",
                  1,
                  "2020-03-02",
                  "Mindy Xu"
                ],
                [
                  "SO45823",
                  1,
                  "2020-03-02",
                  "Veronica Kapoor"
                ],
                [
                  "SO45821",
                  1,
                  "2020-03-02",
                  "Gloria Torres"
                ],
                [
                  "SO45829",
                  1,
                  "2020-03-03",
                  "Darren Malhotra"
                ],
                [
                  "SO45830",
                  1,
                  "2020-03-03",
                  "Jamie Guo"
                ],
                [
                  "SO45831",
                  1,
                  "2020-03-03",
                  "Rodney Blanco"
                ],
                [
                  "SO45827",
                  1,
                  "2020-03-03",
                  "Jon Pal"
                ],
                [
                  "SO45825",
                  1,
                  "2020-03-03",
                  "Dennis Ware"
                ],
                [
                  "SO45826",
                  1,
                  "2020-03-03",
                  "Jonathan Powell"
                ],
                [
                  "SO45832",
                  1,
                  "2020-03-03",
                  "Joe Rana"
                ],
                [
                  "SO45824",
                  1,
                  "2020-03-03",
                  "Mackenzie Campbell"
                ],
                [
                  "SO45828",
                  1,
                  "2020-03-03",
                  "Austin Foster"
                ],
                [
                  "SO45836",
                  1,
                  "2020-03-04",
                  "Nelson Harrison"
                ],
                [
                  "SO45835",
                  1,
                  "2020-03-04",
                  "Victoria Morris"
                ],
                [
                  "SO45839",
                  1,
                  "2020-03-04",
                  "Philip Carlson"
                ],
                [
                  "SO45833",
                  1,
                  "2020-03-04",
                  "Hannah Patterson"
                ],
                [
                  "SO45834",
                  1,
                  "2020-03-04",
                  "Joe Torres"
                ],
                [
                  "SO45838",
                  1,
                  "2020-03-04",
                  "Gina Dominguez"
                ],
                [
                  "SO45837",
                  1,
                  "2020-03-04",
                  "Clarence Ye"
                ],
                [
                  "SO45844",
                  1,
                  "2020-03-05",
                  "Andrew Rodriguez"
                ],
                [
                  "SO45843",
                  1,
                  "2020-03-05",
                  "Sierra Roberts"
                ],
                [
                  "SO45842",
                  1,
                  "2020-03-05",
                  "Edward Lewis"
                ],
                [
                  "SO45840",
                  1,
                  "2020-03-05",
                  "Latasha Rubio"
                ],
                [
                  "SO45841",
                  1,
                  "2020-03-05",
                  "Jaclyn Chander"
                ],
                [
                  "SO45848",
                  1,
                  "2020-03-06",
                  "Adam Gonzalez"
                ],
                [
                  "SO45849",
                  1,
                  "2020-03-06",
                  "Raul Luo"
                ],
                [
                  "SO45845",
                  1,
                  "2020-03-06",
                  "Benjamin Shan"
                ],
                [
                  "SO45846",
                  1,
                  "2020-03-06",
                  "Joseph Jackson"
                ],
                [
                  "SO45847",
                  1,
                  "2020-03-06",
                  "Gabriel Chow"
                ],
                [
                  "SO45856",
                  1,
                  "2020-03-07",
                  "Kristina Lopez"
                ],
                [
                  "SO45852",
                  1,
                  "2020-03-07",
                  "Chad Shen"
                ],
                [
                  "SO45853",
                  1,
                  "2020-03-07",
                  "Isabelle Barnes"
                ],
                [
                  "SO45854",
                  1,
                  "2020-03-07",
                  "Dominique Subram"
                ],
                [
                  "SO45855",
                  1,
                  "2020-03-07",
                  "Grant Pal"
                ],
                [
                  "SO45851",
                  1,
                  "2020-03-07",
                  "Greg Taylor"
                ],
                [
                  "SO45850",
                  1,
                  "2020-03-07",
                  "Seth Mitchell"
                ],
                [
                  "SO45857",
                  1,
                  "2020-03-07",
                  "Warren Andersen"
                ],
                [
                  "SO45858",
                  1,
                  "2020-03-07",
                  "Dorothy Robinson"
                ],
                [
                  "SO45859",
                  1,
                  "2020-03-08",
                  "Lindsey Deng"
                ],
                [
                  "SO45861",
                  1,
                  "2020-03-08",
                  "Aaron Wright"
                ],
                [
                  "SO45860",
                  1,
                  "2020-03-08",
                  "Anthony Rodriguez"
                ],
                [
                  "SO45866",
                  1,
                  "2020-03-09",
                  "Kelli Wu"
                ],
                [
                  "SO45865",
                  1,
                  "2020-03-09",
                  "Riley Reed"
                ],
                [
                  "SO45864",
                  1,
                  "2020-03-09",
                  "Katrina Chande"
                ],
                [
                  "SO45863",
                  1,
                  "2020-03-09",
                  "Ryan Zhang"
                ],
                [
                  "SO45862",
                  1,
                  "2020-03-09",
                  "Ernest Xu"
                ],
                [
                  "SO45868",
                  1,
                  "2020-03-10",
                  "Dana Ruiz"
                ],
                [
                  "SO45869",
                  1,
                  "2020-03-10",
                  "Jessica Martin"
                ],
                [
                  "SO45867",
                  1,
                  "2020-03-10",
                  "Cameron Moore"
                ],
                [
                  "SO45871",
                  1,
                  "2020-03-10",
                  "Dana Ramos"
                ],
                [
                  "SO45870",
                  1,
                  "2020-03-10",
                  "Mark Bebbington"
                ],
                [
                  "SO45876",
                  1,
                  "2020-03-11",
                  "Brittney Zhang"
                ],
                [
                  "SO45874",
                  1,
                  "2020-03-11",
                  "Ashley Alexander"
                ],
                [
                  "SO45875",
                  1,
                  "2020-03-11",
                  "Christopher Thomas"
                ],
                [
                  "SO45873",
                  1,
                  "2020-03-11",
                  "Ashlee Jai"
                ],
                [
                  "SO45877",
                  1,
                  "2020-03-11",
                  "Jaclyn Zheng"
                ],
                [
                  "SO45872",
                  1,
                  "2020-03-11",
                  "Cindy Patel"
                ],
                [
                  "SO45884",
                  1,
                  "2020-03-12",
                  "Johnny Chavez"
                ],
                [
                  "SO45882",
                  1,
                  "2020-03-12",
                  "Allison Gonzalez"
                ],
                [
                  "SO45880",
                  1,
                  "2020-03-12",
                  "Natalie Cook"
                ],
                [
                  "SO45889",
                  1,
                  "2020-03-12",
                  "Adrienne Gomez"
                ],
                [
                  "SO45883",
                  1,
                  "2020-03-12",
                  "Jessie Wang"
                ],
                [
                  "SO45885",
                  1,
                  "2020-03-12",
                  "Larry Vazquez"
                ],
                [
                  "SO45878",
                  1,
                  "2020-03-12",
                  "Teresa Vazquez"
                ],
                [
                  "SO45887",
                  1,
                  "2020-03-12",
                  "Jessica Ross"
                ],
                [
                  "SO45888",
                  1,
                  "2020-03-12",
                  "Valerie Wang"
                ],
                [
                  "SO45879",
                  1,
                  "2020-03-12",
                  "Dominic Raman"
                ],
                [
                  "SO45881",
                  1,
                  "2020-03-12",
                  "Isabelle Bryant"
                ],
                [
                  "SO45886",
                  1,
                  "2020-03-12",
                  "Devin Griffin"
                ],
                [
                  "SO45893",
                  1,
                  "2020-03-13",
                  "Connor Bryant"
                ],
                [
                  "SO45892",
                  1,
                  "2020-03-13",
                  "Valerie She"
                ],
                [
                  "SO45890",
                  1,
                  "2020-03-13",
                  "Frank Navarro"
                ],
                [
                  "SO45891",
                  1,
                  "2020-03-13",
                  "Mitchell Kumar"
                ],
                [
                  "SO45895",
                  1,
                  "2020-03-14",
                  "Benjamin Taylor"
                ],
                [
                  "SO45896",
                  1,
                  "2020-03-14",
                  "Bonnie Nath"
                ],
                [
                  "SO45894",
                  1,
                  "2020-03-14",
                  "Keith Lal"
                ],
                [
                  "SO45904",
                  1,
                  "2020-03-15",
                  "Cesar Mehta"
                ],
                [
                  "SO45907",
                  1,
                  "2020-03-15",
                  "Trisha Liu"
                ],
                [
                  "SO45906",
                  1,
                  "2020-03-15",
                  "Ernest Zhu"
                ],
                [
                  "SO45905",
                  1,
                  "2020-03-15",
                  "Rafael She"
                ],
                [
                  "SO45902",
                  1,
                  "2020-03-15",
                  "Faith Simmons"
                ],
                [
                  "SO45903",
                  1,
                  "2020-03-15",
                  "Levi Subram"
                ],
                [
                  "SO45898",
                  1,
                  "2020-03-15",
                  "Cameron White"
                ],
                [
                  "SO45901",
                  1,
                  "2020-03-15",
                  "Janet Dominguez"
                ],
                [
                  "SO45899",
                  1,
                  "2020-03-15",
                  "Morgan Miller"
                ],
                [
                  "SO45900",
                  1,
                  "2020-03-15",
                  "Haley Alexander"
                ],
                [
                  "SO45897",
                  1,
                  "2020-03-15",
                  "Mathew Rubio"
                ],
                [
                  "SO45908",
                  1,
                  "2020-03-15",
                  "Kaylee Hill"
                ],
                [
                  "SO45909",
                  1,
                  "2020-03-15",
                  "Jenny Zheng"
                ],
                [
                  "SO45916",
                  1,
                  "2020-03-16",
                  "Sharon Salavaria"
                ],
                [
                  "SO45914",
                  1,
                  "2020-03-16",
                  "Virginia Gonzalez"
                ],
                [
                  "SO45915",
                  1,
                  "2020-03-16",
                  "Jaclyn Nara"
                ],
                [
                  "SO45911",
                  1,
                  "2020-03-16",
                  "Devin Coleman"
                ],
                [
                  "SO45910",
                  1,
                  "2020-03-16",
                  "Miranda Long"
                ],
                [
                  "SO45912",
                  1,
                  "2020-03-16",
                  "Vanessa Washington"
                ],
                [
                  "SO45913",
                  1,
                  "2020-03-16",
                  "Olivia Torres"
                ],
                [
                  "SO45920",
                  1,
                  "2020-03-17",
                  "Morgan Rodriguez"
                ],
                [
                  "SO45922",
                  1,
                  "2020-03-17",
                  "Jose Thompson"
                ],
                [
                  "SO45921",
                  1,
                  "2020-03-17",
                  "Brendan Chande"
                ],
                [
                  "SO45919",
                  1,
                  "2020-03-17",
                  "Jessica Alexander"
                ],
                [
                  "SO45923",
                  1,
                  "2020-03-17",
                  "Abigail Brooks"
                ],
                [
                  "SO45925",
                  1,
                  "2020-03-17",
                  "George Gonzalez"
                ],
                [
                  "SO45918",
                  1,
                  "2020-03-17",
                  "Tamara Chander"
                ],
                [
                  "SO45917",
                  1,
                  "2020-03-17",
                  "Deanna Ramos"
                ],
                [
                  "SO45924",
                  1,
                  "2020-03-17",
                  "Stacy Martin"
                ],
                [
                  "SO45928",
                  1,
                  "2020-03-18",
                  "Mary Patterson"
                ],
                [
                  "SO45929",
                  1,
                  "2020-03-18",
                  "Aimee She"
                ],
                [
                  "SO45927",
                  1,
                  "2020-03-18",
                  "Isabel Jenkins"
                ],
                [
                  "SO45926",
                  1,
                  "2020-03-18",
                  "Benjamin Coleman"
                ],
                [
                  "SO45931",
                  1,
                  "2020-03-18",
                  "Tasha Kumar"
                ],
                [
                  "SO45932",
                  1,
                  "2020-03-18",
                  "Scott Rodgers"
                ],
                [
                  "SO45930",
                  1,
                  "2020-03-18",
                  "Jaclyn Huang"
                ],
                [
                  "SO45935",
                  1,
                  "2020-03-19",
                  "Franklin Xu"
                ],
                [
                  "SO45933",
                  1,
                  "2020-03-19",
                  "Sarah Jackson"
                ],
                [
                  "SO45934",
                  1,
                  "2020-03-19",
                  "Angel Baker"
                ],
                [
                  "SO45936",
                  1,
                  "2020-03-19",
                  "Fernando King"
                ],
                [
                  "SO45938",
                  1,
                  "2020-03-20",
                  "Ariana Sanchez"
                ],
                [
                  "SO45946",
                  1,
                  "2020-03-20",
                  "Meagan Rana"
                ],
                [
                  "SO45947",
                  1,
                  "2020-03-20",
                  "Dawn Huang"
                ],
                [
                  "SO45939",
                  1,
                  "2020-03-20",
                  "Elizabeth Garcia"
                ],
                [
                  "SO45937",
                  1,
                  "2020-03-20",
                  "Miguel Baker"
                ],
                [
                  "SO45943",
                  1,
                  "2020-03-20",
                  "Kaylee Sanders"
                ],
                [
                  "SO45944",
                  1,
                  "2020-03-20",
                  "Sharon Rai"
                ],
                [
                  "SO45940",
                  1,
                  "2020-03-20",
                  "Dawn Raji"
                ],
                [
                  "SO45941",
                  1,
                  "2020-03-20",
                  "Marshall Yuan"
                ],
                [
                  "SO45942",
                  1,
                  "2020-03-20",
                  "Colleen Harrison"
                ],
                [
                  "SO45945",
                  1,
                  "2020-03-20",
                  "Orlando Gutierrez"
                ],
                [
                  "SO45950",
                  1,
                  "2020-03-21",
                  "George Fernandez"
                ],
                [
                  "SO45949",
                  1,
                  "2020-03-21",
                  "Tanya Jimenez"
                ],
                [
                  "SO45948",
                  1,
                  "2020-03-21",
                  "Andrea Richardson"
                ],
                [
                  "SO45951",
                  1,
                  "2020-03-21",
                  "Rachael Rodriguez"
                ],
                [
                  "SO45952",
                  1,
                  "2020-03-21",
                  "Randy Xu"
                ],
                [
                  "SO45954",
                  1,
                  "2020-03-22",
                  "Antonio Washington"
                ],
                [
                  "SO45956",
                  1,
                  "2020-03-22",
                  "Janet Browning"
                ],
                [
                  "SO45953",
                  1,
                  "2020-03-22",
                  "Megan Anderson"
                ],
                [
                  "SO45955",
                  1,
                  "2020-03-22",
                  "Ethan Foster"
                ],
                [
                  "SO45965",
                  1,
                  "2020-03-23",
                  "Colin Shan"
                ],
                [
                  "SO45964",
                  1,
                  "2020-03-23",
                  "Ioannis Xylaras"
                ],
                [
                  "SO45962",
                  1,
                  "2020-03-23",
                  "Louis Zhang"
                ],
                [
                  "SO45963",
                  1,
                  "2020-03-23",
                  "Anna Watson"
                ],
                [
                  "SO45957",
                  1,
                  "2020-03-23",
                  "Juan Gray"
                ],
                [
                  "SO45958",
                  1,
                  "2020-03-23",
                  "Daniel Garcia"
                ],
                [
                  "SO45959",
                  1,
                  "2020-03-23",
                  "Faith Patterson"
                ],
                [
                  "SO45966",
                  1,
                  "2020-03-23",
                  "Brandy Saunders"
                ],
                [
                  "SO45960",
                  1,
                  "2020-03-23",
                  "Jessica Brown"
                ],
                [
                  "SO45961",
                  1,
                  "2020-03-23",
                  "Hannah Wood"
                ],
                [
                  "SO45970",
                  1,
                  "2020-03-24",
                  "Antonio Patterson"
                ],
                [
                  "SO45968",
                  1,
                  "2020-03-24",
                  "Fernando Flores"
                ],
                [
                  "SO45969",
                  1,
                  "2020-03-24",
                  "Jay Madan"
                ],
                [
                  "SO45967",
                  1,
                  "2020-03-24",
                  "Roger Sharma"
                ],
                [
                  "SO45972",
                  1,
                  "2020-03-25",
                  "Heidi Sara"
                ],
                [
                  "SO45977",
                  1,
                  "2020-03-25",
                  "Shawn Chander"
                ],
                [
                  "SO45976",
                  1,
                  "2020-03-25",
                  "Jill Ortega"
                ],
                [
                  "SO45973",
                  1,
                  "2020-03-25",
                  "Gavin Diaz"
                ],
                [
                  "SO45978",
                  1,
                  "2020-03-25",
                  "Latasha Munoz"
                ],
                [
                  "SO45971",
                  1,
                  "2020-03-25",
                  "Carla Raman"
                ],
                [
                  "SO45975",
                  1,
                  "2020-03-25",
                  "Robert Davis"
                ],
                [
                  "SO45974",
                  1,
                  "2020-03-25",
                  "Zachary Thompson"
                ],
                [
                  "SO45981",
                  1,
                  "2020-03-26",
                  "Marvin Moreno"
                ],
                [
                  "SO45982",
                  1,
                  "2020-03-26",
                  "Kristine Gill"
                ],
                [
                  "SO45979",
                  1,
                  "2020-03-26",
                  "Nichole Tang"
                ],
                [
                  "SO45980",
                  1,
                  "2020-03-26",
                  "Clayton Andersen"
                ],
                [
                  "SO45990",
                  1,
                  "2020-03-27",
                  "Heather Zheng"
                ],
                [
                  "SO45989",
                  1,
                  "2020-03-27",
                  "Clarence Gao"
                ],
                [
                  "SO45988",
                  1,
                  "2020-03-27",
                  "Devin Martinez"
                ],
                [
                  "SO45985",
                  1,
                  "2020-03-27",
                  "Elizabeth Weisman"
                ],
                [
                  "SO45984",
                  1,
                  "2020-03-27",
                  "Caroline Butler"
                ],
                [
                  "SO45986",
                  1,
                  "2020-03-27",
                  "Chase Kelly"
                ],
                [
                  "SO45991",
                  1,
                  "2020-03-27",
                  "Audrey Ramos"
                ],
                [
                  "SO45987",
                  1,
                  "2020-03-27",
                  "Jason Mitchell"
                ],
                [
                  "SO45983",
                  1,
                  "2020-03-27",
                  "Isabella Ward"
                ],
                [
                  "SO45997",
                  1,
                  "2020-03-28",
                  "Charles Reed"
                ],
                [
                  "SO45996",
                  1,
                  "2020-03-28",
                  "Tyler Brown"
                ],
                [
                  "SO45994",
                  1,
                  "2020-03-28",
                  "Emma Sanchez"
                ],
                [
                  "SO45993",
                  1,
                  "2020-03-28",
                  "Ian Long"
                ],
                [
                  "SO45992",
                  1,
                  "2020-03-28",
                  "Pedro Sara"
                ],
                [
                  "SO45998",
                  1,
                  "2020-03-28",
                  "Carly Anand"
                ],
                [
                  "SO45995",
                  1,
                  "2020-03-28",
                  "Aidan Diaz"
                ],
                [
                  "SO46001",
                  1,
                  "2020-03-29",
                  "Olivia Foster"
                ],
                [
                  "SO45999",
                  1,
                  "2020-03-29",
                  "Brianna Martin"
                ],
                [
                  "SO46006",
                  1,
                  "2020-03-29",
                  "Cesar Chandra"
                ],
                [
                  "SO46007",
                  1,
                  "2020-03-29",
                  "Wendy Carlson"
                ],
                [
                  "SO46009",
                  1,
                  "2020-03-29",
                  "Roy Sanz"
                ],
                [
                  "SO46008",
                  1,
                  "2020-03-29",
                  "Rachael Sai"
                ],
                [
                  "SO46000",
                  1,
                  "2020-03-29",
                  "Haley Henderson"
                ],
                [
                  "SO46003",
                  1,
                  "2020-03-29",
                  "Christian Ross"
                ],
                [
                  "SO46002",
                  1,
                  "2020-03-29",
                  "Jessie Alonso"
                ],
                [
                  "SO46004",
                  1,
                  "2020-03-29",
                  "Alyssa Morgan"
                ],
                [
                  "SO46005",
                  1,
                  "2020-03-29",
                  "Miguel Lee"
                ],
                [
                  "SO46018",
                  1,
                  "2020-03-30",
                  "Seth Williams"
                ],
                [
                  "SO46013",
                  1,
                  "2020-03-30",
                  "Brooke Richardson"
                ],
                [
                  "SO46010",
                  1,
                  "2020-03-30",
                  "Jermaine Lopez"
                ],
                [
                  "SO46011",
                  1,
                  "2020-03-30",
                  "Deborah Goel"
                ],
                [
                  "SO46016",
                  1,
                  "2020-03-30",
                  "Kurt Sharma"
                ],
                [
                  "SO46017",
                  1,
                  "2020-03-30",
                  "Katelyn Parker"
                ],
                [
                  "SO46022",
                  1,
                  "2020-03-30",
                  "Kelsey Becker"
                ],
                [
                  "SO46019",
                  1,
                  "2020-03-30",
                  "Seth Turner"
                ],
                [
                  "SO46020",
                  1,
                  "2020-03-30",
                  "Raymond Arthur"
                ],
                [
                  "SO46021",
                  1,
                  "2020-03-30",
                  "Jeffery Lu"
                ],
                [
                  "SO46012",
                  1,
                  "2020-03-30",
                  "Veronica Rana"
                ],
                [
                  "SO46015",
                  1,
                  "2020-03-30",
                  "Joshua Rodriguez"
                ],
                [
                  "SO46014",
                  1,
                  "2020-03-30",
                  "Kaitlyn Long"
                ],
                [
                  "SO46119",
                  1,
                  "2020-03-31",
                  "Tiffany Guo"
                ],
                [
                  "SO46117",
                  1,
                  "2020-03-31",
                  "Clayton Rai"
                ],
                [
                  "SO46118",
                  1,
                  "2020-03-31",
                  "Carla Sullivan"
                ],
                [
                  "SO46116",
                  1,
                  "2020-03-31",
                  "Emma Taylor"
                ],
                [
                  "SO46113",
                  1,
                  "2020-03-31",
                  "Gabriel Green"
                ],
                [
                  "SO46112",
                  1,
                  "2020-03-31",
                  "Dennis Huang"
                ],
                [
                  "SO46108",
                  1,
                  "2020-03-31",
                  "Devin Henderson"
                ],
                [
                  "SO46114",
                  1,
                  "2020-03-31",
                  "Cedric Gao"
                ],
                [
                  "SO46111",
                  1,
                  "2020-03-31",
                  "Devin Perez"
                ],
                [
                  "SO46115",
                  1,
                  "2020-03-31",
                  "Mariah Ross"
                ],
                [
                  "SO46109",
                  1,
                  "2020-03-31",
                  "Sebastian Stewart"
                ],
                [
                  "SO46110",
                  1,
                  "2020-03-31",
                  "Abigail Howard"
                ],
                [
                  "SO46123",
                  1,
                  "2020-04-01",
                  "Adrian Ramirez"
                ],
                [
                  "SO46121",
                  1,
                  "2020-04-01",
                  "Garrett Kelly"
                ],
                [
                  "SO46120",
                  1,
                  "2020-04-01",
                  "Fernando Johnson"
                ],
                [
                  "SO46124",
                  1,
                  "2020-04-01",
                  "Jodi Goel"
                ],
                [
                  "SO46122",
                  1,
                  "2020-04-01",
                  "Melissa Sanders"
                ],
                [
                  "SO46129",
                  1,
                  "2020-04-02",
                  "Evelyn Mehta"
                ],
                [
                  "SO46125",
                  1,
                  "2020-04-02",
                  "Alexandria Sandberg"
                ],
                [
                  "SO46128",
                  1,
                  "2020-04-02",
                  "Samantha Lewis"
                ],
                [
                  "SO46126",
                  1,
                  "2020-04-02",
                  "Gabrielle Barnes"
                ],
                [
                  "SO46127",
                  1,
                  "2020-04-02",
                  "Connor Hernandez"
                ],
                [
                  "SO46138",
                  1,
                  "2020-04-03",
                  "Ethan Bryant"
                ],
                [
                  "SO46139",
                  1,
                  "2020-04-03",
                  "Bonnie Jai"
                ],
                [
                  "SO46131",
                  1,
                  "2020-04-03",
                  "Joseph Garcia"
                ],
                [
                  "SO46140",
                  1,
                  "2020-04-03",
                  "Frederick Martinez"
                ],
                [
                  "SO46133",
                  1,
                  "2020-04-03",
                  "Abigail Foster"
                ],
                [
                  "SO46130",
                  1,
                  "2020-04-03",
                  "Alyssa Cooper"
                ],
                [
                  "SO46135",
                  1,
                  "2020-04-03",
                  "Dale Goel"
                ],
                [
                  "SO46136",
                  1,
                  "2020-04-03",
                  "Johnathan Perez"
                ],
                [
                  "SO46134",
                  1,
                  "2020-04-03",
                  "Jenny Andersen"
                ],
                [
                  "SO46132",
                  1,
                  "2020-04-03",
                  "Lori Sanz"
                ],
                [
                  "SO46137",
                  1,
                  "2020-04-03",
                  "Dennis Hu"
                ],
                [
                  "SO46142",
                  1,
                  "2020-04-04",
                  "Gabrielle Peterson"
                ],
                [
                  "SO46141",
                  1,
                  "2020-04-04",
                  "Allison Edwards"
                ],
                [
                  "SO46145",
                  1,
                  "2020-04-04",
                  "Eric Griffin"
                ],
                [
                  "SO46143",
                  1,
                  "2020-04-04",
                  "Mathew Moreno"
                ],
                [
                  "SO46144",
                  1,
                  "2020-04-04",
                  "Sarah Butler"
                ],
                [
                  "SO46151",
                  1,
                  "2020-04-05",
                  "Christian Johnson"
                ],
                [
                  "SO46149",
                  1,
                  "2020-04-05",
                  "Xavier Simmons"
                ],
                [
                  "SO46154",
                  1,
                  "2020-04-05",
                  "Kara Anand"
                ],
                [
                  "SO46148",
                  1,
                  "2020-04-05",
                  "Makayla Ward"
                ],
                [
                  "SO46146",
                  1,
                  "2020-04-05",
                  "Amy Sun"
                ],
                [
                  "SO46147",
                  1,
                  "2020-04-05",
                  "Sarah Anderson"
                ],
                [
                  "SO46152",
                  1,
                  "2020-04-05",
                  "Marie Romero"
                ],
                [
                  "SO46153",
                  1,
                  "2020-04-05",
                  "Mario Sharma"
                ],
                [
                  "SO46150",
                  1,
                  "2020-04-05",
                  "Patricia Patel"
                ],
                [
                  "SO46158",
                  1,
                  "2020-04-06",
                  "Larry Gutierrez"
                ],
                [
                  "SO46155",
                  1,
                  "2020-04-06",
                  "Chloe Washington"
                ],
                [
                  "SO46159",
                  1,
                  "2020-04-06",
                  "Veronica Srini"
                ],
                [
                  "SO46156",
                  1,
                  "2020-04-06",
                  "Miguel Sanchez"
                ],
                [
                  "SO46157",
                  1,
                  "2020-04-06",
                  "Karen Zeng"
                ],
                [
                  "SO46169",
                  1,
                  "2020-04-07",
                  "Bailey Bailey"
                ],
                [
                  "SO46165",
                  1,
                  "2020-04-07",
                  "Kaitlyn Lee"
                ],
                [
                  "SO46162",
                  1,
                  "2020-04-07",
                  "Aaron Wang"
                ],
                [
                  "SO46161",
                  1,
                  "2020-04-07",
                  "Nicolas Chander"
                ],
                [
                  "SO46167",
                  1,
                  "2020-04-07",
                  "Kristina Kapoor"
                ],
                [
                  "SO46164",
                  1,
                  "2020-04-07",
                  "Nathaniel Cooper"
                ],
                [
                  "SO46163",
                  1,
                  "2020-04-07",
                  "Alex Carter"
                ],
                [
                  "SO46160",
                  1,
                  "2020-04-07",
                  "Sydney Bryant"
                ],
                [
                  "SO46168",
                  1,
                  "2020-04-07",
                  "Deanna Schmidt"
                ],
                [
                  "SO46166",
                  1,
                  "2020-04-07",
                  "Marcus Hayes"
                ],
                [
                  "SO46173",
                  1,
                  "2020-04-08",
                  "Katie Shen"
                ],
                [
                  "SO46171",
                  1,
                  "2020-04-08",
                  "Evan Campbell"
                ],
                [
                  "SO46174",
                  1,
                  "2020-04-08",
                  "Cara Hu"
                ],
                [
                  "SO46172",
                  1,
                  "2020-04-08",
                  "Ana Washington"
                ],
                [
                  "SO46175",
                  1,
                  "2020-04-08",
                  "Audrey Munoz"
                ],
                [
                  "SO46170",
                  1,
                  "2020-04-08",
                  "Bonnie Raji"
                ],
                [
                  "SO46177",
                  1,
                  "2020-04-09",
                  "Devin Simmons"
                ],
                [
                  "SO46176",
                  1,
                  "2020-04-09",
                  "Andre Perez"
                ],
                [
                  "SO46178",
                  1,
                  "2020-04-09",
                  "Jon Yuan"
                ],
                [
                  "SO46181",
                  1,
                  "2020-04-10",
                  "Jarrod Suri"
                ],
                [
                  "SO46180",
                  1,
                  "2020-04-10",
                  "Aidan Perry"
                ],
                [
                  "SO46182",
                  1,
                  "2020-04-10",
                  "Kelvin Carson"
                ],
                [
                  "SO46179",
                  1,
                  "2020-04-10",
                  "Cheryl Ortega"
                ],
                [
                  "SO46186",
                  1,
                  "2020-04-11",
                  "Seth Martin"
                ],
                [
                  "SO46191",
                  1,
                  "2020-04-11",
                  "Krista Romero"
                ],
                [
                  "SO46184",
                  1,
                  "2020-04-11",
                  "Ebony Jimenez"
                ],
                [
                  "SO46187",
                  1,
                  "2020-04-11",
                  "Jill Martinez"
                ],
                [
                  "SO46189",
                  1,
                  "2020-04-11",
                  "Jocelyn Coleman"
                ],
                [
                  "SO46188",
                  1,
                  "2020-04-11",
                  "Maurice Ashe"
                ],
                [
                  "SO46190",
                  1,
                  "2020-04-11",
                  "Gerald Madan"
                ],
                [
                  "SO46185",
                  1,
                  "2020-04-11",
                  "Gloria Carlson"
                ],
                [
                  "SO46183",
                  1,
                  "2020-04-11",
                  "Bethany Tang"
                ],
                [
                  "SO46198",
                  1,
                  "2020-04-12",
                  "Terry Rai"
                ],
                [
                  "SO46197",
                  1,
                  "2020-04-12",
                  "Connor Butler"
                ],
                [
                  "SO46200",
                  1,
                  "2020-04-12",
                  "Ethan Martinez"
                ],
                [
                  "SO46199",
                  1,
                  "2020-04-12",
                  "Javier Serrano"
                ],
                [
                  "SO46193",
                  1,
                  "2020-04-12",
                  "Veronica Arun"
                ],
                [
                  "SO46201",
                  1,
                  "2020-04-12",
                  "Jessie Zhou"
                ],
                [
                  "SO46202",
                  1,
                  "2020-04-12",
                  "April Tang"
                ],
                [
                  "SO46195",
                  1,
                  "2020-04-12",
                  "Haley Wood"
                ],
                [
                  "SO46204",
                  1,
                  "2020-04-12",
                  "Kathryn Chapman"
                ],
                [
                  "SO46203",
                  1,
                  "2020-04-12",
                  "Johnny Shan"
                ],
                [
                  "SO46194",
                  1,
                  "2020-04-12",
                  "Kevin Washington"
                ],
                [
                  "SO46196",
                  1,
                  "2020-04-12",
                  "Morgan Foster"
                ],
                [
                  "SO46192",
                  1,
                  "2020-04-12",
                  "Russell Raje"
                ],
                [
                  "SO46209",
                  1,
                  "2020-04-13",
                  "Adam Baker"
                ],
                [
                  "SO46210",
                  1,
                  "2020-04-13",
                  "Janelle Fernandez"
                ],
                [
                  "SO46205",
                  1,
                  "2020-04-13",
                  "Luke Mitchell"
                ],
                [
                  "SO46208",
                  1,
                  "2020-04-13",
                  "Deanna Ashe"
                ],
                [
                  "SO46206",
                  1,
                  "2020-04-13",
                  "Edward Hughes"
                ],
                [
                  "SO46207",
                  1,
                  "2020-04-13",
                  "Chloe Bennett"
                ],
                [
                  "SO46211",
                  1,
                  "2020-04-14",
                  "Gabriel Zhang"
                ],
                [
                  "SO46217",
                  1,
                  "2020-04-14",
                  "Gregory Shan"
                ],
                [
                  "SO46215",
                  1,
                  "2020-04-14",
                  "Curtis Gao"
                ],
                [
                  "SO46216",
                  1,
                  "2020-04-14",
                  "Alfredo Ramos"
                ],
                [
                  "SO46212",
                  1,
                  "2020-04-14",
                  "Dalton Edwards"
                ],
                [
                  "SO46213",
                  1,
                  "2020-04-14",
                  "Aaron Young"
                ],
                [
                  "SO46214",
                  1,
                  "2020-04-14",
                  "Tristan Ross"
                ],
                [
                  "SO46227",
                  1,
                  "2020-04-15",
                  "Joanna Vazquez"
                ],
                [
                  "SO46228",
                  1,
                  "2020-04-15",
                  "Rosa Wang"
                ],
                [
                  "SO46218",
                  1,
                  "2020-04-15",
                  "Derek Tang"
                ],
                [
                  "SO46224",
                  1,
                  "2020-04-15",
                  "Arianna Diaz"
                ],
                [
                  "SO46222",
                  1,
                  "2020-04-15",
                  "Kyle Hayes"
                ],
                [
                  "SO46223",
                  1,
                  "2020-04-15",
                  "Savannah Sanders"
                ],
                [
                  "SO46226",
                  1,
                  "2020-04-15",
                  "Kate Anand"
                ],
                [
                  "SO46220",
                  1,
                  "2020-04-15",
                  "Wayne Chander"
                ],
                [
                  "SO46219",
                  1,
                  "2020-04-15",
                  "Abigail Thompson"
                ],
                [
                  "SO46221",
                  1,
                  "2020-04-15",
                  "Xavier Flores"
                ],
                [
                  "SO46225",
                  1,
                  "2020-04-15",
                  "Mariah Rivera"
                ],
                [
                  "SO46233",
                  1,
                  "2020-04-16",
                  "Sarah Henderson"
                ],
                [
                  "SO46237",
                  1,
                  "2020-04-16",
                  "Summer Smith"
                ],
                [
                  "SO46235",
                  1,
                  "2020-04-16",
                  "Steven Kelly"
                ],
                [
                  "SO46234",
                  1,
                  "2020-04-16",
                  "Bianca Guo"
                ],
                [
                  "SO46236",
                  1,
                  "2020-04-16",
                  "Shannon Yang"
                ],
                [
                  "SO46232",
                  1,
                  "2020-04-16",
                  "Chloe Nelson"
                ],
                [
                  "SO46231",
                  1,
                  "2020-04-16",
                  "Meredith Serrano"
                ],
                [
                  "SO46230",
                  1,
                  "2020-04-16",
                  "Dawn Wu"
                ],
                [
                  "SO46229",
                  1,
                  "2020-04-16",
                  "Beth Gutierrez"
                ],
                [
                  "SO46244",
                  1,
                  "2020-04-17",
                  "Beth Alonso"
                ],
                [
                  "SO46239",
                  1,
                  "2020-04-17",
                  "Chelsea Martinez"
                ],
                [
                  "SO46238",
                  1,
                  "2020-04-17",
                  "Darren Alvarez"
                ],
                [
                  "SO46245",
                  1,
                  "2020-04-17",
                  "Bridget Xu"
                ],
                [
                  "SO46240",
                  1,
                  "2020-04-17",
                  "Abigail Coleman"
                ],
                [
                  "SO46243",
                  1,
                  "2020-04-17",
                  "Lindsay Raje"
                ],
                [
                  "SO46242",
                  1,
                  "2020-04-17",
                  "Alicia Goel"
                ],
                [
                  "SO46241",
                  1,
                  "2020-04-17",
                  "Wyatt Turner"
                ],
                [
                  "SO46250",
                  1,
                  "2020-04-18",
                  "Carmen Rana"
                ],
                [
                  "SO46248",
                  1,
                  "2020-04-18",
                  "Alexia Flores"
                ],
                [
                  "SO46247",
                  1,
                  "2020-04-18",
                  "Kathryn Nara"
                ],
                [
                  "SO46249",
                  1,
                  "2020-04-18",
                  "Ashley Russell"
                ],
                [
                  "SO46251",
                  1,
                  "2020-04-18",
                  "Donna Sharma"
                ],
                [
                  "SO46246",
                  1,
                  "2020-04-18",
                  "Logan Turner"
                ],
                [
                  "SO46254",
                  1,
                  "2020-04-19",
                  "Caitlin Brooks"
                ],
                [
                  "SO46257",
                  1,
                  "2020-04-19",
                  "Tonya Chande"
                ],
                [
                  "SO46253",
                  1,
                  "2020-04-19",
                  "Lauren Sanchez"
                ],
                [
                  "SO46252",
                  1,
                  "2020-04-19",
                  "Cory Kapoor"
                ],
                [
                  "SO46256",
                  1,
                  "2020-04-19",
                  "Barbara Wang"
                ],
                [
                  "SO46255",
                  1,
                  "2020-04-19",
                  "Kelli Anand"
                ],
                [
                  "SO46262",
                  1,
                  "2020-04-20",
                  "Barbara Deng"
                ],
                [
                  "SO46259",
                  1,
                  "2020-04-20",
                  "Logan Diaz"
                ],
                [
                  "SO46260",
                  1,
                  "2020-04-20",
                  "James Walker"
                ],
                [
                  "SO46258",
                  1,
                  "2020-04-20",
                  "Jaclyn Zhang"
                ],
                [
                  "SO46263",
                  1,
                  "2020-04-20",
                  "Kelsey Xie"
                ],
                [
                  "SO46261",
                  1,
                  "2020-04-20",
                  "Jessica Walker"
                ],
                [
                  "SO46264",
                  1,
                  "2020-04-21",
                  "Cassie Jai"
                ],
                [
                  "SO46265",
                  1,
                  "2020-04-21",
                  "Justin Shan"
                ],
                [
                  "SO46267",
                  1,
                  "2020-04-21",
                  "J�sus Blanco"
                ],
                [
                  "SO46268",
                  1,
                  "2020-04-21",
                  "Laura Wu"
                ],
                [
                  "SO46269",
                  1,
                  "2020-04-21",
                  "Rosa He"
                ],
                [
                  "SO46266",
                  1,
                  "2020-04-21",
                  "Sabrina Torres"
                ],
                [
                  "SO46276",
                  1,
                  "2020-04-22",
                  "Colin Yang"
                ],
                [
                  "SO46275",
                  1,
                  "2020-04-22",
                  "Edwin Tang"
                ],
                [
                  "SO46270",
                  1,
                  "2020-04-22",
                  "Ethan Williams"
                ],
                [
                  "SO46272",
                  1,
                  "2020-04-22",
                  "Amanda Gray"
                ],
                [
                  "SO46271",
                  1,
                  "2020-04-22",
                  "Eduardo Alexander"
                ],
                [
                  "SO46273",
                  1,
                  "2020-04-22",
                  "Kyle Edwards"
                ],
                [
                  "SO46274",
                  1,
                  "2020-04-22",
                  "Elijah Patterson"
                ],
                [
                  "SO46281",
                  1,
                  "2020-04-23",
                  "Barry Subram"
                ],
                [
                  "SO46282",
                  1,
                  "2020-04-23",
                  "Faith Stewart"
                ],
                [
                  "SO46283",
                  1,
                  "2020-04-23",
                  "Nicole Washington"
                ],
                [
                  "SO46280",
                  1,
                  "2020-04-23",
                  "Logan Wilson"
                ],
                [
                  "SO46279",
                  1,
                  "2020-04-23",
                  "Gabriella Lopez"
                ],
                [
                  "SO46285",
                  1,
                  "2020-04-23",
                  "Gilbert Shen"
                ],
                [
                  "SO46284",
                  1,
                  "2020-04-23",
                  "Jasmine Russell"
                ],
                [
                  "SO46277",
                  1,
                  "2020-04-23",
                  "Andy Ortega"
                ],
                [
                  "SO46278",
                  1,
                  "2020-04-23",
                  "Edgar Subram"
                ],
                [
                  "SO46286",
                  1,
                  "2020-04-24",
                  "Carrie Hernandez"
                ],
                [
                  "SO46292",
                  1,
                  "2020-04-24",
                  "Joe Vazquez"
                ],
                [
                  "SO46291",
                  1,
                  "2020-04-24",
                  "Katelyn Ward"
                ],
                [
                  "SO46293",
                  1,
                  "2020-04-24",
                  "Katie Rai"
                ],
                [
                  "SO46287",
                  1,
                  "2020-04-24",
                  "Lucas Flores"
                ],
                [
                  "SO46289",
                  1,
                  "2020-04-24",
                  "Cameron Griffin"
                ],
                [
                  "SO46288",
                  1,
                  "2020-04-24",
                  "Jason Jenkins"
                ],
                [
                  "SO46294",
                  1,
                  "2020-04-24",
                  "Max Alvarez"
                ],
                [
                  "SO46290",
                  1,
                  "2020-04-24",
                  "Elizabeth Martinez"
                ],
                [
                  "SO46298",
                  1,
                  "2020-04-25",
                  "Robert Robinson"
                ],
                [
                  "SO46297",
                  1,
                  "2020-04-25",
                  "Kristen Guo"
                ],
                [
                  "SO46296",
                  1,
                  "2020-04-25",
                  "Sara Reed"
                ],
                [
                  "SO46299",
                  1,
                  "2020-04-25",
                  "Jay Carlson"
                ],
                [
                  "SO46300",
                  1,
                  "2020-04-25",
                  "Kelli Xie"
                ],
                [
                  "SO46295",
                  1,
                  "2020-04-25",
                  "Nicolas Anand"
                ],
                [
                  "SO46303",
                  1,
                  "2020-04-26",
                  "Veronica Malhotra"
                ],
                [
                  "SO46301",
                  1,
                  "2020-04-26",
                  "Theodore Suarez"
                ],
                [
                  "SO46302",
                  1,
                  "2020-04-26",
                  "Kayla Alexander"
                ],
                [
                  "SO46304",
                  1,
                  "2020-04-26",
                  "Adriana Lopez"
                ],
                [
                  "SO46305",
                  1,
                  "2020-04-26",
                  "Holly Srini"
                ],
                [
                  "SO46309",
                  1,
                  "2020-04-27",
                  "Leah Hu"
                ],
                [
                  "SO46306",
                  1,
                  "2020-04-27",
                  "Noah Butler"
                ],
                [
                  "SO46310",
                  1,
                  "2020-04-27",
                  "Marvin Gutierrez"
                ],
                [
                  "SO46308",
                  1,
                  "2020-04-27",
                  "Fernando Bryant"
                ],
                [
                  "SO46307",
                  1,
                  "2020-04-27",
                  "Mario Raje"
                ],
                [
                  "SO46311",
                  1,
                  "2020-04-28",
                  "Yolanda Xie"
                ],
                [
                  "SO46312",
                  1,
                  "2020-04-29",
                  "Kaitlyn Bailey"
                ],
                [
                  "SO46315",
                  1,
                  "2020-04-29",
                  "Gabriella Torres"
                ],
                [
                  "SO46314",
                  1,
                  "2020-04-29",
                  "Arianna Henderson"
                ],
                [
                  "SO46313",
                  1,
                  "2020-04-29",
                  "Jose Edwards"
                ],
                [
                  "SO46317",
                  1,
                  "2020-04-29",
                  "Kristi Torres"
                ],
                [
                  "SO46318",
                  1,
                  "2020-04-29",
                  "Cara Zeng"
                ],
                [
                  "SO46316",
                  1,
                  "2020-04-29",
                  "Alyssa Smith"
                ],
                [
                  "SO46320",
                  1,
                  "2020-04-30",
                  "Luke Jenkins"
                ],
                [
                  "SO46321",
                  1,
                  "2020-04-30",
                  "James Baker"
                ],
                [
                  "SO46319",
                  1,
                  "2020-04-30",
                  "Chloe White"
                ],
                [
                  "SO46390",
                  1,
                  "2020-05-01",
                  "Francisco Chandra"
                ],
                [
                  "SO46392",
                  1,
                  "2020-05-01",
                  "Jill Moreno"
                ],
                [
                  "SO46391",
                  1,
                  "2020-05-01",
                  "Danny Suarez"
                ],
                [
                  "SO46393",
                  1,
                  "2020-05-01",
                  "Bruce Gomez"
                ],
                [
                  "SO46404",
                  1,
                  "2020-05-02",
                  "Ryan Garcia"
                ],
                [
                  "SO46400",
                  1,
                  "2020-05-02",
                  "Marshall Zeng"
                ],
                [
                  "SO46398",
                  1,
                  "2020-05-02",
                  "Julio Serrano"
                ],
                [
                  "SO46401",
                  1,
                  "2020-05-02",
                  "Mitchell Xie"
                ],
                [
                  "SO46405",
                  1,
                  "2020-05-02",
                  "Autumn Ma"
                ],
                [
                  "SO46399",
                  1,
                  "2020-05-02",
                  "Kathleen Rubio"
                ],
                [
                  "SO46402",
                  1,
                  "2020-05-02",
                  "Kristi Serrano"
                ],
                [
                  "SO46403",
                  1,
                  "2020-05-02",
                  "Nelson Ramos"
                ],
                [
                  "SO46394",
                  1,
                  "2020-05-02",
                  "Patrick Torres"
                ],
                [
                  "SO46396",
                  1,
                  "2020-05-02",
                  "Allison Richardson"
                ],
                [
                  "SO46395",
                  1,
                  "2020-05-02",
                  "Gary Ortega"
                ],
                [
                  "SO46397",
                  1,
                  "2020-05-02",
                  "Luke Hughes"
                ],
                [
                  "SO46407",
                  1,
                  "2020-05-03",
                  "Jonathan Perry"
                ],
                [
                  "SO46408",
                  1,
                  "2020-05-03",
                  "Morgan Johnson"
                ],
                [
                  "SO46406",
                  1,
                  "2020-05-03",
                  "Mason Rogers"
                ],
                [
                  "SO46410",
                  1,
                  "2020-05-04",
                  "Raymond Sanchez"
                ],
                [
                  "SO46414",
                  1,
                  "2020-05-04",
                  "Grace Jackson"
                ],
                [
                  "SO46409",
                  1,
                  "2020-05-04",
                  "Tasha Chander"
                ],
                [
                  "SO46415",
                  1,
                  "2020-05-04",
                  "Raymond Madan"
                ],
                [
                  "SO46411",
                  1,
                  "2020-05-04",
                  "Madison Jones"
                ],
                [
                  "SO46412",
                  1,
                  "2020-05-04",
                  "Seth Bennett"
                ],
                [
                  "SO46413",
                  1,
                  "2020-05-04",
                  "Aaron Allen"
                ],
                [
                  "SO46418",
                  1,
                  "2020-05-05",
                  "Anna Martin"
                ],
                [
                  "SO46420",
                  1,
                  "2020-05-05",
                  "Ernest Liu"
                ],
                [
                  "SO46419",
                  1,
                  "2020-05-05",
                  "Deborah Yuan"
                ],
                [
                  "SO46417",
                  1,
                  "2020-05-05",
                  "Trevor Simmons"
                ],
                [
                  "SO46416",
                  1,
                  "2020-05-05",
                  "Katelyn Sanders"
                ],
                [
                  "SO46421",
                  1,
                  "2020-05-05",
                  "Summer Raman"
                ],
                [
                  "SO46426",
                  1,
                  "2020-05-06",
                  "Alexis Thomas"
                ],
                [
                  "SO46423",
                  1,
                  "2020-05-06",
                  "Thomas Harrison"
                ],
                [
                  "SO46424",
                  1,
                  "2020-05-06",
                  "Christy Zhou"
                ],
                [
                  "SO46422",
                  1,
                  "2020-05-06",
                  "Megan Williams"
                ],
                [
                  "SO46428",
                  1,
                  "2020-05-06",
                  "Bonnie Raje"
                ],
                [
                  "SO46425",
                  1,
                  "2020-05-06",
                  "Katelyn Mitchell"
                ],
                [
                  "SO46427",
                  1,
                  "2020-05-06",
                  "Isabelle Price"
                ],
                [
                  "SO46434",
                  1,
                  "2020-05-07",
                  "Keith Shan"
                ],
                [
                  "SO46433",
                  1,
                  "2020-05-07",
                  "Frederick Sai"
                ],
                [
                  "SO46431",
                  1,
                  "2020-05-07",
                  "Robert Adams"
                ],
                [
                  "SO46436",
                  1,
                  "2020-05-07",
                  "Dustin Goldstein"
                ],
                [
                  "SO46435",
                  1,
                  "2020-05-07",
                  "Troy Suri"
                ],
                [
                  "SO46429",
                  1,
                  "2020-05-07",
                  "Deanna Perez"
                ],
                [
                  "SO46430",
                  1,
                  "2020-05-07",
                  "Sabrina Blanco"
                ],
                [
                  "SO46432",
                  1,
                  "2020-05-07",
                  "Daniel Clark"
                ],
                [
                  "SO46442",
                  1,
                  "2020-05-08",
                  "Angel Cooper"
                ],
                [
                  "SO46437",
                  1,
                  "2020-05-08",
                  "Roger Anand"
                ],
                [
                  "SO46444",
                  1,
                  "2020-05-08",
                  "Shawn Luo"
                ],
                [
                  "SO46438",
                  1,
                  "2020-05-08",
                  "Charles Phillips"
                ],
                [
                  "SO46439",
                  1,
                  "2020-05-08",
                  "Geoffrey Rodriguez"
                ],
                [
                  "SO46440",
                  1,
                  "2020-05-08",
                  "Meredith Alonso"
                ],
                [
                  "SO46441",
                  1,
                  "2020-05-08",
                  "Brandon Robinson"
                ],
                [
                  "SO46443",
                  1,
                  "2020-05-08",
                  "Megan Richardson"
                ],
                [
                  "SO46447",
                  1,
                  "2020-05-09",
                  "Sabrina Rubio"
                ],
                [
                  "SO46448",
                  1,
                  "2020-05-09",
                  "Andrea Collins"
                ],
                [
                  "SO46446",
                  1,
                  "2020-05-09",
                  "Joseph Anderson"
                ],
                [
                  "SO46445",
                  1,
                  "2020-05-09",
                  "Abigail Clark"
                ],
                [
                  "SO46449",
                  1,
                  "2020-05-09",
                  "Shannon Sun"
                ],
                [
                  "SO46456",
                  1,
                  "2020-05-10",
                  "Devin Sanders"
                ],
                [
                  "SO46451",
                  1,
                  "2020-05-10",
                  "Ian Rodriguez"
                ],
                [
                  "SO46450",
                  1,
                  "2020-05-10",
                  "Jasmine Hall"
                ],
                [
                  "SO46454",
                  1,
                  "2020-05-10",
                  "Preston Prasad"
                ],
                [
                  "SO46453",
                  1,
                  "2020-05-10",
                  "Jarrod Sara"
                ],
                [
                  "SO46457",
                  1,
                  "2020-05-10",
                  "Sam Wilson"
                ],
                [
                  "SO46455",
                  1,
                  "2020-05-10",
                  "Paul Suurs"
                ],
                [
                  "SO46452",
                  1,
                  "2020-05-10",
                  "Luke Perry"
                ],
                [
                  "SO46461",
                  1,
                  "2020-05-11",
                  "Hany Morcos"
                ],
                [
                  "SO46460",
                  1,
                  "2020-05-11",
                  "Bailey Rogers"
                ],
                [
                  "SO46458",
                  1,
                  "2020-05-11",
                  "Morgan Thomas"
                ],
                [
                  "SO46459",
                  1,
                  "2020-05-11",
                  "Justin Gonzales"
                ],
                [
                  "SO46462",
                  1,
                  "2020-05-11",
                  "Kayla Lewis"
                ],
                [
                  "SO46463",
                  1,
                  "2020-05-12",
                  "Jasmine Stewart"
                ],
                [
                  "SO46467",
                  1,
                  "2020-05-12",
                  "Holly Mehta"
                ],
                [
                  "SO46472",
                  1,
                  "2020-05-12",
                  "Devin Taylor"
                ],
                [
                  "SO46464",
                  1,
                  "2020-05-12",
                  "Jonathan Anderson"
                ],
                [
                  "SO46465",
                  1,
                  "2020-05-12",
                  "Madeline Campbell"
                ],
                [
                  "SO46466",
                  1,
                  "2020-05-12",
                  "Kaitlyn Alexander"
                ],
                [
                  "SO46471",
                  1,
                  "2020-05-12",
                  "Rodney Serrano"
                ],
                [
                  "SO46473",
                  1,
                  "2020-05-12",
                  "Julio Vazquez"
                ],
                [
                  "SO46470",
                  1,
                  "2020-05-12",
                  "Katherine Howard"
                ],
                [
                  "SO46474",
                  1,
                  "2020-05-12",
                  "Ronald Perez"
                ],
                [
                  "SO46468",
                  1,
                  "2020-05-12",
                  "Abigail Morgan"
                ],
                [
                  "SO46469",
                  1,
                  "2020-05-12",
                  "Omar Lin"
                ],
                [
                  "SO46478",
                  1,
                  "2020-05-13",
                  "Willie Tang"
                ],
                [
                  "SO46475",
                  1,
                  "2020-05-13",
                  "Stacey Cai"
                ],
                [
                  "SO46477",
                  1,
                  "2020-05-13",
                  "Ann Martinez"
                ],
                [
                  "SO46476",
                  1,
                  "2020-05-13",
                  "James Alexander"
                ],
                [
                  "SO46480",
                  1,
                  "2020-05-14",
                  "Isaac Peterson"
                ],
                [
                  "SO46479",
                  1,
                  "2020-05-14",
                  "Johnathan Chapman"
                ],
                [
                  "SO46482",
                  1,
                  "2020-05-14",
                  "Francisco Gonzalez"
                ],
                [
                  "SO46481",
                  1,
                  "2020-05-14",
                  "Ruth Garcia"
                ],
                [
                  "SO46488",
                  1,
                  "2020-05-15",
                  "Rodney Gutierrez"
                ],
                [
                  "SO46486",
                  1,
                  "2020-05-15",
                  "Ronald Sara"
                ],
                [
                  "SO46484",
                  1,
                  "2020-05-15",
                  "Jeremy Young"
                ],
                [
                  "SO46485",
                  1,
                  "2020-05-15",
                  "Chloe Hughes"
                ],
                [
                  "SO46483",
                  1,
                  "2020-05-15",
                  "Stephanie Bailey"
                ],
                [
                  "SO46487",
                  1,
                  "2020-05-15",
                  "Chloe Roberts"
                ],
                [
                  "SO46490",
                  1,
                  "2020-05-16",
                  "Sophia Wright"
                ],
                [
                  "SO46489",
                  1,
                  "2020-05-16",
                  "Hannah Martinez"
                ],
                [
                  "SO46491",
                  1,
                  "2020-05-17",
                  "Brooke Stewart"
                ],
                [
                  "SO46496",
                  1,
                  "2020-05-17",
                  "Theresa Navarro"
                ],
                [
                  "SO46495",
                  1,
                  "2020-05-17",
                  "Cassandra Sara"
                ],
                [
                  "SO46494",
                  1,
                  "2020-05-17",
                  "Meredith Vance"
                ],
                [
                  "SO46492",
                  1,
                  "2020-05-17",
                  "Noah Scott"
                ],
                [
                  "SO46493",
                  1,
                  "2020-05-17",
                  "Juan Watson"
                ],
                [
                  "SO46504",
                  1,
                  "2020-05-18",
                  "Adrian Cooper"
                ],
                [
                  "SO46497",
                  1,
                  "2020-05-18",
                  "Karen Lu"
                ],
                [
                  "SO46499",
                  1,
                  "2020-05-18",
                  "Alexis Jones"
                ],
                [
                  "SO46500",
                  1,
                  "2020-05-18",
                  "Dominique Sanchez"
                ],
                [
                  "SO46505",
                  1,
                  "2020-05-18",
                  "Kristine Sandberg"
                ],
                [
                  "SO46506",
                  1,
                  "2020-05-18",
                  "Gilbert Liang"
                ],
                [
                  "SO46498",
                  1,
                  "2020-05-18",
                  "Isabella Edwards"
                ],
                [
                  "SO46503",
                  1,
                  "2020-05-18",
                  "Alexandra Harris"
                ],
                [
                  "SO46507",
                  1,
                  "2020-05-18",
                  "Molly Perez"
                ],
                [
                  "SO46502",
                  1,
                  "2020-05-18",
                  "Taylor Henderson"
                ],
                [
                  "SO46501",
                  1,
                  "2020-05-18",
                  "Clifford Arun"
                ],
                [
                  "SO46514",
                  1,
                  "2020-05-19",
                  "Cedric Wang"
                ],
                [
                  "SO46515",
                  1,
                  "2020-05-19",
                  "Jasmine Gray"
                ],
                [
                  "SO46519",
                  1,
                  "2020-05-19",
                  "April Jai"
                ],
                [
                  "SO46520",
                  1,
                  "2020-05-19",
                  "Kaitlyn Russell"
                ],
                [
                  "SO46510",
                  1,
                  "2020-05-19",
                  "Isabella Walker"
                ],
                [
                  "SO46511",
                  1,
                  "2020-05-19",
                  "Molly Prasad"
                ],
                [
                  "SO46513",
                  1,
                  "2020-05-19",
                  "Brandon Garcia"
                ],
                [
                  "SO46518",
                  1,
                  "2020-05-19",
                  "Margaret Lu"
                ],
                [
                  "SO46517",
                  1,
                  "2020-05-19",
                  "Deborah Shan"
                ],
                [
                  "SO46509",
                  1,
                  "2020-05-19",
                  "Jocelyn Long"
                ],
                [
                  "SO46512",
                  1,
                  "2020-05-19",
                  "Mindy Jai"
                ],
                [
                  "SO46516",
                  1,
                  "2020-05-19",
                  "Ashley Martin"
                ],
                [
                  "SO46508",
                  1,
                  "2020-05-19",
                  "Reginald Gomez"
                ],
                [
                  "SO46524",
                  1,
                  "2020-05-20",
                  "Sarah Coleman"
                ],
                [
                  "SO46526",
                  1,
                  "2020-05-20",
                  "Jenny Sun"
                ],
                [
                  "SO46522",
                  1,
                  "2020-05-20",
                  "Eduardo Allen"
                ],
                [
                  "SO46521",
                  1,
                  "2020-05-20",
                  "Charles Evans"
                ],
                [
                  "SO46523",
                  1,
                  "2020-05-20",
                  "Antonio Butler"
                ],
                [
                  "SO46525",
                  1,
                  "2020-05-20",
                  "Connor Ross"
                ],
                [
                  "SO46527",
                  1,
                  "2020-05-20",
                  "Gerald Arun"
                ],
                [
                  "SO46530",
                  1,
                  "2020-05-21",
                  "Christian Perry"
                ],
                [
                  "SO46535",
                  1,
                  "2020-05-21",
                  "Tracy Andersen"
                ],
                [
                  "SO46534",
                  1,
                  "2020-05-21",
                  "Victoria Cook"
                ],
                [
                  "SO46532",
                  1,
                  "2020-05-21",
                  "Autumn Zheng"
                ],
                [
                  "SO46529",
                  1,
                  "2020-05-21",
                  "Jonathan Campbell"
                ],
                [
                  "SO46531",
                  1,
                  "2020-05-21",
                  "Sarah Thompson"
                ],
                [
                  "SO46536",
                  1,
                  "2020-05-21",
                  "Alisha Nath"
                ],
                [
                  "SO46528",
                  1,
                  "2020-05-21",
                  "Kari Malhotra"
                ],
                [
                  "SO46533",
                  1,
                  "2020-05-21",
                  "Connor King"
                ],
                [
                  "SO46539",
                  1,
                  "2020-05-22",
                  "Rafael Sharma"
                ],
                [
                  "SO46538",
                  1,
                  "2020-05-22",
                  "Kristen Gao"
                ],
                [
                  "SO46537",
                  1,
                  "2020-05-22",
                  "Desiree Dominguez"
                ],
                [
                  "SO46541",
                  1,
                  "2020-05-22",
                  "Chloe Johnson"
                ],
                [
                  "SO46540",
                  1,
                  "2020-05-22",
                  "Shannon Ruiz"
                ],
                [
                  "SO46554",
                  1,
                  "2020-05-23",
                  "Mayra Raman"
                ],
                [
                  "SO46553",
                  1,
                  "2020-05-23",
                  "Autumn Liu"
                ],
                [
                  "SO46545",
                  1,
                  "2020-05-23",
                  "Juan Murphy"
                ],
                [
                  "SO46556",
                  1,
                  "2020-05-23",
                  "Christine Stone"
                ],
                [
                  "SO46542",
                  1,
                  "2020-05-23",
                  "Bryant Garcia"
                ],
                [
                  "SO46543",
                  1,
                  "2020-05-23",
                  "Crystal Liang"
                ],
                [
                  "SO46555",
                  1,
                  "2020-05-23",
                  "Max Serrano"
                ],
                [
                  "SO46546",
                  1,
                  "2020-05-23",
                  "Jeremy Richardson"
                ],
                [
                  "SO46544",
                  1,
                  "2020-05-23",
                  "Jordyn Bryant"
                ],
                [
                  "SO46547",
                  1,
                  "2020-05-23",
                  "Vanessa Russell"
                ],
                [
                  "SO46549",
                  1,
                  "2020-05-23",
                  "Sean Sanchez"
                ],
                [
                  "SO46548",
                  1,
                  "2020-05-23",
                  "Robert Hernandez"
                ],
                [
                  "SO46552",
                  1,
                  "2020-05-23",
                  "Amanda Ramirez"
                ],
                [
                  "SO46551",
                  1,
                  "2020-05-23",
                  "Arianna Gray"
                ],
                [
                  "SO46550",
                  1,
                  "2020-05-23",
                  "Robert Flores"
                ],
                [
                  "SO46560",
                  1,
                  "2020-05-24",
                  "Kevin Wright"
                ],
                [
                  "SO46562",
                  1,
                  "2020-05-24",
                  "Jamie Ortega"
                ],
                [
                  "SO46558",
                  1,
                  "2020-05-24",
                  "Isaiah Perez"
                ],
                [
                  "SO46557",
                  1,
                  "2020-05-24",
                  "Thomas Jai"
                ],
                [
                  "SO46559",
                  1,
                  "2020-05-24",
                  "Jonathan Smith"
                ],
                [
                  "SO46563",
                  1,
                  "2020-05-24",
                  "Brent Guo"
                ],
                [
                  "SO46561",
                  1,
                  "2020-05-24",
                  "Rafael Yuan"
                ],
                [
                  "SO46565",
                  1,
                  "2020-05-25",
                  "Thomas Zhang"
                ],
                [
                  "SO46566",
                  1,
                  "2020-05-25",
                  "Jamie Zeng"
                ],
                [
                  "SO46568",
                  1,
                  "2020-05-25",
                  "Alexandra Richardson"
                ],
                [
                  "SO46567",
                  1,
                  "2020-05-25",
                  "Ian Lewis"
                ],
                [
                  "SO46564",
                  1,
                  "2020-05-25",
                  "Jimmy Gutierrez"
                ],
                [
                  "SO46569",
                  1,
                  "2020-05-26",
                  "Cody Cook"
                ],
                [
                  "SO46575",
                  1,
                  "2020-05-26",
                  "Monica Vance"
                ],
                [
                  "SO46574",
                  1,
                  "2020-05-26",
                  "Kristy Rubio"
                ],
                [
                  "SO46570",
                  1,
                  "2020-05-26",
                  "Arianna Ward"
                ],
                [
                  "SO46572",
                  1,
                  "2020-05-26",
                  "Trevor Hughes"
                ],
                [
                  "SO46573",
                  1,
                  "2020-05-26",
                  "Tammy Smith"
                ],
                [
                  "SO46571",
                  1,
                  "2020-05-26",
                  "Erick Fernandez"
                ],
                [
                  "SO46583",
                  1,
                  "2020-05-27",
                  "Jerome Suarez"
                ],
                [
                  "SO46576",
                  1,
                  "2020-05-27",
                  "Alisha She"
                ],
                [
                  "SO46584",
                  1,
                  "2020-05-27",
                  "Omar Liu"
                ],
                [
                  "SO46579",
                  1,
                  "2020-05-27",
                  "Bryant Srini"
                ],
                [
                  "SO46580",
                  1,
                  "2020-05-27",
                  "Ruben Subram"
                ],
                [
                  "SO46581",
                  1,
                  "2020-05-27",
                  "Ashley Thomas"
                ],
                [
                  "SO46578",
                  1,
                  "2020-05-27",
                  "Ethan Shan"
                ],
                [
                  "SO46582",
                  1,
                  "2020-05-27",
                  "Samuel Hill"
                ],
                [
                  "SO46577",
                  1,
                  "2020-05-27",
                  "Benjamin Moore"
                ],
                [
                  "SO46587",
                  1,
                  "2020-05-28",
                  "Hailey Cox"
                ],
                [
                  "SO46586",
                  1,
                  "2020-05-28",
                  "Erin Rogers"
                ],
                [
                  "SO46585",
                  1,
                  "2020-05-28",
                  "Joshua Miller"
                ],
                [
                  "SO46589",
                  1,
                  "2020-05-28",
                  "Britta Simon"
                ],
                [
                  "SO46588",
                  1,
                  "2020-05-28",
                  "Cesar Fernandez"
                ],
                [
                  "SO46595",
                  1,
                  "2020-05-29",
                  "Julian Henderson"
                ],
                [
                  "SO46592",
                  1,
                  "2020-05-29",
                  "Ian Washington"
                ],
                [
                  "SO46590",
                  1,
                  "2020-05-29",
                  "Victoria Garcia"
                ],
                [
                  "SO46594",
                  1,
                  "2020-05-29",
                  "Rachel Powell"
                ],
                [
                  "SO46593",
                  1,
                  "2020-05-29",
                  "Brianna Morris"
                ],
                [
                  "SO46591",
                  1,
                  "2020-05-29",
                  "Samantha Taylor"
                ],
                [
                  "SO46596",
                  1,
                  "2020-05-29",
                  "Patricia Chapman"
                ],
                [
                  "SO46597",
                  1,
                  "2020-05-29",
                  "Ricardo Nath"
                ],
                [
                  "SO46603",
                  1,
                  "2020-05-30",
                  "Clayton Sharma"
                ]
              ]
            },
            "text/plain": "<Spark SQL result set with 1000 rows and 4 fields>"
          },
          "metadata": {}
        }
      ],
      "execution_count": 47,
      "metadata": {
        "jupyter": {
          "source_hidden": false,
          "outputs_hidden": false
        },
        "nteract": {
          "transient": {
            "deleting": false
          }
        },
        "microsoft": {
          "language": "sparksql"
        },
        "collapsed": false
      }
    },
    {
      "cell_type": "code",
      "source": [
        "customers.createOrReplaceTempView(\"customers\")\r\n"
      ],
      "outputs": [
        {
          "output_type": "display_data",
          "data": {
            "application/vnd.livy.statement-meta+json": {
              "spark_pool": "sparkwemrpqz",
              "session_id": "0",
              "statement_id": 58,
              "state": "finished",
              "livy_statement_state": "available",
              "queued_time": "2024-01-05T23:32:25.8170255Z",
              "session_start_time": null,
              "execution_start_time": "2024-01-05T23:32:25.9891496Z",
              "execution_finish_time": "2024-01-05T23:32:38.8460545Z",
              "spark_jobs": null,
              "parent_msg_id": "36801709-2aca-4f13-b3fd-41459388f411"
            },
            "text/plain": "StatementMeta(sparkwemrpqz, 0, 58, Finished, Available)"
          },
          "metadata": {}
        }
      ],
      "execution_count": 57,
      "metadata": {
        "jupyter": {
          "source_hidden": false,
          "outputs_hidden": false
        },
        "nteract": {
          "transient": {
            "deleting": false
          }
        }
      }
    },
    {
      "cell_type": "code",
      "source": [
        "%%sql\r\n",
        "SELECT *from customers"
      ],
      "outputs": [
        {
          "output_type": "display_data",
          "data": {
            "application/vnd.livy.statement-meta+json": {
              "spark_pool": "sparkwemrpqz",
              "session_id": "0",
              "statement_id": 59,
              "state": "finished",
              "livy_statement_state": "available",
              "queued_time": "2024-01-05T23:32:26.9722269Z",
              "session_start_time": null,
              "execution_start_time": "2024-01-05T23:32:39.0058168Z",
              "execution_finish_time": "2024-01-05T23:32:40.1451644Z",
              "spark_jobs": null,
              "parent_msg_id": "942e8dcb-2b2b-4060-a883-253cc4aee2e4"
            },
            "text/plain": "StatementMeta(sparkwemrpqz, 0, 59, Finished, Available)"
          },
          "metadata": {}
        },
        {
          "output_type": "execute_result",
          "execution_count": 58,
          "data": {
            "application/vnd.synapse.sparksql-result+json": {
              "schema": {
                "type": "struct",
                "fields": [
                  {
                    "name": "CustomerName",
                    "type": "string",
                    "nullable": true,
                    "metadata": {}
                  },
                  {
                    "name": "SalesOrderNumber",
                    "type": "string",
                    "nullable": true,
                    "metadata": {}
                  }
                ]
              },
              "data": [
                [
                  "Clarence Raji",
                  "SO45347"
                ],
                [
                  "Bonnie Yuan",
                  "SO45345"
                ],
                [
                  "Leah Guo",
                  "SO45348"
                ],
                [
                  "Candice Sun",
                  "SO45349"
                ],
                [
                  "Ruben Garcia",
                  "SO45350"
                ],
                [
                  "Dylan Harris",
                  "SO45346"
                ],
                [
                  "Jack Zimmerman",
                  "SO45353"
                ],
                [
                  "Maurice Sharma",
                  "SO45355"
                ],
                [
                  "Armando Dominguez",
                  "SO45354"
                ],
                [
                  "Douglas Suri",
                  "SO45356"
                ],
                [
                  "Daisy Munoz",
                  "SO45352"
                ],
                [
                  "Seth Jackson",
                  "SO45351"
                ],
                [
                  "Marshall Chavez",
                  "SO45359"
                ],
                [
                  "Patricia Saunders",
                  "SO45363"
                ],
                [
                  "Kristopher Fernandez",
                  "SO45362"
                ],
                [
                  "Caitlin Richardson",
                  "SO45361"
                ],
                [
                  "Alexandra Thomas",
                  "SO45358"
                ],
                [
                  "Jonathan Gonzales",
                  "SO45360"
                ],
                [
                  "Alfredo Dominguez",
                  "SO45357"
                ],
                [
                  "Willie Liu",
                  "SO45367"
                ],
                [
                  "Kathleen Navarro",
                  "SO45369"
                ],
                [
                  "Shawn Shen",
                  "SO45370"
                ],
                [
                  "Frank Gomez",
                  "SO45366"
                ],
                [
                  "Jacob Wilson",
                  "SO45365"
                ],
                [
                  "Trinity Cook",
                  "SO45368"
                ],
                [
                  "Claudia Li",
                  "SO45364"
                ],
                [
                  "Jaime Alonso",
                  "SO45371"
                ],
                [
                  "Edgar Mehta",
                  "SO45376"
                ],
                [
                  "Allen Fernandez",
                  "SO45375"
                ],
                [
                  "Jordan Henderson",
                  "SO45374"
                ],
                [
                  "Jarred Gill",
                  "SO45372"
                ],
                [
                  "Richard Garcia",
                  "SO45373"
                ],
                [
                  "Savannah Travers",
                  "SO45379"
                ],
                [
                  "Katherine James",
                  "SO45378"
                ],
                [
                  "Chase Morris",
                  "SO45384"
                ],
                [
                  "Troy Subram",
                  "SO45386"
                ],
                [
                  "Jordan Long",
                  "SO45381"
                ],
                [
                  "Clarence Jai",
                  "SO45380"
                ],
                [
                  "Julia Wright",
                  "SO45382"
                ],
                [
                  "Dominique Lopez",
                  "SO45377"
                ],
                [
                  "Kevin Edwards",
                  "SO45383"
                ],
                [
                  "Maria Rogers",
                  "SO45385"
                ],
                [
                  "Trevor Bryant",
                  "SO45389"
                ],
                [
                  "Tiffany Li",
                  "SO45387"
                ],
                [
                  "Randall Gomez",
                  "SO45392"
                ],
                [
                  "Raymond Raman",
                  "SO45391"
                ],
                [
                  "Randall Martin",
                  "SO45390"
                ],
                [
                  "Isabel Bryant",
                  "SO45388"
                ],
                [
                  "Lydia Gonzalez",
                  "SO45395"
                ],
                [
                  "Suzanne Liu",
                  "SO45396"
                ],
                [
                  "Jaclyn Andersen",
                  "SO45394"
                ],
                [
                  "Michele Lal",
                  "SO45393"
                ],
                [
                  "Lisa Zhu",
                  "SO45398"
                ],
                [
                  "Harold McDonald",
                  "SO45397"
                ],
                [
                  "Kaitlyn Powell",
                  "SO45399"
                ],
                [
                  "Marvin Sanz",
                  "SO45409"
                ],
                [
                  "Lucas Lewis",
                  "SO45405"
                ],
                [
                  "Caroline Washington",
                  "SO45403"
                ],
                [
                  "Julio Suarez",
                  "SO45401"
                ],
                [
                  "Brett Garcia",
                  "SO45400"
                ],
                [
                  "Megan Stewart",
                  "SO45402"
                ],
                [
                  "Natalie Adams",
                  "SO45404"
                ],
                [
                  "Thomas Adams",
                  "SO45407"
                ],
                [
                  "Victoria Diaz",
                  "SO45408"
                ],
                [
                  "Hunter Kumar",
                  "SO45406"
                ],
                [
                  "Cole Richardson",
                  "SO45417"
                ],
                [
                  "Morgan Hall",
                  "SO45415"
                ],
                [
                  "Kayla Rodriguez",
                  "SO45411"
                ],
                [
                  "Jessica Perry",
                  "SO45416"
                ],
                [
                  "Kristi Perez",
                  "SO45413"
                ],
                [
                  "Donald Srini",
                  "SO45410"
                ],
                [
                  "Chloe Sanders",
                  "SO45412"
                ],
                [
                  "Orlando Serrano",
                  "SO45420"
                ],
                [
                  "Alejandro Liu",
                  "SO45419"
                ],
                [
                  "Mackenzie Hill",
                  "SO45421"
                ],
                [
                  "Kristopher Gonzalez",
                  "SO45418"
                ],
                [
                  "Kelli Kumar",
                  "SO45414"
                ],
                [
                  "Beth Gill",
                  "SO45423"
                ],
                [
                  "Alexa Rivera",
                  "SO45424"
                ],
                [
                  "Jared Moyer",
                  "SO45422"
                ],
                [
                  "James Miller",
                  "SO45431"
                ],
                [
                  "Natalie Roberts",
                  "SO45430"
                ],
                [
                  "Justin Griffin",
                  "SO45429"
                ],
                [
                  "Ivan Suri",
                  "SO45427"
                ],
                [
                  "Kari Smith",
                  "SO45426"
                ],
                [
                  "Jaime Suarez",
                  "SO45425"
                ],
                [
                  "Ian Richardson",
                  "SO45428"
                ],
                [
                  "Nicholas Thompson",
                  "SO45434"
                ],
                [
                  "Bradley Nara",
                  "SO45433"
                ],
                [
                  "Pamela Subram",
                  "SO45432"
                ],
                [
                  "Jaime Xie",
                  "SO45439"
                ],
                [
                  "Jim Rodman",
                  "SO45435"
                ],
                [
                  "Paige Howard",
                  "SO45438"
                ],
                [
                  "Joshua Taylor",
                  "SO45436"
                ],
                [
                  "Lucas Blue",
                  "SO45437"
                ],
                [
                  "Justin Bryant",
                  "SO45442"
                ],
                [
                  "Julia Thompson",
                  "SO45443"
                ],
                [
                  "Claudia Ye",
                  "SO45444"
                ],
                [
                  "Stacy Dominguez",
                  "SO45445"
                ],
                [
                  "Daisy Romero",
                  "SO45440"
                ],
                [
                  "Jasmine Torres",
                  "SO45441"
                ],
                [
                  "Gloria Ortega",
                  "SO45447"
                ],
                [
                  "Terrance Martinez",
                  "SO45448"
                ],
                [
                  "Jenna Parker",
                  "SO45446"
                ],
                [
                  "Hailey Turner",
                  "SO45451"
                ],
                [
                  "Carson Jenkins",
                  "SO45450"
                ],
                [
                  "Cedric Cai",
                  "SO45452"
                ],
                [
                  "Krista Martin",
                  "SO45449"
                ],
                [
                  "Donna Xie",
                  "SO45453"
                ],
                [
                  "Megan Flores",
                  "SO45454"
                ],
                [
                  "Elijah Powell",
                  "SO45456"
                ],
                [
                  "Julio Navarro",
                  "SO45460"
                ],
                [
                  "Brad Shan",
                  "SO45459"
                ],
                [
                  "Alvin Jai",
                  "SO45458"
                ],
                [
                  "Ebony Garcia",
                  "SO45455"
                ],
                [
                  "Christian Butler",
                  "SO45457"
                ],
                [
                  "Alexis Moore",
                  "SO45461"
                ],
                [
                  "Hannah Foster",
                  "SO45462"
                ],
                [
                  "Jonathan Hill",
                  "SO45463"
                ],
                [
                  "Alvin Sharma",
                  "SO45464"
                ],
                [
                  "Carlos Morgan",
                  "SO45465"
                ],
                [
                  "Meagan Prasad",
                  "SO45466"
                ],
                [
                  "Wyatt Williams",
                  "SO45476"
                ],
                [
                  "Alfredo Suarez",
                  "SO45475"
                ],
                [
                  "Carl Raji",
                  "SO45474"
                ],
                [
                  "Ethan Thompson",
                  "SO45469"
                ],
                [
                  "Tara Xu",
                  "SO45473"
                ],
                [
                  "Meredith Martinez",
                  "SO45472"
                ],
                [
                  "Kyle Bryant",
                  "SO45468"
                ],
                [
                  "Dustin Deng",
                  "SO45467"
                ],
                [
                  "Erin Cook",
                  "SO45471"
                ],
                [
                  "Cameron Henderson",
                  "SO45470"
                ],
                [
                  "Isaiah Edwards",
                  "SO45478"
                ],
                [
                  "Brittney Hu",
                  "SO45477"
                ],
                [
                  "Sheena Deng",
                  "SO45479"
                ],
                [
                  "Robin Moreno",
                  "SO45481"
                ],
                [
                  "Lawrence Gutierrez",
                  "SO45480"
                ],
                [
                  "Martin Perez",
                  "SO45488"
                ],
                [
                  "Shawna Andersen",
                  "SO45487"
                ],
                [
                  "Stanley Madan",
                  "SO45489"
                ],
                [
                  "Juan James",
                  "SO45484"
                ],
                [
                  "Eric Foster",
                  "SO45490"
                ],
                [
                  "Adriana Chandra",
                  "SO45483"
                ],
                [
                  "Dominic Srini",
                  "SO45486"
                ],
                [
                  "Jacqueline Powell",
                  "SO45485"
                ],
                [
                  "Brandy Sanchez",
                  "SO45482"
                ],
                [
                  "Seth Brown",
                  "SO45493"
                ],
                [
                  "Krystal Gao",
                  "SO45495"
                ],
                [
                  "Kari Martinez",
                  "SO45494"
                ],
                [
                  "Jared Kelly",
                  "SO45492"
                ],
                [
                  "Justin Brown",
                  "SO45491"
                ],
                [
                  "Timothy Young",
                  "SO45502"
                ],
                [
                  "Ian Wilson",
                  "SO45497"
                ],
                [
                  "Kayla Flores",
                  "SO45498"
                ],
                [
                  "Rachel Cox",
                  "SO45496"
                ],
                [
                  "Bailey Hernandez",
                  "SO45499"
                ],
                [
                  "Heidi Chandra",
                  "SO45501"
                ],
                [
                  "Carla Rana",
                  "SO45505"
                ],
                [
                  "Franklin Sun",
                  "SO45506"
                ],
                [
                  "Stefanie Rana",
                  "SO45507"
                ],
                [
                  "Isabella Bryant",
                  "SO45503"
                ],
                [
                  "Jerry Ferrier",
                  "SO45504"
                ],
                [
                  "Lawrence Blanco",
                  "SO45500"
                ],
                [
                  "Roberto Sanz",
                  "SO45508"
                ],
                [
                  "Shaun Sharma",
                  "SO45509"
                ],
                [
                  "Lauren Washington",
                  "SO45510"
                ],
                [
                  "Bridget She",
                  "SO45515"
                ],
                [
                  "Steve Wagner",
                  "SO45511"
                ],
                [
                  "Luis Wang",
                  "SO45512"
                ],
                [
                  "Faith Murphy",
                  "SO45513"
                ],
                [
                  "Thomas Young",
                  "SO45514"
                ],
                [
                  "Lucas Murphy",
                  "SO45582"
                ],
                [
                  "Trinity Richardson",
                  "SO45581"
                ],
                [
                  "Kyle Foster",
                  "SO45583"
                ],
                [
                  "Isaiah Ramirez",
                  "SO45585"
                ],
                [
                  "Cassie Andersen",
                  "SO45580"
                ],
                [
                  "Ronald Madan",
                  "SO45584"
                ],
                [
                  "Sebastian Torres",
                  "SO45591"
                ],
                [
                  "Roger Lu",
                  "SO45590"
                ],
                [
                  "Christy Liu",
                  "SO45589"
                ],
                [
                  "Orlando Ashe",
                  "SO45592"
                ],
                [
                  "Jenny Rai",
                  "SO45588"
                ],
                [
                  "Nina Yuan",
                  "SO45587"
                ],
                [
                  "Joel Prasad",
                  "SO45586"
                ],
                [
                  "Shannon Huang",
                  "SO45595"
                ],
                [
                  "Christian Thomas",
                  "SO45594"
                ],
                [
                  "Orlando Carlson",
                  "SO45601"
                ],
                [
                  "Nelson Ortega",
                  "SO45593"
                ],
                [
                  "Jenna Scott",
                  "SO45597"
                ],
                [
                  "Elijah Yang",
                  "SO45598"
                ],
                [
                  "Holly Martinez",
                  "SO45600"
                ],
                [
                  "Danny Ortega",
                  "SO45599"
                ],
                [
                  "Jessie Gao",
                  "SO45596"
                ],
                [
                  "Louis Nath",
                  "SO45607"
                ],
                [
                  "Devon Deng",
                  "SO45606"
                ],
                [
                  "Max Ferrier",
                  "SO45609"
                ],
                [
                  "Frank Carlson",
                  "SO45608"
                ],
                [
                  "Haley Richardson",
                  "SO45603"
                ],
                [
                  "Victoria Russell",
                  "SO45604"
                ],
                [
                  "Destiny Rogers",
                  "SO45605"
                ],
                [
                  "Tamara Zhu",
                  "SO45602"
                ],
                [
                  "Devin Nelson",
                  "SO45611"
                ],
                [
                  "Julia Coleman",
                  "SO45610"
                ],
                [
                  "Crystal Gao",
                  "SO45612"
                ],
                [
                  "Abby Arthur",
                  "SO45616"
                ],
                [
                  "Christian Hughes",
                  "SO45613"
                ],
                [
                  "Clayton Nara",
                  "SO45621"
                ],
                [
                  "Dawn Lal",
                  "SO45618"
                ],
                [
                  "Roy Moreno",
                  "SO45620"
                ],
                [
                  "Alex Hill",
                  "SO45619"
                ],
                [
                  "Gabriel Kumar",
                  "SO45615"
                ],
                [
                  "Corey Kumar",
                  "SO45617"
                ],
                [
                  "Isaac Brooks",
                  "SO45614"
                ],
                [
                  "Logan Clark",
                  "SO45627"
                ],
                [
                  "Casey Navarro",
                  "SO45628"
                ],
                [
                  "Brenda Perez",
                  "SO45630"
                ],
                [
                  "Julio Ortega",
                  "SO45629"
                ],
                [
                  "Hunter Rodriguez",
                  "SO45625"
                ],
                [
                  "Jenna Wright",
                  "SO45624"
                ],
                [
                  "Victoria Stewart",
                  "SO45626"
                ],
                [
                  "Jessica Powell",
                  "SO45623"
                ],
                [
                  "Tamara Tang",
                  "SO45622"
                ],
                [
                  "Daisuke Yanagishima",
                  "SO45633"
                ],
                [
                  "Bonnie Xie",
                  "SO45632"
                ],
                [
                  "Clarence Anand",
                  "SO45631"
                ],
                [
                  "Edwin Lin",
                  "SO45634"
                ],
                [
                  "Derek Shan",
                  "SO45639"
                ],
                [
                  "Gloria Alonso",
                  "SO45640"
                ],
                [
                  "Lucas Sanchez",
                  "SO45635"
                ],
                [
                  "Spencer Russell",
                  "SO45636"
                ],
                [
                  "Ariana Cook",
                  "SO45637"
                ],
                [
                  "Courtney Nelson",
                  "SO45638"
                ],
                [
                  "Angela Perry",
                  "SO45642"
                ],
                [
                  "Byron Ortega",
                  "SO45641"
                ],
                [
                  "Warren Zhou",
                  "SO45648"
                ],
                [
                  "Adrienne Torres",
                  "SO45645"
                ],
                [
                  "Maria Carter",
                  "SO45646"
                ],
                [
                  "Douglas Kapoor",
                  "SO45643"
                ],
                [
                  "Katherine Wright",
                  "SO45647"
                ],
                [
                  "Casey She",
                  "SO45644"
                ],
                [
                  "Mariah Murphy",
                  "SO45650"
                ],
                [
                  "Jade Bailey",
                  "SO45649"
                ],
                [
                  "Jessie Ramos",
                  "SO45653"
                ],
                [
                  "Tasha Jai",
                  "SO45651"
                ],
                [
                  "Nathaniel Watson",
                  "SO45652"
                ],
                [
                  "Karla Nara",
                  "SO45661"
                ],
                [
                  "Clarence Liu",
                  "SO45660"
                ],
                [
                  "Sean Brooks",
                  "SO45656"
                ],
                [
                  "Jose Patterson",
                  "SO45655"
                ],
                [
                  "Taylor Howard",
                  "SO45657"
                ],
                [
                  "Robert Lee",
                  "SO45658"
                ],
                [
                  "Stacy Alvarez",
                  "SO45663"
                ],
                [
                  "Gabriella Sanders",
                  "SO45662"
                ],
                [
                  "Riley Long",
                  "SO45654"
                ],
                [
                  "Denise Subram",
                  "SO45659"
                ],
                [
                  "Arthur Washington",
                  "SO45665"
                ],
                [
                  "Jon Ye",
                  "SO45664"
                ],
                [
                  "Ethan Garcia",
                  "SO45666"
                ],
                [
                  "Arthur Mehta",
                  "SO45667"
                ],
                [
                  "Amy Wu",
                  "SO45673"
                ],
                [
                  "Lacey Hu",
                  "SO45674"
                ],
                [
                  "Shannon Hu",
                  "SO45672"
                ],
                [
                  "Toni Patel",
                  "SO45675"
                ],
                [
                  "Dustin Chander",
                  "SO45677"
                ],
                [
                  "Jon Luo",
                  "SO45668"
                ],
                [
                  "Mariah Wood",
                  "SO45671"
                ],
                [
                  "Marc Torres",
                  "SO45676"
                ],
                [
                  "Joan Washington",
                  "SO45669"
                ],
                [
                  "Aidan Ross",
                  "SO45670"
                ],
                [
                  "Alberto Navarro",
                  "SO45679"
                ],
                [
                  "Megan Barnes",
                  "SO45678"
                ],
                [
                  "Haley Torres",
                  "SO45680"
                ],
                [
                  "Gloria Munoz",
                  "SO45681"
                ],
                [
                  "Ronnie Lu",
                  "SO45682"
                ],
                [
                  "Erika Romero",
                  "SO45690"
                ],
                [
                  "Ricky Gutierrez",
                  "SO45689"
                ],
                [
                  "Adrienne Blanco",
                  "SO45685"
                ],
                [
                  "Donald Chandra",
                  "SO45684"
                ],
                [
                  "Angela Henderson",
                  "SO45691"
                ],
                [
                  "Ian Martin",
                  "SO45683"
                ],
                [
                  "Emma Cooper",
                  "SO45688"
                ],
                [
                  "Elizabeth Clark",
                  "SO45687"
                ],
                [
                  "Richard Rivera",
                  "SO45686"
                ],
                [
                  "Aidan Wood",
                  "SO45698"
                ],
                [
                  "Mary Green",
                  "SO45699"
                ],
                [
                  "Teresa Gutierrez",
                  "SO45693"
                ],
                [
                  "Morgan Bennett",
                  "SO45694"
                ],
                [
                  "Victor Carlson",
                  "SO45692"
                ],
                [
                  "Rafael Xie",
                  "SO45696"
                ],
                [
                  "Seth Phillips",
                  "SO45695"
                ],
                [
                  "Mya Gonzales",
                  "SO45697"
                ],
                [
                  "Nicole Taylor",
                  "SO45701"
                ],
                [
                  "Jonathan Phillips",
                  "SO45700"
                ],
                [
                  "Ann Malhotra",
                  "SO45702"
                ],
                [
                  "Darryl Liu",
                  "SO45703"
                ],
                [
                  "Tina Smith",
                  "SO45709"
                ],
                [
                  "Geoffrey Fernandez",
                  "SO45710"
                ],
                [
                  "Ruben Patel",
                  "SO45708"
                ],
                [
                  "Mariah Barnes",
                  "SO45711"
                ],
                [
                  "Jackson Phillips",
                  "SO45705"
                ],
                [
                  "David Diaz",
                  "SO45706"
                ],
                [
                  "Meagan Madan",
                  "SO45712"
                ],
                [
                  "Kaylee Cook",
                  "SO45707"
                ],
                [
                  "Stacy Torres",
                  "SO45704"
                ],
                [
                  "Colleen Cai",
                  "SO45713"
                ],
                [
                  "Cameron Lewis",
                  "SO45714"
                ],
                [
                  "Rosa Liang",
                  "SO45715"
                ],
                [
                  "Tony Kumar",
                  "SO45716"
                ],
                [
                  "Tina Gonzalez",
                  "SO45720"
                ],
                [
                  "Elijah Diaz",
                  "SO45719"
                ],
                [
                  "Candace Raman",
                  "SO45721"
                ],
                [
                  "Lauren Martinez",
                  "SO45718"
                ],
                [
                  "Elijah Ross",
                  "SO45717"
                ],
                [
                  "Rafael Tang",
                  "SO45722"
                ],
                [
                  "Nichole She",
                  "SO45727"
                ],
                [
                  "Katelyn Sanchez",
                  "SO45723"
                ],
                [
                  "Maurice Lal",
                  "SO45724"
                ],
                [
                  "Lance Gill",
                  "SO45726"
                ],
                [
                  "Rosa Zhang",
                  "SO45725"
                ],
                [
                  "Madison Hughes",
                  "SO45728"
                ],
                [
                  "Hunter Griffin",
                  "SO45731"
                ],
                [
                  "Haley Powell",
                  "SO45734"
                ],
                [
                  "Ryan Smith",
                  "SO45733"
                ],
                [
                  "Dakota Ross",
                  "SO45732"
                ],
                [
                  "Kate Raji",
                  "SO45739"
                ],
                [
                  "Byron Carlson",
                  "SO45738"
                ],
                [
                  "Phil Spencer",
                  "SO45736"
                ],
                [
                  "Jay Lopez",
                  "SO45737"
                ],
                [
                  "Cristina Nara",
                  "SO45735"
                ],
                [
                  "Robin Sanz",
                  "SO45729"
                ],
                [
                  "Phillip Sullivan",
                  "SO45730"
                ],
                [
                  "Robin Carlson",
                  "SO45740"
                ],
                [
                  "Kristen Hu",
                  "SO45741"
                ],
                [
                  "Timothy Scott",
                  "SO45743"
                ],
                [
                  "Andy Vazquez",
                  "SO45742"
                ],
                [
                  "Ann Gonzalez",
                  "SO45744"
                ],
                [
                  "Justin Washington",
                  "SO45747"
                ],
                [
                  "Charles Gonzalez",
                  "SO45751"
                ],
                [
                  "Steve Gao",
                  "SO45749"
                ],
                [
                  "Martin Prasad",
                  "SO45745"
                ],
                [
                  "Hector Vazquez",
                  "SO45752"
                ],
                [
                  "Abby Sanchez",
                  "SO45753"
                ],
                [
                  "Terry Jai",
                  "SO45748"
                ],
                [
                  "Zachary Flores",
                  "SO45746"
                ],
                [
                  "Nicholas Lee",
                  "SO45750"
                ],
                [
                  "Logan Chow",
                  "SO45755"
                ],
                [
                  "Austin Bryant",
                  "SO45754"
                ],
                [
                  "Zachary Moore",
                  "SO45756"
                ],
                [
                  "Isaiah Wright",
                  "SO45761"
                ],
                [
                  "Taylor Lewis",
                  "SO45759"
                ],
                [
                  "Andy Alvarez",
                  "SO45760"
                ],
                [
                  "Barry Martinez",
                  "SO45762"
                ],
                [
                  "Trisha Lin",
                  "SO45757"
                ],
                [
                  "Shannon Navarro",
                  "SO45758"
                ],
                [
                  "Tabitha Moreno",
                  "SO45763"
                ],
                [
                  "Douglas Rodriguez",
                  "SO45764"
                ],
                [
                  "Susan She",
                  "SO45770"
                ],
                [
                  "Jaime Moreno",
                  "SO45769"
                ],
                [
                  "Orlando Vazquez",
                  "SO45767"
                ],
                [
                  "Zachary Anderson",
                  "SO45768"
                ],
                [
                  "Noah Coleman",
                  "SO45766"
                ],
                [
                  "Ricky Vazquez",
                  "SO45765"
                ],
                [
                  "Stephanie Collins",
                  "SO45774"
                ],
                [
                  "Danielle Reed",
                  "SO45771"
                ],
                [
                  "Ni�ia Anand",
                  "SO45773"
                ],
                [
                  "Olivia Ramirez",
                  "SO45772"
                ],
                [
                  "Megan Harris",
                  "SO45776"
                ],
                [
                  "Sarah Garcia",
                  "SO45777"
                ],
                [
                  "Jos� Saraiva",
                  "SO45775"
                ],
                [
                  "Samuel Walker",
                  "SO45778"
                ],
                [
                  "Riley Simmons",
                  "SO45817"
                ],
                [
                  "Ariana Morgan",
                  "SO45818"
                ],
                [
                  "Taylor Garcia",
                  "SO45816"
                ],
                [
                  "Shawn Tang",
                  "SO45820"
                ],
                [
                  "George Garcia",
                  "SO45819"
                ],
                [
                  "Mindy Xu",
                  "SO45822"
                ],
                [
                  "Veronica Kapoor",
                  "SO45823"
                ],
                [
                  "Gloria Torres",
                  "SO45821"
                ],
                [
                  "Darren Malhotra",
                  "SO45829"
                ],
                [
                  "Jamie Guo",
                  "SO45830"
                ],
                [
                  "Rodney Blanco",
                  "SO45831"
                ],
                [
                  "Jon Pal",
                  "SO45827"
                ],
                [
                  "Dennis Ware",
                  "SO45825"
                ],
                [
                  "Jonathan Powell",
                  "SO45826"
                ],
                [
                  "Joe Rana",
                  "SO45832"
                ],
                [
                  "Mackenzie Campbell",
                  "SO45824"
                ],
                [
                  "Austin Foster",
                  "SO45828"
                ],
                [
                  "Nelson Harrison",
                  "SO45836"
                ],
                [
                  "Victoria Morris",
                  "SO45835"
                ],
                [
                  "Philip Carlson",
                  "SO45839"
                ],
                [
                  "Hannah Patterson",
                  "SO45833"
                ],
                [
                  "Joe Torres",
                  "SO45834"
                ],
                [
                  "Gina Dominguez",
                  "SO45838"
                ],
                [
                  "Clarence Ye",
                  "SO45837"
                ],
                [
                  "Andrew Rodriguez",
                  "SO45844"
                ],
                [
                  "Sierra Roberts",
                  "SO45843"
                ],
                [
                  "Edward Lewis",
                  "SO45842"
                ],
                [
                  "Latasha Rubio",
                  "SO45840"
                ],
                [
                  "Jaclyn Chander",
                  "SO45841"
                ],
                [
                  "Adam Gonzalez",
                  "SO45848"
                ],
                [
                  "Raul Luo",
                  "SO45849"
                ],
                [
                  "Benjamin Shan",
                  "SO45845"
                ],
                [
                  "Joseph Jackson",
                  "SO45846"
                ],
                [
                  "Gabriel Chow",
                  "SO45847"
                ],
                [
                  "Kristina Lopez",
                  "SO45856"
                ],
                [
                  "Chad Shen",
                  "SO45852"
                ],
                [
                  "Isabelle Barnes",
                  "SO45853"
                ],
                [
                  "Dominique Subram",
                  "SO45854"
                ],
                [
                  "Grant Pal",
                  "SO45855"
                ],
                [
                  "Greg Taylor",
                  "SO45851"
                ],
                [
                  "Seth Mitchell",
                  "SO45850"
                ],
                [
                  "Warren Andersen",
                  "SO45857"
                ],
                [
                  "Dorothy Robinson",
                  "SO45858"
                ],
                [
                  "Lindsey Deng",
                  "SO45859"
                ],
                [
                  "Aaron Wright",
                  "SO45861"
                ],
                [
                  "Anthony Rodriguez",
                  "SO45860"
                ],
                [
                  "Kelli Wu",
                  "SO45866"
                ],
                [
                  "Riley Reed",
                  "SO45865"
                ],
                [
                  "Katrina Chande",
                  "SO45864"
                ],
                [
                  "Ryan Zhang",
                  "SO45863"
                ],
                [
                  "Ernest Xu",
                  "SO45862"
                ],
                [
                  "Dana Ruiz",
                  "SO45868"
                ],
                [
                  "Jessica Martin",
                  "SO45869"
                ],
                [
                  "Cameron Moore",
                  "SO45867"
                ],
                [
                  "Dana Ramos",
                  "SO45871"
                ],
                [
                  "Mark Bebbington",
                  "SO45870"
                ],
                [
                  "Brittney Zhang",
                  "SO45876"
                ],
                [
                  "Ashley Alexander",
                  "SO45874"
                ],
                [
                  "Christopher Thomas",
                  "SO45875"
                ],
                [
                  "Ashlee Jai",
                  "SO45873"
                ],
                [
                  "Jaclyn Zheng",
                  "SO45877"
                ],
                [
                  "Cindy Patel",
                  "SO45872"
                ],
                [
                  "Johnny Chavez",
                  "SO45884"
                ],
                [
                  "Allison Gonzalez",
                  "SO45882"
                ],
                [
                  "Natalie Cook",
                  "SO45880"
                ],
                [
                  "Adrienne Gomez",
                  "SO45889"
                ],
                [
                  "Jessie Wang",
                  "SO45883"
                ],
                [
                  "Larry Vazquez",
                  "SO45885"
                ],
                [
                  "Teresa Vazquez",
                  "SO45878"
                ],
                [
                  "Jessica Ross",
                  "SO45887"
                ],
                [
                  "Valerie Wang",
                  "SO45888"
                ],
                [
                  "Dominic Raman",
                  "SO45879"
                ],
                [
                  "Isabelle Bryant",
                  "SO45881"
                ],
                [
                  "Devin Griffin",
                  "SO45886"
                ],
                [
                  "Connor Bryant",
                  "SO45893"
                ],
                [
                  "Valerie She",
                  "SO45892"
                ],
                [
                  "Frank Navarro",
                  "SO45890"
                ],
                [
                  "Mitchell Kumar",
                  "SO45891"
                ],
                [
                  "Benjamin Taylor",
                  "SO45895"
                ],
                [
                  "Bonnie Nath",
                  "SO45896"
                ],
                [
                  "Keith Lal",
                  "SO45894"
                ],
                [
                  "Cesar Mehta",
                  "SO45904"
                ],
                [
                  "Trisha Liu",
                  "SO45907"
                ],
                [
                  "Ernest Zhu",
                  "SO45906"
                ],
                [
                  "Rafael She",
                  "SO45905"
                ],
                [
                  "Faith Simmons",
                  "SO45902"
                ],
                [
                  "Levi Subram",
                  "SO45903"
                ],
                [
                  "Cameron White",
                  "SO45898"
                ],
                [
                  "Janet Dominguez",
                  "SO45901"
                ],
                [
                  "Morgan Miller",
                  "SO45899"
                ],
                [
                  "Haley Alexander",
                  "SO45900"
                ],
                [
                  "Mathew Rubio",
                  "SO45897"
                ],
                [
                  "Kaylee Hill",
                  "SO45908"
                ],
                [
                  "Jenny Zheng",
                  "SO45909"
                ],
                [
                  "Sharon Salavaria",
                  "SO45916"
                ],
                [
                  "Virginia Gonzalez",
                  "SO45914"
                ],
                [
                  "Jaclyn Nara",
                  "SO45915"
                ],
                [
                  "Devin Coleman",
                  "SO45911"
                ],
                [
                  "Miranda Long",
                  "SO45910"
                ],
                [
                  "Vanessa Washington",
                  "SO45912"
                ],
                [
                  "Olivia Torres",
                  "SO45913"
                ],
                [
                  "Morgan Rodriguez",
                  "SO45920"
                ],
                [
                  "Jose Thompson",
                  "SO45922"
                ],
                [
                  "Brendan Chande",
                  "SO45921"
                ],
                [
                  "Jessica Alexander",
                  "SO45919"
                ],
                [
                  "Abigail Brooks",
                  "SO45923"
                ],
                [
                  "George Gonzalez",
                  "SO45925"
                ],
                [
                  "Tamara Chander",
                  "SO45918"
                ],
                [
                  "Deanna Ramos",
                  "SO45917"
                ],
                [
                  "Stacy Martin",
                  "SO45924"
                ],
                [
                  "Mary Patterson",
                  "SO45928"
                ],
                [
                  "Aimee She",
                  "SO45929"
                ],
                [
                  "Isabel Jenkins",
                  "SO45927"
                ],
                [
                  "Benjamin Coleman",
                  "SO45926"
                ],
                [
                  "Tasha Kumar",
                  "SO45931"
                ],
                [
                  "Scott Rodgers",
                  "SO45932"
                ],
                [
                  "Jaclyn Huang",
                  "SO45930"
                ],
                [
                  "Franklin Xu",
                  "SO45935"
                ],
                [
                  "Sarah Jackson",
                  "SO45933"
                ],
                [
                  "Angel Baker",
                  "SO45934"
                ],
                [
                  "Fernando King",
                  "SO45936"
                ],
                [
                  "Ariana Sanchez",
                  "SO45938"
                ],
                [
                  "Meagan Rana",
                  "SO45946"
                ],
                [
                  "Dawn Huang",
                  "SO45947"
                ],
                [
                  "Elizabeth Garcia",
                  "SO45939"
                ],
                [
                  "Miguel Baker",
                  "SO45937"
                ],
                [
                  "Kaylee Sanders",
                  "SO45943"
                ],
                [
                  "Sharon Rai",
                  "SO45944"
                ],
                [
                  "Dawn Raji",
                  "SO45940"
                ],
                [
                  "Marshall Yuan",
                  "SO45941"
                ],
                [
                  "Colleen Harrison",
                  "SO45942"
                ],
                [
                  "Orlando Gutierrez",
                  "SO45945"
                ],
                [
                  "George Fernandez",
                  "SO45950"
                ],
                [
                  "Tanya Jimenez",
                  "SO45949"
                ],
                [
                  "Andrea Richardson",
                  "SO45948"
                ],
                [
                  "Rachael Rodriguez",
                  "SO45951"
                ],
                [
                  "Randy Xu",
                  "SO45952"
                ],
                [
                  "Antonio Washington",
                  "SO45954"
                ],
                [
                  "Janet Browning",
                  "SO45956"
                ],
                [
                  "Megan Anderson",
                  "SO45953"
                ],
                [
                  "Ethan Foster",
                  "SO45955"
                ],
                [
                  "Colin Shan",
                  "SO45965"
                ],
                [
                  "Ioannis Xylaras",
                  "SO45964"
                ],
                [
                  "Louis Zhang",
                  "SO45962"
                ],
                [
                  "Anna Watson",
                  "SO45963"
                ],
                [
                  "Juan Gray",
                  "SO45957"
                ],
                [
                  "Daniel Garcia",
                  "SO45958"
                ],
                [
                  "Faith Patterson",
                  "SO45959"
                ],
                [
                  "Brandy Saunders",
                  "SO45966"
                ],
                [
                  "Jessica Brown",
                  "SO45960"
                ],
                [
                  "Hannah Wood",
                  "SO45961"
                ],
                [
                  "Antonio Patterson",
                  "SO45970"
                ],
                [
                  "Fernando Flores",
                  "SO45968"
                ],
                [
                  "Jay Madan",
                  "SO45969"
                ],
                [
                  "Roger Sharma",
                  "SO45967"
                ],
                [
                  "Heidi Sara",
                  "SO45972"
                ],
                [
                  "Shawn Chander",
                  "SO45977"
                ],
                [
                  "Jill Ortega",
                  "SO45976"
                ],
                [
                  "Gavin Diaz",
                  "SO45973"
                ],
                [
                  "Latasha Munoz",
                  "SO45978"
                ],
                [
                  "Carla Raman",
                  "SO45971"
                ],
                [
                  "Robert Davis",
                  "SO45975"
                ],
                [
                  "Zachary Thompson",
                  "SO45974"
                ],
                [
                  "Marvin Moreno",
                  "SO45981"
                ],
                [
                  "Kristine Gill",
                  "SO45982"
                ],
                [
                  "Nichole Tang",
                  "SO45979"
                ],
                [
                  "Clayton Andersen",
                  "SO45980"
                ],
                [
                  "Heather Zheng",
                  "SO45990"
                ],
                [
                  "Clarence Gao",
                  "SO45989"
                ],
                [
                  "Devin Martinez",
                  "SO45988"
                ],
                [
                  "Elizabeth Weisman",
                  "SO45985"
                ],
                [
                  "Caroline Butler",
                  "SO45984"
                ],
                [
                  "Chase Kelly",
                  "SO45986"
                ],
                [
                  "Audrey Ramos",
                  "SO45991"
                ],
                [
                  "Jason Mitchell",
                  "SO45987"
                ],
                [
                  "Isabella Ward",
                  "SO45983"
                ],
                [
                  "Charles Reed",
                  "SO45997"
                ],
                [
                  "Tyler Brown",
                  "SO45996"
                ],
                [
                  "Emma Sanchez",
                  "SO45994"
                ],
                [
                  "Ian Long",
                  "SO45993"
                ],
                [
                  "Pedro Sara",
                  "SO45992"
                ],
                [
                  "Carly Anand",
                  "SO45998"
                ],
                [
                  "Aidan Diaz",
                  "SO45995"
                ],
                [
                  "Olivia Foster",
                  "SO46001"
                ],
                [
                  "Brianna Martin",
                  "SO45999"
                ],
                [
                  "Cesar Chandra",
                  "SO46006"
                ],
                [
                  "Wendy Carlson",
                  "SO46007"
                ],
                [
                  "Roy Sanz",
                  "SO46009"
                ],
                [
                  "Rachael Sai",
                  "SO46008"
                ],
                [
                  "Haley Henderson",
                  "SO46000"
                ],
                [
                  "Christian Ross",
                  "SO46003"
                ],
                [
                  "Jessie Alonso",
                  "SO46002"
                ],
                [
                  "Alyssa Morgan",
                  "SO46004"
                ],
                [
                  "Miguel Lee",
                  "SO46005"
                ],
                [
                  "Seth Williams",
                  "SO46018"
                ],
                [
                  "Brooke Richardson",
                  "SO46013"
                ],
                [
                  "Jermaine Lopez",
                  "SO46010"
                ],
                [
                  "Deborah Goel",
                  "SO46011"
                ],
                [
                  "Kurt Sharma",
                  "SO46016"
                ],
                [
                  "Katelyn Parker",
                  "SO46017"
                ],
                [
                  "Kelsey Becker",
                  "SO46022"
                ],
                [
                  "Seth Turner",
                  "SO46019"
                ],
                [
                  "Raymond Arthur",
                  "SO46020"
                ],
                [
                  "Jeffery Lu",
                  "SO46021"
                ],
                [
                  "Veronica Rana",
                  "SO46012"
                ],
                [
                  "Joshua Rodriguez",
                  "SO46015"
                ],
                [
                  "Kaitlyn Long",
                  "SO46014"
                ],
                [
                  "Tiffany Guo",
                  "SO46119"
                ],
                [
                  "Clayton Rai",
                  "SO46117"
                ],
                [
                  "Carla Sullivan",
                  "SO46118"
                ],
                [
                  "Emma Taylor",
                  "SO46116"
                ],
                [
                  "Gabriel Green",
                  "SO46113"
                ],
                [
                  "Dennis Huang",
                  "SO46112"
                ],
                [
                  "Devin Henderson",
                  "SO46108"
                ],
                [
                  "Cedric Gao",
                  "SO46114"
                ],
                [
                  "Devin Perez",
                  "SO46111"
                ],
                [
                  "Mariah Ross",
                  "SO46115"
                ],
                [
                  "Sebastian Stewart",
                  "SO46109"
                ],
                [
                  "Abigail Howard",
                  "SO46110"
                ],
                [
                  "Adrian Ramirez",
                  "SO46123"
                ],
                [
                  "Garrett Kelly",
                  "SO46121"
                ],
                [
                  "Fernando Johnson",
                  "SO46120"
                ],
                [
                  "Jodi Goel",
                  "SO46124"
                ],
                [
                  "Melissa Sanders",
                  "SO46122"
                ],
                [
                  "Evelyn Mehta",
                  "SO46129"
                ],
                [
                  "Alexandria Sandberg",
                  "SO46125"
                ],
                [
                  "Samantha Lewis",
                  "SO46128"
                ],
                [
                  "Gabrielle Barnes",
                  "SO46126"
                ],
                [
                  "Connor Hernandez",
                  "SO46127"
                ],
                [
                  "Ethan Bryant",
                  "SO46138"
                ],
                [
                  "Bonnie Jai",
                  "SO46139"
                ],
                [
                  "Joseph Garcia",
                  "SO46131"
                ],
                [
                  "Frederick Martinez",
                  "SO46140"
                ],
                [
                  "Abigail Foster",
                  "SO46133"
                ],
                [
                  "Alyssa Cooper",
                  "SO46130"
                ],
                [
                  "Dale Goel",
                  "SO46135"
                ],
                [
                  "Johnathan Perez",
                  "SO46136"
                ],
                [
                  "Jenny Andersen",
                  "SO46134"
                ],
                [
                  "Lori Sanz",
                  "SO46132"
                ],
                [
                  "Dennis Hu",
                  "SO46137"
                ],
                [
                  "Gabrielle Peterson",
                  "SO46142"
                ],
                [
                  "Allison Edwards",
                  "SO46141"
                ],
                [
                  "Eric Griffin",
                  "SO46145"
                ],
                [
                  "Mathew Moreno",
                  "SO46143"
                ],
                [
                  "Sarah Butler",
                  "SO46144"
                ],
                [
                  "Christian Johnson",
                  "SO46151"
                ],
                [
                  "Xavier Simmons",
                  "SO46149"
                ],
                [
                  "Kara Anand",
                  "SO46154"
                ],
                [
                  "Makayla Ward",
                  "SO46148"
                ],
                [
                  "Amy Sun",
                  "SO46146"
                ],
                [
                  "Sarah Anderson",
                  "SO46147"
                ],
                [
                  "Marie Romero",
                  "SO46152"
                ],
                [
                  "Mario Sharma",
                  "SO46153"
                ],
                [
                  "Patricia Patel",
                  "SO46150"
                ],
                [
                  "Larry Gutierrez",
                  "SO46158"
                ],
                [
                  "Chloe Washington",
                  "SO46155"
                ],
                [
                  "Veronica Srini",
                  "SO46159"
                ],
                [
                  "Miguel Sanchez",
                  "SO46156"
                ],
                [
                  "Karen Zeng",
                  "SO46157"
                ],
                [
                  "Bailey Bailey",
                  "SO46169"
                ],
                [
                  "Kaitlyn Lee",
                  "SO46165"
                ],
                [
                  "Aaron Wang",
                  "SO46162"
                ],
                [
                  "Nicolas Chander",
                  "SO46161"
                ],
                [
                  "Kristina Kapoor",
                  "SO46167"
                ],
                [
                  "Nathaniel Cooper",
                  "SO46164"
                ],
                [
                  "Alex Carter",
                  "SO46163"
                ],
                [
                  "Sydney Bryant",
                  "SO46160"
                ],
                [
                  "Deanna Schmidt",
                  "SO46168"
                ],
                [
                  "Marcus Hayes",
                  "SO46166"
                ],
                [
                  "Katie Shen",
                  "SO46173"
                ],
                [
                  "Evan Campbell",
                  "SO46171"
                ],
                [
                  "Cara Hu",
                  "SO46174"
                ],
                [
                  "Ana Washington",
                  "SO46172"
                ],
                [
                  "Audrey Munoz",
                  "SO46175"
                ],
                [
                  "Bonnie Raji",
                  "SO46170"
                ],
                [
                  "Devin Simmons",
                  "SO46177"
                ],
                [
                  "Andre Perez",
                  "SO46176"
                ],
                [
                  "Jon Yuan",
                  "SO46178"
                ],
                [
                  "Jarrod Suri",
                  "SO46181"
                ],
                [
                  "Aidan Perry",
                  "SO46180"
                ],
                [
                  "Kelvin Carson",
                  "SO46182"
                ],
                [
                  "Cheryl Ortega",
                  "SO46179"
                ],
                [
                  "Seth Martin",
                  "SO46186"
                ],
                [
                  "Krista Romero",
                  "SO46191"
                ],
                [
                  "Ebony Jimenez",
                  "SO46184"
                ],
                [
                  "Jill Martinez",
                  "SO46187"
                ],
                [
                  "Jocelyn Coleman",
                  "SO46189"
                ],
                [
                  "Maurice Ashe",
                  "SO46188"
                ],
                [
                  "Gerald Madan",
                  "SO46190"
                ],
                [
                  "Gloria Carlson",
                  "SO46185"
                ],
                [
                  "Bethany Tang",
                  "SO46183"
                ],
                [
                  "Terry Rai",
                  "SO46198"
                ],
                [
                  "Connor Butler",
                  "SO46197"
                ],
                [
                  "Ethan Martinez",
                  "SO46200"
                ],
                [
                  "Javier Serrano",
                  "SO46199"
                ],
                [
                  "Veronica Arun",
                  "SO46193"
                ],
                [
                  "Jessie Zhou",
                  "SO46201"
                ],
                [
                  "April Tang",
                  "SO46202"
                ],
                [
                  "Haley Wood",
                  "SO46195"
                ],
                [
                  "Kathryn Chapman",
                  "SO46204"
                ],
                [
                  "Johnny Shan",
                  "SO46203"
                ],
                [
                  "Kevin Washington",
                  "SO46194"
                ],
                [
                  "Morgan Foster",
                  "SO46196"
                ],
                [
                  "Russell Raje",
                  "SO46192"
                ],
                [
                  "Adam Baker",
                  "SO46209"
                ],
                [
                  "Janelle Fernandez",
                  "SO46210"
                ],
                [
                  "Luke Mitchell",
                  "SO46205"
                ],
                [
                  "Deanna Ashe",
                  "SO46208"
                ],
                [
                  "Edward Hughes",
                  "SO46206"
                ],
                [
                  "Chloe Bennett",
                  "SO46207"
                ],
                [
                  "Gabriel Zhang",
                  "SO46211"
                ],
                [
                  "Gregory Shan",
                  "SO46217"
                ],
                [
                  "Curtis Gao",
                  "SO46215"
                ],
                [
                  "Alfredo Ramos",
                  "SO46216"
                ],
                [
                  "Dalton Edwards",
                  "SO46212"
                ],
                [
                  "Aaron Young",
                  "SO46213"
                ],
                [
                  "Tristan Ross",
                  "SO46214"
                ],
                [
                  "Joanna Vazquez",
                  "SO46227"
                ],
                [
                  "Rosa Wang",
                  "SO46228"
                ],
                [
                  "Derek Tang",
                  "SO46218"
                ],
                [
                  "Arianna Diaz",
                  "SO46224"
                ],
                [
                  "Kyle Hayes",
                  "SO46222"
                ],
                [
                  "Savannah Sanders",
                  "SO46223"
                ],
                [
                  "Kate Anand",
                  "SO46226"
                ],
                [
                  "Wayne Chander",
                  "SO46220"
                ],
                [
                  "Abigail Thompson",
                  "SO46219"
                ],
                [
                  "Xavier Flores",
                  "SO46221"
                ],
                [
                  "Mariah Rivera",
                  "SO46225"
                ],
                [
                  "Sarah Henderson",
                  "SO46233"
                ],
                [
                  "Summer Smith",
                  "SO46237"
                ],
                [
                  "Steven Kelly",
                  "SO46235"
                ],
                [
                  "Bianca Guo",
                  "SO46234"
                ],
                [
                  "Shannon Yang",
                  "SO46236"
                ],
                [
                  "Chloe Nelson",
                  "SO46232"
                ],
                [
                  "Meredith Serrano",
                  "SO46231"
                ],
                [
                  "Dawn Wu",
                  "SO46230"
                ],
                [
                  "Beth Gutierrez",
                  "SO46229"
                ],
                [
                  "Beth Alonso",
                  "SO46244"
                ],
                [
                  "Chelsea Martinez",
                  "SO46239"
                ],
                [
                  "Darren Alvarez",
                  "SO46238"
                ],
                [
                  "Bridget Xu",
                  "SO46245"
                ],
                [
                  "Abigail Coleman",
                  "SO46240"
                ],
                [
                  "Lindsay Raje",
                  "SO46243"
                ],
                [
                  "Alicia Goel",
                  "SO46242"
                ],
                [
                  "Wyatt Turner",
                  "SO46241"
                ],
                [
                  "Carmen Rana",
                  "SO46250"
                ],
                [
                  "Alexia Flores",
                  "SO46248"
                ],
                [
                  "Kathryn Nara",
                  "SO46247"
                ],
                [
                  "Ashley Russell",
                  "SO46249"
                ],
                [
                  "Donna Sharma",
                  "SO46251"
                ],
                [
                  "Logan Turner",
                  "SO46246"
                ],
                [
                  "Caitlin Brooks",
                  "SO46254"
                ],
                [
                  "Tonya Chande",
                  "SO46257"
                ],
                [
                  "Lauren Sanchez",
                  "SO46253"
                ],
                [
                  "Cory Kapoor",
                  "SO46252"
                ],
                [
                  "Barbara Wang",
                  "SO46256"
                ],
                [
                  "Kelli Anand",
                  "SO46255"
                ],
                [
                  "Barbara Deng",
                  "SO46262"
                ],
                [
                  "Logan Diaz",
                  "SO46259"
                ],
                [
                  "James Walker",
                  "SO46260"
                ],
                [
                  "Jaclyn Zhang",
                  "SO46258"
                ],
                [
                  "Kelsey Xie",
                  "SO46263"
                ],
                [
                  "Jessica Walker",
                  "SO46261"
                ],
                [
                  "Cassie Jai",
                  "SO46264"
                ],
                [
                  "Justin Shan",
                  "SO46265"
                ],
                [
                  "J�sus Blanco",
                  "SO46267"
                ],
                [
                  "Laura Wu",
                  "SO46268"
                ],
                [
                  "Rosa He",
                  "SO46269"
                ],
                [
                  "Sabrina Torres",
                  "SO46266"
                ],
                [
                  "Colin Yang",
                  "SO46276"
                ],
                [
                  "Edwin Tang",
                  "SO46275"
                ],
                [
                  "Ethan Williams",
                  "SO46270"
                ],
                [
                  "Amanda Gray",
                  "SO46272"
                ],
                [
                  "Eduardo Alexander",
                  "SO46271"
                ],
                [
                  "Kyle Edwards",
                  "SO46273"
                ],
                [
                  "Elijah Patterson",
                  "SO46274"
                ],
                [
                  "Barry Subram",
                  "SO46281"
                ],
                [
                  "Faith Stewart",
                  "SO46282"
                ],
                [
                  "Nicole Washington",
                  "SO46283"
                ],
                [
                  "Logan Wilson",
                  "SO46280"
                ],
                [
                  "Gabriella Lopez",
                  "SO46279"
                ],
                [
                  "Gilbert Shen",
                  "SO46285"
                ],
                [
                  "Jasmine Russell",
                  "SO46284"
                ],
                [
                  "Andy Ortega",
                  "SO46277"
                ],
                [
                  "Edgar Subram",
                  "SO46278"
                ],
                [
                  "Carrie Hernandez",
                  "SO46286"
                ],
                [
                  "Joe Vazquez",
                  "SO46292"
                ],
                [
                  "Katelyn Ward",
                  "SO46291"
                ],
                [
                  "Katie Rai",
                  "SO46293"
                ],
                [
                  "Lucas Flores",
                  "SO46287"
                ],
                [
                  "Cameron Griffin",
                  "SO46289"
                ],
                [
                  "Jason Jenkins",
                  "SO46288"
                ],
                [
                  "Max Alvarez",
                  "SO46294"
                ],
                [
                  "Elizabeth Martinez",
                  "SO46290"
                ],
                [
                  "Robert Robinson",
                  "SO46298"
                ],
                [
                  "Kristen Guo",
                  "SO46297"
                ],
                [
                  "Sara Reed",
                  "SO46296"
                ],
                [
                  "Jay Carlson",
                  "SO46299"
                ],
                [
                  "Kelli Xie",
                  "SO46300"
                ],
                [
                  "Nicolas Anand",
                  "SO46295"
                ],
                [
                  "Veronica Malhotra",
                  "SO46303"
                ],
                [
                  "Theodore Suarez",
                  "SO46301"
                ],
                [
                  "Kayla Alexander",
                  "SO46302"
                ],
                [
                  "Adriana Lopez",
                  "SO46304"
                ],
                [
                  "Holly Srini",
                  "SO46305"
                ],
                [
                  "Leah Hu",
                  "SO46309"
                ],
                [
                  "Noah Butler",
                  "SO46306"
                ],
                [
                  "Marvin Gutierrez",
                  "SO46310"
                ],
                [
                  "Fernando Bryant",
                  "SO46308"
                ],
                [
                  "Mario Raje",
                  "SO46307"
                ],
                [
                  "Yolanda Xie",
                  "SO46311"
                ],
                [
                  "Kaitlyn Bailey",
                  "SO46312"
                ],
                [
                  "Gabriella Torres",
                  "SO46315"
                ],
                [
                  "Arianna Henderson",
                  "SO46314"
                ],
                [
                  "Jose Edwards",
                  "SO46313"
                ],
                [
                  "Kristi Torres",
                  "SO46317"
                ],
                [
                  "Cara Zeng",
                  "SO46318"
                ],
                [
                  "Alyssa Smith",
                  "SO46316"
                ],
                [
                  "Luke Jenkins",
                  "SO46320"
                ],
                [
                  "James Baker",
                  "SO46321"
                ],
                [
                  "Chloe White",
                  "SO46319"
                ],
                [
                  "Francisco Chandra",
                  "SO46390"
                ],
                [
                  "Jill Moreno",
                  "SO46392"
                ],
                [
                  "Danny Suarez",
                  "SO46391"
                ],
                [
                  "Bruce Gomez",
                  "SO46393"
                ],
                [
                  "Ryan Garcia",
                  "SO46404"
                ],
                [
                  "Marshall Zeng",
                  "SO46400"
                ],
                [
                  "Julio Serrano",
                  "SO46398"
                ],
                [
                  "Mitchell Xie",
                  "SO46401"
                ],
                [
                  "Autumn Ma",
                  "SO46405"
                ],
                [
                  "Kathleen Rubio",
                  "SO46399"
                ],
                [
                  "Kristi Serrano",
                  "SO46402"
                ],
                [
                  "Nelson Ramos",
                  "SO46403"
                ],
                [
                  "Patrick Torres",
                  "SO46394"
                ],
                [
                  "Allison Richardson",
                  "SO46396"
                ],
                [
                  "Gary Ortega",
                  "SO46395"
                ],
                [
                  "Luke Hughes",
                  "SO46397"
                ],
                [
                  "Jonathan Perry",
                  "SO46407"
                ],
                [
                  "Morgan Johnson",
                  "SO46408"
                ],
                [
                  "Mason Rogers",
                  "SO46406"
                ],
                [
                  "Raymond Sanchez",
                  "SO46410"
                ],
                [
                  "Grace Jackson",
                  "SO46414"
                ],
                [
                  "Tasha Chander",
                  "SO46409"
                ],
                [
                  "Raymond Madan",
                  "SO46415"
                ],
                [
                  "Madison Jones",
                  "SO46411"
                ],
                [
                  "Seth Bennett",
                  "SO46412"
                ],
                [
                  "Aaron Allen",
                  "SO46413"
                ],
                [
                  "Anna Martin",
                  "SO46418"
                ],
                [
                  "Ernest Liu",
                  "SO46420"
                ],
                [
                  "Deborah Yuan",
                  "SO46419"
                ],
                [
                  "Trevor Simmons",
                  "SO46417"
                ],
                [
                  "Katelyn Sanders",
                  "SO46416"
                ],
                [
                  "Summer Raman",
                  "SO46421"
                ],
                [
                  "Alexis Thomas",
                  "SO46426"
                ],
                [
                  "Thomas Harrison",
                  "SO46423"
                ],
                [
                  "Christy Zhou",
                  "SO46424"
                ],
                [
                  "Megan Williams",
                  "SO46422"
                ],
                [
                  "Bonnie Raje",
                  "SO46428"
                ],
                [
                  "Katelyn Mitchell",
                  "SO46425"
                ],
                [
                  "Isabelle Price",
                  "SO46427"
                ],
                [
                  "Keith Shan",
                  "SO46434"
                ],
                [
                  "Frederick Sai",
                  "SO46433"
                ],
                [
                  "Robert Adams",
                  "SO46431"
                ],
                [
                  "Dustin Goldstein",
                  "SO46436"
                ],
                [
                  "Troy Suri",
                  "SO46435"
                ],
                [
                  "Deanna Perez",
                  "SO46429"
                ],
                [
                  "Sabrina Blanco",
                  "SO46430"
                ],
                [
                  "Daniel Clark",
                  "SO46432"
                ],
                [
                  "Angel Cooper",
                  "SO46442"
                ],
                [
                  "Roger Anand",
                  "SO46437"
                ],
                [
                  "Shawn Luo",
                  "SO46444"
                ],
                [
                  "Charles Phillips",
                  "SO46438"
                ],
                [
                  "Geoffrey Rodriguez",
                  "SO46439"
                ],
                [
                  "Meredith Alonso",
                  "SO46440"
                ],
                [
                  "Brandon Robinson",
                  "SO46441"
                ],
                [
                  "Megan Richardson",
                  "SO46443"
                ],
                [
                  "Sabrina Rubio",
                  "SO46447"
                ],
                [
                  "Andrea Collins",
                  "SO46448"
                ],
                [
                  "Joseph Anderson",
                  "SO46446"
                ],
                [
                  "Abigail Clark",
                  "SO46445"
                ],
                [
                  "Shannon Sun",
                  "SO46449"
                ],
                [
                  "Devin Sanders",
                  "SO46456"
                ],
                [
                  "Ian Rodriguez",
                  "SO46451"
                ],
                [
                  "Jasmine Hall",
                  "SO46450"
                ],
                [
                  "Preston Prasad",
                  "SO46454"
                ],
                [
                  "Jarrod Sara",
                  "SO46453"
                ],
                [
                  "Sam Wilson",
                  "SO46457"
                ],
                [
                  "Paul Suurs",
                  "SO46455"
                ],
                [
                  "Luke Perry",
                  "SO46452"
                ],
                [
                  "Hany Morcos",
                  "SO46461"
                ],
                [
                  "Bailey Rogers",
                  "SO46460"
                ],
                [
                  "Morgan Thomas",
                  "SO46458"
                ],
                [
                  "Justin Gonzales",
                  "SO46459"
                ],
                [
                  "Kayla Lewis",
                  "SO46462"
                ],
                [
                  "Jasmine Stewart",
                  "SO46463"
                ],
                [
                  "Holly Mehta",
                  "SO46467"
                ],
                [
                  "Devin Taylor",
                  "SO46472"
                ],
                [
                  "Jonathan Anderson",
                  "SO46464"
                ],
                [
                  "Madeline Campbell",
                  "SO46465"
                ],
                [
                  "Kaitlyn Alexander",
                  "SO46466"
                ],
                [
                  "Rodney Serrano",
                  "SO46471"
                ],
                [
                  "Julio Vazquez",
                  "SO46473"
                ],
                [
                  "Katherine Howard",
                  "SO46470"
                ],
                [
                  "Ronald Perez",
                  "SO46474"
                ],
                [
                  "Abigail Morgan",
                  "SO46468"
                ],
                [
                  "Omar Lin",
                  "SO46469"
                ],
                [
                  "Willie Tang",
                  "SO46478"
                ],
                [
                  "Stacey Cai",
                  "SO46475"
                ],
                [
                  "Ann Martinez",
                  "SO46477"
                ],
                [
                  "James Alexander",
                  "SO46476"
                ],
                [
                  "Isaac Peterson",
                  "SO46480"
                ],
                [
                  "Johnathan Chapman",
                  "SO46479"
                ],
                [
                  "Francisco Gonzalez",
                  "SO46482"
                ],
                [
                  "Ruth Garcia",
                  "SO46481"
                ],
                [
                  "Rodney Gutierrez",
                  "SO46488"
                ],
                [
                  "Ronald Sara",
                  "SO46486"
                ],
                [
                  "Jeremy Young",
                  "SO46484"
                ],
                [
                  "Chloe Hughes",
                  "SO46485"
                ],
                [
                  "Stephanie Bailey",
                  "SO46483"
                ],
                [
                  "Chloe Roberts",
                  "SO46487"
                ],
                [
                  "Sophia Wright",
                  "SO46490"
                ],
                [
                  "Hannah Martinez",
                  "SO46489"
                ],
                [
                  "Brooke Stewart",
                  "SO46491"
                ],
                [
                  "Theresa Navarro",
                  "SO46496"
                ],
                [
                  "Cassandra Sara",
                  "SO46495"
                ],
                [
                  "Meredith Vance",
                  "SO46494"
                ],
                [
                  "Noah Scott",
                  "SO46492"
                ],
                [
                  "Juan Watson",
                  "SO46493"
                ],
                [
                  "Adrian Cooper",
                  "SO46504"
                ],
                [
                  "Karen Lu",
                  "SO46497"
                ],
                [
                  "Alexis Jones",
                  "SO46499"
                ],
                [
                  "Dominique Sanchez",
                  "SO46500"
                ],
                [
                  "Kristine Sandberg",
                  "SO46505"
                ],
                [
                  "Gilbert Liang",
                  "SO46506"
                ],
                [
                  "Isabella Edwards",
                  "SO46498"
                ],
                [
                  "Alexandra Harris",
                  "SO46503"
                ],
                [
                  "Molly Perez",
                  "SO46507"
                ],
                [
                  "Taylor Henderson",
                  "SO46502"
                ],
                [
                  "Clifford Arun",
                  "SO46501"
                ],
                [
                  "Cedric Wang",
                  "SO46514"
                ],
                [
                  "Jasmine Gray",
                  "SO46515"
                ],
                [
                  "April Jai",
                  "SO46519"
                ],
                [
                  "Kaitlyn Russell",
                  "SO46520"
                ],
                [
                  "Isabella Walker",
                  "SO46510"
                ],
                [
                  "Molly Prasad",
                  "SO46511"
                ],
                [
                  "Brandon Garcia",
                  "SO46513"
                ],
                [
                  "Margaret Lu",
                  "SO46518"
                ],
                [
                  "Deborah Shan",
                  "SO46517"
                ],
                [
                  "Jocelyn Long",
                  "SO46509"
                ],
                [
                  "Mindy Jai",
                  "SO46512"
                ],
                [
                  "Ashley Martin",
                  "SO46516"
                ],
                [
                  "Reginald Gomez",
                  "SO46508"
                ],
                [
                  "Sarah Coleman",
                  "SO46524"
                ],
                [
                  "Jenny Sun",
                  "SO46526"
                ],
                [
                  "Eduardo Allen",
                  "SO46522"
                ],
                [
                  "Charles Evans",
                  "SO46521"
                ],
                [
                  "Antonio Butler",
                  "SO46523"
                ],
                [
                  "Connor Ross",
                  "SO46525"
                ],
                [
                  "Gerald Arun",
                  "SO46527"
                ],
                [
                  "Christian Perry",
                  "SO46530"
                ],
                [
                  "Tracy Andersen",
                  "SO46535"
                ],
                [
                  "Victoria Cook",
                  "SO46534"
                ],
                [
                  "Autumn Zheng",
                  "SO46532"
                ],
                [
                  "Jonathan Campbell",
                  "SO46529"
                ],
                [
                  "Sarah Thompson",
                  "SO46531"
                ],
                [
                  "Alisha Nath",
                  "SO46536"
                ],
                [
                  "Kari Malhotra",
                  "SO46528"
                ],
                [
                  "Connor King",
                  "SO46533"
                ],
                [
                  "Rafael Sharma",
                  "SO46539"
                ],
                [
                  "Kristen Gao",
                  "SO46538"
                ],
                [
                  "Desiree Dominguez",
                  "SO46537"
                ],
                [
                  "Chloe Johnson",
                  "SO46541"
                ],
                [
                  "Shannon Ruiz",
                  "SO46540"
                ],
                [
                  "Mayra Raman",
                  "SO46554"
                ],
                [
                  "Autumn Liu",
                  "SO46553"
                ],
                [
                  "Juan Murphy",
                  "SO46545"
                ],
                [
                  "Christine Stone",
                  "SO46556"
                ],
                [
                  "Bryant Garcia",
                  "SO46542"
                ],
                [
                  "Crystal Liang",
                  "SO46543"
                ],
                [
                  "Max Serrano",
                  "SO46555"
                ],
                [
                  "Jeremy Richardson",
                  "SO46546"
                ],
                [
                  "Jordyn Bryant",
                  "SO46544"
                ],
                [
                  "Vanessa Russell",
                  "SO46547"
                ],
                [
                  "Sean Sanchez",
                  "SO46549"
                ],
                [
                  "Robert Hernandez",
                  "SO46548"
                ],
                [
                  "Amanda Ramirez",
                  "SO46552"
                ],
                [
                  "Arianna Gray",
                  "SO46551"
                ],
                [
                  "Robert Flores",
                  "SO46550"
                ],
                [
                  "Kevin Wright",
                  "SO46560"
                ],
                [
                  "Jamie Ortega",
                  "SO46562"
                ],
                [
                  "Isaiah Perez",
                  "SO46558"
                ],
                [
                  "Thomas Jai",
                  "SO46557"
                ],
                [
                  "Jonathan Smith",
                  "SO46559"
                ],
                [
                  "Brent Guo",
                  "SO46563"
                ],
                [
                  "Rafael Yuan",
                  "SO46561"
                ],
                [
                  "Thomas Zhang",
                  "SO46565"
                ],
                [
                  "Jamie Zeng",
                  "SO46566"
                ],
                [
                  "Alexandra Richardson",
                  "SO46568"
                ],
                [
                  "Ian Lewis",
                  "SO46567"
                ],
                [
                  "Jimmy Gutierrez",
                  "SO46564"
                ],
                [
                  "Cody Cook",
                  "SO46569"
                ],
                [
                  "Monica Vance",
                  "SO46575"
                ],
                [
                  "Kristy Rubio",
                  "SO46574"
                ],
                [
                  "Arianna Ward",
                  "SO46570"
                ],
                [
                  "Trevor Hughes",
                  "SO46572"
                ],
                [
                  "Tammy Smith",
                  "SO46573"
                ],
                [
                  "Erick Fernandez",
                  "SO46571"
                ],
                [
                  "Jerome Suarez",
                  "SO46583"
                ],
                [
                  "Alisha She",
                  "SO46576"
                ],
                [
                  "Omar Liu",
                  "SO46584"
                ],
                [
                  "Bryant Srini",
                  "SO46579"
                ],
                [
                  "Ruben Subram",
                  "SO46580"
                ],
                [
                  "Ashley Thomas",
                  "SO46581"
                ],
                [
                  "Ethan Shan",
                  "SO46578"
                ],
                [
                  "Samuel Hill",
                  "SO46582"
                ],
                [
                  "Benjamin Moore",
                  "SO46577"
                ],
                [
                  "Hailey Cox",
                  "SO46587"
                ],
                [
                  "Erin Rogers",
                  "SO46586"
                ],
                [
                  "Joshua Miller",
                  "SO46585"
                ],
                [
                  "Britta Simon",
                  "SO46589"
                ],
                [
                  "Cesar Fernandez",
                  "SO46588"
                ],
                [
                  "Julian Henderson",
                  "SO46595"
                ],
                [
                  "Ian Washington",
                  "SO46592"
                ],
                [
                  "Victoria Garcia",
                  "SO46590"
                ],
                [
                  "Rachel Powell",
                  "SO46594"
                ],
                [
                  "Brianna Morris",
                  "SO46593"
                ],
                [
                  "Samantha Taylor",
                  "SO46591"
                ],
                [
                  "Patricia Chapman",
                  "SO46596"
                ],
                [
                  "Ricardo Nath",
                  "SO46597"
                ],
                [
                  "Clayton Sharma",
                  "SO46603"
                ]
              ]
            },
            "text/plain": "<Spark SQL result set with 1000 rows and 2 fields>"
          },
          "metadata": {}
        }
      ],
      "execution_count": 58,
      "metadata": {
        "jupyter": {
          "source_hidden": false,
          "outputs_hidden": false
        },
        "nteract": {
          "transient": {
            "deleting": false
          }
        },
        "microsoft": {
          "language": "sparksql"
        },
        "collapsed": false
      }
    },
    {
      "cell_type": "code",
      "source": [],
      "outputs": [],
      "execution_count": null,
      "metadata": {
        "jupyter": {
          "source_hidden": false,
          "outputs_hidden": false
        },
        "nteract": {
          "transient": {
            "deleting": false
          }
        }
      }
    }
  ],
  "metadata": {
    "language_info": {
      "name": "python"
    },
    "kernelspec": {
      "name": "synapse_pyspark",
      "language": "Python",
      "display_name": "Synapse PySpark"
    },
    "kernel_info": {
      "name": "synapse_pyspark"
    },
    "save_output": true,
    "synapse_widget": {
      "version": "0.1",
      "state": {
        "64162252-ed1e-4f66-adff-d6428d03c7a0": {
          "type": "Synapse.DataFrame",
          "sync_state": {
            "table": {
              "rows": [
                {
                  "0": "SO45347",
                  "1": "1",
                  "2": "2020-01-01",
                  "3": "Clarence Raji",
                  "4": "clarence35@adventure-works.com",
                  "5": "Road-650 Black, 52",
                  "6": "1",
                  "7": "699.0982",
                  "8": "55.9279"
                }
              ],
              "schema": [
                {
                  "key": "0",
                  "name": "_c0",
                  "type": "string"
                },
                {
                  "key": "1",
                  "name": "_c1",
                  "type": "string"
                },
                {
                  "key": "2",
                  "name": "_c2",
                  "type": "string"
                },
                {
                  "key": "3",
                  "name": "_c3",
                  "type": "string"
                },
                {
                  "key": "4",
                  "name": "_c4",
                  "type": "string"
                },
                {
                  "key": "5",
                  "name": "_c5",
                  "type": "string"
                },
                {
                  "key": "6",
                  "name": "_c6",
                  "type": "string"
                },
                {
                  "key": "7",
                  "name": "_c7",
                  "type": "string"
                },
                {
                  "key": "8",
                  "name": "_c8",
                  "type": "string"
                }
              ],
              "truncated": false
            },
            "isSummary": false,
            "language": "scala"
          },
          "persist_state": {
            "view": {
              "type": "details",
              "tableOptions": {},
              "chartOptions": {
                "chartType": "bar",
                "aggregationType": "count",
                "categoryFieldKeys": [
                  "0"
                ],
                "seriesFieldKeys": [
                  "0"
                ],
                "isStacked": false
              }
            }
          }
        },
        "0ea08975-cf8f-481f-af56-8a24c51ee948": {
          "type": "Synapse.DataFrame",
          "sync_state": {
            "table": {
              "rows": [
                {
                  "0": "SO45347",
                  "1": "1",
                  "2": "2020-01-01",
                  "3": "Clarence Raji"
                },
                {
                  "0": "SO45345",
                  "1": "1",
                  "2": "2020-01-01",
                  "3": "Bonnie Yuan"
                }
              ],
              "schema": [
                {
                  "key": "0",
                  "name": "SalesOrderNumber",
                  "type": "string"
                },
                {
                  "key": "1",
                  "name": "SalesOrderLineNumber",
                  "type": "int"
                },
                {
                  "key": "2",
                  "name": "OrderDate",
                  "type": "date"
                },
                {
                  "key": "3",
                  "name": "CustomerName",
                  "type": "string"
                }
              ],
              "truncated": false
            },
            "isSummary": false,
            "language": "scala"
          },
          "persist_state": {
            "view": {
              "type": "details",
              "tableOptions": {},
              "chartOptions": {
                "chartType": "bar",
                "aggregationType": "sum",
                "categoryFieldKeys": [
                  "0"
                ],
                "seriesFieldKeys": [
                  "1"
                ],
                "isStacked": false
              }
            }
          }
        },
        "eb0bdfbc-fdcd-49e8-99bc-ff6ba841c2e8": {
          "type": "Synapse.DataFrame",
          "sync_state": {
            "table": {
              "rows": [
                {
                  "0": "SO45347",
                  "1": "1",
                  "2": "2020-01-01",
                  "3": "Clarence Raji"
                },
                {
                  "0": "SO45345",
                  "1": "1",
                  "2": "2020-01-01",
                  "3": "Bonnie Yuan"
                },
                {
                  "0": "SO45348",
                  "1": "1",
                  "2": "2020-01-01",
                  "3": "Leah Guo"
                },
                {
                  "0": "SO45349",
                  "1": "1",
                  "2": "2020-01-01",
                  "3": "Candice Sun"
                },
                {
                  "0": "SO45350",
                  "1": "1",
                  "2": "2020-01-01",
                  "3": "Ruben Garcia"
                },
                {
                  "0": "SO45346",
                  "1": "1",
                  "2": "2020-01-01",
                  "3": "Dylan Harris"
                },
                {
                  "0": "SO45353",
                  "1": "1",
                  "2": "2020-01-02",
                  "3": "Jack Zimmerman"
                },
                {
                  "0": "SO45355",
                  "1": "1",
                  "2": "2020-01-02",
                  "3": "Maurice Sharma"
                },
                {
                  "0": "SO45354",
                  "1": "1",
                  "2": "2020-01-02",
                  "3": "Armando Dominguez"
                },
                {
                  "0": "SO45356",
                  "1": "1",
                  "2": "2020-01-02",
                  "3": "Douglas Suri"
                },
                {
                  "0": "SO45352",
                  "1": "1",
                  "2": "2020-01-02",
                  "3": "Daisy Munoz"
                },
                {
                  "0": "SO45351",
                  "1": "1",
                  "2": "2020-01-02",
                  "3": "Seth Jackson"
                },
                {
                  "0": "SO45359",
                  "1": "1",
                  "2": "2020-01-03",
                  "3": "Marshall Chavez"
                },
                {
                  "0": "SO45363",
                  "1": "1",
                  "2": "2020-01-03",
                  "3": "Patricia Saunders"
                },
                {
                  "0": "SO45362",
                  "1": "1",
                  "2": "2020-01-03",
                  "3": "Kristopher Fernandez"
                },
                {
                  "0": "SO45361",
                  "1": "1",
                  "2": "2020-01-03",
                  "3": "Caitlin Richardson"
                },
                {
                  "0": "SO45358",
                  "1": "1",
                  "2": "2020-01-03",
                  "3": "Alexandra Thomas"
                },
                {
                  "0": "SO45360",
                  "1": "1",
                  "2": "2020-01-03",
                  "3": "Jonathan Gonzales"
                },
                {
                  "0": "SO45357",
                  "1": "1",
                  "2": "2020-01-03",
                  "3": "Alfredo Dominguez"
                },
                {
                  "0": "SO45367",
                  "1": "1",
                  "2": "2020-01-04",
                  "3": "Willie Liu"
                },
                {
                  "0": "SO45369",
                  "1": "1",
                  "2": "2020-01-04",
                  "3": "Kathleen Navarro"
                },
                {
                  "0": "SO45370",
                  "1": "1",
                  "2": "2020-01-04",
                  "3": "Shawn Shen"
                },
                {
                  "0": "SO45366",
                  "1": "1",
                  "2": "2020-01-04",
                  "3": "Frank Gomez"
                },
                {
                  "0": "SO45365",
                  "1": "1",
                  "2": "2020-01-04",
                  "3": "Jacob Wilson"
                },
                {
                  "0": "SO45368",
                  "1": "1",
                  "2": "2020-01-04",
                  "3": "Trinity Cook"
                },
                {
                  "0": "SO45364",
                  "1": "1",
                  "2": "2020-01-04",
                  "3": "Claudia Li"
                },
                {
                  "0": "SO45371",
                  "1": "1",
                  "2": "2020-01-05",
                  "3": "Jaime Alonso"
                },
                {
                  "0": "SO45376",
                  "1": "1",
                  "2": "2020-01-05",
                  "3": "Edgar Mehta"
                },
                {
                  "0": "SO45375",
                  "1": "1",
                  "2": "2020-01-05",
                  "3": "Allen Fernandez"
                },
                {
                  "0": "SO45374",
                  "1": "1",
                  "2": "2020-01-05",
                  "3": "Jordan Henderson"
                },
                {
                  "0": "SO45372",
                  "1": "1",
                  "2": "2020-01-05",
                  "3": "Jarred Gill"
                },
                {
                  "0": "SO45373",
                  "1": "1",
                  "2": "2020-01-05",
                  "3": "Richard Garcia"
                },
                {
                  "0": "SO45379",
                  "1": "1",
                  "2": "2020-01-06",
                  "3": "Savannah Travers"
                },
                {
                  "0": "SO45378",
                  "1": "1",
                  "2": "2020-01-06",
                  "3": "Katherine James"
                },
                {
                  "0": "SO45384",
                  "1": "1",
                  "2": "2020-01-06",
                  "3": "Chase Morris"
                },
                {
                  "0": "SO45386",
                  "1": "1",
                  "2": "2020-01-06",
                  "3": "Troy Subram"
                },
                {
                  "0": "SO45381",
                  "1": "1",
                  "2": "2020-01-06",
                  "3": "Jordan Long"
                },
                {
                  "0": "SO45380",
                  "1": "1",
                  "2": "2020-01-06",
                  "3": "Clarence Jai"
                },
                {
                  "0": "SO45382",
                  "1": "1",
                  "2": "2020-01-06",
                  "3": "Julia Wright"
                },
                {
                  "0": "SO45377",
                  "1": "1",
                  "2": "2020-01-06",
                  "3": "Dominique Lopez"
                },
                {
                  "0": "SO45383",
                  "1": "1",
                  "2": "2020-01-06",
                  "3": "Kevin Edwards"
                },
                {
                  "0": "SO45385",
                  "1": "1",
                  "2": "2020-01-06",
                  "3": "Maria Rogers"
                },
                {
                  "0": "SO45389",
                  "1": "1",
                  "2": "2020-01-07",
                  "3": "Trevor Bryant"
                },
                {
                  "0": "SO45387",
                  "1": "1",
                  "2": "2020-01-07",
                  "3": "Tiffany Li"
                },
                {
                  "0": "SO45392",
                  "1": "1",
                  "2": "2020-01-07",
                  "3": "Randall Gomez"
                },
                {
                  "0": "SO45391",
                  "1": "1",
                  "2": "2020-01-07",
                  "3": "Raymond Raman"
                },
                {
                  "0": "SO45390",
                  "1": "1",
                  "2": "2020-01-07",
                  "3": "Randall Martin"
                },
                {
                  "0": "SO45388",
                  "1": "1",
                  "2": "2020-01-07",
                  "3": "Isabel Bryant"
                },
                {
                  "0": "SO45395",
                  "1": "1",
                  "2": "2020-01-08",
                  "3": "Lydia Gonzalez"
                },
                {
                  "0": "SO45396",
                  "1": "1",
                  "2": "2020-01-08",
                  "3": "Suzanne Liu"
                },
                {
                  "0": "SO45394",
                  "1": "1",
                  "2": "2020-01-08",
                  "3": "Jaclyn Andersen"
                },
                {
                  "0": "SO45393",
                  "1": "1",
                  "2": "2020-01-08",
                  "3": "Michele Lal"
                },
                {
                  "0": "SO45398",
                  "1": "1",
                  "2": "2020-01-09",
                  "3": "Lisa Zhu"
                },
                {
                  "0": "SO45397",
                  "1": "1",
                  "2": "2020-01-09",
                  "3": "Harold McDonald"
                },
                {
                  "0": "SO45399",
                  "1": "1",
                  "2": "2020-01-09",
                  "3": "Kaitlyn Powell"
                },
                {
                  "0": "SO45409",
                  "1": "1",
                  "2": "2020-01-10",
                  "3": "Marvin Sanz"
                },
                {
                  "0": "SO45405",
                  "1": "1",
                  "2": "2020-01-10",
                  "3": "Lucas Lewis"
                },
                {
                  "0": "SO45403",
                  "1": "1",
                  "2": "2020-01-10",
                  "3": "Caroline Washington"
                },
                {
                  "0": "SO45401",
                  "1": "1",
                  "2": "2020-01-10",
                  "3": "Julio Suarez"
                },
                {
                  "0": "SO45400",
                  "1": "1",
                  "2": "2020-01-10",
                  "3": "Brett Garcia"
                },
                {
                  "0": "SO45402",
                  "1": "1",
                  "2": "2020-01-10",
                  "3": "Megan Stewart"
                },
                {
                  "0": "SO45404",
                  "1": "1",
                  "2": "2020-01-10",
                  "3": "Natalie Adams"
                },
                {
                  "0": "SO45407",
                  "1": "1",
                  "2": "2020-01-10",
                  "3": "Thomas Adams"
                },
                {
                  "0": "SO45408",
                  "1": "1",
                  "2": "2020-01-10",
                  "3": "Victoria Diaz"
                },
                {
                  "0": "SO45406",
                  "1": "1",
                  "2": "2020-01-10",
                  "3": "Hunter Kumar"
                },
                {
                  "0": "SO45417",
                  "1": "1",
                  "2": "2020-01-11",
                  "3": "Cole Richardson"
                },
                {
                  "0": "SO45415",
                  "1": "1",
                  "2": "2020-01-11",
                  "3": "Morgan Hall"
                },
                {
                  "0": "SO45411",
                  "1": "1",
                  "2": "2020-01-11",
                  "3": "Kayla Rodriguez"
                },
                {
                  "0": "SO45416",
                  "1": "1",
                  "2": "2020-01-11",
                  "3": "Jessica Perry"
                },
                {
                  "0": "SO45413",
                  "1": "1",
                  "2": "2020-01-11",
                  "3": "Kristi Perez"
                },
                {
                  "0": "SO45410",
                  "1": "1",
                  "2": "2020-01-11",
                  "3": "Donald Srini"
                },
                {
                  "0": "SO45412",
                  "1": "1",
                  "2": "2020-01-11",
                  "3": "Chloe Sanders"
                },
                {
                  "0": "SO45420",
                  "1": "1",
                  "2": "2020-01-11",
                  "3": "Orlando Serrano"
                },
                {
                  "0": "SO45419",
                  "1": "1",
                  "2": "2020-01-11",
                  "3": "Alejandro Liu"
                },
                {
                  "0": "SO45421",
                  "1": "1",
                  "2": "2020-01-11",
                  "3": "Mackenzie Hill"
                },
                {
                  "0": "SO45418",
                  "1": "1",
                  "2": "2020-01-11",
                  "3": "Kristopher Gonzalez"
                },
                {
                  "0": "SO45414",
                  "1": "1",
                  "2": "2020-01-11",
                  "3": "Kelli Kumar"
                },
                {
                  "0": "SO45423",
                  "1": "1",
                  "2": "2020-01-12",
                  "3": "Beth Gill"
                },
                {
                  "0": "SO45424",
                  "1": "1",
                  "2": "2020-01-12",
                  "3": "Alexa Rivera"
                },
                {
                  "0": "SO45422",
                  "1": "1",
                  "2": "2020-01-12",
                  "3": "Jared Moyer"
                },
                {
                  "0": "SO45431",
                  "1": "1",
                  "2": "2020-01-13",
                  "3": "James Miller"
                },
                {
                  "0": "SO45430",
                  "1": "1",
                  "2": "2020-01-13",
                  "3": "Natalie Roberts"
                },
                {
                  "0": "SO45429",
                  "1": "1",
                  "2": "2020-01-13",
                  "3": "Justin Griffin"
                },
                {
                  "0": "SO45427",
                  "1": "1",
                  "2": "2020-01-13",
                  "3": "Ivan Suri"
                },
                {
                  "0": "SO45426",
                  "1": "1",
                  "2": "2020-01-13",
                  "3": "Kari Smith"
                },
                {
                  "0": "SO45425",
                  "1": "1",
                  "2": "2020-01-13",
                  "3": "Jaime Suarez"
                },
                {
                  "0": "SO45428",
                  "1": "1",
                  "2": "2020-01-13",
                  "3": "Ian Richardson"
                },
                {
                  "0": "SO45434",
                  "1": "1",
                  "2": "2020-01-14",
                  "3": "Nicholas Thompson"
                },
                {
                  "0": "SO45433",
                  "1": "1",
                  "2": "2020-01-14",
                  "3": "Bradley Nara"
                },
                {
                  "0": "SO45432",
                  "1": "1",
                  "2": "2020-01-14",
                  "3": "Pamela Subram"
                },
                {
                  "0": "SO45439",
                  "1": "1",
                  "2": "2020-01-14",
                  "3": "Jaime Xie"
                },
                {
                  "0": "SO45435",
                  "1": "1",
                  "2": "2020-01-14",
                  "3": "Jim Rodman"
                },
                {
                  "0": "SO45438",
                  "1": "1",
                  "2": "2020-01-14",
                  "3": "Paige Howard"
                },
                {
                  "0": "SO45436",
                  "1": "1",
                  "2": "2020-01-14",
                  "3": "Joshua Taylor"
                },
                {
                  "0": "SO45437",
                  "1": "1",
                  "2": "2020-01-14",
                  "3": "Lucas Blue"
                },
                {
                  "0": "SO45442",
                  "1": "1",
                  "2": "2020-01-15",
                  "3": "Justin Bryant"
                },
                {
                  "0": "SO45443",
                  "1": "1",
                  "2": "2020-01-15",
                  "3": "Julia Thompson"
                },
                {
                  "0": "SO45444",
                  "1": "1",
                  "2": "2020-01-15",
                  "3": "Claudia Ye"
                },
                {
                  "0": "SO45445",
                  "1": "1",
                  "2": "2020-01-15",
                  "3": "Stacy Dominguez"
                },
                {
                  "0": "SO45440",
                  "1": "1",
                  "2": "2020-01-15",
                  "3": "Daisy Romero"
                },
                {
                  "0": "SO45441",
                  "1": "1",
                  "2": "2020-01-15",
                  "3": "Jasmine Torres"
                },
                {
                  "0": "SO45447",
                  "1": "1",
                  "2": "2020-01-16",
                  "3": "Gloria Ortega"
                },
                {
                  "0": "SO45448",
                  "1": "1",
                  "2": "2020-01-16",
                  "3": "Terrance Martinez"
                },
                {
                  "0": "SO45446",
                  "1": "1",
                  "2": "2020-01-16",
                  "3": "Jenna Parker"
                },
                {
                  "0": "SO45451",
                  "1": "1",
                  "2": "2020-01-17",
                  "3": "Hailey Turner"
                },
                {
                  "0": "SO45450",
                  "1": "1",
                  "2": "2020-01-17",
                  "3": "Carson Jenkins"
                },
                {
                  "0": "SO45452",
                  "1": "1",
                  "2": "2020-01-17",
                  "3": "Cedric Cai"
                },
                {
                  "0": "SO45449",
                  "1": "1",
                  "2": "2020-01-17",
                  "3": "Krista Martin"
                },
                {
                  "0": "SO45453",
                  "1": "1",
                  "2": "2020-01-18",
                  "3": "Donna Xie"
                },
                {
                  "0": "SO45454",
                  "1": "1",
                  "2": "2020-01-18",
                  "3": "Megan Flores"
                },
                {
                  "0": "SO45456",
                  "1": "1",
                  "2": "2020-01-19",
                  "3": "Elijah Powell"
                },
                {
                  "0": "SO45460",
                  "1": "1",
                  "2": "2020-01-19",
                  "3": "Julio Navarro"
                },
                {
                  "0": "SO45459",
                  "1": "1",
                  "2": "2020-01-19",
                  "3": "Brad Shan"
                },
                {
                  "0": "SO45458",
                  "1": "1",
                  "2": "2020-01-19",
                  "3": "Alvin Jai"
                },
                {
                  "0": "SO45455",
                  "1": "1",
                  "2": "2020-01-19",
                  "3": "Ebony Garcia"
                },
                {
                  "0": "SO45457",
                  "1": "1",
                  "2": "2020-01-19",
                  "3": "Christian Butler"
                },
                {
                  "0": "SO45461",
                  "1": "1",
                  "2": "2020-01-20",
                  "3": "Alexis Moore"
                },
                {
                  "0": "SO45462",
                  "1": "1",
                  "2": "2020-01-20",
                  "3": "Hannah Foster"
                },
                {
                  "0": "SO45463",
                  "1": "1",
                  "2": "2020-01-20",
                  "3": "Jonathan Hill"
                },
                {
                  "0": "SO45464",
                  "1": "1",
                  "2": "2020-01-20",
                  "3": "Alvin Sharma"
                },
                {
                  "0": "SO45465",
                  "1": "1",
                  "2": "2020-01-20",
                  "3": "Carlos Morgan"
                },
                {
                  "0": "SO45466",
                  "1": "1",
                  "2": "2020-01-21",
                  "3": "Meagan Prasad"
                },
                {
                  "0": "SO45476",
                  "1": "1",
                  "2": "2020-01-22",
                  "3": "Wyatt Williams"
                },
                {
                  "0": "SO45475",
                  "1": "1",
                  "2": "2020-01-22",
                  "3": "Alfredo Suarez"
                },
                {
                  "0": "SO45474",
                  "1": "1",
                  "2": "2020-01-22",
                  "3": "Carl Raji"
                },
                {
                  "0": "SO45469",
                  "1": "1",
                  "2": "2020-01-22",
                  "3": "Ethan Thompson"
                },
                {
                  "0": "SO45473",
                  "1": "1",
                  "2": "2020-01-22",
                  "3": "Tara Xu"
                },
                {
                  "0": "SO45472",
                  "1": "1",
                  "2": "2020-01-22",
                  "3": "Meredith Martinez"
                },
                {
                  "0": "SO45468",
                  "1": "1",
                  "2": "2020-01-22",
                  "3": "Kyle Bryant"
                },
                {
                  "0": "SO45467",
                  "1": "1",
                  "2": "2020-01-22",
                  "3": "Dustin Deng"
                },
                {
                  "0": "SO45471",
                  "1": "1",
                  "2": "2020-01-22",
                  "3": "Erin Cook"
                },
                {
                  "0": "SO45470",
                  "1": "1",
                  "2": "2020-01-22",
                  "3": "Cameron Henderson"
                },
                {
                  "0": "SO45478",
                  "1": "1",
                  "2": "2020-01-23",
                  "3": "Isaiah Edwards"
                },
                {
                  "0": "SO45477",
                  "1": "1",
                  "2": "2020-01-23",
                  "3": "Brittney Hu"
                },
                {
                  "0": "SO45479",
                  "1": "1",
                  "2": "2020-01-23",
                  "3": "Sheena Deng"
                },
                {
                  "0": "SO45481",
                  "1": "1",
                  "2": "2020-01-23",
                  "3": "Robin Moreno"
                },
                {
                  "0": "SO45480",
                  "1": "1",
                  "2": "2020-01-23",
                  "3": "Lawrence Gutierrez"
                },
                {
                  "0": "SO45488",
                  "1": "1",
                  "2": "2020-01-24",
                  "3": "Martin Perez"
                },
                {
                  "0": "SO45487",
                  "1": "1",
                  "2": "2020-01-24",
                  "3": "Shawna Andersen"
                },
                {
                  "0": "SO45489",
                  "1": "1",
                  "2": "2020-01-24",
                  "3": "Stanley Madan"
                },
                {
                  "0": "SO45484",
                  "1": "1",
                  "2": "2020-01-24",
                  "3": "Juan James"
                },
                {
                  "0": "SO45490",
                  "1": "1",
                  "2": "2020-01-24",
                  "3": "Eric Foster"
                },
                {
                  "0": "SO45483",
                  "1": "1",
                  "2": "2020-01-24",
                  "3": "Adriana Chandra"
                },
                {
                  "0": "SO45486",
                  "1": "1",
                  "2": "2020-01-24",
                  "3": "Dominic Srini"
                },
                {
                  "0": "SO45485",
                  "1": "1",
                  "2": "2020-01-24",
                  "3": "Jacqueline Powell"
                },
                {
                  "0": "SO45482",
                  "1": "1",
                  "2": "2020-01-24",
                  "3": "Brandy Sanchez"
                },
                {
                  "0": "SO45493",
                  "1": "1",
                  "2": "2020-01-25",
                  "3": "Seth Brown"
                },
                {
                  "0": "SO45495",
                  "1": "1",
                  "2": "2020-01-25",
                  "3": "Krystal Gao"
                },
                {
                  "0": "SO45494",
                  "1": "1",
                  "2": "2020-01-25",
                  "3": "Kari Martinez"
                },
                {
                  "0": "SO45492",
                  "1": "1",
                  "2": "2020-01-25",
                  "3": "Jared Kelly"
                },
                {
                  "0": "SO45491",
                  "1": "1",
                  "2": "2020-01-25",
                  "3": "Justin Brown"
                },
                {
                  "0": "SO45502",
                  "1": "1",
                  "2": "2020-01-26",
                  "3": "Timothy Young"
                },
                {
                  "0": "SO45497",
                  "1": "1",
                  "2": "2020-01-26",
                  "3": "Ian Wilson"
                },
                {
                  "0": "SO45498",
                  "1": "1",
                  "2": "2020-01-26",
                  "3": "Kayla Flores"
                },
                {
                  "0": "SO45496",
                  "1": "1",
                  "2": "2020-01-26",
                  "3": "Rachel Cox"
                },
                {
                  "0": "SO45499",
                  "1": "1",
                  "2": "2020-01-26",
                  "3": "Bailey Hernandez"
                },
                {
                  "0": "SO45501",
                  "1": "1",
                  "2": "2020-01-26",
                  "3": "Heidi Chandra"
                },
                {
                  "0": "SO45505",
                  "1": "1",
                  "2": "2020-01-26",
                  "3": "Carla Rana"
                },
                {
                  "0": "SO45506",
                  "1": "1",
                  "2": "2020-01-26",
                  "3": "Franklin Sun"
                },
                {
                  "0": "SO45507",
                  "1": "1",
                  "2": "2020-01-26",
                  "3": "Stefanie Rana"
                },
                {
                  "0": "SO45503",
                  "1": "1",
                  "2": "2020-01-26",
                  "3": "Isabella Bryant"
                },
                {
                  "0": "SO45504",
                  "1": "1",
                  "2": "2020-01-26",
                  "3": "Jerry Ferrier"
                },
                {
                  "0": "SO45500",
                  "1": "1",
                  "2": "2020-01-26",
                  "3": "Lawrence Blanco"
                },
                {
                  "0": "SO45508",
                  "1": "1",
                  "2": "2020-01-27",
                  "3": "Roberto Sanz"
                },
                {
                  "0": "SO45509",
                  "1": "1",
                  "2": "2020-01-27",
                  "3": "Shaun Sharma"
                },
                {
                  "0": "SO45510",
                  "1": "1",
                  "2": "2020-01-27",
                  "3": "Lauren Washington"
                },
                {
                  "0": "SO45515",
                  "1": "1",
                  "2": "2020-01-28",
                  "3": "Bridget She"
                },
                {
                  "0": "SO45511",
                  "1": "1",
                  "2": "2020-01-28",
                  "3": "Steve Wagner"
                },
                {
                  "0": "SO45512",
                  "1": "1",
                  "2": "2020-01-28",
                  "3": "Luis Wang"
                },
                {
                  "0": "SO45513",
                  "1": "1",
                  "2": "2020-01-28",
                  "3": "Faith Murphy"
                },
                {
                  "0": "SO45514",
                  "1": "1",
                  "2": "2020-01-28",
                  "3": "Thomas Young"
                },
                {
                  "0": "SO45582",
                  "1": "1",
                  "2": "2020-01-29",
                  "3": "Lucas Murphy"
                },
                {
                  "0": "SO45581",
                  "1": "1",
                  "2": "2020-01-29",
                  "3": "Trinity Richardson"
                },
                {
                  "0": "SO45583",
                  "1": "1",
                  "2": "2020-01-29",
                  "3": "Kyle Foster"
                },
                {
                  "0": "SO45585",
                  "1": "1",
                  "2": "2020-01-29",
                  "3": "Isaiah Ramirez"
                },
                {
                  "0": "SO45580",
                  "1": "1",
                  "2": "2020-01-29",
                  "3": "Cassie Andersen"
                },
                {
                  "0": "SO45584",
                  "1": "1",
                  "2": "2020-01-29",
                  "3": "Ronald Madan"
                },
                {
                  "0": "SO45591",
                  "1": "1",
                  "2": "2020-01-30",
                  "3": "Sebastian Torres"
                },
                {
                  "0": "SO45590",
                  "1": "1",
                  "2": "2020-01-30",
                  "3": "Roger Lu"
                },
                {
                  "0": "SO45589",
                  "1": "1",
                  "2": "2020-01-30",
                  "3": "Christy Liu"
                },
                {
                  "0": "SO45592",
                  "1": "1",
                  "2": "2020-01-30",
                  "3": "Orlando Ashe"
                },
                {
                  "0": "SO45588",
                  "1": "1",
                  "2": "2020-01-30",
                  "3": "Jenny Rai"
                },
                {
                  "0": "SO45587",
                  "1": "1",
                  "2": "2020-01-30",
                  "3": "Nina Yuan"
                },
                {
                  "0": "SO45586",
                  "1": "1",
                  "2": "2020-01-30",
                  "3": "Joel Prasad"
                },
                {
                  "0": "SO45595",
                  "1": "1",
                  "2": "2020-01-31",
                  "3": "Shannon Huang"
                },
                {
                  "0": "SO45594",
                  "1": "1",
                  "2": "2020-01-31",
                  "3": "Christian Thomas"
                },
                {
                  "0": "SO45601",
                  "1": "1",
                  "2": "2020-01-31",
                  "3": "Orlando Carlson"
                },
                {
                  "0": "SO45593",
                  "1": "1",
                  "2": "2020-01-31",
                  "3": "Nelson Ortega"
                },
                {
                  "0": "SO45597",
                  "1": "1",
                  "2": "2020-01-31",
                  "3": "Jenna Scott"
                },
                {
                  "0": "SO45598",
                  "1": "1",
                  "2": "2020-01-31",
                  "3": "Elijah Yang"
                },
                {
                  "0": "SO45600",
                  "1": "1",
                  "2": "2020-01-31",
                  "3": "Holly Martinez"
                },
                {
                  "0": "SO45599",
                  "1": "1",
                  "2": "2020-01-31",
                  "3": "Danny Ortega"
                },
                {
                  "0": "SO45596",
                  "1": "1",
                  "2": "2020-01-31",
                  "3": "Jessie Gao"
                },
                {
                  "0": "SO45607",
                  "1": "1",
                  "2": "2020-02-01",
                  "3": "Louis Nath"
                },
                {
                  "0": "SO45606",
                  "1": "1",
                  "2": "2020-02-01",
                  "3": "Devon Deng"
                },
                {
                  "0": "SO45609",
                  "1": "1",
                  "2": "2020-02-01",
                  "3": "Max Ferrier"
                },
                {
                  "0": "SO45608",
                  "1": "1",
                  "2": "2020-02-01",
                  "3": "Frank Carlson"
                },
                {
                  "0": "SO45603",
                  "1": "1",
                  "2": "2020-02-01",
                  "3": "Haley Richardson"
                },
                {
                  "0": "SO45604",
                  "1": "1",
                  "2": "2020-02-01",
                  "3": "Victoria Russell"
                },
                {
                  "0": "SO45605",
                  "1": "1",
                  "2": "2020-02-01",
                  "3": "Destiny Rogers"
                },
                {
                  "0": "SO45602",
                  "1": "1",
                  "2": "2020-02-01",
                  "3": "Tamara Zhu"
                },
                {
                  "0": "SO45611",
                  "1": "1",
                  "2": "2020-02-02",
                  "3": "Devin Nelson"
                },
                {
                  "0": "SO45610",
                  "1": "1",
                  "2": "2020-02-02",
                  "3": "Julia Coleman"
                },
                {
                  "0": "SO45612",
                  "1": "1",
                  "2": "2020-02-02",
                  "3": "Crystal Gao"
                },
                {
                  "0": "SO45616",
                  "1": "1",
                  "2": "2020-02-03",
                  "3": "Abby Arthur"
                },
                {
                  "0": "SO45613",
                  "1": "1",
                  "2": "2020-02-03",
                  "3": "Christian Hughes"
                },
                {
                  "0": "SO45621",
                  "1": "1",
                  "2": "2020-02-03",
                  "3": "Clayton Nara"
                },
                {
                  "0": "SO45618",
                  "1": "1",
                  "2": "2020-02-03",
                  "3": "Dawn Lal"
                },
                {
                  "0": "SO45620",
                  "1": "1",
                  "2": "2020-02-03",
                  "3": "Roy Moreno"
                },
                {
                  "0": "SO45619",
                  "1": "1",
                  "2": "2020-02-03",
                  "3": "Alex Hill"
                },
                {
                  "0": "SO45615",
                  "1": "1",
                  "2": "2020-02-03",
                  "3": "Gabriel Kumar"
                },
                {
                  "0": "SO45617",
                  "1": "1",
                  "2": "2020-02-03",
                  "3": "Corey Kumar"
                },
                {
                  "0": "SO45614",
                  "1": "1",
                  "2": "2020-02-03",
                  "3": "Isaac Brooks"
                },
                {
                  "0": "SO45627",
                  "1": "1",
                  "2": "2020-02-04",
                  "3": "Logan Clark"
                },
                {
                  "0": "SO45628",
                  "1": "1",
                  "2": "2020-02-04",
                  "3": "Casey Navarro"
                },
                {
                  "0": "SO45630",
                  "1": "1",
                  "2": "2020-02-04",
                  "3": "Brenda Perez"
                },
                {
                  "0": "SO45629",
                  "1": "1",
                  "2": "2020-02-04",
                  "3": "Julio Ortega"
                },
                {
                  "0": "SO45625",
                  "1": "1",
                  "2": "2020-02-04",
                  "3": "Hunter Rodriguez"
                },
                {
                  "0": "SO45624",
                  "1": "1",
                  "2": "2020-02-04",
                  "3": "Jenna Wright"
                },
                {
                  "0": "SO45626",
                  "1": "1",
                  "2": "2020-02-04",
                  "3": "Victoria Stewart"
                },
                {
                  "0": "SO45623",
                  "1": "1",
                  "2": "2020-02-04",
                  "3": "Jessica Powell"
                },
                {
                  "0": "SO45622",
                  "1": "1",
                  "2": "2020-02-04",
                  "3": "Tamara Tang"
                },
                {
                  "0": "SO45633",
                  "1": "1",
                  "2": "2020-02-05",
                  "3": "Daisuke Yanagishima"
                },
                {
                  "0": "SO45632",
                  "1": "1",
                  "2": "2020-02-05",
                  "3": "Bonnie Xie"
                },
                {
                  "0": "SO45631",
                  "1": "1",
                  "2": "2020-02-05",
                  "3": "Clarence Anand"
                },
                {
                  "0": "SO45634",
                  "1": "1",
                  "2": "2020-02-05",
                  "3": "Edwin Lin"
                },
                {
                  "0": "SO45639",
                  "1": "1",
                  "2": "2020-02-06",
                  "3": "Derek Shan"
                },
                {
                  "0": "SO45640",
                  "1": "1",
                  "2": "2020-02-06",
                  "3": "Gloria Alonso"
                },
                {
                  "0": "SO45635",
                  "1": "1",
                  "2": "2020-02-06",
                  "3": "Lucas Sanchez"
                },
                {
                  "0": "SO45636",
                  "1": "1",
                  "2": "2020-02-06",
                  "3": "Spencer Russell"
                },
                {
                  "0": "SO45637",
                  "1": "1",
                  "2": "2020-02-06",
                  "3": "Ariana Cook"
                },
                {
                  "0": "SO45638",
                  "1": "1",
                  "2": "2020-02-06",
                  "3": "Courtney Nelson"
                },
                {
                  "0": "SO45642",
                  "1": "1",
                  "2": "2020-02-07",
                  "3": "Angela Perry"
                },
                {
                  "0": "SO45641",
                  "1": "1",
                  "2": "2020-02-07",
                  "3": "Byron Ortega"
                },
                {
                  "0": "SO45648",
                  "1": "1",
                  "2": "2020-02-08",
                  "3": "Warren Zhou"
                },
                {
                  "0": "SO45645",
                  "1": "1",
                  "2": "2020-02-08",
                  "3": "Adrienne Torres"
                },
                {
                  "0": "SO45646",
                  "1": "1",
                  "2": "2020-02-08",
                  "3": "Maria Carter"
                },
                {
                  "0": "SO45643",
                  "1": "1",
                  "2": "2020-02-08",
                  "3": "Douglas Kapoor"
                },
                {
                  "0": "SO45647",
                  "1": "1",
                  "2": "2020-02-08",
                  "3": "Katherine Wright"
                },
                {
                  "0": "SO45644",
                  "1": "1",
                  "2": "2020-02-08",
                  "3": "Casey She"
                },
                {
                  "0": "SO45650",
                  "1": "1",
                  "2": "2020-02-09",
                  "3": "Mariah Murphy"
                },
                {
                  "0": "SO45649",
                  "1": "1",
                  "2": "2020-02-09",
                  "3": "Jade Bailey"
                },
                {
                  "0": "SO45653",
                  "1": "1",
                  "2": "2020-02-09",
                  "3": "Jessie Ramos"
                },
                {
                  "0": "SO45651",
                  "1": "1",
                  "2": "2020-02-09",
                  "3": "Tasha Jai"
                },
                {
                  "0": "SO45652",
                  "1": "1",
                  "2": "2020-02-09",
                  "3": "Nathaniel Watson"
                },
                {
                  "0": "SO45661",
                  "1": "1",
                  "2": "2020-02-10",
                  "3": "Karla Nara"
                },
                {
                  "0": "SO45660",
                  "1": "1",
                  "2": "2020-02-10",
                  "3": "Clarence Liu"
                },
                {
                  "0": "SO45656",
                  "1": "1",
                  "2": "2020-02-10",
                  "3": "Sean Brooks"
                },
                {
                  "0": "SO45655",
                  "1": "1",
                  "2": "2020-02-10",
                  "3": "Jose Patterson"
                },
                {
                  "0": "SO45657",
                  "1": "1",
                  "2": "2020-02-10",
                  "3": "Taylor Howard"
                },
                {
                  "0": "SO45658",
                  "1": "1",
                  "2": "2020-02-10",
                  "3": "Robert Lee"
                },
                {
                  "0": "SO45663",
                  "1": "1",
                  "2": "2020-02-10",
                  "3": "Stacy Alvarez"
                },
                {
                  "0": "SO45662",
                  "1": "1",
                  "2": "2020-02-10",
                  "3": "Gabriella Sanders"
                },
                {
                  "0": "SO45654",
                  "1": "1",
                  "2": "2020-02-10",
                  "3": "Riley Long"
                },
                {
                  "0": "SO45659",
                  "1": "1",
                  "2": "2020-02-10",
                  "3": "Denise Subram"
                },
                {
                  "0": "SO45665",
                  "1": "1",
                  "2": "2020-02-11",
                  "3": "Arthur Washington"
                },
                {
                  "0": "SO45664",
                  "1": "1",
                  "2": "2020-02-11",
                  "3": "Jon Ye"
                },
                {
                  "0": "SO45666",
                  "1": "1",
                  "2": "2020-02-11",
                  "3": "Ethan Garcia"
                },
                {
                  "0": "SO45667",
                  "1": "1",
                  "2": "2020-02-11",
                  "3": "Arthur Mehta"
                },
                {
                  "0": "SO45673",
                  "1": "1",
                  "2": "2020-02-12",
                  "3": "Amy Wu"
                },
                {
                  "0": "SO45674",
                  "1": "1",
                  "2": "2020-02-12",
                  "3": "Lacey Hu"
                },
                {
                  "0": "SO45672",
                  "1": "1",
                  "2": "2020-02-12",
                  "3": "Shannon Hu"
                },
                {
                  "0": "SO45675",
                  "1": "1",
                  "2": "2020-02-12",
                  "3": "Toni Patel"
                },
                {
                  "0": "SO45677",
                  "1": "1",
                  "2": "2020-02-12",
                  "3": "Dustin Chander"
                },
                {
                  "0": "SO45668",
                  "1": "1",
                  "2": "2020-02-12",
                  "3": "Jon Luo"
                },
                {
                  "0": "SO45671",
                  "1": "1",
                  "2": "2020-02-12",
                  "3": "Mariah Wood"
                },
                {
                  "0": "SO45676",
                  "1": "1",
                  "2": "2020-02-12",
                  "3": "Marc Torres"
                },
                {
                  "0": "SO45669",
                  "1": "1",
                  "2": "2020-02-12",
                  "3": "Joan Washington"
                },
                {
                  "0": "SO45670",
                  "1": "1",
                  "2": "2020-02-12",
                  "3": "Aidan Ross"
                },
                {
                  "0": "SO45679",
                  "1": "1",
                  "2": "2020-02-13",
                  "3": "Alberto Navarro"
                },
                {
                  "0": "SO45678",
                  "1": "1",
                  "2": "2020-02-13",
                  "3": "Megan Barnes"
                },
                {
                  "0": "SO45680",
                  "1": "1",
                  "2": "2020-02-13",
                  "3": "Haley Torres"
                },
                {
                  "0": "SO45681",
                  "1": "1",
                  "2": "2020-02-13",
                  "3": "Gloria Munoz"
                },
                {
                  "0": "SO45682",
                  "1": "1",
                  "2": "2020-02-13",
                  "3": "Ronnie Lu"
                },
                {
                  "0": "SO45690",
                  "1": "1",
                  "2": "2020-02-14",
                  "3": "Erika Romero"
                },
                {
                  "0": "SO45689",
                  "1": "1",
                  "2": "2020-02-14",
                  "3": "Ricky Gutierrez"
                },
                {
                  "0": "SO45685",
                  "1": "1",
                  "2": "2020-02-14",
                  "3": "Adrienne Blanco"
                },
                {
                  "0": "SO45684",
                  "1": "1",
                  "2": "2020-02-14",
                  "3": "Donald Chandra"
                },
                {
                  "0": "SO45691",
                  "1": "1",
                  "2": "2020-02-14",
                  "3": "Angela Henderson"
                },
                {
                  "0": "SO45683",
                  "1": "1",
                  "2": "2020-02-14",
                  "3": "Ian Martin"
                },
                {
                  "0": "SO45688",
                  "1": "1",
                  "2": "2020-02-14",
                  "3": "Emma Cooper"
                },
                {
                  "0": "SO45687",
                  "1": "1",
                  "2": "2020-02-14",
                  "3": "Elizabeth Clark"
                },
                {
                  "0": "SO45686",
                  "1": "1",
                  "2": "2020-02-14",
                  "3": "Richard Rivera"
                },
                {
                  "0": "SO45698",
                  "1": "1",
                  "2": "2020-02-15",
                  "3": "Aidan Wood"
                },
                {
                  "0": "SO45699",
                  "1": "1",
                  "2": "2020-02-15",
                  "3": "Mary Green"
                },
                {
                  "0": "SO45693",
                  "1": "1",
                  "2": "2020-02-15",
                  "3": "Teresa Gutierrez"
                },
                {
                  "0": "SO45694",
                  "1": "1",
                  "2": "2020-02-15",
                  "3": "Morgan Bennett"
                },
                {
                  "0": "SO45692",
                  "1": "1",
                  "2": "2020-02-15",
                  "3": "Victor Carlson"
                },
                {
                  "0": "SO45696",
                  "1": "1",
                  "2": "2020-02-15",
                  "3": "Rafael Xie"
                },
                {
                  "0": "SO45695",
                  "1": "1",
                  "2": "2020-02-15",
                  "3": "Seth Phillips"
                },
                {
                  "0": "SO45697",
                  "1": "1",
                  "2": "2020-02-15",
                  "3": "Mya Gonzales"
                },
                {
                  "0": "SO45701",
                  "1": "1",
                  "2": "2020-02-16",
                  "3": "Nicole Taylor"
                },
                {
                  "0": "SO45700",
                  "1": "1",
                  "2": "2020-02-16",
                  "3": "Jonathan Phillips"
                },
                {
                  "0": "SO45702",
                  "1": "1",
                  "2": "2020-02-16",
                  "3": "Ann Malhotra"
                },
                {
                  "0": "SO45703",
                  "1": "1",
                  "2": "2020-02-16",
                  "3": "Darryl Liu"
                },
                {
                  "0": "SO45709",
                  "1": "1",
                  "2": "2020-02-17",
                  "3": "Tina Smith"
                },
                {
                  "0": "SO45710",
                  "1": "1",
                  "2": "2020-02-17",
                  "3": "Geoffrey Fernandez"
                },
                {
                  "0": "SO45708",
                  "1": "1",
                  "2": "2020-02-17",
                  "3": "Ruben Patel"
                },
                {
                  "0": "SO45711",
                  "1": "1",
                  "2": "2020-02-17",
                  "3": "Mariah Barnes"
                },
                {
                  "0": "SO45705",
                  "1": "1",
                  "2": "2020-02-17",
                  "3": "Jackson Phillips"
                },
                {
                  "0": "SO45706",
                  "1": "1",
                  "2": "2020-02-17",
                  "3": "David Diaz"
                },
                {
                  "0": "SO45712",
                  "1": "1",
                  "2": "2020-02-17",
                  "3": "Meagan Madan"
                },
                {
                  "0": "SO45707",
                  "1": "1",
                  "2": "2020-02-17",
                  "3": "Kaylee Cook"
                },
                {
                  "0": "SO45704",
                  "1": "1",
                  "2": "2020-02-17",
                  "3": "Stacy Torres"
                },
                {
                  "0": "SO45713",
                  "1": "1",
                  "2": "2020-02-18",
                  "3": "Colleen Cai"
                },
                {
                  "0": "SO45714",
                  "1": "1",
                  "2": "2020-02-18",
                  "3": "Cameron Lewis"
                },
                {
                  "0": "SO45715",
                  "1": "1",
                  "2": "2020-02-18",
                  "3": "Rosa Liang"
                },
                {
                  "0": "SO45716",
                  "1": "1",
                  "2": "2020-02-18",
                  "3": "Tony Kumar"
                },
                {
                  "0": "SO45720",
                  "1": "1",
                  "2": "2020-02-19",
                  "3": "Tina Gonzalez"
                },
                {
                  "0": "SO45719",
                  "1": "1",
                  "2": "2020-02-19",
                  "3": "Elijah Diaz"
                },
                {
                  "0": "SO45721",
                  "1": "1",
                  "2": "2020-02-19",
                  "3": "Candace Raman"
                },
                {
                  "0": "SO45718",
                  "1": "1",
                  "2": "2020-02-19",
                  "3": "Lauren Martinez"
                },
                {
                  "0": "SO45717",
                  "1": "1",
                  "2": "2020-02-19",
                  "3": "Elijah Ross"
                },
                {
                  "0": "SO45722",
                  "1": "1",
                  "2": "2020-02-19",
                  "3": "Rafael Tang"
                },
                {
                  "0": "SO45727",
                  "1": "1",
                  "2": "2020-02-20",
                  "3": "Nichole She"
                },
                {
                  "0": "SO45723",
                  "1": "1",
                  "2": "2020-02-20",
                  "3": "Katelyn Sanchez"
                },
                {
                  "0": "SO45724",
                  "1": "1",
                  "2": "2020-02-20",
                  "3": "Maurice Lal"
                },
                {
                  "0": "SO45726",
                  "1": "1",
                  "2": "2020-02-20",
                  "3": "Lance Gill"
                },
                {
                  "0": "SO45725",
                  "1": "1",
                  "2": "2020-02-20",
                  "3": "Rosa Zhang"
                },
                {
                  "0": "SO45728",
                  "1": "1",
                  "2": "2020-02-21",
                  "3": "Madison Hughes"
                },
                {
                  "0": "SO45731",
                  "1": "1",
                  "2": "2020-02-21",
                  "3": "Hunter Griffin"
                },
                {
                  "0": "SO45734",
                  "1": "1",
                  "2": "2020-02-21",
                  "3": "Haley Powell"
                },
                {
                  "0": "SO45733",
                  "1": "1",
                  "2": "2020-02-21",
                  "3": "Ryan Smith"
                },
                {
                  "0": "SO45732",
                  "1": "1",
                  "2": "2020-02-21",
                  "3": "Dakota Ross"
                },
                {
                  "0": "SO45739",
                  "1": "1",
                  "2": "2020-02-21",
                  "3": "Kate Raji"
                },
                {
                  "0": "SO45738",
                  "1": "1",
                  "2": "2020-02-21",
                  "3": "Byron Carlson"
                },
                {
                  "0": "SO45736",
                  "1": "1",
                  "2": "2020-02-21",
                  "3": "Phil Spencer"
                },
                {
                  "0": "SO45737",
                  "1": "1",
                  "2": "2020-02-21",
                  "3": "Jay Lopez"
                },
                {
                  "0": "SO45735",
                  "1": "1",
                  "2": "2020-02-21",
                  "3": "Cristina Nara"
                },
                {
                  "0": "SO45729",
                  "1": "1",
                  "2": "2020-02-21",
                  "3": "Robin Sanz"
                },
                {
                  "0": "SO45730",
                  "1": "1",
                  "2": "2020-02-21",
                  "3": "Phillip Sullivan"
                },
                {
                  "0": "SO45740",
                  "1": "1",
                  "2": "2020-02-22",
                  "3": "Robin Carlson"
                },
                {
                  "0": "SO45741",
                  "1": "1",
                  "2": "2020-02-22",
                  "3": "Kristen Hu"
                },
                {
                  "0": "SO45743",
                  "1": "1",
                  "2": "2020-02-22",
                  "3": "Timothy Scott"
                },
                {
                  "0": "SO45742",
                  "1": "1",
                  "2": "2020-02-22",
                  "3": "Andy Vazquez"
                },
                {
                  "0": "SO45744",
                  "1": "1",
                  "2": "2020-02-22",
                  "3": "Ann Gonzalez"
                },
                {
                  "0": "SO45747",
                  "1": "1",
                  "2": "2020-02-23",
                  "3": "Justin Washington"
                },
                {
                  "0": "SO45751",
                  "1": "1",
                  "2": "2020-02-23",
                  "3": "Charles Gonzalez"
                },
                {
                  "0": "SO45749",
                  "1": "1",
                  "2": "2020-02-23",
                  "3": "Steve Gao"
                },
                {
                  "0": "SO45745",
                  "1": "1",
                  "2": "2020-02-23",
                  "3": "Martin Prasad"
                },
                {
                  "0": "SO45752",
                  "1": "1",
                  "2": "2020-02-23",
                  "3": "Hector Vazquez"
                },
                {
                  "0": "SO45753",
                  "1": "1",
                  "2": "2020-02-23",
                  "3": "Abby Sanchez"
                },
                {
                  "0": "SO45748",
                  "1": "1",
                  "2": "2020-02-23",
                  "3": "Terry Jai"
                },
                {
                  "0": "SO45746",
                  "1": "1",
                  "2": "2020-02-23",
                  "3": "Zachary Flores"
                },
                {
                  "0": "SO45750",
                  "1": "1",
                  "2": "2020-02-23",
                  "3": "Nicholas Lee"
                },
                {
                  "0": "SO45755",
                  "1": "1",
                  "2": "2020-02-24",
                  "3": "Logan Chow"
                },
                {
                  "0": "SO45754",
                  "1": "1",
                  "2": "2020-02-24",
                  "3": "Austin Bryant"
                },
                {
                  "0": "SO45756",
                  "1": "1",
                  "2": "2020-02-24",
                  "3": "Zachary Moore"
                },
                {
                  "0": "SO45761",
                  "1": "1",
                  "2": "2020-02-25",
                  "3": "Isaiah Wright"
                },
                {
                  "0": "SO45759",
                  "1": "1",
                  "2": "2020-02-25",
                  "3": "Taylor Lewis"
                },
                {
                  "0": "SO45760",
                  "1": "1",
                  "2": "2020-02-25",
                  "3": "Andy Alvarez"
                },
                {
                  "0": "SO45762",
                  "1": "1",
                  "2": "2020-02-25",
                  "3": "Barry Martinez"
                },
                {
                  "0": "SO45757",
                  "1": "1",
                  "2": "2020-02-25",
                  "3": "Trisha Lin"
                },
                {
                  "0": "SO45758",
                  "1": "1",
                  "2": "2020-02-25",
                  "3": "Shannon Navarro"
                },
                {
                  "0": "SO45763",
                  "1": "1",
                  "2": "2020-02-25",
                  "3": "Tabitha Moreno"
                },
                {
                  "0": "SO45764",
                  "1": "1",
                  "2": "2020-02-25",
                  "3": "Douglas Rodriguez"
                },
                {
                  "0": "SO45770",
                  "1": "1",
                  "2": "2020-02-26",
                  "3": "Susan She"
                },
                {
                  "0": "SO45769",
                  "1": "1",
                  "2": "2020-02-26",
                  "3": "Jaime Moreno"
                },
                {
                  "0": "SO45767",
                  "1": "1",
                  "2": "2020-02-26",
                  "3": "Orlando Vazquez"
                },
                {
                  "0": "SO45768",
                  "1": "1",
                  "2": "2020-02-26",
                  "3": "Zachary Anderson"
                },
                {
                  "0": "SO45766",
                  "1": "1",
                  "2": "2020-02-26",
                  "3": "Noah Coleman"
                },
                {
                  "0": "SO45765",
                  "1": "1",
                  "2": "2020-02-26",
                  "3": "Ricky Vazquez"
                },
                {
                  "0": "SO45774",
                  "1": "1",
                  "2": "2020-02-27",
                  "3": "Stephanie Collins"
                },
                {
                  "0": "SO45771",
                  "1": "1",
                  "2": "2020-02-27",
                  "3": "Danielle Reed"
                },
                {
                  "0": "SO45773",
                  "1": "1",
                  "2": "2020-02-27",
                  "3": "Ni�ia Anand"
                },
                {
                  "0": "SO45772",
                  "1": "1",
                  "2": "2020-02-27",
                  "3": "Olivia Ramirez"
                },
                {
                  "0": "SO45776",
                  "1": "1",
                  "2": "2020-02-28",
                  "3": "Megan Harris"
                },
                {
                  "0": "SO45777",
                  "1": "1",
                  "2": "2020-02-28",
                  "3": "Sarah Garcia"
                },
                {
                  "0": "SO45775",
                  "1": "1",
                  "2": "2020-02-28",
                  "3": "Jos� Saraiva"
                },
                {
                  "0": "SO45778",
                  "1": "1",
                  "2": "2020-02-28",
                  "3": "Samuel Walker"
                },
                {
                  "0": "SO45817",
                  "1": "1",
                  "2": "2020-03-01",
                  "3": "Riley Simmons"
                },
                {
                  "0": "SO45818",
                  "1": "1",
                  "2": "2020-03-01",
                  "3": "Ariana Morgan"
                },
                {
                  "0": "SO45816",
                  "1": "1",
                  "2": "2020-03-01",
                  "3": "Taylor Garcia"
                },
                {
                  "0": "SO45820",
                  "1": "1",
                  "2": "2020-03-01",
                  "3": "Shawn Tang"
                },
                {
                  "0": "SO45819",
                  "1": "1",
                  "2": "2020-03-01",
                  "3": "George Garcia"
                },
                {
                  "0": "SO45822",
                  "1": "1",
                  "2": "2020-03-02",
                  "3": "Mindy Xu"
                },
                {
                  "0": "SO45823",
                  "1": "1",
                  "2": "2020-03-02",
                  "3": "Veronica Kapoor"
                },
                {
                  "0": "SO45821",
                  "1": "1",
                  "2": "2020-03-02",
                  "3": "Gloria Torres"
                },
                {
                  "0": "SO45829",
                  "1": "1",
                  "2": "2020-03-03",
                  "3": "Darren Malhotra"
                },
                {
                  "0": "SO45830",
                  "1": "1",
                  "2": "2020-03-03",
                  "3": "Jamie Guo"
                },
                {
                  "0": "SO45831",
                  "1": "1",
                  "2": "2020-03-03",
                  "3": "Rodney Blanco"
                },
                {
                  "0": "SO45827",
                  "1": "1",
                  "2": "2020-03-03",
                  "3": "Jon Pal"
                },
                {
                  "0": "SO45825",
                  "1": "1",
                  "2": "2020-03-03",
                  "3": "Dennis Ware"
                },
                {
                  "0": "SO45826",
                  "1": "1",
                  "2": "2020-03-03",
                  "3": "Jonathan Powell"
                },
                {
                  "0": "SO45832",
                  "1": "1",
                  "2": "2020-03-03",
                  "3": "Joe Rana"
                },
                {
                  "0": "SO45824",
                  "1": "1",
                  "2": "2020-03-03",
                  "3": "Mackenzie Campbell"
                },
                {
                  "0": "SO45828",
                  "1": "1",
                  "2": "2020-03-03",
                  "3": "Austin Foster"
                },
                {
                  "0": "SO45836",
                  "1": "1",
                  "2": "2020-03-04",
                  "3": "Nelson Harrison"
                },
                {
                  "0": "SO45835",
                  "1": "1",
                  "2": "2020-03-04",
                  "3": "Victoria Morris"
                },
                {
                  "0": "SO45839",
                  "1": "1",
                  "2": "2020-03-04",
                  "3": "Philip Carlson"
                },
                {
                  "0": "SO45833",
                  "1": "1",
                  "2": "2020-03-04",
                  "3": "Hannah Patterson"
                },
                {
                  "0": "SO45834",
                  "1": "1",
                  "2": "2020-03-04",
                  "3": "Joe Torres"
                },
                {
                  "0": "SO45838",
                  "1": "1",
                  "2": "2020-03-04",
                  "3": "Gina Dominguez"
                },
                {
                  "0": "SO45837",
                  "1": "1",
                  "2": "2020-03-04",
                  "3": "Clarence Ye"
                },
                {
                  "0": "SO45844",
                  "1": "1",
                  "2": "2020-03-05",
                  "3": "Andrew Rodriguez"
                },
                {
                  "0": "SO45843",
                  "1": "1",
                  "2": "2020-03-05",
                  "3": "Sierra Roberts"
                },
                {
                  "0": "SO45842",
                  "1": "1",
                  "2": "2020-03-05",
                  "3": "Edward Lewis"
                },
                {
                  "0": "SO45840",
                  "1": "1",
                  "2": "2020-03-05",
                  "3": "Latasha Rubio"
                },
                {
                  "0": "SO45841",
                  "1": "1",
                  "2": "2020-03-05",
                  "3": "Jaclyn Chander"
                },
                {
                  "0": "SO45848",
                  "1": "1",
                  "2": "2020-03-06",
                  "3": "Adam Gonzalez"
                },
                {
                  "0": "SO45849",
                  "1": "1",
                  "2": "2020-03-06",
                  "3": "Raul Luo"
                },
                {
                  "0": "SO45845",
                  "1": "1",
                  "2": "2020-03-06",
                  "3": "Benjamin Shan"
                },
                {
                  "0": "SO45846",
                  "1": "1",
                  "2": "2020-03-06",
                  "3": "Joseph Jackson"
                },
                {
                  "0": "SO45847",
                  "1": "1",
                  "2": "2020-03-06",
                  "3": "Gabriel Chow"
                },
                {
                  "0": "SO45856",
                  "1": "1",
                  "2": "2020-03-07",
                  "3": "Kristina Lopez"
                },
                {
                  "0": "SO45852",
                  "1": "1",
                  "2": "2020-03-07",
                  "3": "Chad Shen"
                },
                {
                  "0": "SO45853",
                  "1": "1",
                  "2": "2020-03-07",
                  "3": "Isabelle Barnes"
                },
                {
                  "0": "SO45854",
                  "1": "1",
                  "2": "2020-03-07",
                  "3": "Dominique Subram"
                },
                {
                  "0": "SO45855",
                  "1": "1",
                  "2": "2020-03-07",
                  "3": "Grant Pal"
                },
                {
                  "0": "SO45851",
                  "1": "1",
                  "2": "2020-03-07",
                  "3": "Greg Taylor"
                },
                {
                  "0": "SO45850",
                  "1": "1",
                  "2": "2020-03-07",
                  "3": "Seth Mitchell"
                },
                {
                  "0": "SO45857",
                  "1": "1",
                  "2": "2020-03-07",
                  "3": "Warren Andersen"
                },
                {
                  "0": "SO45858",
                  "1": "1",
                  "2": "2020-03-07",
                  "3": "Dorothy Robinson"
                },
                {
                  "0": "SO45859",
                  "1": "1",
                  "2": "2020-03-08",
                  "3": "Lindsey Deng"
                },
                {
                  "0": "SO45861",
                  "1": "1",
                  "2": "2020-03-08",
                  "3": "Aaron Wright"
                },
                {
                  "0": "SO45860",
                  "1": "1",
                  "2": "2020-03-08",
                  "3": "Anthony Rodriguez"
                },
                {
                  "0": "SO45866",
                  "1": "1",
                  "2": "2020-03-09",
                  "3": "Kelli Wu"
                },
                {
                  "0": "SO45865",
                  "1": "1",
                  "2": "2020-03-09",
                  "3": "Riley Reed"
                },
                {
                  "0": "SO45864",
                  "1": "1",
                  "2": "2020-03-09",
                  "3": "Katrina Chande"
                },
                {
                  "0": "SO45863",
                  "1": "1",
                  "2": "2020-03-09",
                  "3": "Ryan Zhang"
                },
                {
                  "0": "SO45862",
                  "1": "1",
                  "2": "2020-03-09",
                  "3": "Ernest Xu"
                },
                {
                  "0": "SO45868",
                  "1": "1",
                  "2": "2020-03-10",
                  "3": "Dana Ruiz"
                },
                {
                  "0": "SO45869",
                  "1": "1",
                  "2": "2020-03-10",
                  "3": "Jessica Martin"
                },
                {
                  "0": "SO45867",
                  "1": "1",
                  "2": "2020-03-10",
                  "3": "Cameron Moore"
                },
                {
                  "0": "SO45871",
                  "1": "1",
                  "2": "2020-03-10",
                  "3": "Dana Ramos"
                },
                {
                  "0": "SO45870",
                  "1": "1",
                  "2": "2020-03-10",
                  "3": "Mark Bebbington"
                },
                {
                  "0": "SO45876",
                  "1": "1",
                  "2": "2020-03-11",
                  "3": "Brittney Zhang"
                },
                {
                  "0": "SO45874",
                  "1": "1",
                  "2": "2020-03-11",
                  "3": "Ashley Alexander"
                },
                {
                  "0": "SO45875",
                  "1": "1",
                  "2": "2020-03-11",
                  "3": "Christopher Thomas"
                },
                {
                  "0": "SO45873",
                  "1": "1",
                  "2": "2020-03-11",
                  "3": "Ashlee Jai"
                },
                {
                  "0": "SO45877",
                  "1": "1",
                  "2": "2020-03-11",
                  "3": "Jaclyn Zheng"
                },
                {
                  "0": "SO45872",
                  "1": "1",
                  "2": "2020-03-11",
                  "3": "Cindy Patel"
                },
                {
                  "0": "SO45884",
                  "1": "1",
                  "2": "2020-03-12",
                  "3": "Johnny Chavez"
                },
                {
                  "0": "SO45882",
                  "1": "1",
                  "2": "2020-03-12",
                  "3": "Allison Gonzalez"
                },
                {
                  "0": "SO45880",
                  "1": "1",
                  "2": "2020-03-12",
                  "3": "Natalie Cook"
                },
                {
                  "0": "SO45889",
                  "1": "1",
                  "2": "2020-03-12",
                  "3": "Adrienne Gomez"
                },
                {
                  "0": "SO45883",
                  "1": "1",
                  "2": "2020-03-12",
                  "3": "Jessie Wang"
                },
                {
                  "0": "SO45885",
                  "1": "1",
                  "2": "2020-03-12",
                  "3": "Larry Vazquez"
                },
                {
                  "0": "SO45878",
                  "1": "1",
                  "2": "2020-03-12",
                  "3": "Teresa Vazquez"
                },
                {
                  "0": "SO45887",
                  "1": "1",
                  "2": "2020-03-12",
                  "3": "Jessica Ross"
                },
                {
                  "0": "SO45888",
                  "1": "1",
                  "2": "2020-03-12",
                  "3": "Valerie Wang"
                },
                {
                  "0": "SO45879",
                  "1": "1",
                  "2": "2020-03-12",
                  "3": "Dominic Raman"
                },
                {
                  "0": "SO45881",
                  "1": "1",
                  "2": "2020-03-12",
                  "3": "Isabelle Bryant"
                },
                {
                  "0": "SO45886",
                  "1": "1",
                  "2": "2020-03-12",
                  "3": "Devin Griffin"
                },
                {
                  "0": "SO45893",
                  "1": "1",
                  "2": "2020-03-13",
                  "3": "Connor Bryant"
                },
                {
                  "0": "SO45892",
                  "1": "1",
                  "2": "2020-03-13",
                  "3": "Valerie She"
                },
                {
                  "0": "SO45890",
                  "1": "1",
                  "2": "2020-03-13",
                  "3": "Frank Navarro"
                },
                {
                  "0": "SO45891",
                  "1": "1",
                  "2": "2020-03-13",
                  "3": "Mitchell Kumar"
                },
                {
                  "0": "SO45895",
                  "1": "1",
                  "2": "2020-03-14",
                  "3": "Benjamin Taylor"
                },
                {
                  "0": "SO45896",
                  "1": "1",
                  "2": "2020-03-14",
                  "3": "Bonnie Nath"
                },
                {
                  "0": "SO45894",
                  "1": "1",
                  "2": "2020-03-14",
                  "3": "Keith Lal"
                },
                {
                  "0": "SO45904",
                  "1": "1",
                  "2": "2020-03-15",
                  "3": "Cesar Mehta"
                },
                {
                  "0": "SO45907",
                  "1": "1",
                  "2": "2020-03-15",
                  "3": "Trisha Liu"
                },
                {
                  "0": "SO45906",
                  "1": "1",
                  "2": "2020-03-15",
                  "3": "Ernest Zhu"
                },
                {
                  "0": "SO45905",
                  "1": "1",
                  "2": "2020-03-15",
                  "3": "Rafael She"
                },
                {
                  "0": "SO45902",
                  "1": "1",
                  "2": "2020-03-15",
                  "3": "Faith Simmons"
                },
                {
                  "0": "SO45903",
                  "1": "1",
                  "2": "2020-03-15",
                  "3": "Levi Subram"
                },
                {
                  "0": "SO45898",
                  "1": "1",
                  "2": "2020-03-15",
                  "3": "Cameron White"
                },
                {
                  "0": "SO45901",
                  "1": "1",
                  "2": "2020-03-15",
                  "3": "Janet Dominguez"
                },
                {
                  "0": "SO45899",
                  "1": "1",
                  "2": "2020-03-15",
                  "3": "Morgan Miller"
                },
                {
                  "0": "SO45900",
                  "1": "1",
                  "2": "2020-03-15",
                  "3": "Haley Alexander"
                },
                {
                  "0": "SO45897",
                  "1": "1",
                  "2": "2020-03-15",
                  "3": "Mathew Rubio"
                },
                {
                  "0": "SO45908",
                  "1": "1",
                  "2": "2020-03-15",
                  "3": "Kaylee Hill"
                },
                {
                  "0": "SO45909",
                  "1": "1",
                  "2": "2020-03-15",
                  "3": "Jenny Zheng"
                },
                {
                  "0": "SO45916",
                  "1": "1",
                  "2": "2020-03-16",
                  "3": "Sharon Salavaria"
                },
                {
                  "0": "SO45914",
                  "1": "1",
                  "2": "2020-03-16",
                  "3": "Virginia Gonzalez"
                },
                {
                  "0": "SO45915",
                  "1": "1",
                  "2": "2020-03-16",
                  "3": "Jaclyn Nara"
                },
                {
                  "0": "SO45911",
                  "1": "1",
                  "2": "2020-03-16",
                  "3": "Devin Coleman"
                },
                {
                  "0": "SO45910",
                  "1": "1",
                  "2": "2020-03-16",
                  "3": "Miranda Long"
                },
                {
                  "0": "SO45912",
                  "1": "1",
                  "2": "2020-03-16",
                  "3": "Vanessa Washington"
                },
                {
                  "0": "SO45913",
                  "1": "1",
                  "2": "2020-03-16",
                  "3": "Olivia Torres"
                },
                {
                  "0": "SO45920",
                  "1": "1",
                  "2": "2020-03-17",
                  "3": "Morgan Rodriguez"
                },
                {
                  "0": "SO45922",
                  "1": "1",
                  "2": "2020-03-17",
                  "3": "Jose Thompson"
                },
                {
                  "0": "SO45921",
                  "1": "1",
                  "2": "2020-03-17",
                  "3": "Brendan Chande"
                },
                {
                  "0": "SO45919",
                  "1": "1",
                  "2": "2020-03-17",
                  "3": "Jessica Alexander"
                },
                {
                  "0": "SO45923",
                  "1": "1",
                  "2": "2020-03-17",
                  "3": "Abigail Brooks"
                },
                {
                  "0": "SO45925",
                  "1": "1",
                  "2": "2020-03-17",
                  "3": "George Gonzalez"
                },
                {
                  "0": "SO45918",
                  "1": "1",
                  "2": "2020-03-17",
                  "3": "Tamara Chander"
                },
                {
                  "0": "SO45917",
                  "1": "1",
                  "2": "2020-03-17",
                  "3": "Deanna Ramos"
                },
                {
                  "0": "SO45924",
                  "1": "1",
                  "2": "2020-03-17",
                  "3": "Stacy Martin"
                },
                {
                  "0": "SO45928",
                  "1": "1",
                  "2": "2020-03-18",
                  "3": "Mary Patterson"
                },
                {
                  "0": "SO45929",
                  "1": "1",
                  "2": "2020-03-18",
                  "3": "Aimee She"
                },
                {
                  "0": "SO45927",
                  "1": "1",
                  "2": "2020-03-18",
                  "3": "Isabel Jenkins"
                },
                {
                  "0": "SO45926",
                  "1": "1",
                  "2": "2020-03-18",
                  "3": "Benjamin Coleman"
                },
                {
                  "0": "SO45931",
                  "1": "1",
                  "2": "2020-03-18",
                  "3": "Tasha Kumar"
                },
                {
                  "0": "SO45932",
                  "1": "1",
                  "2": "2020-03-18",
                  "3": "Scott Rodgers"
                },
                {
                  "0": "SO45930",
                  "1": "1",
                  "2": "2020-03-18",
                  "3": "Jaclyn Huang"
                },
                {
                  "0": "SO45935",
                  "1": "1",
                  "2": "2020-03-19",
                  "3": "Franklin Xu"
                },
                {
                  "0": "SO45933",
                  "1": "1",
                  "2": "2020-03-19",
                  "3": "Sarah Jackson"
                },
                {
                  "0": "SO45934",
                  "1": "1",
                  "2": "2020-03-19",
                  "3": "Angel Baker"
                },
                {
                  "0": "SO45936",
                  "1": "1",
                  "2": "2020-03-19",
                  "3": "Fernando King"
                },
                {
                  "0": "SO45938",
                  "1": "1",
                  "2": "2020-03-20",
                  "3": "Ariana Sanchez"
                },
                {
                  "0": "SO45946",
                  "1": "1",
                  "2": "2020-03-20",
                  "3": "Meagan Rana"
                },
                {
                  "0": "SO45947",
                  "1": "1",
                  "2": "2020-03-20",
                  "3": "Dawn Huang"
                },
                {
                  "0": "SO45939",
                  "1": "1",
                  "2": "2020-03-20",
                  "3": "Elizabeth Garcia"
                },
                {
                  "0": "SO45937",
                  "1": "1",
                  "2": "2020-03-20",
                  "3": "Miguel Baker"
                },
                {
                  "0": "SO45943",
                  "1": "1",
                  "2": "2020-03-20",
                  "3": "Kaylee Sanders"
                },
                {
                  "0": "SO45944",
                  "1": "1",
                  "2": "2020-03-20",
                  "3": "Sharon Rai"
                },
                {
                  "0": "SO45940",
                  "1": "1",
                  "2": "2020-03-20",
                  "3": "Dawn Raji"
                },
                {
                  "0": "SO45941",
                  "1": "1",
                  "2": "2020-03-20",
                  "3": "Marshall Yuan"
                },
                {
                  "0": "SO45942",
                  "1": "1",
                  "2": "2020-03-20",
                  "3": "Colleen Harrison"
                },
                {
                  "0": "SO45945",
                  "1": "1",
                  "2": "2020-03-20",
                  "3": "Orlando Gutierrez"
                },
                {
                  "0": "SO45950",
                  "1": "1",
                  "2": "2020-03-21",
                  "3": "George Fernandez"
                },
                {
                  "0": "SO45949",
                  "1": "1",
                  "2": "2020-03-21",
                  "3": "Tanya Jimenez"
                },
                {
                  "0": "SO45948",
                  "1": "1",
                  "2": "2020-03-21",
                  "3": "Andrea Richardson"
                },
                {
                  "0": "SO45951",
                  "1": "1",
                  "2": "2020-03-21",
                  "3": "Rachael Rodriguez"
                },
                {
                  "0": "SO45952",
                  "1": "1",
                  "2": "2020-03-21",
                  "3": "Randy Xu"
                },
                {
                  "0": "SO45954",
                  "1": "1",
                  "2": "2020-03-22",
                  "3": "Antonio Washington"
                },
                {
                  "0": "SO45956",
                  "1": "1",
                  "2": "2020-03-22",
                  "3": "Janet Browning"
                },
                {
                  "0": "SO45953",
                  "1": "1",
                  "2": "2020-03-22",
                  "3": "Megan Anderson"
                },
                {
                  "0": "SO45955",
                  "1": "1",
                  "2": "2020-03-22",
                  "3": "Ethan Foster"
                },
                {
                  "0": "SO45965",
                  "1": "1",
                  "2": "2020-03-23",
                  "3": "Colin Shan"
                },
                {
                  "0": "SO45964",
                  "1": "1",
                  "2": "2020-03-23",
                  "3": "Ioannis Xylaras"
                },
                {
                  "0": "SO45962",
                  "1": "1",
                  "2": "2020-03-23",
                  "3": "Louis Zhang"
                },
                {
                  "0": "SO45963",
                  "1": "1",
                  "2": "2020-03-23",
                  "3": "Anna Watson"
                },
                {
                  "0": "SO45957",
                  "1": "1",
                  "2": "2020-03-23",
                  "3": "Juan Gray"
                },
                {
                  "0": "SO45958",
                  "1": "1",
                  "2": "2020-03-23",
                  "3": "Daniel Garcia"
                },
                {
                  "0": "SO45959",
                  "1": "1",
                  "2": "2020-03-23",
                  "3": "Faith Patterson"
                },
                {
                  "0": "SO45966",
                  "1": "1",
                  "2": "2020-03-23",
                  "3": "Brandy Saunders"
                },
                {
                  "0": "SO45960",
                  "1": "1",
                  "2": "2020-03-23",
                  "3": "Jessica Brown"
                },
                {
                  "0": "SO45961",
                  "1": "1",
                  "2": "2020-03-23",
                  "3": "Hannah Wood"
                },
                {
                  "0": "SO45970",
                  "1": "1",
                  "2": "2020-03-24",
                  "3": "Antonio Patterson"
                },
                {
                  "0": "SO45968",
                  "1": "1",
                  "2": "2020-03-24",
                  "3": "Fernando Flores"
                },
                {
                  "0": "SO45969",
                  "1": "1",
                  "2": "2020-03-24",
                  "3": "Jay Madan"
                },
                {
                  "0": "SO45967",
                  "1": "1",
                  "2": "2020-03-24",
                  "3": "Roger Sharma"
                },
                {
                  "0": "SO45972",
                  "1": "1",
                  "2": "2020-03-25",
                  "3": "Heidi Sara"
                },
                {
                  "0": "SO45977",
                  "1": "1",
                  "2": "2020-03-25",
                  "3": "Shawn Chander"
                },
                {
                  "0": "SO45976",
                  "1": "1",
                  "2": "2020-03-25",
                  "3": "Jill Ortega"
                },
                {
                  "0": "SO45973",
                  "1": "1",
                  "2": "2020-03-25",
                  "3": "Gavin Diaz"
                },
                {
                  "0": "SO45978",
                  "1": "1",
                  "2": "2020-03-25",
                  "3": "Latasha Munoz"
                },
                {
                  "0": "SO45971",
                  "1": "1",
                  "2": "2020-03-25",
                  "3": "Carla Raman"
                },
                {
                  "0": "SO45975",
                  "1": "1",
                  "2": "2020-03-25",
                  "3": "Robert Davis"
                },
                {
                  "0": "SO45974",
                  "1": "1",
                  "2": "2020-03-25",
                  "3": "Zachary Thompson"
                },
                {
                  "0": "SO45981",
                  "1": "1",
                  "2": "2020-03-26",
                  "3": "Marvin Moreno"
                },
                {
                  "0": "SO45982",
                  "1": "1",
                  "2": "2020-03-26",
                  "3": "Kristine Gill"
                },
                {
                  "0": "SO45979",
                  "1": "1",
                  "2": "2020-03-26",
                  "3": "Nichole Tang"
                },
                {
                  "0": "SO45980",
                  "1": "1",
                  "2": "2020-03-26",
                  "3": "Clayton Andersen"
                },
                {
                  "0": "SO45990",
                  "1": "1",
                  "2": "2020-03-27",
                  "3": "Heather Zheng"
                },
                {
                  "0": "SO45989",
                  "1": "1",
                  "2": "2020-03-27",
                  "3": "Clarence Gao"
                },
                {
                  "0": "SO45988",
                  "1": "1",
                  "2": "2020-03-27",
                  "3": "Devin Martinez"
                },
                {
                  "0": "SO45985",
                  "1": "1",
                  "2": "2020-03-27",
                  "3": "Elizabeth Weisman"
                },
                {
                  "0": "SO45984",
                  "1": "1",
                  "2": "2020-03-27",
                  "3": "Caroline Butler"
                },
                {
                  "0": "SO45986",
                  "1": "1",
                  "2": "2020-03-27",
                  "3": "Chase Kelly"
                },
                {
                  "0": "SO45991",
                  "1": "1",
                  "2": "2020-03-27",
                  "3": "Audrey Ramos"
                },
                {
                  "0": "SO45987",
                  "1": "1",
                  "2": "2020-03-27",
                  "3": "Jason Mitchell"
                },
                {
                  "0": "SO45983",
                  "1": "1",
                  "2": "2020-03-27",
                  "3": "Isabella Ward"
                },
                {
                  "0": "SO45997",
                  "1": "1",
                  "2": "2020-03-28",
                  "3": "Charles Reed"
                },
                {
                  "0": "SO45996",
                  "1": "1",
                  "2": "2020-03-28",
                  "3": "Tyler Brown"
                },
                {
                  "0": "SO45994",
                  "1": "1",
                  "2": "2020-03-28",
                  "3": "Emma Sanchez"
                },
                {
                  "0": "SO45993",
                  "1": "1",
                  "2": "2020-03-28",
                  "3": "Ian Long"
                },
                {
                  "0": "SO45992",
                  "1": "1",
                  "2": "2020-03-28",
                  "3": "Pedro Sara"
                },
                {
                  "0": "SO45998",
                  "1": "1",
                  "2": "2020-03-28",
                  "3": "Carly Anand"
                },
                {
                  "0": "SO45995",
                  "1": "1",
                  "2": "2020-03-28",
                  "3": "Aidan Diaz"
                },
                {
                  "0": "SO46001",
                  "1": "1",
                  "2": "2020-03-29",
                  "3": "Olivia Foster"
                },
                {
                  "0": "SO45999",
                  "1": "1",
                  "2": "2020-03-29",
                  "3": "Brianna Martin"
                },
                {
                  "0": "SO46006",
                  "1": "1",
                  "2": "2020-03-29",
                  "3": "Cesar Chandra"
                },
                {
                  "0": "SO46007",
                  "1": "1",
                  "2": "2020-03-29",
                  "3": "Wendy Carlson"
                },
                {
                  "0": "SO46009",
                  "1": "1",
                  "2": "2020-03-29",
                  "3": "Roy Sanz"
                },
                {
                  "0": "SO46008",
                  "1": "1",
                  "2": "2020-03-29",
                  "3": "Rachael Sai"
                },
                {
                  "0": "SO46000",
                  "1": "1",
                  "2": "2020-03-29",
                  "3": "Haley Henderson"
                },
                {
                  "0": "SO46003",
                  "1": "1",
                  "2": "2020-03-29",
                  "3": "Christian Ross"
                },
                {
                  "0": "SO46002",
                  "1": "1",
                  "2": "2020-03-29",
                  "3": "Jessie Alonso"
                },
                {
                  "0": "SO46004",
                  "1": "1",
                  "2": "2020-03-29",
                  "3": "Alyssa Morgan"
                },
                {
                  "0": "SO46005",
                  "1": "1",
                  "2": "2020-03-29",
                  "3": "Miguel Lee"
                },
                {
                  "0": "SO46018",
                  "1": "1",
                  "2": "2020-03-30",
                  "3": "Seth Williams"
                },
                {
                  "0": "SO46013",
                  "1": "1",
                  "2": "2020-03-30",
                  "3": "Brooke Richardson"
                },
                {
                  "0": "SO46010",
                  "1": "1",
                  "2": "2020-03-30",
                  "3": "Jermaine Lopez"
                },
                {
                  "0": "SO46011",
                  "1": "1",
                  "2": "2020-03-30",
                  "3": "Deborah Goel"
                },
                {
                  "0": "SO46016",
                  "1": "1",
                  "2": "2020-03-30",
                  "3": "Kurt Sharma"
                },
                {
                  "0": "SO46017",
                  "1": "1",
                  "2": "2020-03-30",
                  "3": "Katelyn Parker"
                },
                {
                  "0": "SO46022",
                  "1": "1",
                  "2": "2020-03-30",
                  "3": "Kelsey Becker"
                },
                {
                  "0": "SO46019",
                  "1": "1",
                  "2": "2020-03-30",
                  "3": "Seth Turner"
                },
                {
                  "0": "SO46020",
                  "1": "1",
                  "2": "2020-03-30",
                  "3": "Raymond Arthur"
                },
                {
                  "0": "SO46021",
                  "1": "1",
                  "2": "2020-03-30",
                  "3": "Jeffery Lu"
                },
                {
                  "0": "SO46012",
                  "1": "1",
                  "2": "2020-03-30",
                  "3": "Veronica Rana"
                },
                {
                  "0": "SO46015",
                  "1": "1",
                  "2": "2020-03-30",
                  "3": "Joshua Rodriguez"
                },
                {
                  "0": "SO46014",
                  "1": "1",
                  "2": "2020-03-30",
                  "3": "Kaitlyn Long"
                },
                {
                  "0": "SO46119",
                  "1": "1",
                  "2": "2020-03-31",
                  "3": "Tiffany Guo"
                },
                {
                  "0": "SO46117",
                  "1": "1",
                  "2": "2020-03-31",
                  "3": "Clayton Rai"
                },
                {
                  "0": "SO46118",
                  "1": "1",
                  "2": "2020-03-31",
                  "3": "Carla Sullivan"
                },
                {
                  "0": "SO46116",
                  "1": "1",
                  "2": "2020-03-31",
                  "3": "Emma Taylor"
                },
                {
                  "0": "SO46113",
                  "1": "1",
                  "2": "2020-03-31",
                  "3": "Gabriel Green"
                },
                {
                  "0": "SO46112",
                  "1": "1",
                  "2": "2020-03-31",
                  "3": "Dennis Huang"
                },
                {
                  "0": "SO46108",
                  "1": "1",
                  "2": "2020-03-31",
                  "3": "Devin Henderson"
                },
                {
                  "0": "SO46114",
                  "1": "1",
                  "2": "2020-03-31",
                  "3": "Cedric Gao"
                },
                {
                  "0": "SO46111",
                  "1": "1",
                  "2": "2020-03-31",
                  "3": "Devin Perez"
                },
                {
                  "0": "SO46115",
                  "1": "1",
                  "2": "2020-03-31",
                  "3": "Mariah Ross"
                },
                {
                  "0": "SO46109",
                  "1": "1",
                  "2": "2020-03-31",
                  "3": "Sebastian Stewart"
                },
                {
                  "0": "SO46110",
                  "1": "1",
                  "2": "2020-03-31",
                  "3": "Abigail Howard"
                },
                {
                  "0": "SO46123",
                  "1": "1",
                  "2": "2020-04-01",
                  "3": "Adrian Ramirez"
                },
                {
                  "0": "SO46121",
                  "1": "1",
                  "2": "2020-04-01",
                  "3": "Garrett Kelly"
                },
                {
                  "0": "SO46120",
                  "1": "1",
                  "2": "2020-04-01",
                  "3": "Fernando Johnson"
                },
                {
                  "0": "SO46124",
                  "1": "1",
                  "2": "2020-04-01",
                  "3": "Jodi Goel"
                },
                {
                  "0": "SO46122",
                  "1": "1",
                  "2": "2020-04-01",
                  "3": "Melissa Sanders"
                },
                {
                  "0": "SO46129",
                  "1": "1",
                  "2": "2020-04-02",
                  "3": "Evelyn Mehta"
                },
                {
                  "0": "SO46125",
                  "1": "1",
                  "2": "2020-04-02",
                  "3": "Alexandria Sandberg"
                },
                {
                  "0": "SO46128",
                  "1": "1",
                  "2": "2020-04-02",
                  "3": "Samantha Lewis"
                },
                {
                  "0": "SO46126",
                  "1": "1",
                  "2": "2020-04-02",
                  "3": "Gabrielle Barnes"
                },
                {
                  "0": "SO46127",
                  "1": "1",
                  "2": "2020-04-02",
                  "3": "Connor Hernandez"
                },
                {
                  "0": "SO46138",
                  "1": "1",
                  "2": "2020-04-03",
                  "3": "Ethan Bryant"
                },
                {
                  "0": "SO46139",
                  "1": "1",
                  "2": "2020-04-03",
                  "3": "Bonnie Jai"
                },
                {
                  "0": "SO46131",
                  "1": "1",
                  "2": "2020-04-03",
                  "3": "Joseph Garcia"
                },
                {
                  "0": "SO46140",
                  "1": "1",
                  "2": "2020-04-03",
                  "3": "Frederick Martinez"
                },
                {
                  "0": "SO46133",
                  "1": "1",
                  "2": "2020-04-03",
                  "3": "Abigail Foster"
                },
                {
                  "0": "SO46130",
                  "1": "1",
                  "2": "2020-04-03",
                  "3": "Alyssa Cooper"
                },
                {
                  "0": "SO46135",
                  "1": "1",
                  "2": "2020-04-03",
                  "3": "Dale Goel"
                },
                {
                  "0": "SO46136",
                  "1": "1",
                  "2": "2020-04-03",
                  "3": "Johnathan Perez"
                },
                {
                  "0": "SO46134",
                  "1": "1",
                  "2": "2020-04-03",
                  "3": "Jenny Andersen"
                },
                {
                  "0": "SO46132",
                  "1": "1",
                  "2": "2020-04-03",
                  "3": "Lori Sanz"
                },
                {
                  "0": "SO46137",
                  "1": "1",
                  "2": "2020-04-03",
                  "3": "Dennis Hu"
                },
                {
                  "0": "SO46142",
                  "1": "1",
                  "2": "2020-04-04",
                  "3": "Gabrielle Peterson"
                },
                {
                  "0": "SO46141",
                  "1": "1",
                  "2": "2020-04-04",
                  "3": "Allison Edwards"
                },
                {
                  "0": "SO46145",
                  "1": "1",
                  "2": "2020-04-04",
                  "3": "Eric Griffin"
                },
                {
                  "0": "SO46143",
                  "1": "1",
                  "2": "2020-04-04",
                  "3": "Mathew Moreno"
                },
                {
                  "0": "SO46144",
                  "1": "1",
                  "2": "2020-04-04",
                  "3": "Sarah Butler"
                },
                {
                  "0": "SO46151",
                  "1": "1",
                  "2": "2020-04-05",
                  "3": "Christian Johnson"
                },
                {
                  "0": "SO46149",
                  "1": "1",
                  "2": "2020-04-05",
                  "3": "Xavier Simmons"
                },
                {
                  "0": "SO46154",
                  "1": "1",
                  "2": "2020-04-05",
                  "3": "Kara Anand"
                },
                {
                  "0": "SO46148",
                  "1": "1",
                  "2": "2020-04-05",
                  "3": "Makayla Ward"
                },
                {
                  "0": "SO46146",
                  "1": "1",
                  "2": "2020-04-05",
                  "3": "Amy Sun"
                },
                {
                  "0": "SO46147",
                  "1": "1",
                  "2": "2020-04-05",
                  "3": "Sarah Anderson"
                },
                {
                  "0": "SO46152",
                  "1": "1",
                  "2": "2020-04-05",
                  "3": "Marie Romero"
                },
                {
                  "0": "SO46153",
                  "1": "1",
                  "2": "2020-04-05",
                  "3": "Mario Sharma"
                },
                {
                  "0": "SO46150",
                  "1": "1",
                  "2": "2020-04-05",
                  "3": "Patricia Patel"
                },
                {
                  "0": "SO46158",
                  "1": "1",
                  "2": "2020-04-06",
                  "3": "Larry Gutierrez"
                },
                {
                  "0": "SO46155",
                  "1": "1",
                  "2": "2020-04-06",
                  "3": "Chloe Washington"
                },
                {
                  "0": "SO46159",
                  "1": "1",
                  "2": "2020-04-06",
                  "3": "Veronica Srini"
                },
                {
                  "0": "SO46156",
                  "1": "1",
                  "2": "2020-04-06",
                  "3": "Miguel Sanchez"
                },
                {
                  "0": "SO46157",
                  "1": "1",
                  "2": "2020-04-06",
                  "3": "Karen Zeng"
                },
                {
                  "0": "SO46169",
                  "1": "1",
                  "2": "2020-04-07",
                  "3": "Bailey Bailey"
                },
                {
                  "0": "SO46165",
                  "1": "1",
                  "2": "2020-04-07",
                  "3": "Kaitlyn Lee"
                },
                {
                  "0": "SO46162",
                  "1": "1",
                  "2": "2020-04-07",
                  "3": "Aaron Wang"
                },
                {
                  "0": "SO46161",
                  "1": "1",
                  "2": "2020-04-07",
                  "3": "Nicolas Chander"
                },
                {
                  "0": "SO46167",
                  "1": "1",
                  "2": "2020-04-07",
                  "3": "Kristina Kapoor"
                },
                {
                  "0": "SO46164",
                  "1": "1",
                  "2": "2020-04-07",
                  "3": "Nathaniel Cooper"
                },
                {
                  "0": "SO46163",
                  "1": "1",
                  "2": "2020-04-07",
                  "3": "Alex Carter"
                },
                {
                  "0": "SO46160",
                  "1": "1",
                  "2": "2020-04-07",
                  "3": "Sydney Bryant"
                },
                {
                  "0": "SO46168",
                  "1": "1",
                  "2": "2020-04-07",
                  "3": "Deanna Schmidt"
                },
                {
                  "0": "SO46166",
                  "1": "1",
                  "2": "2020-04-07",
                  "3": "Marcus Hayes"
                },
                {
                  "0": "SO46173",
                  "1": "1",
                  "2": "2020-04-08",
                  "3": "Katie Shen"
                },
                {
                  "0": "SO46171",
                  "1": "1",
                  "2": "2020-04-08",
                  "3": "Evan Campbell"
                },
                {
                  "0": "SO46174",
                  "1": "1",
                  "2": "2020-04-08",
                  "3": "Cara Hu"
                },
                {
                  "0": "SO46172",
                  "1": "1",
                  "2": "2020-04-08",
                  "3": "Ana Washington"
                },
                {
                  "0": "SO46175",
                  "1": "1",
                  "2": "2020-04-08",
                  "3": "Audrey Munoz"
                },
                {
                  "0": "SO46170",
                  "1": "1",
                  "2": "2020-04-08",
                  "3": "Bonnie Raji"
                },
                {
                  "0": "SO46177",
                  "1": "1",
                  "2": "2020-04-09",
                  "3": "Devin Simmons"
                },
                {
                  "0": "SO46176",
                  "1": "1",
                  "2": "2020-04-09",
                  "3": "Andre Perez"
                },
                {
                  "0": "SO46178",
                  "1": "1",
                  "2": "2020-04-09",
                  "3": "Jon Yuan"
                },
                {
                  "0": "SO46181",
                  "1": "1",
                  "2": "2020-04-10",
                  "3": "Jarrod Suri"
                },
                {
                  "0": "SO46180",
                  "1": "1",
                  "2": "2020-04-10",
                  "3": "Aidan Perry"
                },
                {
                  "0": "SO46182",
                  "1": "1",
                  "2": "2020-04-10",
                  "3": "Kelvin Carson"
                },
                {
                  "0": "SO46179",
                  "1": "1",
                  "2": "2020-04-10",
                  "3": "Cheryl Ortega"
                },
                {
                  "0": "SO46186",
                  "1": "1",
                  "2": "2020-04-11",
                  "3": "Seth Martin"
                },
                {
                  "0": "SO46191",
                  "1": "1",
                  "2": "2020-04-11",
                  "3": "Krista Romero"
                },
                {
                  "0": "SO46184",
                  "1": "1",
                  "2": "2020-04-11",
                  "3": "Ebony Jimenez"
                },
                {
                  "0": "SO46187",
                  "1": "1",
                  "2": "2020-04-11",
                  "3": "Jill Martinez"
                },
                {
                  "0": "SO46189",
                  "1": "1",
                  "2": "2020-04-11",
                  "3": "Jocelyn Coleman"
                },
                {
                  "0": "SO46188",
                  "1": "1",
                  "2": "2020-04-11",
                  "3": "Maurice Ashe"
                },
                {
                  "0": "SO46190",
                  "1": "1",
                  "2": "2020-04-11",
                  "3": "Gerald Madan"
                },
                {
                  "0": "SO46185",
                  "1": "1",
                  "2": "2020-04-11",
                  "3": "Gloria Carlson"
                },
                {
                  "0": "SO46183",
                  "1": "1",
                  "2": "2020-04-11",
                  "3": "Bethany Tang"
                },
                {
                  "0": "SO46198",
                  "1": "1",
                  "2": "2020-04-12",
                  "3": "Terry Rai"
                },
                {
                  "0": "SO46197",
                  "1": "1",
                  "2": "2020-04-12",
                  "3": "Connor Butler"
                },
                {
                  "0": "SO46200",
                  "1": "1",
                  "2": "2020-04-12",
                  "3": "Ethan Martinez"
                },
                {
                  "0": "SO46199",
                  "1": "1",
                  "2": "2020-04-12",
                  "3": "Javier Serrano"
                },
                {
                  "0": "SO46193",
                  "1": "1",
                  "2": "2020-04-12",
                  "3": "Veronica Arun"
                },
                {
                  "0": "SO46201",
                  "1": "1",
                  "2": "2020-04-12",
                  "3": "Jessie Zhou"
                },
                {
                  "0": "SO46202",
                  "1": "1",
                  "2": "2020-04-12",
                  "3": "April Tang"
                },
                {
                  "0": "SO46195",
                  "1": "1",
                  "2": "2020-04-12",
                  "3": "Haley Wood"
                },
                {
                  "0": "SO46204",
                  "1": "1",
                  "2": "2020-04-12",
                  "3": "Kathryn Chapman"
                },
                {
                  "0": "SO46203",
                  "1": "1",
                  "2": "2020-04-12",
                  "3": "Johnny Shan"
                },
                {
                  "0": "SO46194",
                  "1": "1",
                  "2": "2020-04-12",
                  "3": "Kevin Washington"
                },
                {
                  "0": "SO46196",
                  "1": "1",
                  "2": "2020-04-12",
                  "3": "Morgan Foster"
                },
                {
                  "0": "SO46192",
                  "1": "1",
                  "2": "2020-04-12",
                  "3": "Russell Raje"
                },
                {
                  "0": "SO46209",
                  "1": "1",
                  "2": "2020-04-13",
                  "3": "Adam Baker"
                },
                {
                  "0": "SO46210",
                  "1": "1",
                  "2": "2020-04-13",
                  "3": "Janelle Fernandez"
                },
                {
                  "0": "SO46205",
                  "1": "1",
                  "2": "2020-04-13",
                  "3": "Luke Mitchell"
                },
                {
                  "0": "SO46208",
                  "1": "1",
                  "2": "2020-04-13",
                  "3": "Deanna Ashe"
                },
                {
                  "0": "SO46206",
                  "1": "1",
                  "2": "2020-04-13",
                  "3": "Edward Hughes"
                },
                {
                  "0": "SO46207",
                  "1": "1",
                  "2": "2020-04-13",
                  "3": "Chloe Bennett"
                },
                {
                  "0": "SO46211",
                  "1": "1",
                  "2": "2020-04-14",
                  "3": "Gabriel Zhang"
                },
                {
                  "0": "SO46217",
                  "1": "1",
                  "2": "2020-04-14",
                  "3": "Gregory Shan"
                },
                {
                  "0": "SO46215",
                  "1": "1",
                  "2": "2020-04-14",
                  "3": "Curtis Gao"
                },
                {
                  "0": "SO46216",
                  "1": "1",
                  "2": "2020-04-14",
                  "3": "Alfredo Ramos"
                },
                {
                  "0": "SO46212",
                  "1": "1",
                  "2": "2020-04-14",
                  "3": "Dalton Edwards"
                },
                {
                  "0": "SO46213",
                  "1": "1",
                  "2": "2020-04-14",
                  "3": "Aaron Young"
                },
                {
                  "0": "SO46214",
                  "1": "1",
                  "2": "2020-04-14",
                  "3": "Tristan Ross"
                },
                {
                  "0": "SO46227",
                  "1": "1",
                  "2": "2020-04-15",
                  "3": "Joanna Vazquez"
                },
                {
                  "0": "SO46228",
                  "1": "1",
                  "2": "2020-04-15",
                  "3": "Rosa Wang"
                },
                {
                  "0": "SO46218",
                  "1": "1",
                  "2": "2020-04-15",
                  "3": "Derek Tang"
                },
                {
                  "0": "SO46224",
                  "1": "1",
                  "2": "2020-04-15",
                  "3": "Arianna Diaz"
                },
                {
                  "0": "SO46222",
                  "1": "1",
                  "2": "2020-04-15",
                  "3": "Kyle Hayes"
                },
                {
                  "0": "SO46223",
                  "1": "1",
                  "2": "2020-04-15",
                  "3": "Savannah Sanders"
                },
                {
                  "0": "SO46226",
                  "1": "1",
                  "2": "2020-04-15",
                  "3": "Kate Anand"
                },
                {
                  "0": "SO46220",
                  "1": "1",
                  "2": "2020-04-15",
                  "3": "Wayne Chander"
                },
                {
                  "0": "SO46219",
                  "1": "1",
                  "2": "2020-04-15",
                  "3": "Abigail Thompson"
                },
                {
                  "0": "SO46221",
                  "1": "1",
                  "2": "2020-04-15",
                  "3": "Xavier Flores"
                },
                {
                  "0": "SO46225",
                  "1": "1",
                  "2": "2020-04-15",
                  "3": "Mariah Rivera"
                },
                {
                  "0": "SO46233",
                  "1": "1",
                  "2": "2020-04-16",
                  "3": "Sarah Henderson"
                },
                {
                  "0": "SO46237",
                  "1": "1",
                  "2": "2020-04-16",
                  "3": "Summer Smith"
                },
                {
                  "0": "SO46235",
                  "1": "1",
                  "2": "2020-04-16",
                  "3": "Steven Kelly"
                },
                {
                  "0": "SO46234",
                  "1": "1",
                  "2": "2020-04-16",
                  "3": "Bianca Guo"
                },
                {
                  "0": "SO46236",
                  "1": "1",
                  "2": "2020-04-16",
                  "3": "Shannon Yang"
                },
                {
                  "0": "SO46232",
                  "1": "1",
                  "2": "2020-04-16",
                  "3": "Chloe Nelson"
                },
                {
                  "0": "SO46231",
                  "1": "1",
                  "2": "2020-04-16",
                  "3": "Meredith Serrano"
                },
                {
                  "0": "SO46230",
                  "1": "1",
                  "2": "2020-04-16",
                  "3": "Dawn Wu"
                },
                {
                  "0": "SO46229",
                  "1": "1",
                  "2": "2020-04-16",
                  "3": "Beth Gutierrez"
                },
                {
                  "0": "SO46244",
                  "1": "1",
                  "2": "2020-04-17",
                  "3": "Beth Alonso"
                },
                {
                  "0": "SO46239",
                  "1": "1",
                  "2": "2020-04-17",
                  "3": "Chelsea Martinez"
                },
                {
                  "0": "SO46238",
                  "1": "1",
                  "2": "2020-04-17",
                  "3": "Darren Alvarez"
                },
                {
                  "0": "SO46245",
                  "1": "1",
                  "2": "2020-04-17",
                  "3": "Bridget Xu"
                },
                {
                  "0": "SO46240",
                  "1": "1",
                  "2": "2020-04-17",
                  "3": "Abigail Coleman"
                },
                {
                  "0": "SO46243",
                  "1": "1",
                  "2": "2020-04-17",
                  "3": "Lindsay Raje"
                },
                {
                  "0": "SO46242",
                  "1": "1",
                  "2": "2020-04-17",
                  "3": "Alicia Goel"
                },
                {
                  "0": "SO46241",
                  "1": "1",
                  "2": "2020-04-17",
                  "3": "Wyatt Turner"
                },
                {
                  "0": "SO46250",
                  "1": "1",
                  "2": "2020-04-18",
                  "3": "Carmen Rana"
                },
                {
                  "0": "SO46248",
                  "1": "1",
                  "2": "2020-04-18",
                  "3": "Alexia Flores"
                },
                {
                  "0": "SO46247",
                  "1": "1",
                  "2": "2020-04-18",
                  "3": "Kathryn Nara"
                },
                {
                  "0": "SO46249",
                  "1": "1",
                  "2": "2020-04-18",
                  "3": "Ashley Russell"
                },
                {
                  "0": "SO46251",
                  "1": "1",
                  "2": "2020-04-18",
                  "3": "Donna Sharma"
                },
                {
                  "0": "SO46246",
                  "1": "1",
                  "2": "2020-04-18",
                  "3": "Logan Turner"
                },
                {
                  "0": "SO46254",
                  "1": "1",
                  "2": "2020-04-19",
                  "3": "Caitlin Brooks"
                },
                {
                  "0": "SO46257",
                  "1": "1",
                  "2": "2020-04-19",
                  "3": "Tonya Chande"
                },
                {
                  "0": "SO46253",
                  "1": "1",
                  "2": "2020-04-19",
                  "3": "Lauren Sanchez"
                },
                {
                  "0": "SO46252",
                  "1": "1",
                  "2": "2020-04-19",
                  "3": "Cory Kapoor"
                },
                {
                  "0": "SO46256",
                  "1": "1",
                  "2": "2020-04-19",
                  "3": "Barbara Wang"
                },
                {
                  "0": "SO46255",
                  "1": "1",
                  "2": "2020-04-19",
                  "3": "Kelli Anand"
                },
                {
                  "0": "SO46262",
                  "1": "1",
                  "2": "2020-04-20",
                  "3": "Barbara Deng"
                },
                {
                  "0": "SO46259",
                  "1": "1",
                  "2": "2020-04-20",
                  "3": "Logan Diaz"
                },
                {
                  "0": "SO46260",
                  "1": "1",
                  "2": "2020-04-20",
                  "3": "James Walker"
                },
                {
                  "0": "SO46258",
                  "1": "1",
                  "2": "2020-04-20",
                  "3": "Jaclyn Zhang"
                },
                {
                  "0": "SO46263",
                  "1": "1",
                  "2": "2020-04-20",
                  "3": "Kelsey Xie"
                },
                {
                  "0": "SO46261",
                  "1": "1",
                  "2": "2020-04-20",
                  "3": "Jessica Walker"
                },
                {
                  "0": "SO46264",
                  "1": "1",
                  "2": "2020-04-21",
                  "3": "Cassie Jai"
                },
                {
                  "0": "SO46265",
                  "1": "1",
                  "2": "2020-04-21",
                  "3": "Justin Shan"
                },
                {
                  "0": "SO46267",
                  "1": "1",
                  "2": "2020-04-21",
                  "3": "J�sus Blanco"
                },
                {
                  "0": "SO46268",
                  "1": "1",
                  "2": "2020-04-21",
                  "3": "Laura Wu"
                },
                {
                  "0": "SO46269",
                  "1": "1",
                  "2": "2020-04-21",
                  "3": "Rosa He"
                },
                {
                  "0": "SO46266",
                  "1": "1",
                  "2": "2020-04-21",
                  "3": "Sabrina Torres"
                },
                {
                  "0": "SO46276",
                  "1": "1",
                  "2": "2020-04-22",
                  "3": "Colin Yang"
                },
                {
                  "0": "SO46275",
                  "1": "1",
                  "2": "2020-04-22",
                  "3": "Edwin Tang"
                },
                {
                  "0": "SO46270",
                  "1": "1",
                  "2": "2020-04-22",
                  "3": "Ethan Williams"
                },
                {
                  "0": "SO46272",
                  "1": "1",
                  "2": "2020-04-22",
                  "3": "Amanda Gray"
                },
                {
                  "0": "SO46271",
                  "1": "1",
                  "2": "2020-04-22",
                  "3": "Eduardo Alexander"
                },
                {
                  "0": "SO46273",
                  "1": "1",
                  "2": "2020-04-22",
                  "3": "Kyle Edwards"
                },
                {
                  "0": "SO46274",
                  "1": "1",
                  "2": "2020-04-22",
                  "3": "Elijah Patterson"
                },
                {
                  "0": "SO46281",
                  "1": "1",
                  "2": "2020-04-23",
                  "3": "Barry Subram"
                },
                {
                  "0": "SO46282",
                  "1": "1",
                  "2": "2020-04-23",
                  "3": "Faith Stewart"
                },
                {
                  "0": "SO46283",
                  "1": "1",
                  "2": "2020-04-23",
                  "3": "Nicole Washington"
                },
                {
                  "0": "SO46280",
                  "1": "1",
                  "2": "2020-04-23",
                  "3": "Logan Wilson"
                },
                {
                  "0": "SO46279",
                  "1": "1",
                  "2": "2020-04-23",
                  "3": "Gabriella Lopez"
                },
                {
                  "0": "SO46285",
                  "1": "1",
                  "2": "2020-04-23",
                  "3": "Gilbert Shen"
                },
                {
                  "0": "SO46284",
                  "1": "1",
                  "2": "2020-04-23",
                  "3": "Jasmine Russell"
                },
                {
                  "0": "SO46277",
                  "1": "1",
                  "2": "2020-04-23",
                  "3": "Andy Ortega"
                },
                {
                  "0": "SO46278",
                  "1": "1",
                  "2": "2020-04-23",
                  "3": "Edgar Subram"
                },
                {
                  "0": "SO46286",
                  "1": "1",
                  "2": "2020-04-24",
                  "3": "Carrie Hernandez"
                },
                {
                  "0": "SO46292",
                  "1": "1",
                  "2": "2020-04-24",
                  "3": "Joe Vazquez"
                },
                {
                  "0": "SO46291",
                  "1": "1",
                  "2": "2020-04-24",
                  "3": "Katelyn Ward"
                },
                {
                  "0": "SO46293",
                  "1": "1",
                  "2": "2020-04-24",
                  "3": "Katie Rai"
                },
                {
                  "0": "SO46287",
                  "1": "1",
                  "2": "2020-04-24",
                  "3": "Lucas Flores"
                },
                {
                  "0": "SO46289",
                  "1": "1",
                  "2": "2020-04-24",
                  "3": "Cameron Griffin"
                },
                {
                  "0": "SO46288",
                  "1": "1",
                  "2": "2020-04-24",
                  "3": "Jason Jenkins"
                },
                {
                  "0": "SO46294",
                  "1": "1",
                  "2": "2020-04-24",
                  "3": "Max Alvarez"
                },
                {
                  "0": "SO46290",
                  "1": "1",
                  "2": "2020-04-24",
                  "3": "Elizabeth Martinez"
                },
                {
                  "0": "SO46298",
                  "1": "1",
                  "2": "2020-04-25",
                  "3": "Robert Robinson"
                },
                {
                  "0": "SO46297",
                  "1": "1",
                  "2": "2020-04-25",
                  "3": "Kristen Guo"
                },
                {
                  "0": "SO46296",
                  "1": "1",
                  "2": "2020-04-25",
                  "3": "Sara Reed"
                },
                {
                  "0": "SO46299",
                  "1": "1",
                  "2": "2020-04-25",
                  "3": "Jay Carlson"
                },
                {
                  "0": "SO46300",
                  "1": "1",
                  "2": "2020-04-25",
                  "3": "Kelli Xie"
                },
                {
                  "0": "SO46295",
                  "1": "1",
                  "2": "2020-04-25",
                  "3": "Nicolas Anand"
                },
                {
                  "0": "SO46303",
                  "1": "1",
                  "2": "2020-04-26",
                  "3": "Veronica Malhotra"
                },
                {
                  "0": "SO46301",
                  "1": "1",
                  "2": "2020-04-26",
                  "3": "Theodore Suarez"
                },
                {
                  "0": "SO46302",
                  "1": "1",
                  "2": "2020-04-26",
                  "3": "Kayla Alexander"
                },
                {
                  "0": "SO46304",
                  "1": "1",
                  "2": "2020-04-26",
                  "3": "Adriana Lopez"
                },
                {
                  "0": "SO46305",
                  "1": "1",
                  "2": "2020-04-26",
                  "3": "Holly Srini"
                },
                {
                  "0": "SO46309",
                  "1": "1",
                  "2": "2020-04-27",
                  "3": "Leah Hu"
                },
                {
                  "0": "SO46306",
                  "1": "1",
                  "2": "2020-04-27",
                  "3": "Noah Butler"
                },
                {
                  "0": "SO46310",
                  "1": "1",
                  "2": "2020-04-27",
                  "3": "Marvin Gutierrez"
                },
                {
                  "0": "SO46308",
                  "1": "1",
                  "2": "2020-04-27",
                  "3": "Fernando Bryant"
                },
                {
                  "0": "SO46307",
                  "1": "1",
                  "2": "2020-04-27",
                  "3": "Mario Raje"
                },
                {
                  "0": "SO46311",
                  "1": "1",
                  "2": "2020-04-28",
                  "3": "Yolanda Xie"
                },
                {
                  "0": "SO46312",
                  "1": "1",
                  "2": "2020-04-29",
                  "3": "Kaitlyn Bailey"
                },
                {
                  "0": "SO46315",
                  "1": "1",
                  "2": "2020-04-29",
                  "3": "Gabriella Torres"
                },
                {
                  "0": "SO46314",
                  "1": "1",
                  "2": "2020-04-29",
                  "3": "Arianna Henderson"
                },
                {
                  "0": "SO46313",
                  "1": "1",
                  "2": "2020-04-29",
                  "3": "Jose Edwards"
                },
                {
                  "0": "SO46317",
                  "1": "1",
                  "2": "2020-04-29",
                  "3": "Kristi Torres"
                },
                {
                  "0": "SO46318",
                  "1": "1",
                  "2": "2020-04-29",
                  "3": "Cara Zeng"
                },
                {
                  "0": "SO46316",
                  "1": "1",
                  "2": "2020-04-29",
                  "3": "Alyssa Smith"
                },
                {
                  "0": "SO46320",
                  "1": "1",
                  "2": "2020-04-30",
                  "3": "Luke Jenkins"
                },
                {
                  "0": "SO46321",
                  "1": "1",
                  "2": "2020-04-30",
                  "3": "James Baker"
                },
                {
                  "0": "SO46319",
                  "1": "1",
                  "2": "2020-04-30",
                  "3": "Chloe White"
                },
                {
                  "0": "SO46390",
                  "1": "1",
                  "2": "2020-05-01",
                  "3": "Francisco Chandra"
                },
                {
                  "0": "SO46392",
                  "1": "1",
                  "2": "2020-05-01",
                  "3": "Jill Moreno"
                },
                {
                  "0": "SO46391",
                  "1": "1",
                  "2": "2020-05-01",
                  "3": "Danny Suarez"
                },
                {
                  "0": "SO46393",
                  "1": "1",
                  "2": "2020-05-01",
                  "3": "Bruce Gomez"
                },
                {
                  "0": "SO46404",
                  "1": "1",
                  "2": "2020-05-02",
                  "3": "Ryan Garcia"
                },
                {
                  "0": "SO46400",
                  "1": "1",
                  "2": "2020-05-02",
                  "3": "Marshall Zeng"
                },
                {
                  "0": "SO46398",
                  "1": "1",
                  "2": "2020-05-02",
                  "3": "Julio Serrano"
                },
                {
                  "0": "SO46401",
                  "1": "1",
                  "2": "2020-05-02",
                  "3": "Mitchell Xie"
                },
                {
                  "0": "SO46405",
                  "1": "1",
                  "2": "2020-05-02",
                  "3": "Autumn Ma"
                },
                {
                  "0": "SO46399",
                  "1": "1",
                  "2": "2020-05-02",
                  "3": "Kathleen Rubio"
                },
                {
                  "0": "SO46402",
                  "1": "1",
                  "2": "2020-05-02",
                  "3": "Kristi Serrano"
                },
                {
                  "0": "SO46403",
                  "1": "1",
                  "2": "2020-05-02",
                  "3": "Nelson Ramos"
                },
                {
                  "0": "SO46394",
                  "1": "1",
                  "2": "2020-05-02",
                  "3": "Patrick Torres"
                },
                {
                  "0": "SO46396",
                  "1": "1",
                  "2": "2020-05-02",
                  "3": "Allison Richardson"
                },
                {
                  "0": "SO46395",
                  "1": "1",
                  "2": "2020-05-02",
                  "3": "Gary Ortega"
                },
                {
                  "0": "SO46397",
                  "1": "1",
                  "2": "2020-05-02",
                  "3": "Luke Hughes"
                },
                {
                  "0": "SO46407",
                  "1": "1",
                  "2": "2020-05-03",
                  "3": "Jonathan Perry"
                },
                {
                  "0": "SO46408",
                  "1": "1",
                  "2": "2020-05-03",
                  "3": "Morgan Johnson"
                },
                {
                  "0": "SO46406",
                  "1": "1",
                  "2": "2020-05-03",
                  "3": "Mason Rogers"
                },
                {
                  "0": "SO46410",
                  "1": "1",
                  "2": "2020-05-04",
                  "3": "Raymond Sanchez"
                },
                {
                  "0": "SO46414",
                  "1": "1",
                  "2": "2020-05-04",
                  "3": "Grace Jackson"
                },
                {
                  "0": "SO46409",
                  "1": "1",
                  "2": "2020-05-04",
                  "3": "Tasha Chander"
                },
                {
                  "0": "SO46415",
                  "1": "1",
                  "2": "2020-05-04",
                  "3": "Raymond Madan"
                },
                {
                  "0": "SO46411",
                  "1": "1",
                  "2": "2020-05-04",
                  "3": "Madison Jones"
                },
                {
                  "0": "SO46412",
                  "1": "1",
                  "2": "2020-05-04",
                  "3": "Seth Bennett"
                },
                {
                  "0": "SO46413",
                  "1": "1",
                  "2": "2020-05-04",
                  "3": "Aaron Allen"
                },
                {
                  "0": "SO46418",
                  "1": "1",
                  "2": "2020-05-05",
                  "3": "Anna Martin"
                },
                {
                  "0": "SO46420",
                  "1": "1",
                  "2": "2020-05-05",
                  "3": "Ernest Liu"
                },
                {
                  "0": "SO46419",
                  "1": "1",
                  "2": "2020-05-05",
                  "3": "Deborah Yuan"
                },
                {
                  "0": "SO46417",
                  "1": "1",
                  "2": "2020-05-05",
                  "3": "Trevor Simmons"
                },
                {
                  "0": "SO46416",
                  "1": "1",
                  "2": "2020-05-05",
                  "3": "Katelyn Sanders"
                },
                {
                  "0": "SO46421",
                  "1": "1",
                  "2": "2020-05-05",
                  "3": "Summer Raman"
                },
                {
                  "0": "SO46426",
                  "1": "1",
                  "2": "2020-05-06",
                  "3": "Alexis Thomas"
                },
                {
                  "0": "SO46423",
                  "1": "1",
                  "2": "2020-05-06",
                  "3": "Thomas Harrison"
                },
                {
                  "0": "SO46424",
                  "1": "1",
                  "2": "2020-05-06",
                  "3": "Christy Zhou"
                },
                {
                  "0": "SO46422",
                  "1": "1",
                  "2": "2020-05-06",
                  "3": "Megan Williams"
                },
                {
                  "0": "SO46428",
                  "1": "1",
                  "2": "2020-05-06",
                  "3": "Bonnie Raje"
                },
                {
                  "0": "SO46425",
                  "1": "1",
                  "2": "2020-05-06",
                  "3": "Katelyn Mitchell"
                },
                {
                  "0": "SO46427",
                  "1": "1",
                  "2": "2020-05-06",
                  "3": "Isabelle Price"
                },
                {
                  "0": "SO46434",
                  "1": "1",
                  "2": "2020-05-07",
                  "3": "Keith Shan"
                },
                {
                  "0": "SO46433",
                  "1": "1",
                  "2": "2020-05-07",
                  "3": "Frederick Sai"
                },
                {
                  "0": "SO46431",
                  "1": "1",
                  "2": "2020-05-07",
                  "3": "Robert Adams"
                },
                {
                  "0": "SO46436",
                  "1": "1",
                  "2": "2020-05-07",
                  "3": "Dustin Goldstein"
                },
                {
                  "0": "SO46435",
                  "1": "1",
                  "2": "2020-05-07",
                  "3": "Troy Suri"
                },
                {
                  "0": "SO46429",
                  "1": "1",
                  "2": "2020-05-07",
                  "3": "Deanna Perez"
                },
                {
                  "0": "SO46430",
                  "1": "1",
                  "2": "2020-05-07",
                  "3": "Sabrina Blanco"
                },
                {
                  "0": "SO46432",
                  "1": "1",
                  "2": "2020-05-07",
                  "3": "Daniel Clark"
                },
                {
                  "0": "SO46442",
                  "1": "1",
                  "2": "2020-05-08",
                  "3": "Angel Cooper"
                },
                {
                  "0": "SO46437",
                  "1": "1",
                  "2": "2020-05-08",
                  "3": "Roger Anand"
                },
                {
                  "0": "SO46444",
                  "1": "1",
                  "2": "2020-05-08",
                  "3": "Shawn Luo"
                },
                {
                  "0": "SO46438",
                  "1": "1",
                  "2": "2020-05-08",
                  "3": "Charles Phillips"
                },
                {
                  "0": "SO46439",
                  "1": "1",
                  "2": "2020-05-08",
                  "3": "Geoffrey Rodriguez"
                },
                {
                  "0": "SO46440",
                  "1": "1",
                  "2": "2020-05-08",
                  "3": "Meredith Alonso"
                },
                {
                  "0": "SO46441",
                  "1": "1",
                  "2": "2020-05-08",
                  "3": "Brandon Robinson"
                },
                {
                  "0": "SO46443",
                  "1": "1",
                  "2": "2020-05-08",
                  "3": "Megan Richardson"
                },
                {
                  "0": "SO46447",
                  "1": "1",
                  "2": "2020-05-09",
                  "3": "Sabrina Rubio"
                },
                {
                  "0": "SO46448",
                  "1": "1",
                  "2": "2020-05-09",
                  "3": "Andrea Collins"
                },
                {
                  "0": "SO46446",
                  "1": "1",
                  "2": "2020-05-09",
                  "3": "Joseph Anderson"
                },
                {
                  "0": "SO46445",
                  "1": "1",
                  "2": "2020-05-09",
                  "3": "Abigail Clark"
                },
                {
                  "0": "SO46449",
                  "1": "1",
                  "2": "2020-05-09",
                  "3": "Shannon Sun"
                },
                {
                  "0": "SO46456",
                  "1": "1",
                  "2": "2020-05-10",
                  "3": "Devin Sanders"
                },
                {
                  "0": "SO46451",
                  "1": "1",
                  "2": "2020-05-10",
                  "3": "Ian Rodriguez"
                },
                {
                  "0": "SO46450",
                  "1": "1",
                  "2": "2020-05-10",
                  "3": "Jasmine Hall"
                },
                {
                  "0": "SO46454",
                  "1": "1",
                  "2": "2020-05-10",
                  "3": "Preston Prasad"
                },
                {
                  "0": "SO46453",
                  "1": "1",
                  "2": "2020-05-10",
                  "3": "Jarrod Sara"
                },
                {
                  "0": "SO46457",
                  "1": "1",
                  "2": "2020-05-10",
                  "3": "Sam Wilson"
                },
                {
                  "0": "SO46455",
                  "1": "1",
                  "2": "2020-05-10",
                  "3": "Paul Suurs"
                },
                {
                  "0": "SO46452",
                  "1": "1",
                  "2": "2020-05-10",
                  "3": "Luke Perry"
                },
                {
                  "0": "SO46461",
                  "1": "1",
                  "2": "2020-05-11",
                  "3": "Hany Morcos"
                },
                {
                  "0": "SO46460",
                  "1": "1",
                  "2": "2020-05-11",
                  "3": "Bailey Rogers"
                },
                {
                  "0": "SO46458",
                  "1": "1",
                  "2": "2020-05-11",
                  "3": "Morgan Thomas"
                },
                {
                  "0": "SO46459",
                  "1": "1",
                  "2": "2020-05-11",
                  "3": "Justin Gonzales"
                },
                {
                  "0": "SO46462",
                  "1": "1",
                  "2": "2020-05-11",
                  "3": "Kayla Lewis"
                },
                {
                  "0": "SO46463",
                  "1": "1",
                  "2": "2020-05-12",
                  "3": "Jasmine Stewart"
                },
                {
                  "0": "SO46467",
                  "1": "1",
                  "2": "2020-05-12",
                  "3": "Holly Mehta"
                },
                {
                  "0": "SO46472",
                  "1": "1",
                  "2": "2020-05-12",
                  "3": "Devin Taylor"
                },
                {
                  "0": "SO46464",
                  "1": "1",
                  "2": "2020-05-12",
                  "3": "Jonathan Anderson"
                },
                {
                  "0": "SO46465",
                  "1": "1",
                  "2": "2020-05-12",
                  "3": "Madeline Campbell"
                },
                {
                  "0": "SO46466",
                  "1": "1",
                  "2": "2020-05-12",
                  "3": "Kaitlyn Alexander"
                },
                {
                  "0": "SO46471",
                  "1": "1",
                  "2": "2020-05-12",
                  "3": "Rodney Serrano"
                },
                {
                  "0": "SO46473",
                  "1": "1",
                  "2": "2020-05-12",
                  "3": "Julio Vazquez"
                },
                {
                  "0": "SO46470",
                  "1": "1",
                  "2": "2020-05-12",
                  "3": "Katherine Howard"
                },
                {
                  "0": "SO46474",
                  "1": "1",
                  "2": "2020-05-12",
                  "3": "Ronald Perez"
                },
                {
                  "0": "SO46468",
                  "1": "1",
                  "2": "2020-05-12",
                  "3": "Abigail Morgan"
                },
                {
                  "0": "SO46469",
                  "1": "1",
                  "2": "2020-05-12",
                  "3": "Omar Lin"
                },
                {
                  "0": "SO46478",
                  "1": "1",
                  "2": "2020-05-13",
                  "3": "Willie Tang"
                },
                {
                  "0": "SO46475",
                  "1": "1",
                  "2": "2020-05-13",
                  "3": "Stacey Cai"
                },
                {
                  "0": "SO46477",
                  "1": "1",
                  "2": "2020-05-13",
                  "3": "Ann Martinez"
                },
                {
                  "0": "SO46476",
                  "1": "1",
                  "2": "2020-05-13",
                  "3": "James Alexander"
                },
                {
                  "0": "SO46480",
                  "1": "1",
                  "2": "2020-05-14",
                  "3": "Isaac Peterson"
                },
                {
                  "0": "SO46479",
                  "1": "1",
                  "2": "2020-05-14",
                  "3": "Johnathan Chapman"
                },
                {
                  "0": "SO46482",
                  "1": "1",
                  "2": "2020-05-14",
                  "3": "Francisco Gonzalez"
                },
                {
                  "0": "SO46481",
                  "1": "1",
                  "2": "2020-05-14",
                  "3": "Ruth Garcia"
                },
                {
                  "0": "SO46488",
                  "1": "1",
                  "2": "2020-05-15",
                  "3": "Rodney Gutierrez"
                },
                {
                  "0": "SO46486",
                  "1": "1",
                  "2": "2020-05-15",
                  "3": "Ronald Sara"
                },
                {
                  "0": "SO46484",
                  "1": "1",
                  "2": "2020-05-15",
                  "3": "Jeremy Young"
                },
                {
                  "0": "SO46485",
                  "1": "1",
                  "2": "2020-05-15",
                  "3": "Chloe Hughes"
                },
                {
                  "0": "SO46483",
                  "1": "1",
                  "2": "2020-05-15",
                  "3": "Stephanie Bailey"
                },
                {
                  "0": "SO46487",
                  "1": "1",
                  "2": "2020-05-15",
                  "3": "Chloe Roberts"
                },
                {
                  "0": "SO46490",
                  "1": "1",
                  "2": "2020-05-16",
                  "3": "Sophia Wright"
                },
                {
                  "0": "SO46489",
                  "1": "1",
                  "2": "2020-05-16",
                  "3": "Hannah Martinez"
                },
                {
                  "0": "SO46491",
                  "1": "1",
                  "2": "2020-05-17",
                  "3": "Brooke Stewart"
                },
                {
                  "0": "SO46496",
                  "1": "1",
                  "2": "2020-05-17",
                  "3": "Theresa Navarro"
                },
                {
                  "0": "SO46495",
                  "1": "1",
                  "2": "2020-05-17",
                  "3": "Cassandra Sara"
                },
                {
                  "0": "SO46494",
                  "1": "1",
                  "2": "2020-05-17",
                  "3": "Meredith Vance"
                },
                {
                  "0": "SO46492",
                  "1": "1",
                  "2": "2020-05-17",
                  "3": "Noah Scott"
                },
                {
                  "0": "SO46493",
                  "1": "1",
                  "2": "2020-05-17",
                  "3": "Juan Watson"
                },
                {
                  "0": "SO46504",
                  "1": "1",
                  "2": "2020-05-18",
                  "3": "Adrian Cooper"
                },
                {
                  "0": "SO46497",
                  "1": "1",
                  "2": "2020-05-18",
                  "3": "Karen Lu"
                },
                {
                  "0": "SO46499",
                  "1": "1",
                  "2": "2020-05-18",
                  "3": "Alexis Jones"
                },
                {
                  "0": "SO46500",
                  "1": "1",
                  "2": "2020-05-18",
                  "3": "Dominique Sanchez"
                },
                {
                  "0": "SO46505",
                  "1": "1",
                  "2": "2020-05-18",
                  "3": "Kristine Sandberg"
                },
                {
                  "0": "SO46506",
                  "1": "1",
                  "2": "2020-05-18",
                  "3": "Gilbert Liang"
                },
                {
                  "0": "SO46498",
                  "1": "1",
                  "2": "2020-05-18",
                  "3": "Isabella Edwards"
                },
                {
                  "0": "SO46503",
                  "1": "1",
                  "2": "2020-05-18",
                  "3": "Alexandra Harris"
                },
                {
                  "0": "SO46507",
                  "1": "1",
                  "2": "2020-05-18",
                  "3": "Molly Perez"
                },
                {
                  "0": "SO46502",
                  "1": "1",
                  "2": "2020-05-18",
                  "3": "Taylor Henderson"
                },
                {
                  "0": "SO46501",
                  "1": "1",
                  "2": "2020-05-18",
                  "3": "Clifford Arun"
                },
                {
                  "0": "SO46514",
                  "1": "1",
                  "2": "2020-05-19",
                  "3": "Cedric Wang"
                },
                {
                  "0": "SO46515",
                  "1": "1",
                  "2": "2020-05-19",
                  "3": "Jasmine Gray"
                },
                {
                  "0": "SO46519",
                  "1": "1",
                  "2": "2020-05-19",
                  "3": "April Jai"
                },
                {
                  "0": "SO46520",
                  "1": "1",
                  "2": "2020-05-19",
                  "3": "Kaitlyn Russell"
                },
                {
                  "0": "SO46510",
                  "1": "1",
                  "2": "2020-05-19",
                  "3": "Isabella Walker"
                },
                {
                  "0": "SO46511",
                  "1": "1",
                  "2": "2020-05-19",
                  "3": "Molly Prasad"
                },
                {
                  "0": "SO46513",
                  "1": "1",
                  "2": "2020-05-19",
                  "3": "Brandon Garcia"
                },
                {
                  "0": "SO46518",
                  "1": "1",
                  "2": "2020-05-19",
                  "3": "Margaret Lu"
                },
                {
                  "0": "SO46517",
                  "1": "1",
                  "2": "2020-05-19",
                  "3": "Deborah Shan"
                },
                {
                  "0": "SO46509",
                  "1": "1",
                  "2": "2020-05-19",
                  "3": "Jocelyn Long"
                },
                {
                  "0": "SO46512",
                  "1": "1",
                  "2": "2020-05-19",
                  "3": "Mindy Jai"
                },
                {
                  "0": "SO46516",
                  "1": "1",
                  "2": "2020-05-19",
                  "3": "Ashley Martin"
                },
                {
                  "0": "SO46508",
                  "1": "1",
                  "2": "2020-05-19",
                  "3": "Reginald Gomez"
                },
                {
                  "0": "SO46524",
                  "1": "1",
                  "2": "2020-05-20",
                  "3": "Sarah Coleman"
                },
                {
                  "0": "SO46526",
                  "1": "1",
                  "2": "2020-05-20",
                  "3": "Jenny Sun"
                },
                {
                  "0": "SO46522",
                  "1": "1",
                  "2": "2020-05-20",
                  "3": "Eduardo Allen"
                },
                {
                  "0": "SO46521",
                  "1": "1",
                  "2": "2020-05-20",
                  "3": "Charles Evans"
                },
                {
                  "0": "SO46523",
                  "1": "1",
                  "2": "2020-05-20",
                  "3": "Antonio Butler"
                },
                {
                  "0": "SO46525",
                  "1": "1",
                  "2": "2020-05-20",
                  "3": "Connor Ross"
                },
                {
                  "0": "SO46527",
                  "1": "1",
                  "2": "2020-05-20",
                  "3": "Gerald Arun"
                },
                {
                  "0": "SO46530",
                  "1": "1",
                  "2": "2020-05-21",
                  "3": "Christian Perry"
                },
                {
                  "0": "SO46535",
                  "1": "1",
                  "2": "2020-05-21",
                  "3": "Tracy Andersen"
                },
                {
                  "0": "SO46534",
                  "1": "1",
                  "2": "2020-05-21",
                  "3": "Victoria Cook"
                },
                {
                  "0": "SO46532",
                  "1": "1",
                  "2": "2020-05-21",
                  "3": "Autumn Zheng"
                },
                {
                  "0": "SO46529",
                  "1": "1",
                  "2": "2020-05-21",
                  "3": "Jonathan Campbell"
                },
                {
                  "0": "SO46531",
                  "1": "1",
                  "2": "2020-05-21",
                  "3": "Sarah Thompson"
                },
                {
                  "0": "SO46536",
                  "1": "1",
                  "2": "2020-05-21",
                  "3": "Alisha Nath"
                },
                {
                  "0": "SO46528",
                  "1": "1",
                  "2": "2020-05-21",
                  "3": "Kari Malhotra"
                },
                {
                  "0": "SO46533",
                  "1": "1",
                  "2": "2020-05-21",
                  "3": "Connor King"
                },
                {
                  "0": "SO46539",
                  "1": "1",
                  "2": "2020-05-22",
                  "3": "Rafael Sharma"
                },
                {
                  "0": "SO46538",
                  "1": "1",
                  "2": "2020-05-22",
                  "3": "Kristen Gao"
                },
                {
                  "0": "SO46537",
                  "1": "1",
                  "2": "2020-05-22",
                  "3": "Desiree Dominguez"
                },
                {
                  "0": "SO46541",
                  "1": "1",
                  "2": "2020-05-22",
                  "3": "Chloe Johnson"
                },
                {
                  "0": "SO46540",
                  "1": "1",
                  "2": "2020-05-22",
                  "3": "Shannon Ruiz"
                },
                {
                  "0": "SO46554",
                  "1": "1",
                  "2": "2020-05-23",
                  "3": "Mayra Raman"
                },
                {
                  "0": "SO46553",
                  "1": "1",
                  "2": "2020-05-23",
                  "3": "Autumn Liu"
                },
                {
                  "0": "SO46545",
                  "1": "1",
                  "2": "2020-05-23",
                  "3": "Juan Murphy"
                },
                {
                  "0": "SO46556",
                  "1": "1",
                  "2": "2020-05-23",
                  "3": "Christine Stone"
                },
                {
                  "0": "SO46542",
                  "1": "1",
                  "2": "2020-05-23",
                  "3": "Bryant Garcia"
                },
                {
                  "0": "SO46543",
                  "1": "1",
                  "2": "2020-05-23",
                  "3": "Crystal Liang"
                },
                {
                  "0": "SO46555",
                  "1": "1",
                  "2": "2020-05-23",
                  "3": "Max Serrano"
                },
                {
                  "0": "SO46546",
                  "1": "1",
                  "2": "2020-05-23",
                  "3": "Jeremy Richardson"
                },
                {
                  "0": "SO46544",
                  "1": "1",
                  "2": "2020-05-23",
                  "3": "Jordyn Bryant"
                },
                {
                  "0": "SO46547",
                  "1": "1",
                  "2": "2020-05-23",
                  "3": "Vanessa Russell"
                },
                {
                  "0": "SO46549",
                  "1": "1",
                  "2": "2020-05-23",
                  "3": "Sean Sanchez"
                },
                {
                  "0": "SO46548",
                  "1": "1",
                  "2": "2020-05-23",
                  "3": "Robert Hernandez"
                },
                {
                  "0": "SO46552",
                  "1": "1",
                  "2": "2020-05-23",
                  "3": "Amanda Ramirez"
                },
                {
                  "0": "SO46551",
                  "1": "1",
                  "2": "2020-05-23",
                  "3": "Arianna Gray"
                },
                {
                  "0": "SO46550",
                  "1": "1",
                  "2": "2020-05-23",
                  "3": "Robert Flores"
                },
                {
                  "0": "SO46560",
                  "1": "1",
                  "2": "2020-05-24",
                  "3": "Kevin Wright"
                },
                {
                  "0": "SO46562",
                  "1": "1",
                  "2": "2020-05-24",
                  "3": "Jamie Ortega"
                },
                {
                  "0": "SO46558",
                  "1": "1",
                  "2": "2020-05-24",
                  "3": "Isaiah Perez"
                },
                {
                  "0": "SO46557",
                  "1": "1",
                  "2": "2020-05-24",
                  "3": "Thomas Jai"
                },
                {
                  "0": "SO46559",
                  "1": "1",
                  "2": "2020-05-24",
                  "3": "Jonathan Smith"
                },
                {
                  "0": "SO46563",
                  "1": "1",
                  "2": "2020-05-24",
                  "3": "Brent Guo"
                },
                {
                  "0": "SO46561",
                  "1": "1",
                  "2": "2020-05-24",
                  "3": "Rafael Yuan"
                },
                {
                  "0": "SO46565",
                  "1": "1",
                  "2": "2020-05-25",
                  "3": "Thomas Zhang"
                },
                {
                  "0": "SO46566",
                  "1": "1",
                  "2": "2020-05-25",
                  "3": "Jamie Zeng"
                },
                {
                  "0": "SO46568",
                  "1": "1",
                  "2": "2020-05-25",
                  "3": "Alexandra Richardson"
                },
                {
                  "0": "SO46567",
                  "1": "1",
                  "2": "2020-05-25",
                  "3": "Ian Lewis"
                },
                {
                  "0": "SO46564",
                  "1": "1",
                  "2": "2020-05-25",
                  "3": "Jimmy Gutierrez"
                },
                {
                  "0": "SO46569",
                  "1": "1",
                  "2": "2020-05-26",
                  "3": "Cody Cook"
                },
                {
                  "0": "SO46575",
                  "1": "1",
                  "2": "2020-05-26",
                  "3": "Monica Vance"
                },
                {
                  "0": "SO46574",
                  "1": "1",
                  "2": "2020-05-26",
                  "3": "Kristy Rubio"
                },
                {
                  "0": "SO46570",
                  "1": "1",
                  "2": "2020-05-26",
                  "3": "Arianna Ward"
                },
                {
                  "0": "SO46572",
                  "1": "1",
                  "2": "2020-05-26",
                  "3": "Trevor Hughes"
                },
                {
                  "0": "SO46573",
                  "1": "1",
                  "2": "2020-05-26",
                  "3": "Tammy Smith"
                },
                {
                  "0": "SO46571",
                  "1": "1",
                  "2": "2020-05-26",
                  "3": "Erick Fernandez"
                },
                {
                  "0": "SO46583",
                  "1": "1",
                  "2": "2020-05-27",
                  "3": "Jerome Suarez"
                },
                {
                  "0": "SO46576",
                  "1": "1",
                  "2": "2020-05-27",
                  "3": "Alisha She"
                },
                {
                  "0": "SO46584",
                  "1": "1",
                  "2": "2020-05-27",
                  "3": "Omar Liu"
                },
                {
                  "0": "SO46579",
                  "1": "1",
                  "2": "2020-05-27",
                  "3": "Bryant Srini"
                },
                {
                  "0": "SO46580",
                  "1": "1",
                  "2": "2020-05-27",
                  "3": "Ruben Subram"
                },
                {
                  "0": "SO46581",
                  "1": "1",
                  "2": "2020-05-27",
                  "3": "Ashley Thomas"
                },
                {
                  "0": "SO46578",
                  "1": "1",
                  "2": "2020-05-27",
                  "3": "Ethan Shan"
                },
                {
                  "0": "SO46582",
                  "1": "1",
                  "2": "2020-05-27",
                  "3": "Samuel Hill"
                },
                {
                  "0": "SO46577",
                  "1": "1",
                  "2": "2020-05-27",
                  "3": "Benjamin Moore"
                },
                {
                  "0": "SO46587",
                  "1": "1",
                  "2": "2020-05-28",
                  "3": "Hailey Cox"
                },
                {
                  "0": "SO46586",
                  "1": "1",
                  "2": "2020-05-28",
                  "3": "Erin Rogers"
                },
                {
                  "0": "SO46585",
                  "1": "1",
                  "2": "2020-05-28",
                  "3": "Joshua Miller"
                },
                {
                  "0": "SO46589",
                  "1": "1",
                  "2": "2020-05-28",
                  "3": "Britta Simon"
                },
                {
                  "0": "SO46588",
                  "1": "1",
                  "2": "2020-05-28",
                  "3": "Cesar Fernandez"
                },
                {
                  "0": "SO46595",
                  "1": "1",
                  "2": "2020-05-29",
                  "3": "Julian Henderson"
                },
                {
                  "0": "SO46592",
                  "1": "1",
                  "2": "2020-05-29",
                  "3": "Ian Washington"
                },
                {
                  "0": "SO46590",
                  "1": "1",
                  "2": "2020-05-29",
                  "3": "Victoria Garcia"
                },
                {
                  "0": "SO46594",
                  "1": "1",
                  "2": "2020-05-29",
                  "3": "Rachel Powell"
                },
                {
                  "0": "SO46593",
                  "1": "1",
                  "2": "2020-05-29",
                  "3": "Brianna Morris"
                },
                {
                  "0": "SO46591",
                  "1": "1",
                  "2": "2020-05-29",
                  "3": "Samantha Taylor"
                },
                {
                  "0": "SO46596",
                  "1": "1",
                  "2": "2020-05-29",
                  "3": "Patricia Chapman"
                },
                {
                  "0": "SO46597",
                  "1": "1",
                  "2": "2020-05-29",
                  "3": "Ricardo Nath"
                },
                {
                  "0": "SO46603",
                  "1": "1",
                  "2": "2020-05-30",
                  "3": "Clayton Sharma"
                },
                {
                  "0": "SO46599",
                  "1": "1",
                  "2": "2020-05-30",
                  "3": "Sierra Parker"
                }
              ],
              "schema": [
                {
                  "key": "0",
                  "name": "SalesOrderNumber",
                  "type": "string"
                },
                {
                  "key": "1",
                  "name": "SalesOrderLineNumber",
                  "type": "int"
                },
                {
                  "key": "2",
                  "name": "OrderDate",
                  "type": "date"
                },
                {
                  "key": "3",
                  "name": "CustomerName",
                  "type": "string"
                }
              ],
              "truncated": false
            },
            "isSummary": false,
            "language": "scala"
          },
          "persist_state": {
            "view": {
              "type": "details",
              "tableOptions": {},
              "chartOptions": {
                "chartType": "bar",
                "aggregationType": "sum",
                "categoryFieldKeys": [
                  "0"
                ],
                "seriesFieldKeys": [
                  "1"
                ],
                "isStacked": false
              }
            }
          }
        },
        "e402d135-6589-4889-870d-20f205dbfebb": {
          "type": "Synapse.DataFrame",
          "sync_state": {
            "table": {
              "rows": [
                {
                  "0": "2020",
                  "1": "2733"
                }
              ],
              "schema": [
                {
                  "key": "0",
                  "name": "Year",
                  "type": "int"
                },
                {
                  "key": "1",
                  "name": "count",
                  "type": "bigint"
                }
              ],
              "truncated": false
            },
            "isSummary": false,
            "language": "scala"
          },
          "persist_state": {
            "view": {
              "type": "details",
              "tableOptions": {},
              "chartOptions": {
                "chartType": "bar",
                "aggregationType": "sum",
                "categoryFieldKeys": [
                  "1"
                ],
                "seriesFieldKeys": [
                  "0"
                ],
                "isStacked": false
              }
            }
          }
        },
        "dbfa82b6-f4b2-40fe-9c3c-8ff01ab713a6": {
          "type": "Synapse.DataFrame",
          "sync_state": {
            "table": {
              "rows": [
                {
                  "0": "Clarence Raji",
                  "1": "SO45347"
                },
                {
                  "0": "Bonnie Yuan",
                  "1": "SO45345"
                },
                {
                  "0": "Leah Guo",
                  "1": "SO45348"
                },
                {
                  "0": "Candice Sun",
                  "1": "SO45349"
                },
                {
                  "0": "Ruben Garcia",
                  "1": "SO45350"
                },
                {
                  "0": "Dylan Harris",
                  "1": "SO45346"
                },
                {
                  "0": "Jack Zimmerman",
                  "1": "SO45353"
                },
                {
                  "0": "Maurice Sharma",
                  "1": "SO45355"
                },
                {
                  "0": "Armando Dominguez",
                  "1": "SO45354"
                },
                {
                  "0": "Douglas Suri",
                  "1": "SO45356"
                },
                {
                  "0": "Daisy Munoz",
                  "1": "SO45352"
                },
                {
                  "0": "Seth Jackson",
                  "1": "SO45351"
                },
                {
                  "0": "Marshall Chavez",
                  "1": "SO45359"
                },
                {
                  "0": "Patricia Saunders",
                  "1": "SO45363"
                },
                {
                  "0": "Kristopher Fernandez",
                  "1": "SO45362"
                },
                {
                  "0": "Caitlin Richardson",
                  "1": "SO45361"
                },
                {
                  "0": "Alexandra Thomas",
                  "1": "SO45358"
                },
                {
                  "0": "Jonathan Gonzales",
                  "1": "SO45360"
                },
                {
                  "0": "Alfredo Dominguez",
                  "1": "SO45357"
                },
                {
                  "0": "Willie Liu",
                  "1": "SO45367"
                },
                {
                  "0": "Kathleen Navarro",
                  "1": "SO45369"
                },
                {
                  "0": "Shawn Shen",
                  "1": "SO45370"
                },
                {
                  "0": "Frank Gomez",
                  "1": "SO45366"
                },
                {
                  "0": "Jacob Wilson",
                  "1": "SO45365"
                },
                {
                  "0": "Trinity Cook",
                  "1": "SO45368"
                },
                {
                  "0": "Claudia Li",
                  "1": "SO45364"
                },
                {
                  "0": "Jaime Alonso",
                  "1": "SO45371"
                },
                {
                  "0": "Edgar Mehta",
                  "1": "SO45376"
                },
                {
                  "0": "Allen Fernandez",
                  "1": "SO45375"
                },
                {
                  "0": "Jordan Henderson",
                  "1": "SO45374"
                },
                {
                  "0": "Jarred Gill",
                  "1": "SO45372"
                },
                {
                  "0": "Richard Garcia",
                  "1": "SO45373"
                },
                {
                  "0": "Savannah Travers",
                  "1": "SO45379"
                },
                {
                  "0": "Katherine James",
                  "1": "SO45378"
                },
                {
                  "0": "Chase Morris",
                  "1": "SO45384"
                },
                {
                  "0": "Troy Subram",
                  "1": "SO45386"
                },
                {
                  "0": "Jordan Long",
                  "1": "SO45381"
                },
                {
                  "0": "Clarence Jai",
                  "1": "SO45380"
                },
                {
                  "0": "Julia Wright",
                  "1": "SO45382"
                },
                {
                  "0": "Dominique Lopez",
                  "1": "SO45377"
                },
                {
                  "0": "Kevin Edwards",
                  "1": "SO45383"
                },
                {
                  "0": "Maria Rogers",
                  "1": "SO45385"
                },
                {
                  "0": "Trevor Bryant",
                  "1": "SO45389"
                },
                {
                  "0": "Tiffany Li",
                  "1": "SO45387"
                },
                {
                  "0": "Randall Gomez",
                  "1": "SO45392"
                },
                {
                  "0": "Raymond Raman",
                  "1": "SO45391"
                },
                {
                  "0": "Randall Martin",
                  "1": "SO45390"
                },
                {
                  "0": "Isabel Bryant",
                  "1": "SO45388"
                },
                {
                  "0": "Lydia Gonzalez",
                  "1": "SO45395"
                },
                {
                  "0": "Suzanne Liu",
                  "1": "SO45396"
                },
                {
                  "0": "Jaclyn Andersen",
                  "1": "SO45394"
                },
                {
                  "0": "Michele Lal",
                  "1": "SO45393"
                },
                {
                  "0": "Lisa Zhu",
                  "1": "SO45398"
                },
                {
                  "0": "Harold McDonald",
                  "1": "SO45397"
                },
                {
                  "0": "Kaitlyn Powell",
                  "1": "SO45399"
                },
                {
                  "0": "Marvin Sanz",
                  "1": "SO45409"
                },
                {
                  "0": "Lucas Lewis",
                  "1": "SO45405"
                },
                {
                  "0": "Caroline Washington",
                  "1": "SO45403"
                },
                {
                  "0": "Julio Suarez",
                  "1": "SO45401"
                },
                {
                  "0": "Brett Garcia",
                  "1": "SO45400"
                },
                {
                  "0": "Megan Stewart",
                  "1": "SO45402"
                },
                {
                  "0": "Natalie Adams",
                  "1": "SO45404"
                },
                {
                  "0": "Thomas Adams",
                  "1": "SO45407"
                },
                {
                  "0": "Victoria Diaz",
                  "1": "SO45408"
                },
                {
                  "0": "Hunter Kumar",
                  "1": "SO45406"
                },
                {
                  "0": "Cole Richardson",
                  "1": "SO45417"
                },
                {
                  "0": "Morgan Hall",
                  "1": "SO45415"
                },
                {
                  "0": "Kayla Rodriguez",
                  "1": "SO45411"
                },
                {
                  "0": "Jessica Perry",
                  "1": "SO45416"
                },
                {
                  "0": "Kristi Perez",
                  "1": "SO45413"
                },
                {
                  "0": "Donald Srini",
                  "1": "SO45410"
                },
                {
                  "0": "Chloe Sanders",
                  "1": "SO45412"
                },
                {
                  "0": "Orlando Serrano",
                  "1": "SO45420"
                },
                {
                  "0": "Alejandro Liu",
                  "1": "SO45419"
                },
                {
                  "0": "Mackenzie Hill",
                  "1": "SO45421"
                },
                {
                  "0": "Kristopher Gonzalez",
                  "1": "SO45418"
                },
                {
                  "0": "Kelli Kumar",
                  "1": "SO45414"
                },
                {
                  "0": "Beth Gill",
                  "1": "SO45423"
                },
                {
                  "0": "Alexa Rivera",
                  "1": "SO45424"
                },
                {
                  "0": "Jared Moyer",
                  "1": "SO45422"
                },
                {
                  "0": "James Miller",
                  "1": "SO45431"
                },
                {
                  "0": "Natalie Roberts",
                  "1": "SO45430"
                },
                {
                  "0": "Justin Griffin",
                  "1": "SO45429"
                },
                {
                  "0": "Ivan Suri",
                  "1": "SO45427"
                },
                {
                  "0": "Kari Smith",
                  "1": "SO45426"
                },
                {
                  "0": "Jaime Suarez",
                  "1": "SO45425"
                },
                {
                  "0": "Ian Richardson",
                  "1": "SO45428"
                },
                {
                  "0": "Nicholas Thompson",
                  "1": "SO45434"
                },
                {
                  "0": "Bradley Nara",
                  "1": "SO45433"
                },
                {
                  "0": "Pamela Subram",
                  "1": "SO45432"
                },
                {
                  "0": "Jaime Xie",
                  "1": "SO45439"
                },
                {
                  "0": "Jim Rodman",
                  "1": "SO45435"
                },
                {
                  "0": "Paige Howard",
                  "1": "SO45438"
                },
                {
                  "0": "Joshua Taylor",
                  "1": "SO45436"
                },
                {
                  "0": "Lucas Blue",
                  "1": "SO45437"
                },
                {
                  "0": "Justin Bryant",
                  "1": "SO45442"
                },
                {
                  "0": "Julia Thompson",
                  "1": "SO45443"
                },
                {
                  "0": "Claudia Ye",
                  "1": "SO45444"
                },
                {
                  "0": "Stacy Dominguez",
                  "1": "SO45445"
                },
                {
                  "0": "Daisy Romero",
                  "1": "SO45440"
                },
                {
                  "0": "Jasmine Torres",
                  "1": "SO45441"
                },
                {
                  "0": "Gloria Ortega",
                  "1": "SO45447"
                },
                {
                  "0": "Terrance Martinez",
                  "1": "SO45448"
                },
                {
                  "0": "Jenna Parker",
                  "1": "SO45446"
                },
                {
                  "0": "Hailey Turner",
                  "1": "SO45451"
                },
                {
                  "0": "Carson Jenkins",
                  "1": "SO45450"
                },
                {
                  "0": "Cedric Cai",
                  "1": "SO45452"
                },
                {
                  "0": "Krista Martin",
                  "1": "SO45449"
                },
                {
                  "0": "Donna Xie",
                  "1": "SO45453"
                },
                {
                  "0": "Megan Flores",
                  "1": "SO45454"
                },
                {
                  "0": "Elijah Powell",
                  "1": "SO45456"
                },
                {
                  "0": "Julio Navarro",
                  "1": "SO45460"
                },
                {
                  "0": "Brad Shan",
                  "1": "SO45459"
                },
                {
                  "0": "Alvin Jai",
                  "1": "SO45458"
                },
                {
                  "0": "Ebony Garcia",
                  "1": "SO45455"
                },
                {
                  "0": "Christian Butler",
                  "1": "SO45457"
                },
                {
                  "0": "Alexis Moore",
                  "1": "SO45461"
                },
                {
                  "0": "Hannah Foster",
                  "1": "SO45462"
                },
                {
                  "0": "Jonathan Hill",
                  "1": "SO45463"
                },
                {
                  "0": "Alvin Sharma",
                  "1": "SO45464"
                },
                {
                  "0": "Carlos Morgan",
                  "1": "SO45465"
                },
                {
                  "0": "Meagan Prasad",
                  "1": "SO45466"
                },
                {
                  "0": "Wyatt Williams",
                  "1": "SO45476"
                },
                {
                  "0": "Alfredo Suarez",
                  "1": "SO45475"
                },
                {
                  "0": "Carl Raji",
                  "1": "SO45474"
                },
                {
                  "0": "Ethan Thompson",
                  "1": "SO45469"
                },
                {
                  "0": "Tara Xu",
                  "1": "SO45473"
                },
                {
                  "0": "Meredith Martinez",
                  "1": "SO45472"
                },
                {
                  "0": "Kyle Bryant",
                  "1": "SO45468"
                },
                {
                  "0": "Dustin Deng",
                  "1": "SO45467"
                },
                {
                  "0": "Erin Cook",
                  "1": "SO45471"
                },
                {
                  "0": "Cameron Henderson",
                  "1": "SO45470"
                },
                {
                  "0": "Isaiah Edwards",
                  "1": "SO45478"
                },
                {
                  "0": "Brittney Hu",
                  "1": "SO45477"
                },
                {
                  "0": "Sheena Deng",
                  "1": "SO45479"
                },
                {
                  "0": "Robin Moreno",
                  "1": "SO45481"
                },
                {
                  "0": "Lawrence Gutierrez",
                  "1": "SO45480"
                },
                {
                  "0": "Martin Perez",
                  "1": "SO45488"
                },
                {
                  "0": "Shawna Andersen",
                  "1": "SO45487"
                },
                {
                  "0": "Stanley Madan",
                  "1": "SO45489"
                },
                {
                  "0": "Juan James",
                  "1": "SO45484"
                },
                {
                  "0": "Eric Foster",
                  "1": "SO45490"
                },
                {
                  "0": "Adriana Chandra",
                  "1": "SO45483"
                },
                {
                  "0": "Dominic Srini",
                  "1": "SO45486"
                },
                {
                  "0": "Jacqueline Powell",
                  "1": "SO45485"
                },
                {
                  "0": "Brandy Sanchez",
                  "1": "SO45482"
                },
                {
                  "0": "Seth Brown",
                  "1": "SO45493"
                },
                {
                  "0": "Krystal Gao",
                  "1": "SO45495"
                },
                {
                  "0": "Kari Martinez",
                  "1": "SO45494"
                },
                {
                  "0": "Jared Kelly",
                  "1": "SO45492"
                },
                {
                  "0": "Justin Brown",
                  "1": "SO45491"
                },
                {
                  "0": "Timothy Young",
                  "1": "SO45502"
                },
                {
                  "0": "Ian Wilson",
                  "1": "SO45497"
                },
                {
                  "0": "Kayla Flores",
                  "1": "SO45498"
                },
                {
                  "0": "Rachel Cox",
                  "1": "SO45496"
                },
                {
                  "0": "Bailey Hernandez",
                  "1": "SO45499"
                },
                {
                  "0": "Heidi Chandra",
                  "1": "SO45501"
                },
                {
                  "0": "Carla Rana",
                  "1": "SO45505"
                },
                {
                  "0": "Franklin Sun",
                  "1": "SO45506"
                },
                {
                  "0": "Stefanie Rana",
                  "1": "SO45507"
                },
                {
                  "0": "Isabella Bryant",
                  "1": "SO45503"
                },
                {
                  "0": "Jerry Ferrier",
                  "1": "SO45504"
                },
                {
                  "0": "Lawrence Blanco",
                  "1": "SO45500"
                },
                {
                  "0": "Roberto Sanz",
                  "1": "SO45508"
                },
                {
                  "0": "Shaun Sharma",
                  "1": "SO45509"
                },
                {
                  "0": "Lauren Washington",
                  "1": "SO45510"
                },
                {
                  "0": "Bridget She",
                  "1": "SO45515"
                },
                {
                  "0": "Steve Wagner",
                  "1": "SO45511"
                },
                {
                  "0": "Luis Wang",
                  "1": "SO45512"
                },
                {
                  "0": "Faith Murphy",
                  "1": "SO45513"
                },
                {
                  "0": "Thomas Young",
                  "1": "SO45514"
                },
                {
                  "0": "Lucas Murphy",
                  "1": "SO45582"
                },
                {
                  "0": "Trinity Richardson",
                  "1": "SO45581"
                },
                {
                  "0": "Kyle Foster",
                  "1": "SO45583"
                },
                {
                  "0": "Isaiah Ramirez",
                  "1": "SO45585"
                },
                {
                  "0": "Cassie Andersen",
                  "1": "SO45580"
                },
                {
                  "0": "Ronald Madan",
                  "1": "SO45584"
                },
                {
                  "0": "Sebastian Torres",
                  "1": "SO45591"
                },
                {
                  "0": "Roger Lu",
                  "1": "SO45590"
                },
                {
                  "0": "Christy Liu",
                  "1": "SO45589"
                },
                {
                  "0": "Orlando Ashe",
                  "1": "SO45592"
                },
                {
                  "0": "Jenny Rai",
                  "1": "SO45588"
                },
                {
                  "0": "Nina Yuan",
                  "1": "SO45587"
                },
                {
                  "0": "Joel Prasad",
                  "1": "SO45586"
                },
                {
                  "0": "Shannon Huang",
                  "1": "SO45595"
                },
                {
                  "0": "Christian Thomas",
                  "1": "SO45594"
                },
                {
                  "0": "Orlando Carlson",
                  "1": "SO45601"
                },
                {
                  "0": "Nelson Ortega",
                  "1": "SO45593"
                },
                {
                  "0": "Jenna Scott",
                  "1": "SO45597"
                },
                {
                  "0": "Elijah Yang",
                  "1": "SO45598"
                },
                {
                  "0": "Holly Martinez",
                  "1": "SO45600"
                },
                {
                  "0": "Danny Ortega",
                  "1": "SO45599"
                },
                {
                  "0": "Jessie Gao",
                  "1": "SO45596"
                },
                {
                  "0": "Louis Nath",
                  "1": "SO45607"
                },
                {
                  "0": "Devon Deng",
                  "1": "SO45606"
                },
                {
                  "0": "Max Ferrier",
                  "1": "SO45609"
                },
                {
                  "0": "Frank Carlson",
                  "1": "SO45608"
                },
                {
                  "0": "Haley Richardson",
                  "1": "SO45603"
                },
                {
                  "0": "Victoria Russell",
                  "1": "SO45604"
                },
                {
                  "0": "Destiny Rogers",
                  "1": "SO45605"
                },
                {
                  "0": "Tamara Zhu",
                  "1": "SO45602"
                },
                {
                  "0": "Devin Nelson",
                  "1": "SO45611"
                },
                {
                  "0": "Julia Coleman",
                  "1": "SO45610"
                },
                {
                  "0": "Crystal Gao",
                  "1": "SO45612"
                },
                {
                  "0": "Abby Arthur",
                  "1": "SO45616"
                },
                {
                  "0": "Christian Hughes",
                  "1": "SO45613"
                },
                {
                  "0": "Clayton Nara",
                  "1": "SO45621"
                },
                {
                  "0": "Dawn Lal",
                  "1": "SO45618"
                },
                {
                  "0": "Roy Moreno",
                  "1": "SO45620"
                },
                {
                  "0": "Alex Hill",
                  "1": "SO45619"
                },
                {
                  "0": "Gabriel Kumar",
                  "1": "SO45615"
                },
                {
                  "0": "Corey Kumar",
                  "1": "SO45617"
                },
                {
                  "0": "Isaac Brooks",
                  "1": "SO45614"
                },
                {
                  "0": "Logan Clark",
                  "1": "SO45627"
                },
                {
                  "0": "Casey Navarro",
                  "1": "SO45628"
                },
                {
                  "0": "Brenda Perez",
                  "1": "SO45630"
                },
                {
                  "0": "Julio Ortega",
                  "1": "SO45629"
                },
                {
                  "0": "Hunter Rodriguez",
                  "1": "SO45625"
                },
                {
                  "0": "Jenna Wright",
                  "1": "SO45624"
                },
                {
                  "0": "Victoria Stewart",
                  "1": "SO45626"
                },
                {
                  "0": "Jessica Powell",
                  "1": "SO45623"
                },
                {
                  "0": "Tamara Tang",
                  "1": "SO45622"
                },
                {
                  "0": "Daisuke Yanagishima",
                  "1": "SO45633"
                },
                {
                  "0": "Bonnie Xie",
                  "1": "SO45632"
                },
                {
                  "0": "Clarence Anand",
                  "1": "SO45631"
                },
                {
                  "0": "Edwin Lin",
                  "1": "SO45634"
                },
                {
                  "0": "Derek Shan",
                  "1": "SO45639"
                },
                {
                  "0": "Gloria Alonso",
                  "1": "SO45640"
                },
                {
                  "0": "Lucas Sanchez",
                  "1": "SO45635"
                },
                {
                  "0": "Spencer Russell",
                  "1": "SO45636"
                },
                {
                  "0": "Ariana Cook",
                  "1": "SO45637"
                },
                {
                  "0": "Courtney Nelson",
                  "1": "SO45638"
                },
                {
                  "0": "Angela Perry",
                  "1": "SO45642"
                },
                {
                  "0": "Byron Ortega",
                  "1": "SO45641"
                },
                {
                  "0": "Warren Zhou",
                  "1": "SO45648"
                },
                {
                  "0": "Adrienne Torres",
                  "1": "SO45645"
                },
                {
                  "0": "Maria Carter",
                  "1": "SO45646"
                },
                {
                  "0": "Douglas Kapoor",
                  "1": "SO45643"
                },
                {
                  "0": "Katherine Wright",
                  "1": "SO45647"
                },
                {
                  "0": "Casey She",
                  "1": "SO45644"
                },
                {
                  "0": "Mariah Murphy",
                  "1": "SO45650"
                },
                {
                  "0": "Jade Bailey",
                  "1": "SO45649"
                },
                {
                  "0": "Jessie Ramos",
                  "1": "SO45653"
                },
                {
                  "0": "Tasha Jai",
                  "1": "SO45651"
                },
                {
                  "0": "Nathaniel Watson",
                  "1": "SO45652"
                },
                {
                  "0": "Karla Nara",
                  "1": "SO45661"
                },
                {
                  "0": "Clarence Liu",
                  "1": "SO45660"
                },
                {
                  "0": "Sean Brooks",
                  "1": "SO45656"
                },
                {
                  "0": "Jose Patterson",
                  "1": "SO45655"
                },
                {
                  "0": "Taylor Howard",
                  "1": "SO45657"
                },
                {
                  "0": "Robert Lee",
                  "1": "SO45658"
                },
                {
                  "0": "Stacy Alvarez",
                  "1": "SO45663"
                },
                {
                  "0": "Gabriella Sanders",
                  "1": "SO45662"
                },
                {
                  "0": "Riley Long",
                  "1": "SO45654"
                },
                {
                  "0": "Denise Subram",
                  "1": "SO45659"
                },
                {
                  "0": "Arthur Washington",
                  "1": "SO45665"
                },
                {
                  "0": "Jon Ye",
                  "1": "SO45664"
                },
                {
                  "0": "Ethan Garcia",
                  "1": "SO45666"
                },
                {
                  "0": "Arthur Mehta",
                  "1": "SO45667"
                },
                {
                  "0": "Amy Wu",
                  "1": "SO45673"
                },
                {
                  "0": "Lacey Hu",
                  "1": "SO45674"
                },
                {
                  "0": "Shannon Hu",
                  "1": "SO45672"
                },
                {
                  "0": "Toni Patel",
                  "1": "SO45675"
                },
                {
                  "0": "Dustin Chander",
                  "1": "SO45677"
                },
                {
                  "0": "Jon Luo",
                  "1": "SO45668"
                },
                {
                  "0": "Mariah Wood",
                  "1": "SO45671"
                },
                {
                  "0": "Marc Torres",
                  "1": "SO45676"
                },
                {
                  "0": "Joan Washington",
                  "1": "SO45669"
                },
                {
                  "0": "Aidan Ross",
                  "1": "SO45670"
                },
                {
                  "0": "Alberto Navarro",
                  "1": "SO45679"
                },
                {
                  "0": "Megan Barnes",
                  "1": "SO45678"
                },
                {
                  "0": "Haley Torres",
                  "1": "SO45680"
                },
                {
                  "0": "Gloria Munoz",
                  "1": "SO45681"
                },
                {
                  "0": "Ronnie Lu",
                  "1": "SO45682"
                },
                {
                  "0": "Erika Romero",
                  "1": "SO45690"
                },
                {
                  "0": "Ricky Gutierrez",
                  "1": "SO45689"
                },
                {
                  "0": "Adrienne Blanco",
                  "1": "SO45685"
                },
                {
                  "0": "Donald Chandra",
                  "1": "SO45684"
                },
                {
                  "0": "Angela Henderson",
                  "1": "SO45691"
                },
                {
                  "0": "Ian Martin",
                  "1": "SO45683"
                },
                {
                  "0": "Emma Cooper",
                  "1": "SO45688"
                },
                {
                  "0": "Elizabeth Clark",
                  "1": "SO45687"
                },
                {
                  "0": "Richard Rivera",
                  "1": "SO45686"
                },
                {
                  "0": "Aidan Wood",
                  "1": "SO45698"
                },
                {
                  "0": "Mary Green",
                  "1": "SO45699"
                },
                {
                  "0": "Teresa Gutierrez",
                  "1": "SO45693"
                },
                {
                  "0": "Morgan Bennett",
                  "1": "SO45694"
                },
                {
                  "0": "Victor Carlson",
                  "1": "SO45692"
                },
                {
                  "0": "Rafael Xie",
                  "1": "SO45696"
                },
                {
                  "0": "Seth Phillips",
                  "1": "SO45695"
                },
                {
                  "0": "Mya Gonzales",
                  "1": "SO45697"
                },
                {
                  "0": "Nicole Taylor",
                  "1": "SO45701"
                },
                {
                  "0": "Jonathan Phillips",
                  "1": "SO45700"
                },
                {
                  "0": "Ann Malhotra",
                  "1": "SO45702"
                },
                {
                  "0": "Darryl Liu",
                  "1": "SO45703"
                },
                {
                  "0": "Tina Smith",
                  "1": "SO45709"
                },
                {
                  "0": "Geoffrey Fernandez",
                  "1": "SO45710"
                },
                {
                  "0": "Ruben Patel",
                  "1": "SO45708"
                },
                {
                  "0": "Mariah Barnes",
                  "1": "SO45711"
                },
                {
                  "0": "Jackson Phillips",
                  "1": "SO45705"
                },
                {
                  "0": "David Diaz",
                  "1": "SO45706"
                },
                {
                  "0": "Meagan Madan",
                  "1": "SO45712"
                },
                {
                  "0": "Kaylee Cook",
                  "1": "SO45707"
                },
                {
                  "0": "Stacy Torres",
                  "1": "SO45704"
                },
                {
                  "0": "Colleen Cai",
                  "1": "SO45713"
                },
                {
                  "0": "Cameron Lewis",
                  "1": "SO45714"
                },
                {
                  "0": "Rosa Liang",
                  "1": "SO45715"
                },
                {
                  "0": "Tony Kumar",
                  "1": "SO45716"
                },
                {
                  "0": "Tina Gonzalez",
                  "1": "SO45720"
                },
                {
                  "0": "Elijah Diaz",
                  "1": "SO45719"
                },
                {
                  "0": "Candace Raman",
                  "1": "SO45721"
                },
                {
                  "0": "Lauren Martinez",
                  "1": "SO45718"
                },
                {
                  "0": "Elijah Ross",
                  "1": "SO45717"
                },
                {
                  "0": "Rafael Tang",
                  "1": "SO45722"
                },
                {
                  "0": "Nichole She",
                  "1": "SO45727"
                },
                {
                  "0": "Katelyn Sanchez",
                  "1": "SO45723"
                },
                {
                  "0": "Maurice Lal",
                  "1": "SO45724"
                },
                {
                  "0": "Lance Gill",
                  "1": "SO45726"
                },
                {
                  "0": "Rosa Zhang",
                  "1": "SO45725"
                },
                {
                  "0": "Madison Hughes",
                  "1": "SO45728"
                },
                {
                  "0": "Hunter Griffin",
                  "1": "SO45731"
                },
                {
                  "0": "Haley Powell",
                  "1": "SO45734"
                },
                {
                  "0": "Ryan Smith",
                  "1": "SO45733"
                },
                {
                  "0": "Dakota Ross",
                  "1": "SO45732"
                },
                {
                  "0": "Kate Raji",
                  "1": "SO45739"
                },
                {
                  "0": "Byron Carlson",
                  "1": "SO45738"
                },
                {
                  "0": "Phil Spencer",
                  "1": "SO45736"
                },
                {
                  "0": "Jay Lopez",
                  "1": "SO45737"
                },
                {
                  "0": "Cristina Nara",
                  "1": "SO45735"
                },
                {
                  "0": "Robin Sanz",
                  "1": "SO45729"
                },
                {
                  "0": "Phillip Sullivan",
                  "1": "SO45730"
                },
                {
                  "0": "Robin Carlson",
                  "1": "SO45740"
                },
                {
                  "0": "Kristen Hu",
                  "1": "SO45741"
                },
                {
                  "0": "Timothy Scott",
                  "1": "SO45743"
                },
                {
                  "0": "Andy Vazquez",
                  "1": "SO45742"
                },
                {
                  "0": "Ann Gonzalez",
                  "1": "SO45744"
                },
                {
                  "0": "Justin Washington",
                  "1": "SO45747"
                },
                {
                  "0": "Charles Gonzalez",
                  "1": "SO45751"
                },
                {
                  "0": "Steve Gao",
                  "1": "SO45749"
                },
                {
                  "0": "Martin Prasad",
                  "1": "SO45745"
                },
                {
                  "0": "Hector Vazquez",
                  "1": "SO45752"
                },
                {
                  "0": "Abby Sanchez",
                  "1": "SO45753"
                },
                {
                  "0": "Terry Jai",
                  "1": "SO45748"
                },
                {
                  "0": "Zachary Flores",
                  "1": "SO45746"
                },
                {
                  "0": "Nicholas Lee",
                  "1": "SO45750"
                },
                {
                  "0": "Logan Chow",
                  "1": "SO45755"
                },
                {
                  "0": "Austin Bryant",
                  "1": "SO45754"
                },
                {
                  "0": "Zachary Moore",
                  "1": "SO45756"
                },
                {
                  "0": "Isaiah Wright",
                  "1": "SO45761"
                },
                {
                  "0": "Taylor Lewis",
                  "1": "SO45759"
                },
                {
                  "0": "Andy Alvarez",
                  "1": "SO45760"
                },
                {
                  "0": "Barry Martinez",
                  "1": "SO45762"
                },
                {
                  "0": "Trisha Lin",
                  "1": "SO45757"
                },
                {
                  "0": "Shannon Navarro",
                  "1": "SO45758"
                },
                {
                  "0": "Tabitha Moreno",
                  "1": "SO45763"
                },
                {
                  "0": "Douglas Rodriguez",
                  "1": "SO45764"
                },
                {
                  "0": "Susan She",
                  "1": "SO45770"
                },
                {
                  "0": "Jaime Moreno",
                  "1": "SO45769"
                },
                {
                  "0": "Orlando Vazquez",
                  "1": "SO45767"
                },
                {
                  "0": "Zachary Anderson",
                  "1": "SO45768"
                },
                {
                  "0": "Noah Coleman",
                  "1": "SO45766"
                },
                {
                  "0": "Ricky Vazquez",
                  "1": "SO45765"
                },
                {
                  "0": "Stephanie Collins",
                  "1": "SO45774"
                },
                {
                  "0": "Danielle Reed",
                  "1": "SO45771"
                },
                {
                  "0": "Ni�ia Anand",
                  "1": "SO45773"
                },
                {
                  "0": "Olivia Ramirez",
                  "1": "SO45772"
                },
                {
                  "0": "Megan Harris",
                  "1": "SO45776"
                },
                {
                  "0": "Sarah Garcia",
                  "1": "SO45777"
                },
                {
                  "0": "Jos� Saraiva",
                  "1": "SO45775"
                },
                {
                  "0": "Samuel Walker",
                  "1": "SO45778"
                },
                {
                  "0": "Riley Simmons",
                  "1": "SO45817"
                },
                {
                  "0": "Ariana Morgan",
                  "1": "SO45818"
                },
                {
                  "0": "Taylor Garcia",
                  "1": "SO45816"
                },
                {
                  "0": "Shawn Tang",
                  "1": "SO45820"
                },
                {
                  "0": "George Garcia",
                  "1": "SO45819"
                },
                {
                  "0": "Mindy Xu",
                  "1": "SO45822"
                },
                {
                  "0": "Veronica Kapoor",
                  "1": "SO45823"
                },
                {
                  "0": "Gloria Torres",
                  "1": "SO45821"
                },
                {
                  "0": "Darren Malhotra",
                  "1": "SO45829"
                },
                {
                  "0": "Jamie Guo",
                  "1": "SO45830"
                },
                {
                  "0": "Rodney Blanco",
                  "1": "SO45831"
                },
                {
                  "0": "Jon Pal",
                  "1": "SO45827"
                },
                {
                  "0": "Dennis Ware",
                  "1": "SO45825"
                },
                {
                  "0": "Jonathan Powell",
                  "1": "SO45826"
                },
                {
                  "0": "Joe Rana",
                  "1": "SO45832"
                },
                {
                  "0": "Mackenzie Campbell",
                  "1": "SO45824"
                },
                {
                  "0": "Austin Foster",
                  "1": "SO45828"
                },
                {
                  "0": "Nelson Harrison",
                  "1": "SO45836"
                },
                {
                  "0": "Victoria Morris",
                  "1": "SO45835"
                },
                {
                  "0": "Philip Carlson",
                  "1": "SO45839"
                },
                {
                  "0": "Hannah Patterson",
                  "1": "SO45833"
                },
                {
                  "0": "Joe Torres",
                  "1": "SO45834"
                },
                {
                  "0": "Gina Dominguez",
                  "1": "SO45838"
                },
                {
                  "0": "Clarence Ye",
                  "1": "SO45837"
                },
                {
                  "0": "Andrew Rodriguez",
                  "1": "SO45844"
                },
                {
                  "0": "Sierra Roberts",
                  "1": "SO45843"
                },
                {
                  "0": "Edward Lewis",
                  "1": "SO45842"
                },
                {
                  "0": "Latasha Rubio",
                  "1": "SO45840"
                },
                {
                  "0": "Jaclyn Chander",
                  "1": "SO45841"
                },
                {
                  "0": "Adam Gonzalez",
                  "1": "SO45848"
                },
                {
                  "0": "Raul Luo",
                  "1": "SO45849"
                },
                {
                  "0": "Benjamin Shan",
                  "1": "SO45845"
                },
                {
                  "0": "Joseph Jackson",
                  "1": "SO45846"
                },
                {
                  "0": "Gabriel Chow",
                  "1": "SO45847"
                },
                {
                  "0": "Kristina Lopez",
                  "1": "SO45856"
                },
                {
                  "0": "Chad Shen",
                  "1": "SO45852"
                },
                {
                  "0": "Isabelle Barnes",
                  "1": "SO45853"
                },
                {
                  "0": "Dominique Subram",
                  "1": "SO45854"
                },
                {
                  "0": "Grant Pal",
                  "1": "SO45855"
                },
                {
                  "0": "Greg Taylor",
                  "1": "SO45851"
                },
                {
                  "0": "Seth Mitchell",
                  "1": "SO45850"
                },
                {
                  "0": "Warren Andersen",
                  "1": "SO45857"
                },
                {
                  "0": "Dorothy Robinson",
                  "1": "SO45858"
                },
                {
                  "0": "Lindsey Deng",
                  "1": "SO45859"
                },
                {
                  "0": "Aaron Wright",
                  "1": "SO45861"
                },
                {
                  "0": "Anthony Rodriguez",
                  "1": "SO45860"
                },
                {
                  "0": "Kelli Wu",
                  "1": "SO45866"
                },
                {
                  "0": "Riley Reed",
                  "1": "SO45865"
                },
                {
                  "0": "Katrina Chande",
                  "1": "SO45864"
                },
                {
                  "0": "Ryan Zhang",
                  "1": "SO45863"
                },
                {
                  "0": "Ernest Xu",
                  "1": "SO45862"
                },
                {
                  "0": "Dana Ruiz",
                  "1": "SO45868"
                },
                {
                  "0": "Jessica Martin",
                  "1": "SO45869"
                },
                {
                  "0": "Cameron Moore",
                  "1": "SO45867"
                },
                {
                  "0": "Dana Ramos",
                  "1": "SO45871"
                },
                {
                  "0": "Mark Bebbington",
                  "1": "SO45870"
                },
                {
                  "0": "Brittney Zhang",
                  "1": "SO45876"
                },
                {
                  "0": "Ashley Alexander",
                  "1": "SO45874"
                },
                {
                  "0": "Christopher Thomas",
                  "1": "SO45875"
                },
                {
                  "0": "Ashlee Jai",
                  "1": "SO45873"
                },
                {
                  "0": "Jaclyn Zheng",
                  "1": "SO45877"
                },
                {
                  "0": "Cindy Patel",
                  "1": "SO45872"
                },
                {
                  "0": "Johnny Chavez",
                  "1": "SO45884"
                },
                {
                  "0": "Allison Gonzalez",
                  "1": "SO45882"
                },
                {
                  "0": "Natalie Cook",
                  "1": "SO45880"
                },
                {
                  "0": "Adrienne Gomez",
                  "1": "SO45889"
                },
                {
                  "0": "Jessie Wang",
                  "1": "SO45883"
                },
                {
                  "0": "Larry Vazquez",
                  "1": "SO45885"
                },
                {
                  "0": "Teresa Vazquez",
                  "1": "SO45878"
                },
                {
                  "0": "Jessica Ross",
                  "1": "SO45887"
                },
                {
                  "0": "Valerie Wang",
                  "1": "SO45888"
                },
                {
                  "0": "Dominic Raman",
                  "1": "SO45879"
                },
                {
                  "0": "Isabelle Bryant",
                  "1": "SO45881"
                },
                {
                  "0": "Devin Griffin",
                  "1": "SO45886"
                },
                {
                  "0": "Connor Bryant",
                  "1": "SO45893"
                },
                {
                  "0": "Valerie She",
                  "1": "SO45892"
                },
                {
                  "0": "Frank Navarro",
                  "1": "SO45890"
                },
                {
                  "0": "Mitchell Kumar",
                  "1": "SO45891"
                },
                {
                  "0": "Benjamin Taylor",
                  "1": "SO45895"
                },
                {
                  "0": "Bonnie Nath",
                  "1": "SO45896"
                },
                {
                  "0": "Keith Lal",
                  "1": "SO45894"
                },
                {
                  "0": "Cesar Mehta",
                  "1": "SO45904"
                },
                {
                  "0": "Trisha Liu",
                  "1": "SO45907"
                },
                {
                  "0": "Ernest Zhu",
                  "1": "SO45906"
                },
                {
                  "0": "Rafael She",
                  "1": "SO45905"
                },
                {
                  "0": "Faith Simmons",
                  "1": "SO45902"
                },
                {
                  "0": "Levi Subram",
                  "1": "SO45903"
                },
                {
                  "0": "Cameron White",
                  "1": "SO45898"
                },
                {
                  "0": "Janet Dominguez",
                  "1": "SO45901"
                },
                {
                  "0": "Morgan Miller",
                  "1": "SO45899"
                },
                {
                  "0": "Haley Alexander",
                  "1": "SO45900"
                },
                {
                  "0": "Mathew Rubio",
                  "1": "SO45897"
                },
                {
                  "0": "Kaylee Hill",
                  "1": "SO45908"
                },
                {
                  "0": "Jenny Zheng",
                  "1": "SO45909"
                },
                {
                  "0": "Sharon Salavaria",
                  "1": "SO45916"
                },
                {
                  "0": "Virginia Gonzalez",
                  "1": "SO45914"
                },
                {
                  "0": "Jaclyn Nara",
                  "1": "SO45915"
                },
                {
                  "0": "Devin Coleman",
                  "1": "SO45911"
                },
                {
                  "0": "Miranda Long",
                  "1": "SO45910"
                },
                {
                  "0": "Vanessa Washington",
                  "1": "SO45912"
                },
                {
                  "0": "Olivia Torres",
                  "1": "SO45913"
                },
                {
                  "0": "Morgan Rodriguez",
                  "1": "SO45920"
                },
                {
                  "0": "Jose Thompson",
                  "1": "SO45922"
                },
                {
                  "0": "Brendan Chande",
                  "1": "SO45921"
                },
                {
                  "0": "Jessica Alexander",
                  "1": "SO45919"
                },
                {
                  "0": "Abigail Brooks",
                  "1": "SO45923"
                },
                {
                  "0": "George Gonzalez",
                  "1": "SO45925"
                },
                {
                  "0": "Tamara Chander",
                  "1": "SO45918"
                },
                {
                  "0": "Deanna Ramos",
                  "1": "SO45917"
                },
                {
                  "0": "Stacy Martin",
                  "1": "SO45924"
                },
                {
                  "0": "Mary Patterson",
                  "1": "SO45928"
                },
                {
                  "0": "Aimee She",
                  "1": "SO45929"
                },
                {
                  "0": "Isabel Jenkins",
                  "1": "SO45927"
                },
                {
                  "0": "Benjamin Coleman",
                  "1": "SO45926"
                },
                {
                  "0": "Tasha Kumar",
                  "1": "SO45931"
                },
                {
                  "0": "Scott Rodgers",
                  "1": "SO45932"
                },
                {
                  "0": "Jaclyn Huang",
                  "1": "SO45930"
                },
                {
                  "0": "Franklin Xu",
                  "1": "SO45935"
                },
                {
                  "0": "Sarah Jackson",
                  "1": "SO45933"
                },
                {
                  "0": "Angel Baker",
                  "1": "SO45934"
                },
                {
                  "0": "Fernando King",
                  "1": "SO45936"
                },
                {
                  "0": "Ariana Sanchez",
                  "1": "SO45938"
                },
                {
                  "0": "Meagan Rana",
                  "1": "SO45946"
                },
                {
                  "0": "Dawn Huang",
                  "1": "SO45947"
                },
                {
                  "0": "Elizabeth Garcia",
                  "1": "SO45939"
                },
                {
                  "0": "Miguel Baker",
                  "1": "SO45937"
                },
                {
                  "0": "Kaylee Sanders",
                  "1": "SO45943"
                },
                {
                  "0": "Sharon Rai",
                  "1": "SO45944"
                },
                {
                  "0": "Dawn Raji",
                  "1": "SO45940"
                },
                {
                  "0": "Marshall Yuan",
                  "1": "SO45941"
                },
                {
                  "0": "Colleen Harrison",
                  "1": "SO45942"
                },
                {
                  "0": "Orlando Gutierrez",
                  "1": "SO45945"
                },
                {
                  "0": "George Fernandez",
                  "1": "SO45950"
                },
                {
                  "0": "Tanya Jimenez",
                  "1": "SO45949"
                },
                {
                  "0": "Andrea Richardson",
                  "1": "SO45948"
                },
                {
                  "0": "Rachael Rodriguez",
                  "1": "SO45951"
                },
                {
                  "0": "Randy Xu",
                  "1": "SO45952"
                },
                {
                  "0": "Antonio Washington",
                  "1": "SO45954"
                },
                {
                  "0": "Janet Browning",
                  "1": "SO45956"
                },
                {
                  "0": "Megan Anderson",
                  "1": "SO45953"
                },
                {
                  "0": "Ethan Foster",
                  "1": "SO45955"
                },
                {
                  "0": "Colin Shan",
                  "1": "SO45965"
                },
                {
                  "0": "Ioannis Xylaras",
                  "1": "SO45964"
                },
                {
                  "0": "Louis Zhang",
                  "1": "SO45962"
                },
                {
                  "0": "Anna Watson",
                  "1": "SO45963"
                },
                {
                  "0": "Juan Gray",
                  "1": "SO45957"
                },
                {
                  "0": "Daniel Garcia",
                  "1": "SO45958"
                },
                {
                  "0": "Faith Patterson",
                  "1": "SO45959"
                },
                {
                  "0": "Brandy Saunders",
                  "1": "SO45966"
                },
                {
                  "0": "Jessica Brown",
                  "1": "SO45960"
                },
                {
                  "0": "Hannah Wood",
                  "1": "SO45961"
                },
                {
                  "0": "Antonio Patterson",
                  "1": "SO45970"
                },
                {
                  "0": "Fernando Flores",
                  "1": "SO45968"
                },
                {
                  "0": "Jay Madan",
                  "1": "SO45969"
                },
                {
                  "0": "Roger Sharma",
                  "1": "SO45967"
                },
                {
                  "0": "Heidi Sara",
                  "1": "SO45972"
                },
                {
                  "0": "Shawn Chander",
                  "1": "SO45977"
                },
                {
                  "0": "Jill Ortega",
                  "1": "SO45976"
                },
                {
                  "0": "Gavin Diaz",
                  "1": "SO45973"
                },
                {
                  "0": "Latasha Munoz",
                  "1": "SO45978"
                },
                {
                  "0": "Carla Raman",
                  "1": "SO45971"
                },
                {
                  "0": "Robert Davis",
                  "1": "SO45975"
                },
                {
                  "0": "Zachary Thompson",
                  "1": "SO45974"
                },
                {
                  "0": "Marvin Moreno",
                  "1": "SO45981"
                },
                {
                  "0": "Kristine Gill",
                  "1": "SO45982"
                },
                {
                  "0": "Nichole Tang",
                  "1": "SO45979"
                },
                {
                  "0": "Clayton Andersen",
                  "1": "SO45980"
                },
                {
                  "0": "Heather Zheng",
                  "1": "SO45990"
                },
                {
                  "0": "Clarence Gao",
                  "1": "SO45989"
                },
                {
                  "0": "Devin Martinez",
                  "1": "SO45988"
                },
                {
                  "0": "Elizabeth Weisman",
                  "1": "SO45985"
                },
                {
                  "0": "Caroline Butler",
                  "1": "SO45984"
                },
                {
                  "0": "Chase Kelly",
                  "1": "SO45986"
                },
                {
                  "0": "Audrey Ramos",
                  "1": "SO45991"
                },
                {
                  "0": "Jason Mitchell",
                  "1": "SO45987"
                },
                {
                  "0": "Isabella Ward",
                  "1": "SO45983"
                },
                {
                  "0": "Charles Reed",
                  "1": "SO45997"
                },
                {
                  "0": "Tyler Brown",
                  "1": "SO45996"
                },
                {
                  "0": "Emma Sanchez",
                  "1": "SO45994"
                },
                {
                  "0": "Ian Long",
                  "1": "SO45993"
                },
                {
                  "0": "Pedro Sara",
                  "1": "SO45992"
                },
                {
                  "0": "Carly Anand",
                  "1": "SO45998"
                },
                {
                  "0": "Aidan Diaz",
                  "1": "SO45995"
                },
                {
                  "0": "Olivia Foster",
                  "1": "SO46001"
                },
                {
                  "0": "Brianna Martin",
                  "1": "SO45999"
                },
                {
                  "0": "Cesar Chandra",
                  "1": "SO46006"
                },
                {
                  "0": "Wendy Carlson",
                  "1": "SO46007"
                },
                {
                  "0": "Roy Sanz",
                  "1": "SO46009"
                },
                {
                  "0": "Rachael Sai",
                  "1": "SO46008"
                },
                {
                  "0": "Haley Henderson",
                  "1": "SO46000"
                },
                {
                  "0": "Christian Ross",
                  "1": "SO46003"
                },
                {
                  "0": "Jessie Alonso",
                  "1": "SO46002"
                },
                {
                  "0": "Alyssa Morgan",
                  "1": "SO46004"
                },
                {
                  "0": "Miguel Lee",
                  "1": "SO46005"
                },
                {
                  "0": "Seth Williams",
                  "1": "SO46018"
                },
                {
                  "0": "Brooke Richardson",
                  "1": "SO46013"
                },
                {
                  "0": "Jermaine Lopez",
                  "1": "SO46010"
                },
                {
                  "0": "Deborah Goel",
                  "1": "SO46011"
                },
                {
                  "0": "Kurt Sharma",
                  "1": "SO46016"
                },
                {
                  "0": "Katelyn Parker",
                  "1": "SO46017"
                },
                {
                  "0": "Kelsey Becker",
                  "1": "SO46022"
                },
                {
                  "0": "Seth Turner",
                  "1": "SO46019"
                },
                {
                  "0": "Raymond Arthur",
                  "1": "SO46020"
                },
                {
                  "0": "Jeffery Lu",
                  "1": "SO46021"
                },
                {
                  "0": "Veronica Rana",
                  "1": "SO46012"
                },
                {
                  "0": "Joshua Rodriguez",
                  "1": "SO46015"
                },
                {
                  "0": "Kaitlyn Long",
                  "1": "SO46014"
                },
                {
                  "0": "Tiffany Guo",
                  "1": "SO46119"
                },
                {
                  "0": "Clayton Rai",
                  "1": "SO46117"
                },
                {
                  "0": "Carla Sullivan",
                  "1": "SO46118"
                },
                {
                  "0": "Emma Taylor",
                  "1": "SO46116"
                },
                {
                  "0": "Gabriel Green",
                  "1": "SO46113"
                },
                {
                  "0": "Dennis Huang",
                  "1": "SO46112"
                },
                {
                  "0": "Devin Henderson",
                  "1": "SO46108"
                },
                {
                  "0": "Cedric Gao",
                  "1": "SO46114"
                },
                {
                  "0": "Devin Perez",
                  "1": "SO46111"
                },
                {
                  "0": "Mariah Ross",
                  "1": "SO46115"
                },
                {
                  "0": "Sebastian Stewart",
                  "1": "SO46109"
                },
                {
                  "0": "Abigail Howard",
                  "1": "SO46110"
                },
                {
                  "0": "Adrian Ramirez",
                  "1": "SO46123"
                },
                {
                  "0": "Garrett Kelly",
                  "1": "SO46121"
                },
                {
                  "0": "Fernando Johnson",
                  "1": "SO46120"
                },
                {
                  "0": "Jodi Goel",
                  "1": "SO46124"
                },
                {
                  "0": "Melissa Sanders",
                  "1": "SO46122"
                },
                {
                  "0": "Evelyn Mehta",
                  "1": "SO46129"
                },
                {
                  "0": "Alexandria Sandberg",
                  "1": "SO46125"
                },
                {
                  "0": "Samantha Lewis",
                  "1": "SO46128"
                },
                {
                  "0": "Gabrielle Barnes",
                  "1": "SO46126"
                },
                {
                  "0": "Connor Hernandez",
                  "1": "SO46127"
                },
                {
                  "0": "Ethan Bryant",
                  "1": "SO46138"
                },
                {
                  "0": "Bonnie Jai",
                  "1": "SO46139"
                },
                {
                  "0": "Joseph Garcia",
                  "1": "SO46131"
                },
                {
                  "0": "Frederick Martinez",
                  "1": "SO46140"
                },
                {
                  "0": "Abigail Foster",
                  "1": "SO46133"
                },
                {
                  "0": "Alyssa Cooper",
                  "1": "SO46130"
                },
                {
                  "0": "Dale Goel",
                  "1": "SO46135"
                },
                {
                  "0": "Johnathan Perez",
                  "1": "SO46136"
                },
                {
                  "0": "Jenny Andersen",
                  "1": "SO46134"
                },
                {
                  "0": "Lori Sanz",
                  "1": "SO46132"
                },
                {
                  "0": "Dennis Hu",
                  "1": "SO46137"
                },
                {
                  "0": "Gabrielle Peterson",
                  "1": "SO46142"
                },
                {
                  "0": "Allison Edwards",
                  "1": "SO46141"
                },
                {
                  "0": "Eric Griffin",
                  "1": "SO46145"
                },
                {
                  "0": "Mathew Moreno",
                  "1": "SO46143"
                },
                {
                  "0": "Sarah Butler",
                  "1": "SO46144"
                },
                {
                  "0": "Christian Johnson",
                  "1": "SO46151"
                },
                {
                  "0": "Xavier Simmons",
                  "1": "SO46149"
                },
                {
                  "0": "Kara Anand",
                  "1": "SO46154"
                },
                {
                  "0": "Makayla Ward",
                  "1": "SO46148"
                },
                {
                  "0": "Amy Sun",
                  "1": "SO46146"
                },
                {
                  "0": "Sarah Anderson",
                  "1": "SO46147"
                },
                {
                  "0": "Marie Romero",
                  "1": "SO46152"
                },
                {
                  "0": "Mario Sharma",
                  "1": "SO46153"
                },
                {
                  "0": "Patricia Patel",
                  "1": "SO46150"
                },
                {
                  "0": "Larry Gutierrez",
                  "1": "SO46158"
                },
                {
                  "0": "Chloe Washington",
                  "1": "SO46155"
                },
                {
                  "0": "Veronica Srini",
                  "1": "SO46159"
                },
                {
                  "0": "Miguel Sanchez",
                  "1": "SO46156"
                },
                {
                  "0": "Karen Zeng",
                  "1": "SO46157"
                },
                {
                  "0": "Bailey Bailey",
                  "1": "SO46169"
                },
                {
                  "0": "Kaitlyn Lee",
                  "1": "SO46165"
                },
                {
                  "0": "Aaron Wang",
                  "1": "SO46162"
                },
                {
                  "0": "Nicolas Chander",
                  "1": "SO46161"
                },
                {
                  "0": "Kristina Kapoor",
                  "1": "SO46167"
                },
                {
                  "0": "Nathaniel Cooper",
                  "1": "SO46164"
                },
                {
                  "0": "Alex Carter",
                  "1": "SO46163"
                },
                {
                  "0": "Sydney Bryant",
                  "1": "SO46160"
                },
                {
                  "0": "Deanna Schmidt",
                  "1": "SO46168"
                },
                {
                  "0": "Marcus Hayes",
                  "1": "SO46166"
                },
                {
                  "0": "Katie Shen",
                  "1": "SO46173"
                },
                {
                  "0": "Evan Campbell",
                  "1": "SO46171"
                },
                {
                  "0": "Cara Hu",
                  "1": "SO46174"
                },
                {
                  "0": "Ana Washington",
                  "1": "SO46172"
                },
                {
                  "0": "Audrey Munoz",
                  "1": "SO46175"
                },
                {
                  "0": "Bonnie Raji",
                  "1": "SO46170"
                },
                {
                  "0": "Devin Simmons",
                  "1": "SO46177"
                },
                {
                  "0": "Andre Perez",
                  "1": "SO46176"
                },
                {
                  "0": "Jon Yuan",
                  "1": "SO46178"
                },
                {
                  "0": "Jarrod Suri",
                  "1": "SO46181"
                },
                {
                  "0": "Aidan Perry",
                  "1": "SO46180"
                },
                {
                  "0": "Kelvin Carson",
                  "1": "SO46182"
                },
                {
                  "0": "Cheryl Ortega",
                  "1": "SO46179"
                },
                {
                  "0": "Seth Martin",
                  "1": "SO46186"
                },
                {
                  "0": "Krista Romero",
                  "1": "SO46191"
                },
                {
                  "0": "Ebony Jimenez",
                  "1": "SO46184"
                },
                {
                  "0": "Jill Martinez",
                  "1": "SO46187"
                },
                {
                  "0": "Jocelyn Coleman",
                  "1": "SO46189"
                },
                {
                  "0": "Maurice Ashe",
                  "1": "SO46188"
                },
                {
                  "0": "Gerald Madan",
                  "1": "SO46190"
                },
                {
                  "0": "Gloria Carlson",
                  "1": "SO46185"
                },
                {
                  "0": "Bethany Tang",
                  "1": "SO46183"
                },
                {
                  "0": "Terry Rai",
                  "1": "SO46198"
                },
                {
                  "0": "Connor Butler",
                  "1": "SO46197"
                },
                {
                  "0": "Ethan Martinez",
                  "1": "SO46200"
                },
                {
                  "0": "Javier Serrano",
                  "1": "SO46199"
                },
                {
                  "0": "Veronica Arun",
                  "1": "SO46193"
                },
                {
                  "0": "Jessie Zhou",
                  "1": "SO46201"
                },
                {
                  "0": "April Tang",
                  "1": "SO46202"
                },
                {
                  "0": "Haley Wood",
                  "1": "SO46195"
                },
                {
                  "0": "Kathryn Chapman",
                  "1": "SO46204"
                },
                {
                  "0": "Johnny Shan",
                  "1": "SO46203"
                },
                {
                  "0": "Kevin Washington",
                  "1": "SO46194"
                },
                {
                  "0": "Morgan Foster",
                  "1": "SO46196"
                },
                {
                  "0": "Russell Raje",
                  "1": "SO46192"
                },
                {
                  "0": "Adam Baker",
                  "1": "SO46209"
                },
                {
                  "0": "Janelle Fernandez",
                  "1": "SO46210"
                },
                {
                  "0": "Luke Mitchell",
                  "1": "SO46205"
                },
                {
                  "0": "Deanna Ashe",
                  "1": "SO46208"
                },
                {
                  "0": "Edward Hughes",
                  "1": "SO46206"
                },
                {
                  "0": "Chloe Bennett",
                  "1": "SO46207"
                },
                {
                  "0": "Gabriel Zhang",
                  "1": "SO46211"
                },
                {
                  "0": "Gregory Shan",
                  "1": "SO46217"
                },
                {
                  "0": "Curtis Gao",
                  "1": "SO46215"
                },
                {
                  "0": "Alfredo Ramos",
                  "1": "SO46216"
                },
                {
                  "0": "Dalton Edwards",
                  "1": "SO46212"
                },
                {
                  "0": "Aaron Young",
                  "1": "SO46213"
                },
                {
                  "0": "Tristan Ross",
                  "1": "SO46214"
                },
                {
                  "0": "Joanna Vazquez",
                  "1": "SO46227"
                },
                {
                  "0": "Rosa Wang",
                  "1": "SO46228"
                },
                {
                  "0": "Derek Tang",
                  "1": "SO46218"
                },
                {
                  "0": "Arianna Diaz",
                  "1": "SO46224"
                },
                {
                  "0": "Kyle Hayes",
                  "1": "SO46222"
                },
                {
                  "0": "Savannah Sanders",
                  "1": "SO46223"
                },
                {
                  "0": "Kate Anand",
                  "1": "SO46226"
                },
                {
                  "0": "Wayne Chander",
                  "1": "SO46220"
                },
                {
                  "0": "Abigail Thompson",
                  "1": "SO46219"
                },
                {
                  "0": "Xavier Flores",
                  "1": "SO46221"
                },
                {
                  "0": "Mariah Rivera",
                  "1": "SO46225"
                },
                {
                  "0": "Sarah Henderson",
                  "1": "SO46233"
                },
                {
                  "0": "Summer Smith",
                  "1": "SO46237"
                },
                {
                  "0": "Steven Kelly",
                  "1": "SO46235"
                },
                {
                  "0": "Bianca Guo",
                  "1": "SO46234"
                },
                {
                  "0": "Shannon Yang",
                  "1": "SO46236"
                },
                {
                  "0": "Chloe Nelson",
                  "1": "SO46232"
                },
                {
                  "0": "Meredith Serrano",
                  "1": "SO46231"
                },
                {
                  "0": "Dawn Wu",
                  "1": "SO46230"
                },
                {
                  "0": "Beth Gutierrez",
                  "1": "SO46229"
                },
                {
                  "0": "Beth Alonso",
                  "1": "SO46244"
                },
                {
                  "0": "Chelsea Martinez",
                  "1": "SO46239"
                },
                {
                  "0": "Darren Alvarez",
                  "1": "SO46238"
                },
                {
                  "0": "Bridget Xu",
                  "1": "SO46245"
                },
                {
                  "0": "Abigail Coleman",
                  "1": "SO46240"
                },
                {
                  "0": "Lindsay Raje",
                  "1": "SO46243"
                },
                {
                  "0": "Alicia Goel",
                  "1": "SO46242"
                },
                {
                  "0": "Wyatt Turner",
                  "1": "SO46241"
                },
                {
                  "0": "Carmen Rana",
                  "1": "SO46250"
                },
                {
                  "0": "Alexia Flores",
                  "1": "SO46248"
                },
                {
                  "0": "Kathryn Nara",
                  "1": "SO46247"
                },
                {
                  "0": "Ashley Russell",
                  "1": "SO46249"
                },
                {
                  "0": "Donna Sharma",
                  "1": "SO46251"
                },
                {
                  "0": "Logan Turner",
                  "1": "SO46246"
                },
                {
                  "0": "Caitlin Brooks",
                  "1": "SO46254"
                },
                {
                  "0": "Tonya Chande",
                  "1": "SO46257"
                },
                {
                  "0": "Lauren Sanchez",
                  "1": "SO46253"
                },
                {
                  "0": "Cory Kapoor",
                  "1": "SO46252"
                },
                {
                  "0": "Barbara Wang",
                  "1": "SO46256"
                },
                {
                  "0": "Kelli Anand",
                  "1": "SO46255"
                },
                {
                  "0": "Barbara Deng",
                  "1": "SO46262"
                },
                {
                  "0": "Logan Diaz",
                  "1": "SO46259"
                },
                {
                  "0": "James Walker",
                  "1": "SO46260"
                },
                {
                  "0": "Jaclyn Zhang",
                  "1": "SO46258"
                },
                {
                  "0": "Kelsey Xie",
                  "1": "SO46263"
                },
                {
                  "0": "Jessica Walker",
                  "1": "SO46261"
                },
                {
                  "0": "Cassie Jai",
                  "1": "SO46264"
                },
                {
                  "0": "Justin Shan",
                  "1": "SO46265"
                },
                {
                  "0": "J�sus Blanco",
                  "1": "SO46267"
                },
                {
                  "0": "Laura Wu",
                  "1": "SO46268"
                },
                {
                  "0": "Rosa He",
                  "1": "SO46269"
                },
                {
                  "0": "Sabrina Torres",
                  "1": "SO46266"
                },
                {
                  "0": "Colin Yang",
                  "1": "SO46276"
                },
                {
                  "0": "Edwin Tang",
                  "1": "SO46275"
                },
                {
                  "0": "Ethan Williams",
                  "1": "SO46270"
                },
                {
                  "0": "Amanda Gray",
                  "1": "SO46272"
                },
                {
                  "0": "Eduardo Alexander",
                  "1": "SO46271"
                },
                {
                  "0": "Kyle Edwards",
                  "1": "SO46273"
                },
                {
                  "0": "Elijah Patterson",
                  "1": "SO46274"
                },
                {
                  "0": "Barry Subram",
                  "1": "SO46281"
                },
                {
                  "0": "Faith Stewart",
                  "1": "SO46282"
                },
                {
                  "0": "Nicole Washington",
                  "1": "SO46283"
                },
                {
                  "0": "Logan Wilson",
                  "1": "SO46280"
                },
                {
                  "0": "Gabriella Lopez",
                  "1": "SO46279"
                },
                {
                  "0": "Gilbert Shen",
                  "1": "SO46285"
                },
                {
                  "0": "Jasmine Russell",
                  "1": "SO46284"
                },
                {
                  "0": "Andy Ortega",
                  "1": "SO46277"
                },
                {
                  "0": "Edgar Subram",
                  "1": "SO46278"
                },
                {
                  "0": "Carrie Hernandez",
                  "1": "SO46286"
                },
                {
                  "0": "Joe Vazquez",
                  "1": "SO46292"
                },
                {
                  "0": "Katelyn Ward",
                  "1": "SO46291"
                },
                {
                  "0": "Katie Rai",
                  "1": "SO46293"
                },
                {
                  "0": "Lucas Flores",
                  "1": "SO46287"
                },
                {
                  "0": "Cameron Griffin",
                  "1": "SO46289"
                },
                {
                  "0": "Jason Jenkins",
                  "1": "SO46288"
                },
                {
                  "0": "Max Alvarez",
                  "1": "SO46294"
                },
                {
                  "0": "Elizabeth Martinez",
                  "1": "SO46290"
                },
                {
                  "0": "Robert Robinson",
                  "1": "SO46298"
                },
                {
                  "0": "Kristen Guo",
                  "1": "SO46297"
                },
                {
                  "0": "Sara Reed",
                  "1": "SO46296"
                },
                {
                  "0": "Jay Carlson",
                  "1": "SO46299"
                },
                {
                  "0": "Kelli Xie",
                  "1": "SO46300"
                },
                {
                  "0": "Nicolas Anand",
                  "1": "SO46295"
                },
                {
                  "0": "Veronica Malhotra",
                  "1": "SO46303"
                },
                {
                  "0": "Theodore Suarez",
                  "1": "SO46301"
                },
                {
                  "0": "Kayla Alexander",
                  "1": "SO46302"
                },
                {
                  "0": "Adriana Lopez",
                  "1": "SO46304"
                },
                {
                  "0": "Holly Srini",
                  "1": "SO46305"
                },
                {
                  "0": "Leah Hu",
                  "1": "SO46309"
                },
                {
                  "0": "Noah Butler",
                  "1": "SO46306"
                },
                {
                  "0": "Marvin Gutierrez",
                  "1": "SO46310"
                },
                {
                  "0": "Fernando Bryant",
                  "1": "SO46308"
                },
                {
                  "0": "Mario Raje",
                  "1": "SO46307"
                },
                {
                  "0": "Yolanda Xie",
                  "1": "SO46311"
                },
                {
                  "0": "Kaitlyn Bailey",
                  "1": "SO46312"
                },
                {
                  "0": "Gabriella Torres",
                  "1": "SO46315"
                },
                {
                  "0": "Arianna Henderson",
                  "1": "SO46314"
                },
                {
                  "0": "Jose Edwards",
                  "1": "SO46313"
                },
                {
                  "0": "Kristi Torres",
                  "1": "SO46317"
                },
                {
                  "0": "Cara Zeng",
                  "1": "SO46318"
                },
                {
                  "0": "Alyssa Smith",
                  "1": "SO46316"
                },
                {
                  "0": "Luke Jenkins",
                  "1": "SO46320"
                },
                {
                  "0": "James Baker",
                  "1": "SO46321"
                },
                {
                  "0": "Chloe White",
                  "1": "SO46319"
                },
                {
                  "0": "Francisco Chandra",
                  "1": "SO46390"
                },
                {
                  "0": "Jill Moreno",
                  "1": "SO46392"
                },
                {
                  "0": "Danny Suarez",
                  "1": "SO46391"
                },
                {
                  "0": "Bruce Gomez",
                  "1": "SO46393"
                },
                {
                  "0": "Ryan Garcia",
                  "1": "SO46404"
                },
                {
                  "0": "Marshall Zeng",
                  "1": "SO46400"
                },
                {
                  "0": "Julio Serrano",
                  "1": "SO46398"
                },
                {
                  "0": "Mitchell Xie",
                  "1": "SO46401"
                },
                {
                  "0": "Autumn Ma",
                  "1": "SO46405"
                },
                {
                  "0": "Kathleen Rubio",
                  "1": "SO46399"
                },
                {
                  "0": "Kristi Serrano",
                  "1": "SO46402"
                },
                {
                  "0": "Nelson Ramos",
                  "1": "SO46403"
                },
                {
                  "0": "Patrick Torres",
                  "1": "SO46394"
                },
                {
                  "0": "Allison Richardson",
                  "1": "SO46396"
                },
                {
                  "0": "Gary Ortega",
                  "1": "SO46395"
                },
                {
                  "0": "Luke Hughes",
                  "1": "SO46397"
                },
                {
                  "0": "Jonathan Perry",
                  "1": "SO46407"
                },
                {
                  "0": "Morgan Johnson",
                  "1": "SO46408"
                },
                {
                  "0": "Mason Rogers",
                  "1": "SO46406"
                },
                {
                  "0": "Raymond Sanchez",
                  "1": "SO46410"
                },
                {
                  "0": "Grace Jackson",
                  "1": "SO46414"
                },
                {
                  "0": "Tasha Chander",
                  "1": "SO46409"
                },
                {
                  "0": "Raymond Madan",
                  "1": "SO46415"
                },
                {
                  "0": "Madison Jones",
                  "1": "SO46411"
                },
                {
                  "0": "Seth Bennett",
                  "1": "SO46412"
                },
                {
                  "0": "Aaron Allen",
                  "1": "SO46413"
                },
                {
                  "0": "Anna Martin",
                  "1": "SO46418"
                },
                {
                  "0": "Ernest Liu",
                  "1": "SO46420"
                },
                {
                  "0": "Deborah Yuan",
                  "1": "SO46419"
                },
                {
                  "0": "Trevor Simmons",
                  "1": "SO46417"
                },
                {
                  "0": "Katelyn Sanders",
                  "1": "SO46416"
                },
                {
                  "0": "Summer Raman",
                  "1": "SO46421"
                },
                {
                  "0": "Alexis Thomas",
                  "1": "SO46426"
                },
                {
                  "0": "Thomas Harrison",
                  "1": "SO46423"
                },
                {
                  "0": "Christy Zhou",
                  "1": "SO46424"
                },
                {
                  "0": "Megan Williams",
                  "1": "SO46422"
                },
                {
                  "0": "Bonnie Raje",
                  "1": "SO46428"
                },
                {
                  "0": "Katelyn Mitchell",
                  "1": "SO46425"
                },
                {
                  "0": "Isabelle Price",
                  "1": "SO46427"
                },
                {
                  "0": "Keith Shan",
                  "1": "SO46434"
                },
                {
                  "0": "Frederick Sai",
                  "1": "SO46433"
                },
                {
                  "0": "Robert Adams",
                  "1": "SO46431"
                },
                {
                  "0": "Dustin Goldstein",
                  "1": "SO46436"
                },
                {
                  "0": "Troy Suri",
                  "1": "SO46435"
                },
                {
                  "0": "Deanna Perez",
                  "1": "SO46429"
                },
                {
                  "0": "Sabrina Blanco",
                  "1": "SO46430"
                },
                {
                  "0": "Daniel Clark",
                  "1": "SO46432"
                },
                {
                  "0": "Angel Cooper",
                  "1": "SO46442"
                },
                {
                  "0": "Roger Anand",
                  "1": "SO46437"
                },
                {
                  "0": "Shawn Luo",
                  "1": "SO46444"
                },
                {
                  "0": "Charles Phillips",
                  "1": "SO46438"
                },
                {
                  "0": "Geoffrey Rodriguez",
                  "1": "SO46439"
                },
                {
                  "0": "Meredith Alonso",
                  "1": "SO46440"
                },
                {
                  "0": "Brandon Robinson",
                  "1": "SO46441"
                },
                {
                  "0": "Megan Richardson",
                  "1": "SO46443"
                },
                {
                  "0": "Sabrina Rubio",
                  "1": "SO46447"
                },
                {
                  "0": "Andrea Collins",
                  "1": "SO46448"
                },
                {
                  "0": "Joseph Anderson",
                  "1": "SO46446"
                },
                {
                  "0": "Abigail Clark",
                  "1": "SO46445"
                },
                {
                  "0": "Shannon Sun",
                  "1": "SO46449"
                },
                {
                  "0": "Devin Sanders",
                  "1": "SO46456"
                },
                {
                  "0": "Ian Rodriguez",
                  "1": "SO46451"
                },
                {
                  "0": "Jasmine Hall",
                  "1": "SO46450"
                },
                {
                  "0": "Preston Prasad",
                  "1": "SO46454"
                },
                {
                  "0": "Jarrod Sara",
                  "1": "SO46453"
                },
                {
                  "0": "Sam Wilson",
                  "1": "SO46457"
                },
                {
                  "0": "Paul Suurs",
                  "1": "SO46455"
                },
                {
                  "0": "Luke Perry",
                  "1": "SO46452"
                },
                {
                  "0": "Hany Morcos",
                  "1": "SO46461"
                },
                {
                  "0": "Bailey Rogers",
                  "1": "SO46460"
                },
                {
                  "0": "Morgan Thomas",
                  "1": "SO46458"
                },
                {
                  "0": "Justin Gonzales",
                  "1": "SO46459"
                },
                {
                  "0": "Kayla Lewis",
                  "1": "SO46462"
                },
                {
                  "0": "Jasmine Stewart",
                  "1": "SO46463"
                },
                {
                  "0": "Holly Mehta",
                  "1": "SO46467"
                },
                {
                  "0": "Devin Taylor",
                  "1": "SO46472"
                },
                {
                  "0": "Jonathan Anderson",
                  "1": "SO46464"
                },
                {
                  "0": "Madeline Campbell",
                  "1": "SO46465"
                },
                {
                  "0": "Kaitlyn Alexander",
                  "1": "SO46466"
                },
                {
                  "0": "Rodney Serrano",
                  "1": "SO46471"
                },
                {
                  "0": "Julio Vazquez",
                  "1": "SO46473"
                },
                {
                  "0": "Katherine Howard",
                  "1": "SO46470"
                },
                {
                  "0": "Ronald Perez",
                  "1": "SO46474"
                },
                {
                  "0": "Abigail Morgan",
                  "1": "SO46468"
                },
                {
                  "0": "Omar Lin",
                  "1": "SO46469"
                },
                {
                  "0": "Willie Tang",
                  "1": "SO46478"
                },
                {
                  "0": "Stacey Cai",
                  "1": "SO46475"
                },
                {
                  "0": "Ann Martinez",
                  "1": "SO46477"
                },
                {
                  "0": "James Alexander",
                  "1": "SO46476"
                },
                {
                  "0": "Isaac Peterson",
                  "1": "SO46480"
                },
                {
                  "0": "Johnathan Chapman",
                  "1": "SO46479"
                },
                {
                  "0": "Francisco Gonzalez",
                  "1": "SO46482"
                },
                {
                  "0": "Ruth Garcia",
                  "1": "SO46481"
                },
                {
                  "0": "Rodney Gutierrez",
                  "1": "SO46488"
                },
                {
                  "0": "Ronald Sara",
                  "1": "SO46486"
                },
                {
                  "0": "Jeremy Young",
                  "1": "SO46484"
                },
                {
                  "0": "Chloe Hughes",
                  "1": "SO46485"
                },
                {
                  "0": "Stephanie Bailey",
                  "1": "SO46483"
                },
                {
                  "0": "Chloe Roberts",
                  "1": "SO46487"
                },
                {
                  "0": "Sophia Wright",
                  "1": "SO46490"
                },
                {
                  "0": "Hannah Martinez",
                  "1": "SO46489"
                },
                {
                  "0": "Brooke Stewart",
                  "1": "SO46491"
                },
                {
                  "0": "Theresa Navarro",
                  "1": "SO46496"
                },
                {
                  "0": "Cassandra Sara",
                  "1": "SO46495"
                },
                {
                  "0": "Meredith Vance",
                  "1": "SO46494"
                },
                {
                  "0": "Noah Scott",
                  "1": "SO46492"
                },
                {
                  "0": "Juan Watson",
                  "1": "SO46493"
                },
                {
                  "0": "Adrian Cooper",
                  "1": "SO46504"
                },
                {
                  "0": "Karen Lu",
                  "1": "SO46497"
                },
                {
                  "0": "Alexis Jones",
                  "1": "SO46499"
                },
                {
                  "0": "Dominique Sanchez",
                  "1": "SO46500"
                },
                {
                  "0": "Kristine Sandberg",
                  "1": "SO46505"
                },
                {
                  "0": "Gilbert Liang",
                  "1": "SO46506"
                },
                {
                  "0": "Isabella Edwards",
                  "1": "SO46498"
                },
                {
                  "0": "Alexandra Harris",
                  "1": "SO46503"
                },
                {
                  "0": "Molly Perez",
                  "1": "SO46507"
                },
                {
                  "0": "Taylor Henderson",
                  "1": "SO46502"
                },
                {
                  "0": "Clifford Arun",
                  "1": "SO46501"
                },
                {
                  "0": "Cedric Wang",
                  "1": "SO46514"
                },
                {
                  "0": "Jasmine Gray",
                  "1": "SO46515"
                },
                {
                  "0": "April Jai",
                  "1": "SO46519"
                },
                {
                  "0": "Kaitlyn Russell",
                  "1": "SO46520"
                },
                {
                  "0": "Isabella Walker",
                  "1": "SO46510"
                },
                {
                  "0": "Molly Prasad",
                  "1": "SO46511"
                },
                {
                  "0": "Brandon Garcia",
                  "1": "SO46513"
                },
                {
                  "0": "Margaret Lu",
                  "1": "SO46518"
                },
                {
                  "0": "Deborah Shan",
                  "1": "SO46517"
                },
                {
                  "0": "Jocelyn Long",
                  "1": "SO46509"
                },
                {
                  "0": "Mindy Jai",
                  "1": "SO46512"
                },
                {
                  "0": "Ashley Martin",
                  "1": "SO46516"
                },
                {
                  "0": "Reginald Gomez",
                  "1": "SO46508"
                },
                {
                  "0": "Sarah Coleman",
                  "1": "SO46524"
                },
                {
                  "0": "Jenny Sun",
                  "1": "SO46526"
                },
                {
                  "0": "Eduardo Allen",
                  "1": "SO46522"
                },
                {
                  "0": "Charles Evans",
                  "1": "SO46521"
                },
                {
                  "0": "Antonio Butler",
                  "1": "SO46523"
                },
                {
                  "0": "Connor Ross",
                  "1": "SO46525"
                },
                {
                  "0": "Gerald Arun",
                  "1": "SO46527"
                },
                {
                  "0": "Christian Perry",
                  "1": "SO46530"
                },
                {
                  "0": "Tracy Andersen",
                  "1": "SO46535"
                },
                {
                  "0": "Victoria Cook",
                  "1": "SO46534"
                },
                {
                  "0": "Autumn Zheng",
                  "1": "SO46532"
                },
                {
                  "0": "Jonathan Campbell",
                  "1": "SO46529"
                },
                {
                  "0": "Sarah Thompson",
                  "1": "SO46531"
                },
                {
                  "0": "Alisha Nath",
                  "1": "SO46536"
                },
                {
                  "0": "Kari Malhotra",
                  "1": "SO46528"
                },
                {
                  "0": "Connor King",
                  "1": "SO46533"
                },
                {
                  "0": "Rafael Sharma",
                  "1": "SO46539"
                },
                {
                  "0": "Kristen Gao",
                  "1": "SO46538"
                },
                {
                  "0": "Desiree Dominguez",
                  "1": "SO46537"
                },
                {
                  "0": "Chloe Johnson",
                  "1": "SO46541"
                },
                {
                  "0": "Shannon Ruiz",
                  "1": "SO46540"
                },
                {
                  "0": "Mayra Raman",
                  "1": "SO46554"
                },
                {
                  "0": "Autumn Liu",
                  "1": "SO46553"
                },
                {
                  "0": "Juan Murphy",
                  "1": "SO46545"
                },
                {
                  "0": "Christine Stone",
                  "1": "SO46556"
                },
                {
                  "0": "Bryant Garcia",
                  "1": "SO46542"
                },
                {
                  "0": "Crystal Liang",
                  "1": "SO46543"
                },
                {
                  "0": "Max Serrano",
                  "1": "SO46555"
                },
                {
                  "0": "Jeremy Richardson",
                  "1": "SO46546"
                },
                {
                  "0": "Jordyn Bryant",
                  "1": "SO46544"
                },
                {
                  "0": "Vanessa Russell",
                  "1": "SO46547"
                },
                {
                  "0": "Sean Sanchez",
                  "1": "SO46549"
                },
                {
                  "0": "Robert Hernandez",
                  "1": "SO46548"
                },
                {
                  "0": "Amanda Ramirez",
                  "1": "SO46552"
                },
                {
                  "0": "Arianna Gray",
                  "1": "SO46551"
                },
                {
                  "0": "Robert Flores",
                  "1": "SO46550"
                },
                {
                  "0": "Kevin Wright",
                  "1": "SO46560"
                },
                {
                  "0": "Jamie Ortega",
                  "1": "SO46562"
                },
                {
                  "0": "Isaiah Perez",
                  "1": "SO46558"
                },
                {
                  "0": "Thomas Jai",
                  "1": "SO46557"
                },
                {
                  "0": "Jonathan Smith",
                  "1": "SO46559"
                },
                {
                  "0": "Brent Guo",
                  "1": "SO46563"
                },
                {
                  "0": "Rafael Yuan",
                  "1": "SO46561"
                },
                {
                  "0": "Thomas Zhang",
                  "1": "SO46565"
                },
                {
                  "0": "Jamie Zeng",
                  "1": "SO46566"
                },
                {
                  "0": "Alexandra Richardson",
                  "1": "SO46568"
                },
                {
                  "0": "Ian Lewis",
                  "1": "SO46567"
                },
                {
                  "0": "Jimmy Gutierrez",
                  "1": "SO46564"
                },
                {
                  "0": "Cody Cook",
                  "1": "SO46569"
                },
                {
                  "0": "Monica Vance",
                  "1": "SO46575"
                },
                {
                  "0": "Kristy Rubio",
                  "1": "SO46574"
                },
                {
                  "0": "Arianna Ward",
                  "1": "SO46570"
                },
                {
                  "0": "Trevor Hughes",
                  "1": "SO46572"
                },
                {
                  "0": "Tammy Smith",
                  "1": "SO46573"
                },
                {
                  "0": "Erick Fernandez",
                  "1": "SO46571"
                },
                {
                  "0": "Jerome Suarez",
                  "1": "SO46583"
                },
                {
                  "0": "Alisha She",
                  "1": "SO46576"
                },
                {
                  "0": "Omar Liu",
                  "1": "SO46584"
                },
                {
                  "0": "Bryant Srini",
                  "1": "SO46579"
                },
                {
                  "0": "Ruben Subram",
                  "1": "SO46580"
                },
                {
                  "0": "Ashley Thomas",
                  "1": "SO46581"
                },
                {
                  "0": "Ethan Shan",
                  "1": "SO46578"
                },
                {
                  "0": "Samuel Hill",
                  "1": "SO46582"
                },
                {
                  "0": "Benjamin Moore",
                  "1": "SO46577"
                },
                {
                  "0": "Hailey Cox",
                  "1": "SO46587"
                },
                {
                  "0": "Erin Rogers",
                  "1": "SO46586"
                },
                {
                  "0": "Joshua Miller",
                  "1": "SO46585"
                },
                {
                  "0": "Britta Simon",
                  "1": "SO46589"
                },
                {
                  "0": "Cesar Fernandez",
                  "1": "SO46588"
                },
                {
                  "0": "Julian Henderson",
                  "1": "SO46595"
                },
                {
                  "0": "Ian Washington",
                  "1": "SO46592"
                },
                {
                  "0": "Victoria Garcia",
                  "1": "SO46590"
                },
                {
                  "0": "Rachel Powell",
                  "1": "SO46594"
                },
                {
                  "0": "Brianna Morris",
                  "1": "SO46593"
                },
                {
                  "0": "Samantha Taylor",
                  "1": "SO46591"
                },
                {
                  "0": "Patricia Chapman",
                  "1": "SO46596"
                },
                {
                  "0": "Ricardo Nath",
                  "1": "SO46597"
                },
                {
                  "0": "Clayton Sharma",
                  "1": "SO46603"
                },
                {
                  "0": "Sierra Parker",
                  "1": "SO46599"
                }
              ],
              "schema": [
                {
                  "key": "0",
                  "name": "CustomerName",
                  "type": "string"
                },
                {
                  "key": "1",
                  "name": "SalesOrderNumber",
                  "type": "string"
                }
              ],
              "truncated": false
            },
            "isSummary": false,
            "language": "scala"
          },
          "persist_state": {
            "view": {
              "type": "details",
              "tableOptions": {},
              "chartOptions": {
                "chartType": "bar",
                "aggregationType": "count",
                "categoryFieldKeys": [
                  "0"
                ],
                "seriesFieldKeys": [
                  "0"
                ],
                "isStacked": false
              }
            }
          }
        }
      }
    }
  },
  "nbformat": 4,
  "nbformat_minor": 2
}